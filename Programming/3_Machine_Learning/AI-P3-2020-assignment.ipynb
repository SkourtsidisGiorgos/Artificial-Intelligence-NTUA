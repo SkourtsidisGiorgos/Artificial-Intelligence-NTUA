{
  "nbformat": 4,
  "nbformat_minor": 0,
  "metadata": {
    "colab": {
      "name": "Τρίτη Άσκηση ΤΝ",
      "provenance": [],
      "collapsed_sections": []
    },
    "kernelspec": {
      "name": "python3",
      "display_name": "Python 3"
    }
  },
  "cells": [
    {
      "cell_type": "markdown",
      "metadata": {
        "id": "heT7siZWZjQD"
      },
      "source": [
        "# Τεχνητή Νοημοσύνη: Εργαστηριακή Άσκηση 3 \r\n",
        "Στην άσκηση αυτή θα υλοποιηθούν διάφοροι (σχετικά απλοί) αλγόριθμοι μηχανικής μάθησης για την αναγνώριση ψηφίων από εικόνα στο dataset MNIST. Συγκεκριμένα, θα δίνονται δύο σύνολα δεδομένων $$Ζ_{train}=\\{(x_1,y_1),\\dots,(x_n,y_n)\\}$$ $$Z_{test} = \\{(x_j,y_j),\\dots{,(x_k,y_k)}\\}$$ όπου κάθε $x_i\\in{\\mathbb{R}^p}$ είναι ένα διάνυσμα με τα pixels της κάθε εικόνας και $y_i$ είναι η ετικέτα της εικόνας - ένας ακέραιος στο $[0,9]$. Σε κάθε περίπτωση καλείστε να σχεδιάσετε έναν ταξινομητή, δηλαδή μια απεικόνιση $$f:\\mathbb{R}^p\\rightarrow{[0,9]}$$\r\n",
        "\r\n",
        "## 1ο Μέρος: Αξιολόγηση\r\n",
        "Στο πρώτο μέρος της άσκησης θα υλοποιηθούν συναρτήσεις που θα χρησιμοποιηθούν για την αξιολόγηση των ταξινομητών που θα υλοποιηθούν στα επόμενα μέρη.\r\n",
        "\r\n",
        "## 2ο Μέρος: ΚΝΝ\r\n",
        "Στο δεύτερο μέρος της άσκησης θα υλοποιήσετε τον αλγόριθμο KNN για ταξινόμηση. Υπενθυμίζεται από τις διαφάνειες το πλάνο σχεδιασμού για τον ταξινομητή k κοντινότερων γειτόνων:\r\n",
        "- Αποθηκεύουμε όλα τα δεδομένα ($Z_{train}$) στη μνήμη\r\n",
        "  - Τα δεδομένα μπορούν αποθηκευτούν σε έναν πίνακα $n\\times{p}$ με χρήση του numpy\r\n",
        "- Συγκρίνουμε την είσοδο με τα δεδομένα και βρίσκουμε τα k κοντινότερα ($k<n$) με βάση κάποια απόσταση.\r\n",
        "  - Όταν μας δίνεται μια \"φρέσκια\" εικόνα ως διάνυσμα από pixels $x_i$ χρειαζόμαστε μια συνάρτηση που να υπολογίζει την απόσταση $d(x_i,x_j)$, όπου $x_j$ είναι το διάνυσμα που αντιστιχεί στα pixels μιας εικόνας από τα δεδομένα εκπαίδευσης. Θα πειραματιστείτε με την ευκλείδια απόσταση και την απόσταση συνημιτόνου. Στη συνέχεια ταξινομούνται τα δεδομένα εκπαίδευσης ως προς την απόστασή τους από το $x_i$ και επιλέγονται τα $k$ κοντινότερα\r\n",
        "- Δίνουμε στην έξοδο την κλάση στην οποία ανήκει η πλειοψηφία των k κοντινότερων δεδομένων.\r\n",
        "\r\n",
        "Αφού κατασκευαστεί ο ταξινομητής θα αξιολογήσετε την επίδοσή του στις 100 πρώτες εικόνες του $Z_{test}$ για κάποιες τιμές του k που θα επιλέξετε εσείς, ξεκινώντας από $k=1$.\r\n",
        "\r\n",
        "Στην πράξη πολύ σπάνια θα χρειαστεί να υλοποιήσετε έναν αλγόριθμο μηχανικής μάθησης από το μηδέν, αφού υπάρχουν έτοιμες υλοποιήσεις, π.χ. σε πακέτα της python, οι οποίες είναι βελτιστοποιημένες και εύχρηστες. Το τελευταίο ζητούμενο  στο 1ο μέρος είναι να επαναλάβετε το παραπάνω πείραμα με την έτοιμη υλοποίηση του KNN που παρέχει η βιβλιοθήκη sklearn. Καλείστε να συγκρίνετε τα αποτελέσματα και τους χρόνους εκτέλεσης.\r\n",
        "\r\n",
        "## 3ο Μέρος: Naive Bayes\r\n",
        "Στο τρίτο μέρος της άσκησης θα υλοποιήσετε τον αλγόριθμο Naive Bayes. Ας θυμηθούμε από τις διαφάνειες:\r\n",
        "\r\n",
        "**Υποθέσεις:**\r\n",
        "- Τα χαρακτηριστικά είναι boolean, δηλαδή παίρνουν δύο τιμές\r\n",
        "  - Για το συγκεκριμένο πρόβλημα μπορούμε να στρογγυλοποιήσουμε τις τιμές των pixels από το $[0.0,1.0]\\rightarrow{\\{0,1\\}}$\r\n",
        "- Η πιθανότητα ένα στοιχείο με χαρακτηριστικά x να ανήκει στην κλάση i δίνεται από τον τύπο:\r\n",
        "$$p(i|x)=\\frac{p(i)\\cdot{\\prod_{k=1}^p}p(x^{(k)}|i)}{\\sum_{j=1}^pp(x^{(k)}|j)}$$\r\n",
        "- Για να ταξινομήσουμε ένα διάνυσμα χαρακτηρστικών x σε μια κλάση i επιλέγουμε την κλάση που μεγιστοποιεί την παραπάνω πιθανότητα\r\n",
        "  - Μπορούμε για τη σύγκριση να αγνοήσουμε τον παρονομαστή, αφού για όλες τις κλάσεις θα είναι ίδιος\r\n",
        "\r\n",
        "## 4ο Μέρος: Perceptron\r\n",
        "\r\n",
        "Στο τέταρτο μέρος της άσκησης θα κατασκευάσετε ένα πολυεπίπεδο νευρωνικό δίκτυο. Ο ταξινομητής αυτός θα εκπαιδευτεί στο να ταξινομεί τις εικόνες του mnist σε μια από τις 10 διαφορετικές κλάσεις (από 0 μέχρι 9). Αρχικά θα υλοποιήσετε το μοντέλο αυτό χρησιμοποιώντας αποκλειστικά την βιβλιοθήκη numpy ενώ στην συνέχεια θα χρησιμοποιήσετε μια έτοιμη κλάση για την κατασκευή του ίδιου μοντέλου.  \r\n",
        "\r\n",
        "Ας θυμηθούμε από τις διαφάνειες: \r\n",
        "\r\n",
        "Κάθε MLP αποτελείται από επίπεδα όπου το κάθε ένα από αυτά χωρίζεται στα παρακάτω μέρη: \r\n",
        "\r\n",
        "$$ z(x) = w^Τx + b $$ \r\n",
        "$$ f(x) = a(z(x))$$ \r\n",
        "\r\n",
        "όπου $w$, $b$ είναι τα βάρη του επιπέδου.  Η έξοδος z(x)είναι η απόκριση κάθε νευρώνα πριν την συνάρτηση ενεργοποίησης ενώ η f(x) μετά.  Κάθε επίπεδο συνδέεται με ένα επόμενο του οποίου η είσοδος του αποτελεί την έξοδο (με την συνάρτηση ενεργοποίησης) του προηγούμενου. \r\n",
        "\r\n",
        "Στο μέρος αυτό καλείστε να συμπληρώσετε σε ορισμένα σημεία κώδικα ώστε να επιτυγχάνεται αυτή η λειτουργικότητα. Στην συνέχεια θα υλοποιήσετε το ίδιο ακριβώς μοντέλο χρησιμοποιώντας όμως μια έτοιμη βιβλιοθήκη και θα συγκρίνετε τα αποτελέσματά τους (χρόνο, σκορ κ.α.). "
      ]
    },
    {
      "cell_type": "markdown",
      "metadata": {
        "id": "Rvm0mywsZmit"
      },
      "source": [
        "# 1ο Μέρος: Αξιολόγηση\r\n",
        "\r\n",
        "Παρακάτω σας δίνεται η κλάση Evaluate, η οποία υπολογίζει διάφορες μετρικές στη μέθοδο get_metrics, εντοπίζει αντικείμενα που ταξινομήθηκαν λάθος και τα εμφανίζει (μέθοδος get_sample_of_wrong) και υπολογίζει και τον πίνακα σύγχυσης (confusion matrix) όπου οπτικοποιούνται ανά κατηγορία οι προβλέψεις του ταξινομητή.\r\n",
        "\r\n",
        "Για το μέρος αυτό καλείστε να υλοποιήσετε στη μέθοδο my_accuracy τη μετρική accuracy, η οποία ορίζεται ως:\r\n",
        "$$accuracy = \\frac{\\#σωστών\\_προβλέψεων}{\\#δεδομένα}$$\r\n",
        "\r\n"
      ]
    },
    {
      "cell_type": "code",
      "metadata": {
        "id": "WlTj48uFZhyJ"
      },
      "source": [
        "from sklearn.metrics import confusion_matrix, f1_score, precision_score, recall_score\r\n",
        "from matplotlib import pyplot as plt\r\n",
        "import numpy as np\r\n",
        "import random\r\n",
        "\r\n",
        "class Evaluate:\r\n",
        "    def __init__(self,y_true,y_pred,x):\r\n",
        "      self.y_true = y_true\r\n",
        "      self.y_pred = y_pred\r\n",
        "      self.x = x\r\n",
        "\r\n",
        "    def my_accuracy(self):\r\n",
        "      y_true = self.y_true\r\n",
        "      y_pred = self.y_pred\r\n",
        "      \r\n",
        "      ##################\r\n",
        "      ## Your code below\r\n",
        "      acc=1\r\n",
        "      ## Your code above\r\n",
        "      ##################\r\n",
        "      return acc\r\n",
        "\r\n",
        "    def get_metrics(self):\r\n",
        "        precision = precision_score(self.y_true, self.y_pred, average = \"macro\")\r\n",
        "        recall = recall_score(self.y_true, self.y_pred, average = \"macro\")\r\n",
        "        f1 = f1_score(self.y_true, self.y_pred, average = \"macro\")\r\n",
        "        results = {\"precision\" : precision, \"recall\": recall, \"f1\": f1,\"accuracy\":self.my_accuracy()}\r\n",
        "        return results   \r\n",
        "    \r\n",
        "    def confusion_matrix(self):\r\n",
        "        cm = confusion_matrix(self.y_true, self.y_pred)\r\n",
        "        return cm \r\n",
        "\r\n",
        "    def get_sample_of_wrong(self, rows = 5, lines = 4):\r\n",
        "        wrong_indexes = [index for index in range(len(self.y_true)) if self.y_true[index] != self.y_pred[index]]\r\n",
        "        plt.figure(figsize=(10, 10))\r\n",
        "\r\n",
        "        random.shuffle(wrong_indexes)\r\n",
        "        for i, index in enumerate(wrong_indexes[: rows*lines]):\r\n",
        "            plt.subplot(rows, lines, i + 1)\r\n",
        "            image = self.x[index]\r\n",
        "            plt.imshow(image.reshape((28, 28)))\r\n",
        "            plt.title(\"Real: {}, Pred: {}\".format(self.y_true[index], self.y_pred[index]))\r\n",
        "            plt.axis('off')\r\n",
        "\r\n",
        "    def get_evaluation_report(self):\r\n",
        "       metrics = self.get_metrics()\r\n",
        "       for m in metrics:\r\n",
        "         print(m+' : '+str(metrics[m]))\r\n",
        "       cm = self.confusion_matrix()\r\n",
        "       print(\"Confusion matrix: \")\r\n",
        "       print(cm)\r\n",
        "       print(\"Some images with wrong predictions\")\r\n",
        "       self.get_sample_of_wrong()"
      ],
      "execution_count": 1,
      "outputs": []
    },
    {
      "cell_type": "markdown",
      "metadata": {
        "id": "3qcSvLy6ZpzB"
      },
      "source": [
        "Παράδειγμα χρήσης της κλάσης. Κανονικά στο x θα υπάρχουν οι εικόνες από το dataset"
      ]
    },
    {
      "cell_type": "code",
      "metadata": {
        "colab": {
          "base_uri": "https://localhost:8080/",
          "height": 306
        },
        "id": "S5hRZ9L1ZoNJ",
        "outputId": "933a5ee5-8781-4d5b-d437-d80ef6132023"
      },
      "source": [
        "y_true = [1,0,2,0,0,1,1,0]\r\n",
        "y_pred = [0,0,2,0,1,1,0,0]\r\n",
        "x = np.random.rand(8,28*28)\r\n",
        "\r\n",
        "eval = Evaluate(y_true,y_pred,x)\r\n",
        "eval.get_evaluation_report()"
      ],
      "execution_count": 2,
      "outputs": [
        {
          "output_type": "stream",
          "text": [
            "precision : 0.7000000000000001\n",
            "recall : 0.6944444444444443\n",
            "f1 : 0.6888888888888888\n",
            "accuracy : 1\n",
            "Confusion matrix: \n",
            "[[3 1 0]\n",
            " [2 1 0]\n",
            " [0 0 1]]\n",
            "Some images with wrong predictions\n"
          ],
          "name": "stdout"
        },
        {
          "output_type": "display_data",
          "data": {
            "image/png": "[encoded data removed]",
            "text/plain": [
              "<Figure size 720x720 with 3 Axes>"
            ]
          },
          "metadata": {
            "tags": [],
            "needs_background": "light"
          }
        }
      ]
    },
    {
      "cell_type": "markdown",
      "metadata": {
        "id": "h9Sex6aEZtt9"
      },
      "source": [
        "# Dataset\r\n",
        "\r\n",
        "To MNIST είναι από τα πιο διαδεδομένα σύνολα δεδομένων στη μηχανική μάθηση. Για όσους δουλεύουν στο Google Colab, το κελί που ακολουθεί φορτώνει τα δεδομένα εκπαίδευσης σε έναν πίνακα x_train με τις ετικέτες των δεδομένων στη λίστα y_train, και τα testing δεδομένα αντίστοιχα στα x_test και y_test.\r\n",
        "\r\n",
        "\r\n",
        "Για όσους δεν δουλεύουν στο colab μπορούν να αντικαταστήσουν τις δύο πρώτες γραμμές του κελιού (train_dset = ... και test_dset = ... ) με τον παρακάτω κώδικα:\r\n",
        "```\r\n",
        "mnist_dataframe = pd.read_csv(\r\n",
        "  \"https://download.mlcc.google.com/mledu-datasets/mnist_train_small.csv\",\r\n",
        "  sep=\",\",\r\n",
        "  header=None)\r\n",
        "mnist_dataframe = mnist_dataframe.head(10000)\r\n",
        "\r\n",
        "mnist_dataframe = mnist_dataframe.reindex(np.random.permutation(mnist_dataframe.index))\r\n",
        "train_dset = mnist_dataframe[:7500]\r\n",
        "test_dset = mnist_dataframe[7500:10000]\r\n",
        "```"
      ]
    },
    {
      "cell_type": "code",
      "metadata": {
        "id": "YvbVV9isZrwZ"
      },
      "source": [
        "import pandas as pd\r\n",
        "import numpy as np\r\n",
        "from matplotlib import pyplot as plt\r\n",
        "\r\n",
        "train_dset = pd.read_csv('/content/sample_data/mnist_train_small.csv',header=None)\r\n",
        "test_dset = pd.read_csv('/content/sample_data/mnist_test.csv',header=None)\r\n",
        "## From https://colab.research.google.com/notebooks/mlcc/multi-class_classification_of_handwritten_digits.ipynb#scrollTo=JfFWWvMWDFrR\r\n",
        "def parse_labels_and_features(dataset):\r\n",
        "  \"\"\"Extracts labels and features.\r\n",
        "  \r\n",
        "  This is a good place to scale or transform the features if needed.\r\n",
        "  \r\n",
        "  Args:\r\n",
        "    dataset: A Pandas `Dataframe`, containing the label on the first column and\r\n",
        "      monochrome pixel values on the remaining columns, in row major order.\r\n",
        "  Returns:\r\n",
        "    A `tuple` `(labels, features)`:\r\n",
        "      labels: A Pandas `Series`.\r\n",
        "      features: A Pandas `DataFrame`.\r\n",
        "  \"\"\"\r\n",
        "  labels = dataset[0]\r\n",
        "\r\n",
        "  # DataFrame.loc index ranges are inclusive at both ends.\r\n",
        "  features = dataset.loc[:,1:784]\r\n",
        "  # Scale the data to [0, 1] by dividing out the max value, 255.\r\n",
        "  features = features / 255\r\n",
        "\r\n",
        "  return labels, np.array(features)\r\n",
        "\r\n",
        "def show_image(features):\r\n",
        "  img = features.reshape((28,28))\r\n",
        "  plt.imshow(img)\r\n",
        "  plt.show()\r\n",
        "\r\n",
        "y_train,x_train = parse_labels_and_features(train_dset)\r\n",
        "y_test,x_test = parse_labels_and_features(test_dset)"
      ],
      "execution_count": 3,
      "outputs": []
    },
    {
      "cell_type": "markdown",
      "metadata": {
        "id": "B4MX_WMeZwRu"
      },
      "source": [
        "Ποια είναι η μορφή των δεδομένων για μια εικόνα;"
      ]
    },
    {
      "cell_type": "code",
      "metadata": {
        "colab": {
          "base_uri": "https://localhost:8080/"
        },
        "id": "FhDzmllUZvyp",
        "outputId": "bfb0917c-624c-40a3-8d92-8313b8a2de92"
      },
      "source": [
        "print(\"Shape of an image: \"+str(x_train[0].shape))\r\n",
        "print(\"Max value of pixel: \"+str(np.max(x_train[0])))"
      ],
      "execution_count": 4,
      "outputs": [
        {
          "output_type": "stream",
          "text": [
            "Shape of an image: (784,)\n",
            "Max value of pixel: 1.0\n"
          ],
          "name": "stdout"
        }
      ]
    },
    {
      "cell_type": "markdown",
      "metadata": {
        "id": "B9B0hgyBZ3Vm"
      },
      "source": [
        "Φορτώνουμε μια τυχαία εικόνα και την εμφανίζουμε, μαζί με την ετικέτα της"
      ]
    },
    {
      "cell_type": "code",
      "metadata": {
        "colab": {
          "base_uri": "https://localhost:8080/",
          "height": 283
        },
        "id": "r3eLiC1nZ00c",
        "outputId": "88a7e9f8-d8e3-4f43-af3e-a85f471bb8c6"
      },
      "source": [
        "i = np.random.randint(0,x_train.shape[0])\r\n",
        "show_image(x_train[i])\r\n",
        "print(\"Label = \" +str(y_train[i]))"
      ],
      "execution_count": 5,
      "outputs": [
        {
          "output_type": "display_data",
          "data": {
            "image/png": "[encoded data removed]",
            "text/plain": [
              "<Figure size 432x288 with 1 Axes>"
            ]
          },
          "metadata": {
            "tags": [],
            "needs_background": "light"
          }
        },
        {
          "output_type": "stream",
          "text": [
            "Label = 7\n"
          ],
          "name": "stdout"
        }
      ]
    },
    {
      "cell_type": "markdown",
      "metadata": {
        "id": "bYMke4uRZ8Ae"
      },
      "source": [
        "# 2o Μέρος: Υλοποίηση KNN\r\n",
        "\r\n",
        " Σας δίνεται η κλάση KNN η οποία αρχικοποιείται με ένα σύνολο από δεδομένα x, ετικέτες y και το k για τον αλγόριθμο. Καλείστε να συμπληρώσετε τον κώδικα που λείπει στις μεθόδους distance, get_knn και classify.\r\n",
        "\r\n",
        "Η απόσταση συνημιτόνου μεταξύ δύο διανυσμάτων u,v ορίζεται ως: $$d(u,v)= 1 - \\frac{u\\cdot{v}}{||u||_2||v||_2}$$"
      ]
    },
    {
      "cell_type": "code",
      "metadata": {
        "id": "EMPfT1jTZ51F"
      },
      "source": [
        "## Simple KNN\r\n",
        "\r\n",
        "class KNN:\r\n",
        "  def __init__(self,x,y,k,distance=\"euclidian\"):\r\n",
        "    self.x = x\r\n",
        "    self.y = y\r\n",
        "    self.k = k\r\n",
        "    self.distance = distance\r\n",
        "  \r\n",
        "  \r\n",
        "  ## Compute the distance between the two vectors img1 and img2\r\n",
        "  # hint: use np.linalg.norm for eucledian\r\n",
        "  # hint: use equation given above for cosine\r\n",
        "  def get_distance(self,img1,img2):\r\n",
        "    if self.distance=='euclidian':\r\n",
        "      ##################\r\n",
        "      ## Your code below\r\n",
        "      dist = 1 #???\r\n",
        "      ## Your code above\r\n",
        "      ##################\r\n",
        "    elif self.distance=='cosine':\r\n",
        "      ##################\r\n",
        "      ## Your code below\r\n",
        "      dist = 1 #???\r\n",
        "      ## Your code above\r\n",
        "      ##################\r\n",
        "      pass\r\n",
        "\r\n",
        "    return dist\r\n",
        "\r\n",
        "\r\n",
        "  ## Given an image as a vector, returns indexes of k nearest neighbors\r\n",
        "  def get_knn(self,img):\r\n",
        "    distances = list()\r\n",
        "    x = self.x\r\n",
        "    k = self.k\r\n",
        "    \r\n",
        "    ##################\r\n",
        "    ## Your code below - populate the distances list\r\n",
        "    # hint: you can use a for loop\r\n",
        "    \r\n",
        "\r\n",
        "    ## Your code above\r\n",
        "    ##################\r\n",
        "\r\n",
        "    # Sort distances, and return the indexes of k first elements\r\n",
        "    ans_indexes = np.argsort(distances)[:k]\r\n",
        "    return ans_indexes\r\n",
        "\r\n",
        "\r\n",
        "  ## Given an image as a vector, classify it according to KNN\r\n",
        "  # hint: we have a list of k labels and want to return the most common one\r\n",
        "  def classify(self,img):\r\n",
        "    y = self.y\r\n",
        "    nn_labels = [y[i] for i in self.get_knn(img)]\r\n",
        "    \r\n",
        "    ##################\r\n",
        "    ## Your code below\r\n",
        "    \r\n",
        "    prediction = 1 #???\r\n",
        "    ## Your code above\r\n",
        "    ###################\r\n",
        "    return prediction\r\n",
        "\r\n",
        "\r\n",
        "knn = KNN(x_train,y_train,k=5,distance='euclidian')"
      ],
      "execution_count": 8,
      "outputs": []
    },
    {
      "cell_type": "markdown",
      "metadata": {
        "id": "B8-o5tn3aH0-"
      },
      "source": [
        "Τώρα που είναι έτοιμος ο ταξινομητής ας δούμε τι προβλέπει σε μεμονομένες εικόνες"
      ]
    },
    {
      "cell_type": "code",
      "metadata": {
        "colab": {
          "base_uri": "https://localhost:8080/",
          "height": 302
        },
        "id": "GTj_vqD5Z-Ex",
        "outputId": "fcf9d36e-776a-4aea-a967-88c0bead8f7e"
      },
      "source": [
        "img = x_test[np.random.randint(0,x_test.shape[0])]\r\n",
        "print(\"Input image: \")\r\n",
        "show_image(img)\r\n",
        "print('Prediction : '+str(knn.classify(img)))"
      ],
      "execution_count": 9,
      "outputs": [
        {
          "output_type": "stream",
          "text": [
            "Input image: \n"
          ],
          "name": "stdout"
        },
        {
          "output_type": "display_data",
          "data": {
            "image/png": "[encoded data removed]",
            "text/plain": [
              "<Figure size 432x288 with 1 Axes>"
            ]
          },
          "metadata": {
            "tags": [],
            "needs_background": "light"
          }
        },
        {
          "output_type": "stream",
          "text": [
            "Prediction : 1\n"
          ],
          "name": "stdout"
        }
      ]
    },
    {
      "cell_type": "markdown",
      "metadata": {
        "id": "XCiEi1UUaLzE"
      },
      "source": [
        "## Αξιολόγηση του KNN"
      ]
    },
    {
      "cell_type": "code",
      "metadata": {
        "id": "tKw0oa1jaJei"
      },
      "source": [
        "## Παίρνουμε όλες τις προβλέψεις στο test set (πρώτες 100 εικόνες)\r\n",
        "## ..υπομονή μερικά λεπτά\r\n",
        "preds = [knn.classify(x_test[i]) for i in range(100)]\r\n",
        "labels = [y_test[i] for i in range(100)]"
      ],
      "execution_count": 10,
      "outputs": []
    },
    {
      "cell_type": "code",
      "metadata": {
        "colab": {
          "base_uri": "https://localhost:8080/",
          "height": 942
        },
        "id": "yNVygiKCaNag",
        "outputId": "9a507a75-3c40-4507-8fdd-f0912c4a16a9"
      },
      "source": [
        "eval = Evaluate(labels,preds,x_test[:100])\r\n",
        "eval.get_evaluation_report()"
      ],
      "execution_count": 11,
      "outputs": [
        {
          "output_type": "stream",
          "text": [
            "/usr/local/lib/python3.6/dist-packages/sklearn/metrics/_classification.py:1272: UndefinedMetricWarning: Precision is ill-defined and being set to 0.0 in labels with no predicted samples. Use `zero_division` parameter to control this behavior.\n",
            "  _warn_prf(average, modifier, msg_start, len(result))\n"
          ],
          "name": "stderr"
        },
        {
          "output_type": "stream",
          "text": [
            "precision : 0.014000000000000002\n",
            "recall : 0.1\n",
            "f1 : 0.02456140350877193\n",
            "accuracy : 1\n",
            "Confusion matrix: \n",
            "[[ 0  8  0  0  0  0  0  0  0  0]\n",
            " [ 0 14  0  0  0  0  0  0  0  0]\n",
            " [ 0  8  0  0  0  0  0  0  0  0]\n",
            " [ 0 11  0  0  0  0  0  0  0  0]\n",
            " [ 0 14  0  0  0  0  0  0  0  0]\n",
            " [ 0  7  0  0  0  0  0  0  0  0]\n",
            " [ 0 10  0  0  0  0  0  0  0  0]\n",
            " [ 0 15  0  0  0  0  0  0  0  0]\n",
            " [ 0  2  0  0  0  0  0  0  0  0]\n",
            " [ 0 11  0  0  0  0  0  0  0  0]]\n",
            "Some images with wrong predictions\n"
          ],
          "name": "stdout"
        },
        {
          "output_type": "display_data",
          "data": {
            "image/png": "[encoded data removed]",
            "text/plain": [
              "<Figure size 720x720 with 20 Axes>"
            ]
          },
          "metadata": {
            "tags": [],
            "needs_background": "light"
          }
        }
      ]
    },
    {
      "cell_type": "markdown",
      "metadata": {
        "id": "V7LP247HaU6m"
      },
      "source": [
        "## Έτοιμος ΚΝΝ classifier\r\n",
        "\r\n",
        "Όπως και με τους περισσότερους αλγορίθμους μηχανικής μάθησης, υπάρχουν έτοιμες βελτιστοποιημένες υλοποιήσεις. Παρακάτω δείχνουμε ένα παράδειγμα χρήσης του ταξινομητή ΚΝΝ που παρέχει η βιβλιοθήκη sklearn: [documentation](https://scikit-learn.org/stable/modules/generated/sklearn.neighbors.KNeighborsClassifier.html)"
      ]
    },
    {
      "cell_type": "code",
      "metadata": {
        "colab": {
          "base_uri": "https://localhost:8080/",
          "height": 435
        },
        "id": "Os0WCL-QaOnr",
        "outputId": "c0f40500-e039-4373-da6e-41cefd2f8d55"
      },
      "source": [
        "from sklearn.neighbors import KNeighborsClassifier\r\n",
        "\r\n",
        "k = 5\r\n",
        "knc = KNeighborsClassifier(n_neighbors=k)\r\n",
        "knc.fit(x_train, y_train)\r\n",
        "y_pred = knc.predict(x_test[:100])\r\n",
        "\r\n",
        "eval = Evaluate(y_test[:100],y_pred,x_test[:100])\r\n",
        "eval.get_evaluation_report()"
      ],
      "execution_count": 12,
      "outputs": [
        {
          "output_type": "stream",
          "text": [
            "precision : 0.9749019607843138\n",
            "recall : 0.9568181818181818\n",
            "f1 : 0.962567733990148\n",
            "accuracy : 1\n",
            "Confusion matrix: \n",
            "[[ 8  0  0  0  0  0  0  0  0  0]\n",
            " [ 0 14  0  0  0  0  0  0  0  0]\n",
            " [ 0  1  6  0  0  0  0  1  0  0]\n",
            " [ 0  0  0 11  0  0  0  0  0  0]\n",
            " [ 0  0  0  0 14  0  0  0  0  0]\n",
            " [ 0  0  0  0  0  7  0  0  0  0]\n",
            " [ 0  0  0  0  0  0 10  0  0  0]\n",
            " [ 0  0  0  0  0  0  0 15  0  0]\n",
            " [ 0  0  0  0  0  0  0  0  2  0]\n",
            " [ 0  0  0  0  1  0  0  1  0  9]]\n",
            "Some images with wrong predictions\n"
          ],
          "name": "stdout"
        },
        {
          "output_type": "display_data",
          "data": {
            "image/png": "[encoded data removed]",
            "text/plain": [
              "<Figure size 720x720 with 4 Axes>"
            ]
          },
          "metadata": {
            "tags": [],
            "needs_background": "light"
          }
        }
      ]
    },
    {
      "cell_type": "markdown",
      "metadata": {
        "id": "RcUBX2XMaZUd"
      },
      "source": [
        "## Σύκγριση υλοποιήσεων\r\n",
        "\r\n",
        "Στα παρακάτω κελιά πειραματιστείτε με τις δύο υλοποιήσεις (τη δική σας και την έτοιμη). Βεβαιωθείτε πως προκύπτουν τα ίδια αποτελέσματα για διάφορες τιμές του k (για ευκλείδια απόσταση) και μετρήστε τους χρόνους εκτέλεσης."
      ]
    },
    {
      "cell_type": "code",
      "metadata": {
        "colab": {
          "base_uri": "https://localhost:8080/"
        },
        "id": "8Yz_Y_cpaWor",
        "outputId": "5fe39aee-371c-4529-8e06-225fe2f6f057"
      },
      "source": [
        "%%time\r\n",
        "knn = KNN(x_train,y_train,k=5,distance='euclidian')\r\n",
        "preds = [knn.classify(x_test[i]) for i in range(100)]"
      ],
      "execution_count": 13,
      "outputs": [
        {
          "output_type": "stream",
          "text": [
            "CPU times: user 1.4 ms, sys: 0 ns, total: 1.4 ms\n",
            "Wall time: 1.42 ms\n"
          ],
          "name": "stdout"
        }
      ]
    },
    {
      "cell_type": "code",
      "metadata": {
        "colab": {
          "base_uri": "https://localhost:8080/"
        },
        "id": "77s6o3ZkabCY",
        "outputId": "0eae47a3-12fb-4fa3-a4fe-5cffa0d60de6"
      },
      "source": [
        "%%time\r\n",
        "knc = KNeighborsClassifier(n_neighbors=5)\r\n",
        "knc.fit(x_train, y_train)\r\n",
        "y_pred = knc.predict(x_test[:100])"
      ],
      "execution_count": 14,
      "outputs": [
        {
          "output_type": "stream",
          "text": [
            "CPU times: user 6.5 s, sys: 6.93 ms, total: 6.5 s\n",
            "Wall time: 6.52 s\n"
          ],
          "name": "stdout"
        }
      ]
    },
    {
      "cell_type": "markdown",
      "metadata": {
        "id": "bc9ySKoRaek-"
      },
      "source": [
        "## Σχολιασμός\r\n",
        "<εδώ γράφετε τυχόν σχόλια και παρατηρήσεις που έχετε στο δευτερο μέρος: παραδοχές, επίδοση, χρόνος εκτέλεσης, επίδραση παραμέτρου k κλπ >"
      ]
    },
    {
      "cell_type": "markdown",
      "metadata": {
        "id": "Xe17UwwLag5Y"
      },
      "source": [
        "# 3ο Μέρος: Naive Bayes\r\n",
        "\r\n",
        "Αρχικά στρογγυλοποιούμε τις τιμές των pixels για να παίρνουν διακριτές τιμές στο $\\{0,1\\}$"
      ]
    },
    {
      "cell_type": "code",
      "metadata": {
        "colab": {
          "base_uri": "https://localhost:8080/",
          "height": 265
        },
        "id": "GNbBhsg2ach8",
        "outputId": "7acbc5bb-0e5f-443e-c244-635063571105"
      },
      "source": [
        "## Στρογγυλοποίηση:\r\n",
        "x_train_r = np.round(x_train)\r\n",
        "x_test_r = np.round(x_test)\r\n",
        "show_image(x_test_r[0])"
      ],
      "execution_count": 15,
      "outputs": [
        {
          "output_type": "display_data",
          "data": {
            "image/png": "[encoded data removed]",
            "text/plain": [
              "<Figure size 432x288 with 1 Axes>"
            ]
          },
          "metadata": {
            "tags": [],
            "needs_background": "light"
          }
        }
      ]
    },
    {
      "cell_type": "markdown",
      "metadata": {
        "id": "lFORd6XJakZl"
      },
      "source": [
        "Παρακάτω σας δίνεται η κλάση NaiveBayes που υλοποιεί τον αλγόριθμο. Καλείστε αρχικά να υπολογίσετε την πιθανότητα $p(x^{(k)}|i)$ για διάνυσμα χαρακτηριστκών $x$ και κατηγορία $i$ στη μέθοδο compute_probabilities. Στη συνέχεια θα υπολογίσετε την πιθανότητα $p(i|x)$ στη μέθοδο predict."
      ]
    },
    {
      "cell_type": "code",
      "metadata": {
        "id": "ufKo5f5yaiqH"
      },
      "source": [
        "class NaiveBayes:\r\n",
        "  def __init__(self,x,y):\r\n",
        "    self.x = x\r\n",
        "    self.y = y\r\n",
        "    ## pC is a vector with the probability of each class\r\n",
        "    self.pC = np.zeros((10,))\r\n",
        "    ## pxC is an array with all probabilities p(xi|C)\r\n",
        "    self.pxC = np.zeros((x.shape[-1],10))\r\n",
        "    ## Compute the probabilities\r\n",
        "    self.compute_probabilities()\r\n",
        "\r\n",
        "  def compute_probabilities(self):\r\n",
        "    ## Compute p(C) for each class\r\n",
        "    for label in self.y:\r\n",
        "      self.pC[label]+=1\r\n",
        "    self.pC = self.pC/self.y.shape[0]\r\n",
        "\r\n",
        "    ## Compute p(xi|C) for each feature xi and class C\r\n",
        "    # hint: you can use one or more for loops\r\n",
        "    ###################\r\n",
        "    ## Your code below\r\n",
        "    \r\n",
        "\r\n",
        "\r\n",
        "    \r\n",
        "    ## Your code above\r\n",
        "    ##################\r\n",
        "\r\n",
        "  def predict(self,x):\r\n",
        "    ## ~Probability of x belonging to each class\r\n",
        "    ## (not actucal probability since we ignore denominator)\r\n",
        "    pcX = np.ones((10,))\r\n",
        "    for i in range(10):\r\n",
        "      # hint: We have probabilities p({x_j=1}|i) in self.pxC\r\n",
        "      # We also need p({x_j=0}|i) for computing p(x|i)\r\n",
        "      #################\r\n",
        "      ## Your code below\r\n",
        "        pass\r\n",
        "      ## Your code above\r\n",
        "      ##################\r\n",
        "    return np.argmax(pcX)"
      ],
      "execution_count": 27,
      "outputs": []
    },
    {
      "cell_type": "markdown",
      "metadata": {
        "id": "cO9h_Q8bbAgF"
      },
      "source": [
        "## Αξιολόγηση του Naive Bayes"
      ]
    },
    {
      "cell_type": "code",
      "metadata": {
        "colab": {
          "base_uri": "https://localhost:8080/",
          "height": 942
        },
        "id": "2PzuaP48amDv",
        "outputId": "b8c84bb1-6451-460d-8d22-890188b57361"
      },
      "source": [
        "nb = NaiveBayes(x_train_r,y_train)\r\n",
        "preds = [ nb.predict(i) for i in x_test_r[:100]]\r\n",
        "eval = Evaluate(y_test[:100], preds, x_test_r[:100])\r\n",
        "eval.get_evaluation_report()"
      ],
      "execution_count": 28,
      "outputs": [
        {
          "output_type": "stream",
          "text": [
            "/usr/local/lib/python3.6/dist-packages/sklearn/metrics/_classification.py:1272: UndefinedMetricWarning: Precision is ill-defined and being set to 0.0 in labels with no predicted samples. Use `zero_division` parameter to control this behavior.\n",
            "  _warn_prf(average, modifier, msg_start, len(result))\n"
          ],
          "name": "stderr"
        },
        {
          "output_type": "stream",
          "text": [
            "precision : 0.008\n",
            "recall : 0.1\n",
            "f1 : 0.014814814814814814\n",
            "accuracy : 1\n",
            "Confusion matrix: \n",
            "[[ 8  0  0  0  0  0  0  0  0  0]\n",
            " [14  0  0  0  0  0  0  0  0  0]\n",
            " [ 8  0  0  0  0  0  0  0  0  0]\n",
            " [11  0  0  0  0  0  0  0  0  0]\n",
            " [14  0  0  0  0  0  0  0  0  0]\n",
            " [ 7  0  0  0  0  0  0  0  0  0]\n",
            " [10  0  0  0  0  0  0  0  0  0]\n",
            " [15  0  0  0  0  0  0  0  0  0]\n",
            " [ 2  0  0  0  0  0  0  0  0  0]\n",
            " [11  0  0  0  0  0  0  0  0  0]]\n",
            "Some images with wrong predictions\n"
          ],
          "name": "stdout"
        },
        {
          "output_type": "display_data",
          "data": {
            "image/png": "[encoded data removed]",
            "text/plain": [
              "<Figure size 720x720 with 20 Axes>"
            ]
          },
          "metadata": {
            "tags": [],
            "needs_background": "light"
          }
        }
      ]
    },
    {
      "cell_type": "markdown",
      "metadata": {
        "id": "xMUHg-dubFa2"
      },
      "source": [
        "## Έτοιμος Naive Bayes\r\n",
        "\r\n",
        "Όπως με τους περισσότερους αλγορίθμους μηχανικής μάθησης, υπάρχουν έτοιμες βελτιστοποιημένες υλοποιήσεις για τον Naive Bayes. Παρακάτω ο Gaussian Naive Bayes από το SKLearn. Σε αντίθεση με τη δική μας υλοποίηση, ο συγκεκριμένος δουλεύει και με συνεχή δεδομένα, αφού πρώτα κάνει την υπόθεση πως κάθε χαρακτηριστικό ακολουθεί κανονική κατανομή: [documentation](https://scikit-learn.org/stable/modules/generated/sklearn.naive_bayes.GaussianNB.html)"
      ]
    },
    {
      "cell_type": "code",
      "metadata": {
        "colab": {
          "base_uri": "https://localhost:8080/",
          "height": 942
        },
        "id": "Lc7CCDfSbCPh",
        "outputId": "f2b390ea-0fbf-4206-b4f9-d0c72caf1b07"
      },
      "source": [
        "from sklearn.naive_bayes import GaussianNB\r\n",
        "\r\n",
        "gnb = GaussianNB()\r\n",
        "y_pred = gnb.fit(x_train, y_train).predict(x_test[:100])\r\n",
        "\r\n",
        "eval = Evaluate(y_test[:100], y_pred, x_test[:100])\r\n",
        "eval.get_evaluation_report()"
      ],
      "execution_count": 29,
      "outputs": [
        {
          "output_type": "stream",
          "text": [
            "/usr/local/lib/python3.6/dist-packages/sklearn/metrics/_classification.py:1272: UndefinedMetricWarning: Precision is ill-defined and being set to 0.0 in labels with no predicted samples. Use `zero_division` parameter to control this behavior.\n",
            "  _warn_prf(average, modifier, msg_start, len(result))\n"
          ],
          "name": "stderr"
        },
        {
          "output_type": "stream",
          "text": [
            "precision : 0.5992985558502799\n",
            "recall : 0.5716774891774892\n",
            "f1 : 0.5081873844349185\n",
            "accuracy : 1\n",
            "Confusion matrix: \n",
            "[[ 7  0  0  0  0  0  0  0  0  1]\n",
            " [ 0 14  0  0  0  0  0  0  0  0]\n",
            " [ 3  0  2  0  0  0  2  0  0  1]\n",
            " [ 0  0  1  3  0  0  1  0  5  1]\n",
            " [ 1  1  0  0  4  0  0  0  0  8]\n",
            " [ 2  0  0  0  1  0  0  0  3  1]\n",
            " [ 0  0  0  0  0  0 10  0  0  0]\n",
            " [ 0  0  1  0  0  0  0  8  0  6]\n",
            " [ 1  0  0  0  0  0  0  0  1  0]\n",
            " [ 0  0  0  0  0  0  0  0  0 11]]\n",
            "Some images with wrong predictions\n"
          ],
          "name": "stdout"
        },
        {
          "output_type": "display_data",
          "data": {
            "image/png": "[encoded data removed]",
            "text/plain": [
              "<Figure size 720x720 with 20 Axes>"
            ]
          },
          "metadata": {
            "tags": [],
            "needs_background": "light"
          }
        }
      ]
    },
    {
      "cell_type": "markdown",
      "metadata": {
        "id": "KaecLreybI-3"
      },
      "source": [
        "## Σύγκριση υλοποιήσεων\r\n",
        "\r\n",
        "Όμοια με πριν θα συγκρίνετε τα αποτελέσματα και τους χρόνους εκτέλεσης για τις δύο υλοποιήσεις. Για την έτοιμη υλοποίηση του sklearn δοκιμάστε και το σύνολο x_train_r όπου είναι στρογγυλοποιήμενα τα pixels και το σύνολο x_train οπου παίρνουν συνεχείς τιμές. Σχολιάστε την επίδοση σε κάθε περίπτωση. Ποιες από τις παραδοχές που κάναμε δεν ισχύουν;"
      ]
    },
    {
      "cell_type": "code",
      "metadata": {
        "colab": {
          "base_uri": "https://localhost:8080/"
        },
        "id": "Lz-k1DL-bG9v",
        "outputId": "e0a6b33c-2569-405a-a830-651f95ed6e87"
      },
      "source": [
        "%%time\r\n",
        "nb = NaiveBayes(x_train_r,y_train)\r\n",
        "preds = [ nb.predict(i) for i in x_test_r[:100]]"
      ],
      "execution_count": 30,
      "outputs": [
        {
          "output_type": "stream",
          "text": [
            "CPU times: user 16 ms, sys: 1.05 ms, total: 17 ms\n",
            "Wall time: 16.2 ms\n"
          ],
          "name": "stdout"
        }
      ]
    },
    {
      "cell_type": "code",
      "metadata": {
        "colab": {
          "base_uri": "https://localhost:8080/"
        },
        "id": "tHoJZC5RbK60",
        "outputId": "3148aa44-74e9-434e-a9a8-0b3c0dbf63bd"
      },
      "source": [
        "%%time\r\n",
        "gnb = GaussianNB()\r\n",
        "y_pred = gnb.fit(x_train, y_train).predict(x_test[:100])"
      ],
      "execution_count": 31,
      "outputs": [
        {
          "output_type": "stream",
          "text": [
            "CPU times: user 314 ms, sys: 4.92 ms, total: 319 ms\n",
            "Wall time: 322 ms\n"
          ],
          "name": "stdout"
        }
      ]
    },
    {
      "cell_type": "markdown",
      "metadata": {
        "id": "SAmP4BrCbOB9"
      },
      "source": [
        "## Σχολιασμός\r\n",
        "<εδώ γράφετε τυχόν σχόλια και παρατηρήσεις που έχετε στο τρίτο μέρος: παραδοχές, επίδοση, χρόνος εκτέλεσης, επίδραση στρογγυλοποίησης/υπόθεσης κατανομής κλπ. >"
      ]
    },
    {
      "cell_type": "markdown",
      "metadata": {
        "id": "Vvw-OUkjbRb9"
      },
      "source": [
        "#4ο Μέρος: Multi-Layer Perceptron \r\n",
        "\r\n",
        "Σε αυτό το σημείο της άσκησης θα επιλύσετε το παραπάνω πρόβλημα κατασκευάζοντας ένα πολύεπίπεδο νευρωνικό δίκτυο. Αρχικά θα υλοποιήσετε το νευρωνικό χωρίς να χρησιμοποιήσετε κάποια έτοιμη κλάση κάποιας βιβλιοθήκης (όπως sckit-learn, keras), ενώ στην συνέχεια θα κατασκευάσετε το ίδιο σύστημα με την χρήση της βιβλιοθήκης sckit-learn. "
      ]
    },
    {
      "cell_type": "markdown",
      "metadata": {
        "id": "vovDwSIPbTiE"
      },
      "source": [
        "Στο παρακάτω κελί κώδικα σας δίνεται η βασική δομή του επιπέδου ενός πολυεπίπεδου νευρωνικού δικτύου. Η παρακάτω κλάση δεν υλοποιεί κάποιο πραγματικό επίπεδο (όπως Dense) αλλά αυτή χρησιμοποιείται για την παρουσίαση των λειτουργιών κάθε επιπέδου.\r\n",
        "\r\n",
        "Ουσιαστικά κάθε επίπεδο ενός νευρωνικού δικτύου πρέπει να είναι σε θέση να κάνει: \r\n",
        "\r\n",
        "\r\n",
        "1.   Για μια είσοδο να υπολογίζει την έξοδο κάθε νευρώνα. Αυτό επιτυγχάνεται μέσω της μεθόδου forward η όποια δέχεται ως όρισμα μια είσοδο  και επιστρέφει έναν πίνακα με τις εξόδους κάθε νευρώνα του επιπέδου. \r\n",
        "\r\n",
        "2.   Να υπολογίζει τις μεταβολές οι όποιες πρέπει να γίνουν στα βάρη κάθε επιπέδου, ανάλογα με το πόσο καλά- κοντινά ήταν τα αποτελέσματα του επιπέδου στα πραγματικά. Η λειτουργία αυτή θα μας βοηθήσει την ανανέωση των βαρών του δικτύου και συνεπώς στην σωστή εκπαίδευσή του. Η λειτουργικότητα αυτή επιτυγχάνεται μέσω της μεθόδου backward. \r\n",
        "\r\n",
        "  \r\n",
        "\r\n",
        "Η λειτουργικότητα συνεπώς κάθε επιπέδου καθορίζεται από την συνάρτηση που υλοποιείται στην μέθοδο forward. Ένα instance της παρακάτω κλάσης συνεπώς  επιστρέφει ως έξοδο την είσοδο κάθε νευρώνα (ταυτοτική συνάρτηση) όποτε δεν προσφέρει κάποια υψηλή λειτουργικότητα. Στην παρακάτω κλάση δεν έχετε να προσθέσετε κάτι, απλά να μελετήσετε και να καταλάβετε την δομή που πρέπει να έχει ένα επίπεδο. "
      ]
    },
    {
      "cell_type": "code",
      "metadata": {
        "id": "jgx1VIMmbMQP"
      },
      "source": [
        "class Layer:\r\n",
        "    def __init__(self):\r\n",
        "        \"\"\"Here we can initialize layer parameters (if any) and auxiliary stuff.\"\"\"\r\n",
        "        # A dummy layer does nothing\r\n",
        "        pass\r\n",
        "    \r\n",
        "    def forward(self, input):\r\n",
        "        \"\"\"\r\n",
        "        Takes input data of shape [batch, input_units], returns output data [batch, output_units]\r\n",
        "        \"\"\"\r\n",
        "        # A dummy layer just returns whatever it gets as input.\r\n",
        "        return input\r\n",
        "\r\n",
        "    def backward(self, input, grad_output):\r\n",
        "        # The gradient of a dummy layer is precisely grad_output, but we'll write it more explicitly\r\n",
        "        num_units = input.shape[1]\r\n",
        "        \r\n",
        "        d_layer_d_input = np.eye(num_units)\r\n",
        "        \r\n",
        "        return np.dot(grad_output, d_layer_d_input) # chain rule"
      ],
      "execution_count": 32,
      "outputs": []
    },
    {
      "cell_type": "markdown",
      "metadata": {
        "id": "r1iQCroAbV-F"
      },
      "source": [
        "Στο σημείο αυτό αξίζει να αναφερθεί ότι για την σωστή εκπαίδευση του δικτύου (σε πρακτικό επίπεδο) πρέπει να διαχωριστεί η έξοδος κάθε νευρώνα πριν και μετά την συνάρτηση ενεργοποίησης. Έτσι η παραπάνω μέθοδος forward της κλάσης layer πρέπει να υπολογίζει την έξοδο του επιπέδου χωρίς την συνάρτηση ενεργοποίησης και κάποια άλλη κλάση να υπολογίζει το αποτέλεσμα με αυτή.  \r\n",
        "\r\n",
        "  \r\n",
        "\r\n",
        "Έκτος όμως από την εκπαίδευση του δικτύου, ο διαχωρισμός αυτός μας βοηθά σημαντικά και κατά την φάση σχεδιασμού της  αρχιτεκτονικής μιας και μας δίνει την δυνατότητα να αλλάζουμε την συνάρτηση ενεργοποίησης χωρίς κάθε φόρα να πρέπει να αλλάξουμε ολόκληρη την κλάση layer. Για τους παραπάνω λόγους θα χειριζόμαστε την συνάρτηση ενεργοποίησης σαν ένα ξεχωριστό επίπεδο με τις δικές της μεθόδους: forward, backward.  \r\n",
        "\r\n",
        "  \r\n",
        "\r\n",
        "Παρακάτω παρουσιάζεται η κλάση η όποια υλοποιεί την λειτουργικότητα της συνάρτησης ενεργοποίησης [ReLU](https://en.wikipedia.org/wiki/Rectifier_(neural_networks)).  \r\n",
        "\r\n",
        "  \r\n",
        "\r\n",
        "Με την ίδια λογική μπορούμε να υλοποιήσουμε οποιαδήποτε άλλη συνάρτηση ενεργοποίησης θέλουμε π.χ. sigmoid, tanh κ.ο.κ. και επιπλέον μπορούμε να τις εναλλάσσουμε μεταξύ επιπέδων χωρίς δυσκολία. "
      ]
    },
    {
      "cell_type": "code",
      "metadata": {
        "id": "6P33228VbYIf"
      },
      "source": [
        "class ReLU(Layer):\r\n",
        "    def __init__(self):\r\n",
        "        \"\"\"ReLU layer simply applies elementwise rectified linear unit to all inputs\"\"\"\r\n",
        "        pass\r\n",
        "    \r\n",
        "    def forward(self, input):\r\n",
        "        \"\"\"Apply elementwise ReLU to [batch, input_units] matrix\"\"\"\r\n",
        "        relu_forward = np.maximum(0,input)\r\n",
        "        return relu_forward\r\n",
        "    \r\n",
        "    def backward(self, input, grad_output):\r\n",
        "        \"\"\"Compute gradient of loss w.r.t. ReLU input\"\"\"\r\n",
        "        relu_grad = input > 0\r\n",
        "        return grad_output*relu_grad"
      ],
      "execution_count": 33,
      "outputs": []
    },
    {
      "cell_type": "markdown",
      "metadata": {
        "id": "Rrrub_76ba19"
      },
      "source": [
        "Η κλάση Dense υλοποιεί ένα επίπεδο dense όπου η έξοδος κάθε νευρώνα (χωρίς τη  συνάρτηση ενεργοποίησης) υπολογίζεται από την παρακάτω εξίσωση: \r\n",
        "\r\n",
        "  \r\n",
        "\r\n",
        "  \r\n",
        "\r\n",
        "$$ z(x) = w^Τx + b $$ \r\n",
        "\r\n",
        "  \r\n",
        "\r\n",
        "όπου $w$, $b$ είναι τα βάρη του επιπέδου.   \r\n",
        "\r\n",
        "  \r\n",
        "\r\n",
        "Συνεπώς το δίκτυο είναι απαραίτητοί να διατηρεί 2 τους δυο πίνακες με τα βάρη οι όποιο στην μέθοδο forward θα χρησιμοποιούνται για τον υπολογισμό της εξόδου και θα ανανεώνονται από την μέθοδο backward. Οι πίνακες αυτοί δημιουργούνται κατά την κατασκευή κάθε στιγμιότυπου και αρχικοποιούνται, ο πρώτος τυχαία και ο δεύτερος με μηδενικά.  Στο σημείο αυτό καλείστε να συμπληρώσετε την μέθοδο forward με κατάλληλο τρόπο ώστε να επιτυγχάνεται επιθυμητή λειτουργικότητα. "
      ]
    },
    {
      "cell_type": "code",
      "metadata": {
        "id": "HEnuIuOHbZge"
      },
      "source": [
        "class Dense(Layer):\r\n",
        "    def __init__(self, input_units, output_units, learning_rate=0.1):\r\n",
        "        \"\"\"\r\n",
        "        Weight Initialization\r\n",
        "        \"\"\"\r\n",
        "        self.input_units = input_units\r\n",
        "        self.output_units = output_units\r\n",
        "        \r\n",
        "        self.learning_rate = learning_rate\r\n",
        "        self.weights = np.random.normal(loc=0.0, \r\n",
        "                                        scale = np.sqrt(2/(input_units+output_units)), \r\n",
        "                                        size = (input_units,output_units))\r\n",
        "        self.biases = np.zeros(output_units)\r\n",
        "        \r\n",
        "    def forward(self,input):\r\n",
        "        \"\"\"\r\n",
        "        Perform an affine transformation:\r\n",
        "        f(x) = <W*x> + b\r\n",
        "        \r\n",
        "        input shape: [number of inputs, input units]\r\n",
        "        output shape: [number of inputs, output units]\r\n",
        "        \"\"\"\r\n",
        "        ###################\r\n",
        "        ## Your code below\r\n",
        "        ## hint: numpy.dot\r\n",
        "\r\n",
        "\r\n",
        "        \r\n",
        "        ## Your code above\r\n",
        "        ##################\r\n",
        "        return output\r\n",
        "    \r\n",
        "    def backward(self,input,grad_output):\r\n",
        "        # compute d f / d x = d f / d dense * d dense / d x\r\n",
        "        # where d dense/ d x = weights transposed\r\n",
        "        grad_input = np.dot(grad_output, self.weights.T)\r\n",
        "        \r\n",
        "        # compute gradient w.r.t. weights and biases\r\n",
        "        grad_weights = np.dot(input.T, grad_output)\r\n",
        "        grad_biases = grad_output.mean(axis=0)*input.shape[0]\r\n",
        "        \r\n",
        "        assert grad_weights.shape == self.weights.shape and grad_biases.shape == self.biases.shape\r\n",
        "        \r\n",
        "        # Here we perform a stochastic gradient descent step. \r\n",
        "        self.weights = self.weights - self.learning_rate * grad_weights\r\n",
        "        self.biases = self.biases - self.learning_rate * grad_biases\r\n",
        "        \r\n",
        "        return grad_input"
      ],
      "execution_count": 34,
      "outputs": []
    },
    {
      "cell_type": "markdown",
      "metadata": {
        "id": "Ml2jvLeybeRe"
      },
      "source": [
        "Οι παρακάτω συναρτήσεις χρησιμοποιούνται για να μπορεί το δίκτυο να ελέγχει πόσο κοντά βρίσκονται τα αποτελέσματα του στα πραγματικά (Loss function). Όπως είναι λογικό υπάρχουν διαφορετικές τέτοιες συναρτήσεις ανάλογα το πρόβλημα που καλείται να λύσει το δίκτυο. Η παρακάτω συνάρτηση ονομάζεται [softmax](https://en.wikipedia.org/wiki/Softmax_function) και χρησιμοποιείται κατά κύριο λόγο σε προβλήματα ταξινόμησης όπως το συγκεκριμένο. Η softmax δέχεται σαν είσοδο τις ενεργοποιήσεις του τελευταίου επιπέδου και επιστρέφει μια κατανομή πιθανοτήτων για κάθε μια από τις κλάσεις εξόδου (π.χ. κλάση 0 έχει πιθανότητα 0.001,  η κλάση 1 έχει 0.9 κ.ο.κ.).  "
      ]
    },
    {
      "cell_type": "code",
      "metadata": {
        "id": "qT7nl_1Gbc0B"
      },
      "source": [
        "def softmax_crossentropy_with_logits(logits,reference_answers):\r\n",
        "    \"\"\"Compute crossentropy from logits[batch,n_classes] and ids of correct answers\"\"\"\r\n",
        "    logits_for_answers = logits[np.arange(len(logits)),reference_answers]\r\n",
        "    xentropy = - logits_for_answers + np.log(np.sum(np.exp(logits),axis=-1))\r\n",
        "    return xentropy\r\n",
        "\r\n",
        "def grad_softmax_crossentropy_with_logits(logits,reference_answers):\r\n",
        "    \"\"\"Compute crossentropy gradient from logits[batch,n_classes] and ids of correct answers\"\"\"\r\n",
        "    ones_for_answers = np.zeros_like(logits)\r\n",
        "    ones_for_answers[np.arange(len(logits)),reference_answers] = 1\r\n",
        "    \r\n",
        "    softmax = np.exp(logits) / np.exp(logits).sum(axis=-1,keepdims=True)\r\n",
        "    \r\n",
        "    return (- ones_for_answers + softmax) / logits.shape[0]"
      ],
      "execution_count": 35,
      "outputs": []
    },
    {
      "cell_type": "markdown",
      "metadata": {
        "id": "5XnSJjxYbhdX"
      },
      "source": [
        "Έχοντας υλοποιήσει τις κλάσεις Dense και ReLU μπορούμε πλέον να κατασκευάσουμε μια κλάση η όποια θα ορίζει ένα πολυεπίπεδο νευρωνικό δίκτυο (MLP). Το δίκτυο αυτό ουσιαστικά αποτελείται από μια ακολουθία Dense επιπέδων όπου το κάθε ένα (εκτός του τελευταίου) ακολουθείται από μια μη-γραμμική συνάρτηση ενεργοποίησης (ReLU). Όμοια με πριν, η κλάση αυτή πρέπει να περιέχει μια μέθοδο forward η όποια θα δέχεται μια είσοδο (εδώ μια εικόνα flatten) και θα επιστρέφει μια έξοδο (εδώ μια κατανομή 10 πιθανοτήτων). Παράλληλα πρέπει να περιέχει και μια μέθοδο fit, η όποια θα εκπαιδεύει το δίκτυο δεδομένου ενός τέτοιου συνόλου (εδώ του x_train). Στο σημείο αυτό χρησιμοποιούνται οι μέθοδοι backward που έχουν οριστεί για κάθε ένα επίπεδο (δεν χρειάζεται να συμπληρώσετε κάτι).  Τέλος θα ήταν βοηθητικό να έχουμε και μια μέθοδο η όποια θα μετατρέπει την κατανομή εξόδου στην επιστρεφόμενη κλάση (predict) για κάποιο ή κάποια στιγμιότυπα του συνόλου δεδομένων.   \r\n",
        "\r\n",
        "Το δίκτυο όπως αναφέρθηκε και προηγουμένως αποτελείται από έναν αριθμό Dense επιπέδων κάθε ένα από τα όποια ακολουθείται από μια συνάρτηση ReLU. Η κατασκευή των επιπέδων γίνεται κατά την στιγμή δημιουργίας του δικτύου, όπου δίνεται ως είσοδος μια λίστα με το μέγεθος κάθε επιπέδου, μαζί με το μέγεθος εισόδου (εδώ 28*28). Έτσι για παράδειγμα η παρακάτω γραμμή κώδικα:  \r\n",
        "``` \r\n",
        "net = MLP([100, 200, 100, 10], 784)  \r\n",
        "```  \r\n",
        "κατασκευάζει ένα MLP το όποιο αποτελείται από 4 επίπεδα με μέγεθος 100, 200, 100, 10. Ο αριθμός των επιπέδων καθώς και του μεγέθους καθενός από αυτά είναι ελεύθερος να οριστεί από τον χρήστη.   \r\n",
        "Στον constructor της κλάσης ουσιαστικά ορίζεται μια λίστα η όποια περιέχει κάθε ένα από τα επίπεδα που πρέπει να οριστούν, π.χ. για το παραπάνω παράδειγμα η μεταβλητή net.network περιέχει τα εξής στιγμιότυπα των κλάσεων:  \r\n",
        "\r\n",
        "``` \r\n",
        "[Dense(100), ReLU(), Dense(200), ReLU(), Dense(100), ReLU(), Dense(10)]  \r\n",
        "```  \r\n",
        "\r\n",
        "Συνεπώς η λειτουργικότητα του δικτύου όπως και πριν πρέπει να οριστεί στην μέθοδο forward. Στο σημείο αυτό καλείστε να συμπληρώσετε την μέθοδο αυτή έτσι ώστε το δίκτυο να λειτουργεί όπως πρέπει, δηλαδή στο παράδειγμά μας η είσοδος να περνά από το επίπεδο Dense(100), μετά από το ReLU(), στην συνέχεια από το Dense(200) κ.ο.κ. μέχρι και το τελευταίο επίπεδο.  Ο αλγόριθμος αυτός παρουσιάζεται και σε ψευδοκώδικα στην διαφάνεια 33 του μαθήματος. "
      ]
    },
    {
      "cell_type": "code",
      "metadata": {
        "id": "MHHcg1unbf21"
      },
      "source": [
        "class MLP:\r\n",
        "    def __init__(self, shapes, input_dim):\r\n",
        "        '''\r\n",
        "        Κατασκευή του MLP. Τα επίπεδα και το μέγεθός τους ορίζεται από την μεταβλήτη shape, ενώ\r\n",
        "        το μέγεθος της εισόδου ορίζεται από την μεταβλήτη input_dim\r\n",
        "        '''\r\n",
        "        self.shapes = shapes\r\n",
        "        self.network = [Dense(input_dim, shapes[0])]\r\n",
        "        self.network.append(ReLU())\r\n",
        "        for i in range(1, len(self.shapes) - 1):\r\n",
        "            self.network.append(Dense(shapes[i-1],shapes[i]))\r\n",
        "            self.network.append(ReLU())\r\n",
        "        self.network.append(Dense(shapes[i],shapes[-1]))\r\n",
        "\r\n",
        "    def forward(self, X):\r\n",
        "        \"\"\"\r\n",
        "        Αγόριθμος διφάνειας 33\r\n",
        "        \"\"\"\r\n",
        "        activations = []\r\n",
        "        input = X\r\n",
        "        # Looping through each layer\r\n",
        "        for l in self.network:\r\n",
        "            ###################\r\n",
        "            ## Your code below\r\n",
        "            # hint: τροφοδοτούμε την έξοδο κάθε επιπέδου στο επόμενο\r\n",
        "            \r\n",
        "            pass\r\n",
        "\r\n",
        "            ## Your code above\r\n",
        "            ##################        \r\n",
        "        assert len(activations) == len(self.network)\r\n",
        "        return activations\r\n",
        "\r\n",
        "    def predict(self,X):\r\n",
        "        \"\"\"\r\n",
        "        Προβλέπει την έξοδο του δικτύου για ένα ή περισσότερα στιγμιότυπα εισόδου\r\n",
        "        \"\"\"\r\n",
        "        logits = self.forward(X)[-1]\r\n",
        "        return logits.argmax(axis=-1)\r\n",
        "\r\n",
        "    def fit(self, X, y):\r\n",
        "        # Get the layer activations\r\n",
        "        layer_activations = self.forward(X)\r\n",
        "        layer_inputs = [X]+layer_activations  #layer_input[i] is an input for network[i]\r\n",
        "        logits = layer_activations[-1]\r\n",
        "        \r\n",
        "        # Compute the loss and the initial gradient\r\n",
        "        loss = softmax_crossentropy_with_logits(logits,y)\r\n",
        "        loss_grad = grad_softmax_crossentropy_with_logits(logits,y)\r\n",
        "        \r\n",
        "        # Propagate gradients through the network\r\n",
        "        # Reverse propogation as this is backprop\r\n",
        "        for layer_index in range(len(self.network))[::-1]:\r\n",
        "            layer = self.network[layer_index]\r\n",
        "            loss_grad = layer.backward(layer_inputs[layer_index],loss_grad) #grad w.r.t. input, also weight updates\r\n",
        "        return np.mean(loss)"
      ],
      "execution_count": 37,
      "outputs": []
    },
    {
      "cell_type": "markdown",
      "metadata": {
        "id": "6zCBcKqvbm4t"
      },
      "source": [
        "## Αξιολόγηση ενός Multi-Layer Perceptron\r\n",
        "\r\n",
        "Αφού έχουμε κατασκευάσει τα παραπάνω είμαστε πλέον σε θέση να εκπαιδεύσουμε το MLP. Αυτό γίνεται καλώντας την μέθοδο fit. Στο παρακάτω κελί κώδικα ορίζεται το MLP του παραπάνω παραδείγματος και εκπαιδεύεται για 25 εποχές. Στο τέλος κάθε εποχής παρουσιάζονται τα αποτελέσματα του μαζί με μια γραφική των train και test accuracy. "
      ]
    },
    {
      "cell_type": "code",
      "metadata": {
        "id": "4jw-8qN6bjQG"
      },
      "source": [
        "from IPython.display import clear_output\r\n",
        "import numpy as np\r\n",
        "\r\n",
        "network = MLP([100, 200, 100, 10], 28*28)\r\n",
        "\r\n",
        "train_log = []\r\n",
        "val_log = []\r\n",
        "\r\n",
        "#Αυτά πρέπει να τρέχουν αφού έχετε φτιάξει σωστά τον κώδικα της MLP\r\n",
        "# for epoch in range(25):\r\n",
        "#     # network.fit(x_train,y_train)\r\n",
        "    \r\n",
        "#     train_log.append(np.mean(network.predict(x_train)==y_train))\r\n",
        "#     val_log.append(np.mean(network.predict(x_test)==y_test))\r\n",
        "    \r\n",
        "#     clear_output()\r\n",
        "#     print(\"Epoch\",epoch)\r\n",
        "#     print(\"Train accuracy:\",train_log[-1])\r\n",
        "#     print(\"Val accuracy:\",val_log[-1])\r\n",
        "#     plt.plot(train_log,label='train accuracy')\r\n",
        "#     plt.plot(val_log,label='val accuracy')\r\n",
        "#     plt.legend(loc='best')\r\n",
        "#     plt.grid()\r\n",
        "#     plt.show()\r\n",
        "\r\n",
        "# y_pred = network.predict(x_test)\r\n",
        "\r\n",
        "# eval = Evaluate(y_test, y_pred, x_test)\r\n",
        "# eval.get_evaluation_report()"
      ],
      "execution_count": 41,
      "outputs": []
    },
    {
      "cell_type": "markdown",
      "metadata": {
        "id": "ygud3NX3b-wN"
      },
      "source": [
        "## Έτοιμο Multi-Layer Perceptron \r\n",
        "\r\n",
        "Όπως και με τις τεχνικές των παραπάνω ερωτημάτων έτσι και εδώ υπάρχει έτοιμη η παραπάνω κλάση σε διάφορες βιβλιοθήκες. Έτσι στο δεύτερο μέρος του ερωτήματος αυτού θα κατασκευάσετε το ίδιο MLP χρησιμοποιώντας όμως την έτοιμη κλάση [MLPClassifier](https://scikit-learn.org/stable/modules/generated/sklearn.neural_network.MLPClassifier.html)  της βιβλιοθήκης scikit-learn. Παρακάτω παρουσιάζεται ένα παράδειγμα χρήσης της κλάσης αυτής. "
      ]
    },
    {
      "cell_type": "code",
      "metadata": {
        "colab": {
          "base_uri": "https://localhost:8080/",
          "height": 942
        },
        "id": "hltXBE2Vbojo",
        "outputId": "7362dd52-9d50-45bd-e396-2b7c85abcffe"
      },
      "source": [
        "from sklearn.neural_network import MLPClassifier\r\n",
        "\r\n",
        "epochs = 25\r\n",
        "mlp = MLPClassifier(hidden_layer_sizes=(100, 200, 100), max_iter = epochs)\r\n",
        "\r\n",
        "mlp.fit(x_train,y_train)\r\n",
        "\r\n",
        "y_pred = mlp.predict(x_test)\r\n",
        "eval = Evaluate(y_test, y_pred, x_test)\r\n",
        "eval.get_evaluation_report()"
      ],
      "execution_count": 42,
      "outputs": [
        {
          "output_type": "stream",
          "text": [
            "/usr/local/lib/python3.6/dist-packages/sklearn/neural_network/_multilayer_perceptron.py:571: ConvergenceWarning: Stochastic Optimizer: Maximum iterations (25) reached and the optimization hasn't converged yet.\n",
            "  % self.max_iter, ConvergenceWarning)\n"
          ],
          "name": "stderr"
        },
        {
          "output_type": "stream",
          "text": [
            "precision : 0.9638783073533835\n",
            "recall : 0.9637190147373419\n",
            "f1 : 0.9635950496942032\n",
            "accuracy : 1\n",
            "Confusion matrix: \n",
            "[[ 965    0    1    1    1    1    4    1    1    5]\n",
            " [   0 1124    3    3    0    0    2    2    1    0]\n",
            " [   3    1 1010    1    6    0    3    5    2    1]\n",
            " [   4    4   15  931    2   39    1    6    5    3]\n",
            " [   1    1    3    0  954    0    4    0    2   17]\n",
            " [   6    0    1    4    3  859   13    0    3    3]\n",
            " [   8    3    2    1    6    3  933    0    1    1]\n",
            " [   0    4   11    4    1    0    0  988    1   19]\n",
            " [   7    3   11    8    8    8   12   13  898    6]\n",
            " [   1    3    2    9    7    2    1    3    2  979]]\n",
            "Some images with wrong predictions\n"
          ],
          "name": "stdout"
        },
        {
          "output_type": "display_data",
          "data": {
            "image/png": "[encoded data removed]",
            "text/plain": [
              "<Figure size 720x720 with 20 Axes>"
            ]
          },
          "metadata": {
            "tags": [],
            "needs_background": "light"
          }
        }
      ]
    },
    {
      "cell_type": "markdown",
      "metadata": {
        "id": "DOQYML9wcDBk"
      },
      "source": [
        "## Σύγκριση υλοποιήσεων \r\n",
        "\r\n",
        "  \r\n",
        "\r\n",
        "Στα παρακάτω κελιά πειραματιστείτε με τις δύο υλοποιήσεις (τη δική σας και την έτοιμη). Συγκρίνετε τα αποτελέσματά σας τόσο ως προς τους χρόνους εκτέλεσης αλλά και ως προς τα αποτελέσματα. Η διαφορά των αποτελεσμάτων προκύπτει από το ότι στην έτοιμη κλάση έχουν γίνει αρκετές βελτιστοποιήσεις στην λειτουργία, στον τρόπο εκπαίδευσης κ.α. με αποτέλεσμα να προκύπτουν καλύτερα αποτέλεσμα. Παρόλα αυτά στην δική μας κλάση έχουμε καλύτερο έλεγχο και έχουμε την δυνατότητα να σχεδιάσουμε πιο σύνθετες αρχιτεκτονικές καθώς να αλλάξουμε τις τιμές παραμέτρων που στην έτοιμη κλάση μπορεί να μην μας δίνεται η δυνατότητα. "
      ]
    },
    {
      "cell_type": "markdown",
      "metadata": {
        "id": "gfrx064gcCr8"
      },
      "source": [
        "# Αξιολόγηση- Συμπεράσματα \r\n",
        "\r\n",
        "  \r\n",
        "\r\n",
        "Τέλος στο σημείο αυτό καλείστε να αξιολογήσετε τις διάφορες τεχνικές ταξινόμησης (KNN, Naive Bayes, MLP), τα αποτελέσματά τους, τους χρόνους καθώς και να παραθέσετε παρατηρήσεις καθώς και οτιδήποτε σας φάνηκε ενδιαφέρον ή ιδιαίτερο. "
      ]
    }
  ]
}