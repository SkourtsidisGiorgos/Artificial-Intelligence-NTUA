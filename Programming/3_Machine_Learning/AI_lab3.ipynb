{
  "nbformat": 4,
  "nbformat_minor": 0,
  "metadata": {
    "accelerator": "GPU",
    "colab": {
      "name": "TN_lab3_03114307_03116057.ipynb",
      "provenance": [],
      "collapsed_sections": [],
      "toc_visible": true
    },
    "kernelspec": {
      "display_name": "Python 3",
      "name": "python3"
    }
  },
  "cells": [
    {
      "cell_type": "markdown",
      "metadata": {
        "id": "jHMQWOw4F6_q"
      },
      "source": [
        "# Στοιχεία Φοιτητή\n",
        "\n",
        "Σκουρτσίδης Γεώργιος 03114307\n"
      ]
    },
    {
      "cell_type": "markdown",
      "metadata": {
        "id": "heT7siZWZjQD"
      },
      "source": [
        "# Τεχνητή Νοημοσύνη: Εργαστηριακή Άσκηση 3 \r\n",
        "Στην άσκηση αυτή θα υλοποιηθούν διάφοροι (σχετικά απλοί) αλγόριθμοι μηχανικής μάθησης για την αναγνώριση ψηφίων από εικόνα στο dataset MNIST. Συγκεκριμένα, θα δίνονται δύο σύνολα δεδομένων $$Ζ_{train}=\\{(x_1,y_1),\\dots,(x_n,y_n)\\}$$ $$Z_{test} = \\{(x_j,y_j),\\dots{,(x_k,y_k)}\\}$$ όπου κάθε $x_i\\in{\\mathbb{R}^p}$ είναι ένα διάνυσμα με τα pixels της κάθε εικόνας και $y_i$ είναι η ετικέτα της εικόνας - ένας ακέραιος στο $[0,9]$. Σε κάθε περίπτωση καλείστε να σχεδιάσετε έναν ταξινομητή, δηλαδή μια απεικόνιση $$f:\\mathbb{R}^p\\rightarrow{[0,9]}$$\r\n",
        "\r\n",
        "## 1ο Μέρος: Αξιολόγηση\r\n",
        "Στο πρώτο μέρος της άσκησης θα υλοποιηθούν συναρτήσεις που θα χρησιμοποιηθούν για την αξιολόγηση των ταξινομητών που θα υλοποιηθούν στα επόμενα μέρη.\r\n",
        "\r\n",
        "## 2ο Μέρος: ΚΝΝ\r\n",
        "Στο δεύτερο μέρος της άσκησης θα υλοποιήσετε τον αλγόριθμο KNN για ταξινόμηση. Υπενθυμίζεται από τις διαφάνειες το πλάνο σχεδιασμού για τον ταξινομητή k κοντινότερων γειτόνων:\r\n",
        "- Αποθηκεύουμε όλα τα δεδομένα ($Z_{train}$) στη μνήμη\r\n",
        "  - Τα δεδομένα μπορούν αποθηκευτούν σε έναν πίνακα $n\\times{p}$ με χρήση του numpy\r\n",
        "- Συγκρίνουμε την είσοδο με τα δεδομένα και βρίσκουμε τα k κοντινότερα ($k<n$) με βάση κάποια απόσταση.\r\n",
        "  - Όταν μας δίνεται μια \"φρέσκια\" εικόνα ως διάνυσμα από pixels $x_i$ χρειαζόμαστε μια συνάρτηση που να υπολογίζει την απόσταση $d(x_i,x_j)$, όπου $x_j$ είναι το διάνυσμα που αντιστιχεί στα pixels μιας εικόνας από τα δεδομένα εκπαίδευσης. Θα πειραματιστείτε με την ευκλείδια απόσταση και την απόσταση συνημιτόνου. Στη συνέχεια ταξινομούνται τα δεδομένα εκπαίδευσης ως προς την απόστασή τους από το $x_i$ και επιλέγονται τα $k$ κοντινότερα\r\n",
        "- Δίνουμε στην έξοδο την κλάση στην οποία ανήκει η πλειοψηφία των k κοντινότερων δεδομένων.\r\n",
        "\r\n",
        "Αφού κατασκευαστεί ο ταξινομητής θα αξιολογήσετε την επίδοσή του στις 100 πρώτες εικόνες του $Z_{test}$ για κάποιες τιμές του k που θα επιλέξετε εσείς, ξεκινώντας από $k=1$.\r\n",
        "\r\n",
        "Στην πράξη πολύ σπάνια θα χρειαστεί να υλοποιήσετε έναν αλγόριθμο μηχανικής μάθησης από το μηδέν, αφού υπάρχουν έτοιμες υλοποιήσεις, π.χ. σε πακέτα της python, οι οποίες είναι βελτιστοποιημένες και εύχρηστες. Το τελευταίο ζητούμενο  στο 1ο μέρος είναι να επαναλάβετε το παραπάνω πείραμα με την έτοιμη υλοποίηση του KNN που παρέχει η βιβλιοθήκη sklearn. Καλείστε να συγκρίνετε τα αποτελέσματα και τους χρόνους εκτέλεσης.\r\n",
        "\r\n",
        "## 3ο Μέρος: Naive Bayes\r\n",
        "Στο τρίτο μέρος της άσκησης θα υλοποιήσετε τον αλγόριθμο Naive Bayes. Ας θυμηθούμε από τις διαφάνειες:\r\n",
        "\r\n",
        "**Υποθέσεις:**\r\n",
        "- Τα χαρακτηριστικά είναι boolean, δηλαδή παίρνουν δύο τιμές\r\n",
        "  - Για το συγκεκριμένο πρόβλημα μπορούμε να στρογγυλοποιήσουμε τις τιμές των pixels από το $[0.0,1.0]\\rightarrow{\\{0,1\\}}$\r\n",
        "- Η πιθανότητα ένα στοιχείο με χαρακτηριστικά x να ανήκει στην κλάση i δίνεται από τον τύπο:\r\n",
        "$$p(i|x)=\\frac{p(i)\\cdot{\\prod_{k=1}^p}p(x^{(k)}|i)}{\\sum_{j=1}^pp(x^{(k)}|j)}$$\r\n",
        "- Για να ταξινομήσουμε ένα διάνυσμα χαρακτηρστικών x σε μια κλάση i επιλέγουμε την κλάση που μεγιστοποιεί την παραπάνω πιθανότητα\r\n",
        "  - Μπορούμε για τη σύγκριση να αγνοήσουμε τον παρονομαστή, αφού για όλες τις κλάσεις θα είναι ίδιος\r\n",
        "\r\n",
        "## 4ο Μέρος: Perceptron\r\n",
        "\r\n",
        "Στο τέταρτο μέρος της άσκησης θα κατασκευάσετε ένα πολυεπίπεδο νευρωνικό δίκτυο. Ο ταξινομητής αυτός θα εκπαιδευτεί στο να ταξινομεί τις εικόνες του mnist σε μια από τις 10 διαφορετικές κλάσεις (από 0 μέχρι 9). Αρχικά θα υλοποιήσετε το μοντέλο αυτό χρησιμοποιώντας αποκλειστικά την βιβλιοθήκη numpy ενώ στην συνέχεια θα χρησιμοποιήσετε μια έτοιμη κλάση για την κατασκευή του ίδιου μοντέλου.  \r\n",
        "\r\n",
        "Ας θυμηθούμε από τις διαφάνειες: \r\n",
        "\r\n",
        "Κάθε MLP αποτελείται από επίπεδα όπου το κάθε ένα από αυτά χωρίζεται στα παρακάτω μέρη: \r\n",
        "\r\n",
        "$$ z(x) = w^Τx + b $$ \r\n",
        "$$ f(x) = a(z(x))$$ \r\n",
        "\r\n",
        "όπου $w$, $b$ είναι τα βάρη του επιπέδου.  Η έξοδος z(x)είναι η απόκριση κάθε νευρώνα πριν την συνάρτηση ενεργοποίησης ενώ η f(x) μετά.  Κάθε επίπεδο συνδέεται με ένα επόμενο του οποίου η είσοδος του αποτελεί την έξοδο (με την συνάρτηση ενεργοποίησης) του προηγούμενου. \r\n",
        "\r\n",
        "Στο μέρος αυτό καλείστε να συμπληρώσετε σε ορισμένα σημεία κώδικα ώστε να επιτυγχάνεται αυτή η λειτουργικότητα. Στην συνέχεια θα υλοποιήσετε το ίδιο ακριβώς μοντέλο χρησιμοποιώντας όμως μια έτοιμη βιβλιοθήκη και θα συγκρίνετε τα αποτελέσματά τους (χρόνο, σκορ κ.α.). "
      ]
    },
    {
      "cell_type": "markdown",
      "metadata": {
        "id": "Rvm0mywsZmit"
      },
      "source": [
        "# 1ο Μέρος: Αξιολόγηση\r\n",
        "\r\n",
        "Παρακάτω σας δίνεται η κλάση Evaluate, η οποία υπολογίζει διάφορες μετρικές στη μέθοδο get_metrics, εντοπίζει αντικείμενα που ταξινομήθηκαν λάθος και τα εμφανίζει (μέθοδος get_sample_of_wrong) και υπολογίζει και τον πίνακα σύγχυσης (confusion matrix) όπου οπτικοποιούνται ανά κατηγορία οι προβλέψεις του ταξινομητή.\r\n",
        "\r\n",
        "Για το μέρος αυτό καλείστε να υλοποιήσετε στη μέθοδο my_accuracy τη μετρική accuracy, η οποία ορίζεται ως:\r\n",
        "$$accuracy = \\frac{\\#σωστών\\_προβλέψεων}{\\#δεδομένα}$$\r\n",
        "\r\n"
      ]
    },
    {
      "cell_type": "code",
      "metadata": {
        "id": "WlTj48uFZhyJ"
      },
      "source": [
        "from sklearn.metrics import confusion_matrix, f1_score, precision_score, recall_score\r\n",
        "from matplotlib import pyplot as plt\r\n",
        "import numpy as np\r\n",
        "import random\r\n",
        "\r\n",
        "class Evaluate:\r\n",
        "    def __init__(self,y_true,y_pred,x):\r\n",
        "      self.y_true = y_true\r\n",
        "      self.y_pred = y_pred\r\n",
        "      self.x = x\r\n",
        "\r\n",
        "    def my_accuracy(self):\r\n",
        "      y_true = self.y_true\r\n",
        "      y_pred = self.y_pred\r\n",
        "      \r\n",
        "      ##################\r\n",
        "      ## Your code below\r\n",
        "      cnt=0\r\n",
        "      acc=1\r\n",
        "      for i in range(len(y_true)):\r\n",
        "        if (y_pred[i]==y_true[i]):\r\n",
        "          cnt+=1\r\n",
        "      acc = cnt / (len(y_true))\r\n",
        "      ## Your code above\r\n",
        "      ##################\r\n",
        "      return acc\r\n",
        "\r\n",
        "    def get_metrics(self):\r\n",
        "        precision = precision_score(self.y_true, self.y_pred, average = \"macro\")\r\n",
        "        recall = recall_score(self.y_true, self.y_pred, average = \"macro\")\r\n",
        "        f1 = f1_score(self.y_true, self.y_pred, average = \"macro\")\r\n",
        "        results = {\"precision\" : precision, \"recall\": recall, \"f1\": f1,\"accuracy\":self.my_accuracy()}\r\n",
        "        return results   \r\n",
        "    \r\n",
        "    def confusion_matrix(self):\r\n",
        "        cm = confusion_matrix(self.y_true, self.y_pred)\r\n",
        "        return cm \r\n",
        "\r\n",
        "    def get_sample_of_wrong(self, rows = 5, lines = 4):\r\n",
        "        wrong_indexes = [index for index in range(len(self.y_true)) if self.y_true[index] != self.y_pred[index]]\r\n",
        "        plt.figure(figsize=(10, 10))\r\n",
        "\r\n",
        "        random.shuffle(wrong_indexes)\r\n",
        "        for i, index in enumerate(wrong_indexes[: rows*lines]):\r\n",
        "            plt.subplot(rows, lines, i + 1)\r\n",
        "            image = self.x[index]\r\n",
        "            plt.imshow(image.reshape((28, 28)))\r\n",
        "            plt.title(\"Real: {}, Pred: {}\".format(self.y_true[index], self.y_pred[index]))\r\n",
        "            plt.axis('off')\r\n",
        "\r\n",
        "    def get_evaluation_report(self, conf_matrix=True, samples=True):\r\n",
        "       metrics = self.get_metrics()\r\n",
        "       for m in metrics:\r\n",
        "         print(m+' : '+str(metrics[m]))\r\n",
        "       if (conf_matrix):\r\n",
        "        cm = self.confusion_matrix()\r\n",
        "        print(\"Confusion matrix: \")\r\n",
        "        print(cm)\r\n",
        "       if (samples):\r\n",
        "        print(\"Some images with wrong predictions\")\r\n",
        "        self.get_sample_of_wrong()"
      ],
      "execution_count": 2,
      "outputs": []
    },
    {
      "cell_type": "markdown",
      "metadata": {
        "id": "3qcSvLy6ZpzB"
      },
      "source": [
        "Παράδειγμα χρήσης της κλάσης. Κανονικά στο x θα υπάρχουν οι εικόνες από το dataset"
      ]
    },
    {
      "cell_type": "code",
      "metadata": {
        "colab": {
          "base_uri": "https://localhost:8080/",
          "height": 294
        },
        "id": "S5hRZ9L1ZoNJ",
        "outputId": "69621b99-e423-41d7-ec2e-f271d4166679"
      },
      "source": [
        "y_true = [1,0,2,0,0,1,1,0]\r\n",
        "y_pred = [0,0,2,0,1,1,0,0]\r\n",
        "x = np.random.rand(8,28*28)\r\n",
        "\r\n",
        "eval = Evaluate(y_true,y_pred,x)\r\n",
        "eval.get_evaluation_report()"
      ],
      "execution_count": null,
      "outputs": [
        {
          "output_type": "stream",
          "text": [
            "precision : 0.7000000000000001\n",
            "recall : 0.6944444444444443\n",
            "f1 : 0.6888888888888888\n",
            "accuracy : 0.625\n",
            "Confusion matrix: \n",
            "[[3 1 0]\n",
            " [2 1 0]\n",
            " [0 0 1]]\n",
            "Some images with wrong predictions\n"
          ],
          "name": "stdout"
        },
        {
          "output_type": "display_data",
          "data": {
            "image/png": "[encoded data removed]",
            "text/plain": [
              "<Figure size 720x720 with 3 Axes>"
            ]
          },
          "metadata": {
            "tags": [],
            "needs_background": "light"
          }
        }
      ]
    },
    {
      "cell_type": "markdown",
      "metadata": {
        "id": "h9Sex6aEZtt9"
      },
      "source": [
        "# Dataset\r\n",
        "\r\n",
        "To MNIST είναι από τα πιο διαδεδομένα σύνολα δεδομένων στη μηχανική μάθηση. Για όσους δουλεύουν στο Google Colab, το κελί που ακολουθεί φορτώνει τα δεδομένα εκπαίδευσης σε έναν πίνακα x_train με τις ετικέτες των δεδομένων στη λίστα y_train, και τα testing δεδομένα αντίστοιχα στα x_test και y_test.\r\n",
        "\r\n",
        "\r\n",
        "Για όσους δεν δουλεύουν στο colab μπορούν να αντικαταστήσουν τις δύο πρώτες γραμμές του κελιού (train_dset = ... και test_dset = ... ) με τον παρακάτω κώδικα:\r\n",
        "```\r\n",
        "mnist_dataframe = pd.read_csv(\r\n",
        "  \"https://download.mlcc.google.com/mledu-datasets/mnist_train_small.csv\",\r\n",
        "  sep=\",\",\r\n",
        "  header=None)\r\n",
        "mnist_dataframe = mnist_dataframe.head(10000)\r\n",
        "\r\n",
        "mnist_dataframe = mnist_dataframe.reindex(np.random.permutation(mnist_dataframe.index))\r\n",
        "train_dset = mnist_dataframe[:7500]\r\n",
        "test_dset = mnist_dataframe[7500:10000]\r\n",
        "```"
      ]
    },
    {
      "cell_type": "code",
      "metadata": {
        "id": "YvbVV9isZrwZ"
      },
      "source": [
        "import pandas as pd\r\n",
        "import numpy as np\r\n",
        "from matplotlib import pyplot as plt\r\n",
        "\r\n",
        "train_dset = pd.read_csv('/content/sample_data/mnist_train_small.csv',header=None)\r\n",
        "test_dset = pd.read_csv('/content/sample_data/mnist_test.csv',header=None)\r\n",
        "## From https://colab.research.google.com/notebooks/mlcc/multi-class_classification_of_handwritten_digits.ipynb#scrollTo=JfFWWvMWDFrR\r\n",
        "def parse_labels_and_features(dataset):\r\n",
        "  \"\"\"Extracts labels and features.\r\n",
        "  \r\n",
        "  This is a good place to scale or transform the features if needed.\r\n",
        "  \r\n",
        "  Args:\r\n",
        "    dataset: A Pandas `Dataframe`, containing the label on the first column and\r\n",
        "      monochrome pixel values on the remaining columns, in row major order.\r\n",
        "  Returns:\r\n",
        "    A `tuple` `(labels, features)`:\r\n",
        "      labels: A Pandas `Series`.\r\n",
        "      features: A Pandas `DataFrame`.\r\n",
        "  \"\"\"\r\n",
        "  labels = dataset[0]\r\n",
        "\r\n",
        "  # DataFrame.loc index ranges are inclusive at both ends.\r\n",
        "  features = dataset.loc[:,1:784]\r\n",
        "  # Scale the data to [0, 1] by dividing out the max value, 255.\r\n",
        "  features = features / 255\r\n",
        "\r\n",
        "  return labels, np.array(features)\r\n",
        "\r\n",
        "def show_image(features):\r\n",
        "  img = features.reshape((28,28))\r\n",
        "  plt.imshow(img)\r\n",
        "  plt.show()\r\n",
        "\r\n",
        "y_train,x_train = parse_labels_and_features(train_dset)\r\n",
        "y_test,x_test = parse_labels_and_features(test_dset)"
      ],
      "execution_count": 3,
      "outputs": []
    },
    {
      "cell_type": "markdown",
      "metadata": {
        "id": "B4MX_WMeZwRu"
      },
      "source": [
        "Ποια είναι η μορφή των δεδομένων για μια εικόνα;"
      ]
    },
    {
      "cell_type": "code",
      "metadata": {
        "colab": {
          "base_uri": "https://localhost:8080/"
        },
        "id": "FhDzmllUZvyp",
        "outputId": "3fbf59dc-16b3-4f7b-dbf0-221cc2e284d6"
      },
      "source": [
        "print(\"Shape of an image: \"+str(x_train[0].shape))\r\n",
        "print(\"Max value of pixel: \"+str(np.max(x_train[0])))"
      ],
      "execution_count": null,
      "outputs": [
        {
          "output_type": "stream",
          "text": [
            "Shape of an image: (784,)\n",
            "Max value of pixel: 1.0\n"
          ],
          "name": "stdout"
        }
      ]
    },
    {
      "cell_type": "markdown",
      "metadata": {
        "id": "B9B0hgyBZ3Vm"
      },
      "source": [
        "Φορτώνουμε μια τυχαία εικόνα και την εμφανίζουμε, μαζί με την ετικέτα της"
      ]
    },
    {
      "cell_type": "code",
      "metadata": {
        "colab": {
          "base_uri": "https://localhost:8080/",
          "height": 282
        },
        "id": "r3eLiC1nZ00c",
        "outputId": "8a19a278-754a-48bc-cdda-963688fec448"
      },
      "source": [
        "i = np.random.randint(0,x_train.shape[0])\r\n",
        "show_image(x_train[i])\r\n",
        "print(\"Label = \" +str(y_train[i]))"
      ],
      "execution_count": null,
      "outputs": [
        {
          "output_type": "display_data",
          "data": {
            "image/png": "[encoded data removed]",
            "text/plain": [
              "<Figure size 432x288 with 1 Axes>"
            ]
          },
          "metadata": {
            "tags": []
          }
        },
        {
          "output_type": "stream",
          "text": [
            "Label = 4\n"
          ],
          "name": "stdout"
        }
      ]
    },
    {
      "cell_type": "markdown",
      "metadata": {
        "id": "bYMke4uRZ8Ae"
      },
      "source": [
        "# 2o Μέρος: Υλοποίηση KNN\r\n",
        "\r\n",
        " Σας δίνεται η κλάση KNN η οποία αρχικοποιείται με ένα σύνολο από δεδομένα x, ετικέτες y και το k για τον αλγόριθμο. Καλείστε να συμπληρώσετε τον κώδικα που λείπει στις μεθόδους distance, get_knn και classify.\r\n",
        "\r\n",
        "Η απόσταση συνημιτόνου μεταξύ δύο διανυσμάτων u,v ορίζεται ως: $$d(u,v)= 1 - \\frac{u\\cdot{v}}{||u||_2||v||_2}$$"
      ]
    },
    {
      "cell_type": "code",
      "metadata": {
        "id": "EMPfT1jTZ51F"
      },
      "source": [
        "## Simple KNN\r\n",
        "import statistics \r\n",
        "from statistics import mode \r\n",
        "from numpy.linalg import norm\r\n",
        "\r\n",
        "\r\n",
        "\r\n",
        "class KNN:\r\n",
        "  def __init__(self,x,y,k,distance=\"euclidian\"):\r\n",
        "    self.x = x\r\n",
        "    self.y = y\r\n",
        "    self.k = k\r\n",
        "    self.distance = distance\r\n",
        "  \r\n",
        "  \r\n",
        "  ## Compute the distance between the two vectors img1 and img2\r\n",
        "  # hint: use np.linalg.norm for eucledian\r\n",
        "  # hint: use equation given above for cosine\r\n",
        "  def get_distance(self,img1,img2):\r\n",
        "    dist = -1\r\n",
        "    if self.distance=='euclidian':\r\n",
        "      ##################\r\n",
        "      ## Your code below\r\n",
        "      for i in range(len(img1)-1):\r\n",
        "        dist += (img1[i] - img2[i])**2\r\n",
        "      dist = dist**0.5\r\n",
        "      ## Your code above\r\n",
        "      ##################\r\n",
        "    elif self.distance=='cosine':\r\n",
        "      ##################\r\n",
        "      ## Your code below\r\n",
        "      dist =  np.dot(img1, img2)/(norm(img1)*norm(img2))\r\n",
        "      ## Your code above\r\n",
        "      ##################\r\n",
        "      pass\r\n",
        "\r\n",
        "    return dist\r\n",
        "\r\n",
        "\r\n",
        "  ## Given an image as a vector, returns indexes of k nearest neighbors\r\n",
        "  def get_knn(self,img):\r\n",
        "    distances = list()\r\n",
        "    x = self.x\r\n",
        "    k = self.k\r\n",
        "    \r\n",
        "    ##################\r\n",
        "    ## Your code below - populate the distances list\r\n",
        "    for tr in x:\r\n",
        "      dist = self.get_distance(img, tr)\r\n",
        "      distances.append(dist)\r\n",
        "    ## Your code above\r\n",
        "    ##################\r\n",
        "\r\n",
        "    # Sort distances, and return the indexes of k first elements\r\n",
        "    ans_indexes = np.argsort(distances)[:k]\r\n",
        "    return ans_indexes\r\n",
        "\r\n",
        "\r\n",
        "  ## Given an image as a vector, classify it according to KNN\r\n",
        "  # hint: we have a list of k labels and want to return the most common one\r\n",
        "  def classify(self,img):\r\n",
        "    y = self.y\r\n",
        "    nn_labels = [y[i] for i in self.get_knn(img)]\r\n",
        "    \r\n",
        "    ##################\r\n",
        "    ## Your code below\r\n",
        "    prediction = mode(nn_labels)\r\n",
        "    ## Your code above\r\n",
        "    ###################\r\n",
        "    return prediction"
      ],
      "execution_count": null,
      "outputs": []
    },
    {
      "cell_type": "markdown",
      "metadata": {
        "id": "B8-o5tn3aH0-"
      },
      "source": [
        "Τώρα που είναι έτοιμος ο ταξινομητής ας δούμε τι προβλέπει σε μεμονομένες εικόνες"
      ]
    },
    {
      "cell_type": "code",
      "metadata": {
        "colab": {
          "base_uri": "https://localhost:8080/",
          "height": 299
        },
        "id": "GTj_vqD5Z-Ex",
        "outputId": "d450288f-1197-4d70-da7a-91e9bdffffb4"
      },
      "source": [
        "knn = KNN(x_train,y_train,k=8,distance='euclidian')\r\n",
        "img = x_test[np.random.randint(0,x_test.shape[0])]\r\n",
        "print(\"Input image: \")\r\n",
        "show_image(img)\r\n",
        "print('Prediction : '+str(knn.classify(img)))"
      ],
      "execution_count": null,
      "outputs": [
        {
          "output_type": "stream",
          "text": [
            "Input image: \n"
          ],
          "name": "stdout"
        },
        {
          "output_type": "display_data",
          "data": {
            "image/png": "[encoded data removed]",
            "text/plain": [
              "<Figure size 432x288 with 1 Axes>"
            ]
          },
          "metadata": {
            "tags": []
          }
        },
        {
          "output_type": "stream",
          "text": [
            "Prediction : 8\n"
          ],
          "name": "stdout"
        }
      ]
    },
    {
      "cell_type": "code",
      "metadata": {
        "colab": {
          "base_uri": "https://localhost:8080/",
          "height": 299
        },
        "id": "lvdLa-UwXP1S",
        "outputId": "af61fcd5-7290-4570-e79a-66a6b012a64f"
      },
      "source": [
        "knn = KNN(x_train,y_train,k=8,distance='cosine')\r\n",
        "img = x_test[np.random.randint(0,x_test.shape[0])]\r\n",
        "print(\"Input image: \")\r\n",
        "show_image(img)\r\n",
        "print('Prediction : '+str(knn.classify(img)))"
      ],
      "execution_count": null,
      "outputs": [
        {
          "output_type": "stream",
          "text": [
            "Input image: \n"
          ],
          "name": "stdout"
        },
        {
          "output_type": "display_data",
          "data": {
            "image/png": "[encoded data removed]",
            "text/plain": [
              "<Figure size 432x288 with 1 Axes>"
            ]
          },
          "metadata": {
            "tags": [],
            "needs_background": "light"
          }
        },
        {
          "output_type": "stream",
          "text": [
            "Prediction : 0\n"
          ],
          "name": "stdout"
        }
      ]
    },
    {
      "cell_type": "code",
      "metadata": {
        "id": "6YOONk7kXTyL"
      },
      "source": [
        "knn = KNN(x_train,y_train,k=5,distance='euclidian')"
      ],
      "execution_count": null,
      "outputs": []
    },
    {
      "cell_type": "markdown",
      "metadata": {
        "id": "XCiEi1UUaLzE"
      },
      "source": [
        "## Αξιολόγηση του KNN"
      ]
    },
    {
      "cell_type": "code",
      "metadata": {
        "id": "tKw0oa1jaJei"
      },
      "source": [
        "## Παίρνουμε όλες τις προβλέψεις στο test set (πρώτες 100 εικόνες)\r\n",
        "## ..υπομονή μερικά λεπτά\r\n",
        "preds = [knn.classify(x_test[i]) for i in range(100)]\r\n",
        "labels = [y_test[i] for i in range(100)]"
      ],
      "execution_count": null,
      "outputs": []
    },
    {
      "cell_type": "code",
      "metadata": {
        "colab": {
          "base_uri": "https://localhost:8080/",
          "height": 413
        },
        "id": "yNVygiKCaNag",
        "outputId": "49a410d9-ff8d-4547-853a-2156e28ad93d"
      },
      "source": [
        "eval = Evaluate(labels,preds,x_test[:100])\r\n",
        "eval.get_evaluation_report()"
      ],
      "execution_count": null,
      "outputs": [
        {
          "output_type": "stream",
          "text": [
            "precision : 0.9749019607843138\n",
            "recall : 0.9568181818181818\n",
            "f1 : 0.962567733990148\n",
            "accuracy : 0.96\n",
            "Confusion matrix: \n",
            "[[ 8  0  0  0  0  0  0  0  0  0]\n",
            " [ 0 14  0  0  0  0  0  0  0  0]\n",
            " [ 0  1  6  0  0  0  0  1  0  0]\n",
            " [ 0  0  0 11  0  0  0  0  0  0]\n",
            " [ 0  0  0  0 14  0  0  0  0  0]\n",
            " [ 0  0  0  0  0  7  0  0  0  0]\n",
            " [ 0  0  0  0  0  0 10  0  0  0]\n",
            " [ 0  0  0  0  0  0  0 15  0  0]\n",
            " [ 0  0  0  0  0  0  0  0  2  0]\n",
            " [ 0  0  0  0  1  0  0  1  0  9]]\n",
            "Some images with wrong predictions\n"
          ],
          "name": "stdout"
        },
        {
          "output_type": "display_data",
          "data": {
            "image/png": "[encoded data removed]",
            "text/plain": [
              "<Figure size 720x720 with 4 Axes>"
            ]
          },
          "metadata": {
            "tags": []
          }
        }
      ]
    },
    {
      "cell_type": "markdown",
      "metadata": {
        "id": "V7LP247HaU6m"
      },
      "source": [
        "## Έτοιμος ΚΝΝ classifier\r\n",
        "\r\n",
        "Όπως και με τους περισσότερους αλγορίθμους μηχανικής μάθησης, υπάρχουν έτοιμες βελτιστοποιημένες υλοποιήσεις. Παρακάτω δείχνουμε ένα παράδειγμα χρήσης του ταξινομητή ΚΝΝ που παρέχει η βιβλιοθήκη sklearn: [documentation](https://scikit-learn.org/stable/modules/generated/sklearn.neighbors.KNeighborsClassifier.html)"
      ]
    },
    {
      "cell_type": "code",
      "metadata": {
        "colab": {
          "base_uri": "https://localhost:8080/",
          "height": 413
        },
        "id": "Os0WCL-QaOnr",
        "outputId": "4db40f74-2cda-4145-c127-5fe45e91b24c"
      },
      "source": [
        "from sklearn.neighbors import KNeighborsClassifier\r\n",
        "\r\n",
        "k = 5\r\n",
        "knc = KNeighborsClassifier(n_neighbors=k)\r\n",
        "knc.fit(x_train, y_train)\r\n",
        "y_pred = knc.predict(x_test[:100])\r\n",
        "\r\n",
        "eval = Evaluate(y_test[:100],y_pred,x_test[:100])\r\n",
        "eval.get_evaluation_report()"
      ],
      "execution_count": null,
      "outputs": [
        {
          "output_type": "stream",
          "text": [
            "precision : 0.9749019607843138\n",
            "recall : 0.9568181818181818\n",
            "f1 : 0.962567733990148\n",
            "accuracy : 0.96\n",
            "Confusion matrix: \n",
            "[[ 8  0  0  0  0  0  0  0  0  0]\n",
            " [ 0 14  0  0  0  0  0  0  0  0]\n",
            " [ 0  1  6  0  0  0  0  1  0  0]\n",
            " [ 0  0  0 11  0  0  0  0  0  0]\n",
            " [ 0  0  0  0 14  0  0  0  0  0]\n",
            " [ 0  0  0  0  0  7  0  0  0  0]\n",
            " [ 0  0  0  0  0  0 10  0  0  0]\n",
            " [ 0  0  0  0  0  0  0 15  0  0]\n",
            " [ 0  0  0  0  0  0  0  0  2  0]\n",
            " [ 0  0  0  0  1  0  0  1  0  9]]\n",
            "Some images with wrong predictions\n"
          ],
          "name": "stdout"
        },
        {
          "output_type": "display_data",
          "data": {
            "image/png": "[encoded data removed]",
            "text/plain": [
              "<Figure size 720x720 with 4 Axes>"
            ]
          },
          "metadata": {
            "tags": []
          }
        }
      ]
    },
    {
      "cell_type": "markdown",
      "metadata": {
        "id": "RcUBX2XMaZUd"
      },
      "source": [
        "## Σύγκριση υλοποιήσεων\r\n",
        "\r\n",
        "Στα παρακάτω κελιά πειραματιστείτε με τις δύο υλοποιήσεις (τη δική σας και την έτοιμη). Βεβαιωθείτε πως προκύπτουν τα ίδια αποτελέσματα για διάφορες τιμές του k (για ευκλείδια απόσταση) και μετρήστε τους χρόνους εκτέλεσης."
      ]
    },
    {
      "cell_type": "markdown",
      "metadata": {
        "id": "YL7uHdPMVNc6"
      },
      "source": [
        "### Xρόνος εκτέλεσης"
      ]
    },
    {
      "cell_type": "code",
      "metadata": {
        "colab": {
          "base_uri": "https://localhost:8080/"
        },
        "id": "8Yz_Y_cpaWor",
        "outputId": "e9b52910-5792-427c-8a0c-f2b42eac7229"
      },
      "source": [
        "%%time\r\n",
        "knn = KNN(x_train,y_train,k=5,distance='euclidian')\r\n",
        "preds = [knn.classify(x_test[i]) for i in range(100)]"
      ],
      "execution_count": null,
      "outputs": [
        {
          "output_type": "stream",
          "text": [
            "CPU times: user 19min 54s, sys: 109 ms, total: 19min 54s\n",
            "Wall time: 19min 55s\n"
          ],
          "name": "stdout"
        }
      ]
    },
    {
      "cell_type": "code",
      "metadata": {
        "colab": {
          "base_uri": "https://localhost:8080/"
        },
        "id": "77s6o3ZkabCY",
        "outputId": "5b6aae21-55fc-414f-a6ef-9d930239f0a7"
      },
      "source": [
        "%%time\r\n",
        "knc = KNeighborsClassifier(n_neighbors=5)\r\n",
        "knc.fit(x_train, y_train)\r\n",
        "y_pred = knc.predict(x_test[:100])"
      ],
      "execution_count": null,
      "outputs": [
        {
          "output_type": "stream",
          "text": [
            "CPU times: user 5.85 s, sys: 7.99 ms, total: 5.86 s\n",
            "Wall time: 5.86 s\n"
          ],
          "name": "stdout"
        }
      ]
    },
    {
      "cell_type": "markdown",
      "metadata": {
        "id": "AqJ3DRruVRQ9"
      },
      "source": [
        "###Έλεγχος ορθότητας για διάφορες τιμές του k"
      ]
    },
    {
      "cell_type": "code",
      "metadata": {
        "colab": {
          "base_uri": "https://localhost:8080/"
        },
        "id": "QhKTHB8pWb_8",
        "outputId": "598c11e5-9c9f-4ddf-997d-d2cd9a2e7ca8"
      },
      "source": [
        "for k in range(1,15,2):\r\n",
        "  print(\"k =\",k)\r\n",
        "  print('----------------------------------------------------------------------')\r\n",
        "  print(\"Our Model:\")\r\n",
        "  knn = KNN(x_train,y_train,k=k,distance='euclidian')\r\n",
        "  %time preds = [knn.classify(x_test[i]) for i in range(20)]\r\n",
        "  labels = [y_test[i] for i in range(20)]\r\n",
        "  eval = Evaluate(labels,preds,x_test[:20])\r\n",
        "  eval.get_evaluation_report(conf_matrix=False,samples=False)\r\n",
        "  \r\n",
        "  print(\"Sklearn's kNN:\")\r\n",
        "  knc = KNeighborsClassifier(n_neighbors=k)\r\n",
        "  %time knc.fit(x_train, y_train)\r\n",
        "  y_pred = knc.predict(x_test[:20])\r\n",
        "  eval = Evaluate(y_test[:20],y_pred,x_test[:20])\r\n",
        "  eval.get_evaluation_report(conf_matrix=False,samples=False)"
      ],
      "execution_count": null,
      "outputs": [
        {
          "output_type": "stream",
          "text": [
            "k = 1\n",
            "----------------------------------------------------------------------\n",
            "Our Model:\n",
            "CPU times: user 3min 52s, sys: 53.9 ms, total: 3min 52s\n",
            "Wall time: 3min 52s\n",
            "precision : 1.0\n",
            "recall : 1.0\n",
            "f1 : 1.0\n",
            "accuracy : 1.0\n",
            "Sklearn's kNN:\n",
            "CPU times: user 2.68 s, sys: 2.95 ms, total: 2.68 s\n",
            "Wall time: 2.68 s\n",
            "precision : 1.0\n",
            "recall : 1.0\n",
            "f1 : 1.0\n",
            "accuracy : 1.0\n",
            "k = 3\n",
            "----------------------------------------------------------------------\n",
            "Our Model:\n",
            "CPU times: user 3min 50s, sys: 83.8 ms, total: 3min 50s\n",
            "Wall time: 3min 50s\n",
            "precision : 1.0\n",
            "recall : 1.0\n",
            "f1 : 1.0\n",
            "accuracy : 1.0\n",
            "Sklearn's kNN:\n",
            "CPU times: user 2.59 s, sys: 4.29 ms, total: 2.6 s\n",
            "Wall time: 2.59 s\n",
            "precision : 1.0\n",
            "recall : 1.0\n",
            "f1 : 1.0\n",
            "accuracy : 1.0\n",
            "k = 5\n",
            "----------------------------------------------------------------------\n",
            "Our Model:\n",
            "CPU times: user 3min 55s, sys: 89 ms, total: 3min 55s\n",
            "Wall time: 3min 55s\n",
            "precision : 1.0\n",
            "recall : 1.0\n",
            "f1 : 1.0\n",
            "accuracy : 1.0\n",
            "Sklearn's kNN:\n",
            "CPU times: user 2.68 s, sys: 4.63 ms, total: 2.69 s\n",
            "Wall time: 2.68 s\n",
            "precision : 1.0\n",
            "recall : 1.0\n",
            "f1 : 1.0\n",
            "accuracy : 1.0\n",
            "k = 7\n",
            "----------------------------------------------------------------------\n",
            "Our Model:\n",
            "CPU times: user 3min 56s, sys: 108 ms, total: 3min 56s\n",
            "Wall time: 3min 56s\n",
            "precision : 1.0\n",
            "recall : 1.0\n",
            "f1 : 1.0\n",
            "accuracy : 1.0\n",
            "Sklearn's kNN:\n",
            "CPU times: user 2.65 s, sys: 2.39 ms, total: 2.65 s\n",
            "Wall time: 2.65 s\n",
            "precision : 1.0\n",
            "recall : 1.0\n",
            "f1 : 1.0\n",
            "accuracy : 1.0\n",
            "k = 9\n",
            "----------------------------------------------------------------------\n",
            "Our Model:\n",
            "CPU times: user 3min 55s, sys: 122 ms, total: 3min 56s\n",
            "Wall time: 3min 56s\n",
            "precision : 1.0\n",
            "recall : 1.0\n",
            "f1 : 1.0\n",
            "accuracy : 1.0\n",
            "Sklearn's kNN:\n",
            "CPU times: user 2.59 s, sys: 3.08 ms, total: 2.59 s\n",
            "Wall time: 2.59 s\n",
            "precision : 1.0\n",
            "recall : 1.0\n",
            "f1 : 1.0\n",
            "accuracy : 1.0\n",
            "k = 11\n",
            "----------------------------------------------------------------------\n",
            "Our Model:\n",
            "CPU times: user 3min 51s, sys: 127 ms, total: 3min 51s\n",
            "Wall time: 3min 52s\n",
            "precision : 1.0\n",
            "recall : 1.0\n",
            "f1 : 1.0\n",
            "accuracy : 1.0\n",
            "Sklearn's kNN:\n",
            "CPU times: user 2.63 s, sys: 1.79 ms, total: 2.63 s\n",
            "Wall time: 2.63 s\n",
            "precision : 1.0\n",
            "recall : 1.0\n",
            "f1 : 1.0\n",
            "accuracy : 1.0\n",
            "k = 13\n",
            "----------------------------------------------------------------------\n",
            "Our Model:\n",
            "CPU times: user 3min 55s, sys: 148 ms, total: 3min 55s\n",
            "Wall time: 3min 55s\n",
            "precision : 1.0\n",
            "recall : 1.0\n",
            "f1 : 1.0\n",
            "accuracy : 1.0\n",
            "Sklearn's kNN:\n",
            "CPU times: user 2.62 s, sys: 1.32 ms, total: 2.62 s\n",
            "Wall time: 2.62 s\n",
            "precision : 1.0\n",
            "recall : 1.0\n",
            "f1 : 1.0\n",
            "accuracy : 1.0\n"
          ],
          "name": "stdout"
        }
      ]
    },
    {
      "cell_type": "markdown",
      "metadata": {
        "id": "bc9ySKoRaek-"
      },
      "source": [
        "## Σχολιασμός\r\n"
      ]
    },
    {
      "cell_type": "markdown",
      "metadata": {
        "id": "RBW0_eb_RI64"
      },
      "source": [
        "Ως προς το κομμάτι του classification, παρατηρούμε πως η υλοποίηση του kNN που ορίσαμε πετυχαίνει ισάξια αποτελέσματα με την έτοιμη υλοποίηση της βιβλιοθήκης (accuracy 0.96% για τα 100 πρώτα δείγματα και k=5, και accuracy=1 για τα πρώτα 20 δείγματα και διάφορες τιμές του k).Μάλιστα παρατηρώντας τους confusion matrices βλέπουμε πως είναι πανομοιότυποι,δηλαδή τα λίγα missclassification που συνέβησαν έγιναν ακριβώς στα ίδια δείγματα.\r\n",
        "\r\n",
        "Ως αναφορά το χρόνο εκτέλεσης, παρατηρούμε πως η δική μας υλοποίηση έκανε πολύ παραπάνω χρόνο για να ολοκληρώσει την εκτέλεσή της πάνω στα ίδια δεδομένα.Αυτό συμβαίνει διότι στην έτοιμη υλοποίηση έχουν εφαρμοστεί πολλαπλές τεχνικές βελτιστοποίησης, με στόχο τη μέιωση του χρόνου εκτέλεσης.Δυο από από αυτές αυτές είναι η παραλληλοποίηση του αλγορίθμου προκειμένου να επιταχύνεται με τη χρήση πολυπύρηνων επεξεργαστών και GPU καθώς και η έξυπνη χρήση πινάκων numpy που επιταχύνουν την εκτέλεση συγκριτικά με τις απλές λίστες.\r\n",
        "\r\n",
        "Τα αποτελέσματα από την υλοποίησή μας κρίνονται ως ικανοποιητικά,παρά το μεγάλο χρόνο εκτέλεσης, καθώς πετυχαίνουμε ακρίβεια 96% στο MNIST dataset με αρκετά απλό κώδικα. "
      ]
    },
    {
      "cell_type": "markdown",
      "metadata": {
        "id": "Xe17UwwLag5Y"
      },
      "source": [
        "# 3ο Μέρος: Naive Bayes\r\n",
        "\r\n",
        "Αρχικά στρογγυλοποιούμε τις τιμές των pixels για να παίρνουν διακριτές τιμές στο $\\{0,1\\}$"
      ]
    },
    {
      "cell_type": "code",
      "metadata": {
        "colab": {
          "base_uri": "https://localhost:8080/",
          "height": 265
        },
        "id": "GNbBhsg2ach8",
        "outputId": "79665246-46e7-4335-d394-2e6105af533a"
      },
      "source": [
        "## Στρογγυλοποίηση:\r\n",
        "x_train_r = np.round(x_train)\r\n",
        "x_test_r = np.round(x_test)\r\n",
        "show_image(x_test_r[0])"
      ],
      "execution_count": 4,
      "outputs": [
        {
          "output_type": "display_data",
          "data": {
            "image/png": "[encoded data removed]",
            "text/plain": [
              "<Figure size 432x288 with 1 Axes>"
            ]
          },
          "metadata": {
            "tags": [],
            "needs_background": "light"
          }
        }
      ]
    },
    {
      "cell_type": "markdown",
      "metadata": {
        "id": "lFORd6XJakZl"
      },
      "source": [
        "Παρακάτω σας δίνεται η κλάση NaiveBayes που υλοποιεί τον αλγόριθμο. Καλείστε αρχικά να υπολογίσετε την πιθανότητα $p(x^{(k)}|i)$ για διάνυσμα χαρακτηριστκών $x$ και κατηγορία $i$ στη μέθοδο compute_probabilities. Στη συνέχεια θα υπολογίσετε την πιθανότητα $p(i|x)$ στη μέθοδο predict.\r\n",
        "\r\n",
        "---"
      ]
    },
    {
      "cell_type": "markdown",
      "metadata": {
        "id": "cHiKDmqmsq4r"
      },
      "source": [
        "Στη μέθοδο \"compute probabilities\" υπολογίζουμε αρχικά την πιθανότητα εμφάνισης της κάθε κλάσης (pC).Στη συνέχεια υπολογίζουμε την πιθανότητα p(xi|C) για κάθε πίξελ.Αυτός ο αριθμός αντικατοπτρίζει την πιθανότητα ένα πίξελ να έχει την τιμή 1, ενώ βρισκόμαστε σε μια συγκεκριμένη κλάση.Δηλαδή για κάθε κλάση και για κάθε πίξελ αθροίζουμε τις φορές που το συγκεκριμένο πίξελ έχει την τιμή 1.Αυτά τα αθροίσματα αποθηκεύονται στην λίστα λιστών pxC.Τέλος όλα τα αθροίσματα διαίρούνται με το συνολικό αριθμό εικόνων που περιέχει η κάθε κλάση. \r\n",
        "\r\n",
        "Για να κατηγοριοποίησουμε μια εικόνα που μας δίνεται σε μια από τις 10 κλάσεις χρησιμοποιούμε τη μέθοδο predict.Για κάθε κλάση πολλαπλασιάζουμε τις πιθανότητες που έχει το κάθε πιξελ να ανήκει σε αυτήν την κλάση με την πιθανότητα η εικόνα να ανήκει σε αυτήν  την κλάση.Τα αποτελέσματα αποθηκεύονται σε μια λίστα 10 θέσεων, 1 θέση για την κάθε κλάση.Τέλος, κατηγοριοποιούμε την εικόνα στην κλάση με την μεγαλύτερη πιθανότητα."
      ]
    },
    {
      "cell_type": "code",
      "metadata": {
        "id": "ufKo5f5yaiqH"
      },
      "source": [
        "class NaiveBayes:\r\n",
        "  def __init__(self,x,y):\r\n",
        "    self.x = x\r\n",
        "    self.y = y\r\n",
        "    ## pC is a vector with the probability of each class\r\n",
        "    self.pC = np.zeros((10,))\r\n",
        "    ## pxC is an array with all probabilities p(xi|C)\r\n",
        "    self.pxC = np.zeros((x.shape[-1],10))\r\n",
        "    ## Compute the probabilities\r\n",
        "    self.compute_probabilities()\r\n",
        "\r\n",
        "  def compute_probabilities(self):\r\n",
        "    ## Compute p(C) for each class\r\n",
        "    for label in self.y:\r\n",
        "      self.pC[label]+=1\r\n",
        "    self.pC = self.pC/self.y.shape[0]\r\n",
        "\r\n",
        "    ## Compute p(xi|C) for each feature xi and class C\r\n",
        "    # hint: you can use one or more for loops\r\n",
        "    ###################\r\n",
        "    ## Your code below\r\n",
        "\r\n",
        "    for img in range(self.x.shape[0]):\r\n",
        "      label = self.y[img]\r\n",
        "      for pixel in range(self.x.shape[1]):\r\n",
        "        self.pxC[pixel][label] += self.x[img][pixel]\r\n",
        "    \r\n",
        "    class_count = [0 for _ in range(10)]\r\n",
        "    class_count = self.pC*self.y.shape[0] # class_count saves the number of images in each class\r\n",
        "    \r\n",
        "    for y in range(10):\r\n",
        "      for x in range(784):\r\n",
        "        self.pxC[x][y] = self.pxC[x][y] / class_count[y]\r\n",
        "\r\n",
        "    ## Your code above\r\n",
        "    ##################\r\n",
        "\r\n",
        "  def predict(self,x):\r\n",
        "    ## ~Probability of x belonging to each class\r\n",
        "    ## (not actucal probability since we ignore denominator)\r\n",
        "    pcX = np.ones((10,))\r\n",
        "    for i in range(10):\r\n",
        "      temp = self.pC[i]\r\n",
        "      for j in range(len(x)):\r\n",
        "        if x[j]:\r\n",
        "          temp *= self.pxC[j][i] \r\n",
        "        else:\r\n",
        "          temp *= 1 - self.pxC[j][i]\r\n",
        "      pcX[i] = temp  \r\n",
        "      ## Your code above\r\n",
        "      ##################\r\n",
        "    return np.argmax(pcX)"
      ],
      "execution_count": null,
      "outputs": []
    },
    {
      "cell_type": "markdown",
      "metadata": {
        "id": "cO9h_Q8bbAgF"
      },
      "source": [
        "## Αξιολόγηση του Naive Bayes"
      ]
    },
    {
      "cell_type": "code",
      "metadata": {
        "colab": {
          "base_uri": "https://localhost:8080/",
          "height": 965
        },
        "id": "2PzuaP48amDv",
        "outputId": "1f0a7002-20dc-4b55-c022-4895572b9f3f"
      },
      "source": [
        "%time nb = NaiveBayes(x_train_r,y_train)\r\n",
        "%time preds = [ nb.predict(i) for i in x_test_r]\r\n",
        "%time eval = Evaluate(y_test, preds, x_test_r)\r\n",
        "eval.get_evaluation_report()"
      ],
      "execution_count": null,
      "outputs": [
        {
          "output_type": "stream",
          "text": [
            "CPU times: user 13 s, sys: 2.99 ms, total: 13 s\n",
            "Wall time: 13 s\n",
            "CPU times: user 58.5 s, sys: 2.98 ms, total: 58.5 s\n",
            "Wall time: 58.5 s\n",
            "CPU times: user 595 µs, sys: 0 ns, total: 595 µs\n",
            "Wall time: 597 µs\n",
            "precision : 0.8420769694261152\n",
            "recall : 0.8386732815442702\n",
            "f1 : 0.839392796785908\n",
            "accuracy : 0.8411\n",
            "Confusion matrix: \n",
            "[[ 877    0    5    4    3   51   21    1   18    0]\n",
            " [   0 1078   11    4    0    7    4    0   31    0]\n",
            " [  20   14  835   34   20    4   30   15   58    2]\n",
            " [   5   17   33  848    2   26    5   14   41   19]\n",
            " [   1    4    7    0  786    3   17    4   16  144]\n",
            " [  18    8    6  104   23  655   20    6   28   24]\n",
            " [  20   15   18    1   11   32  854    0    7    0]\n",
            " [   4   29   18    2   16    2    0  865   24   68]\n",
            " [  14   26   14   66   14   28    7    7  762   36]\n",
            " [  11   12    6   10   59   10    0   30   20  851]]\n",
            "Some images with wrong predictions\n"
          ],
          "name": "stdout"
        },
        {
          "output_type": "display_data",
          "data": {
            "image/png": "[encoded data removed]",
            "text/plain": [
              "<Figure size 720x720 with 20 Axes>"
            ]
          },
          "metadata": {
            "tags": [],
            "needs_background": "light"
          }
        }
      ]
    },
    {
      "cell_type": "markdown",
      "metadata": {
        "id": "xMUHg-dubFa2"
      },
      "source": [
        "## Έτοιμος Naive Bayes\r\n",
        "\r\n",
        "Όπως με τους περισσότερους αλγορίθμους μηχανικής μάθησης, υπάρχουν έτοιμες βελτιστοποιημένες υλοποιήσεις για τον Naive Bayes. Παρακάτω ο Gaussian Naive Bayes από το SKLearn. Σε αντίθεση με τη δική μας υλοποίηση, ο συγκεκριμένος δουλεύει και με συνεχή δεδομένα, αφού πρώτα κάνει την υπόθεση πως κάθε χαρακτηριστικό ακολουθεί κανονική κατανομή: [documentation](https://scikit-learn.org/stable/modules/generated/sklearn.naive_bayes.GaussianNB.html)"
      ]
    },
    {
      "cell_type": "code",
      "metadata": {
        "colab": {
          "base_uri": "https://localhost:8080/",
          "height": 931
        },
        "id": "Lc7CCDfSbCPh",
        "outputId": "fa89751d-542a-4141-8784-c38ff10ddfe1"
      },
      "source": [
        "from sklearn.naive_bayes import GaussianNB\r\n",
        "\r\n",
        "gnb = GaussianNB()\r\n",
        "%time y_pred = gnb.fit(x_train, y_train).predict(x_test)\r\n",
        "\r\n",
        "%time eval = Evaluate(y_test, y_pred, x_test)\r\n",
        "eval.get_evaluation_report()"
      ],
      "execution_count": null,
      "outputs": [
        {
          "output_type": "stream",
          "text": [
            "CPU times: user 626 ms, sys: 1.99 ms, total: 628 ms\n",
            "Wall time: 632 ms\n",
            "CPU times: user 9 µs, sys: 0 ns, total: 9 µs\n",
            "Wall time: 10.7 µs\n",
            "precision : 0.6786218997566938\n",
            "recall : 0.5528163449706252\n",
            "f1 : 0.5175091463233913\n",
            "accuracy : 0.5602\n",
            "Confusion matrix: \n",
            "[[ 894    1    3    3    4    7   29    1   12   26]\n",
            " [   0 1096    1    2    1    0    9    0   21    5]\n",
            " [ 116   48  263   69   10    0  272    6  224   24]\n",
            " [  94   66    5  339    3    3   72    9  301  118]\n",
            " [  20   14    3    3  280    7   77    8   63  507]\n",
            " [ 116   43    1   20    8   78   53    3  458  112]\n",
            " [  18   21    4    1    1    8  890    0   14    1]\n",
            " [   2   22    1    9    8    1    5  314   22  644]\n",
            " [  19  145    3    4    7   13   23    7  496  257]\n",
            " [   7   15    3    6    2    0    1   14    9  952]]\n",
            "Some images with wrong predictions\n"
          ],
          "name": "stdout"
        },
        {
          "output_type": "display_data",
          "data": {
            "image/png": "[encoded data removed]",
            "text/plain": [
              "<Figure size 720x720 with 20 Axes>"
            ]
          },
          "metadata": {
            "tags": [],
            "needs_background": "light"
          }
        }
      ]
    },
    {
      "cell_type": "markdown",
      "metadata": {
        "id": "KaecLreybI-3"
      },
      "source": [
        "## Σύγκριση υλοποιήσεων\r\n",
        "\r\n"
      ]
    },
    {
      "cell_type": "markdown",
      "metadata": {
        "id": "Is0R73-V0IDp"
      },
      "source": [
        "###Xρόνος εκτέλεσης"
      ]
    },
    {
      "cell_type": "code",
      "metadata": {
        "colab": {
          "base_uri": "https://localhost:8080/"
        },
        "id": "Lz-k1DL-bG9v",
        "outputId": "3f0560ec-b309-4940-d9cb-e54afc82711f"
      },
      "source": [
        "%%time\r\n",
        "nb = NaiveBayes(x_train_r,y_train)\r\n",
        "preds = [ nb.predict(i) for i in x_test_r]"
      ],
      "execution_count": null,
      "outputs": [
        {
          "output_type": "stream",
          "text": [
            "CPU times: user 1min 12s, sys: 2.98 ms, total: 1min 12s\n",
            "Wall time: 1min 12s\n"
          ],
          "name": "stdout"
        }
      ]
    },
    {
      "cell_type": "code",
      "metadata": {
        "colab": {
          "base_uri": "https://localhost:8080/"
        },
        "id": "tHoJZC5RbK60",
        "outputId": "77043cc0-18e0-4bdd-a6ca-7ca51c9e4385"
      },
      "source": [
        "%%time\r\n",
        "gnb = GaussianNB()\r\n",
        "y_pred = gnb.fit(x_train, y_train).predict(x_test)"
      ],
      "execution_count": null,
      "outputs": [
        {
          "output_type": "stream",
          "text": [
            "CPU times: user 606 ms, sys: 5 ms, total: 611 ms\n",
            "Wall time: 613 ms\n"
          ],
          "name": "stdout"
        }
      ]
    },
    {
      "cell_type": "code",
      "metadata": {
        "colab": {
          "base_uri": "https://localhost:8080/"
        },
        "id": "Gn_M8rnqR2vT",
        "outputId": "eefe0e4a-79d8-438c-dc23-d09221192db1"
      },
      "source": [
        "%%time\r\n",
        "gnb = MultinomialNB()\r\n",
        "y_pred = gnb.fit(x_train, y_train).predict(x_test)"
      ],
      "execution_count": 8,
      "outputs": [
        {
          "output_type": "stream",
          "text": [
            "CPU times: user 201 ms, sys: 15.8 ms, total: 217 ms\n",
            "Wall time: 128 ms\n"
          ],
          "name": "stdout"
        }
      ]
    },
    {
      "cell_type": "markdown",
      "metadata": {
        "id": "m1pYNylV0Sk2"
      },
      "source": [
        "###Αccuracy"
      ]
    },
    {
      "cell_type": "code",
      "metadata": {
        "colab": {
          "base_uri": "https://localhost:8080/"
        },
        "id": "CQxXkWwA0Yl2",
        "outputId": "f07bac51-1920-4567-f657-123cf114f63c"
      },
      "source": [
        "our_nb = NaiveBayes(x_train_r,y_train)\r\n",
        "preds = [ our_nb.predict(i) for i in x_test_r]\r\n",
        "eval = Evaluate(y_test, preds, x_test_r)\r\n",
        "eval.get_evaluation_report(conf_matrix=False,samples=False)"
      ],
      "execution_count": null,
      "outputs": [
        {
          "output_type": "stream",
          "text": [
            "precision : 0.8420769694261152\n",
            "recall : 0.8386732815442702\n",
            "f1 : 0.839392796785908\n",
            "accuracy : 0.8411\n"
          ],
          "name": "stdout"
        }
      ]
    },
    {
      "cell_type": "markdown",
      "metadata": {
        "id": "63djvVZ70xmD"
      },
      "source": [
        "Aξιολογούμε την έτοιμη υλοποίηση και στο σύνολο x_train_r όπου είναι στρογγυλοποιήμενα τα pixels και στο σύνολο x_train οπου παίρνουν συνεχείς τιμές"
      ]
    },
    {
      "cell_type": "code",
      "metadata": {
        "colab": {
          "base_uri": "https://localhost:8080/"
        },
        "id": "3eLbqVV50mKq",
        "outputId": "ffe2ebee-af27-4e68-b33d-0afb966ee63a"
      },
      "source": [
        "print(\"------------------------------------------------------------\")\r\n",
        "print(\"                Gaussian Naive Bayes\")\r\n",
        "print(\"------------------------------------------------------------\\n\\n\")\r\n",
        "from sklearn.naive_bayes import GaussianNB\r\n",
        "gnb = GaussianNB()\r\n",
        "\r\n",
        "y_pred_continues = gnb.fit(x_train, y_train).predict(x_test)\r\n",
        "y_pred_discrete = gnb.fit(x_train_r, y_train).predict(x_test_r)\r\n",
        "\r\n",
        "print(\"Pixels = continuous values\")\r\n",
        "print(\"------------------------------------------------------------\")\r\n",
        "eval_cont = Evaluate(y_test, y_pred_continues, x_test)\r\n",
        "eval_cont.get_evaluation_report(conf_matrix=False,samples=False)\r\n",
        "\r\n",
        "print(\"\\n\\nPixels = discrete values\")\r\n",
        "print(\"------------------------------------------------------------\")\r\n",
        "eval_cont = Evaluate(y_test, y_pred_discrete, x_test_r)\r\n",
        "eval_cont.get_evaluation_report(conf_matrix=False,samples=False)"
      ],
      "execution_count": 6,
      "outputs": [
        {
          "output_type": "stream",
          "text": [
            "------------------------------------------------------------\n",
            "                Gaussian Naive Bayes\n",
            "------------------------------------------------------------\n",
            "\n",
            "\n",
            "Pixels = continuous values\n",
            "------------------------------------------------------------\n",
            "precision : 0.6786218997566938\n",
            "recall : 0.5528163449706252\n",
            "f1 : 0.5175091463233913\n",
            "accuracy : 0.5602\n",
            "\n",
            "\n",
            "Pixels = discrete values\n",
            "------------------------------------------------------------\n",
            "precision : 0.6575097163701867\n",
            "recall : 0.5337629936664594\n",
            "f1 : 0.487407973876397\n",
            "accuracy : 0.5416\n"
          ],
          "name": "stdout"
        }
      ]
    },
    {
      "cell_type": "markdown",
      "metadata": {
        "id": "C2MZ3ayt-kOZ"
      },
      "source": [
        "Στην συνέχεια αξιολογούμε την έτοιμη υλοποίηση MultinomialNB"
      ]
    },
    {
      "cell_type": "code",
      "metadata": {
        "colab": {
          "base_uri": "https://localhost:8080/"
        },
        "id": "r48vwCDJ-gYh",
        "outputId": "e8cea45a-7c2d-4f5a-8101-f10ff1ba4cf8"
      },
      "source": [
        "print(\"------------------------------------------------------------\")\r\n",
        "print(\"              Multinomial Naive Bayes\")\r\n",
        "print(\"------------------------------------------------------------\\n\\n\")\r\n",
        "from sklearn.naive_bayes import MultinomialNB\r\n",
        "gnb = MultinomialNB()\r\n",
        "\r\n",
        "y_pred_continues = gnb.fit(x_train, y_train).predict(x_test)\r\n",
        "y_pred_discrete = gnb.fit(x_train_r, y_train).predict(x_test_r)\r\n",
        "\r\n",
        "\r\n",
        "print(\"Pixels = continuous values\")\r\n",
        "print(\"------------------------------------------------------------\")\r\n",
        "eval_cont = Evaluate(y_test, y_pred_continues, x_test)\r\n",
        "eval_cont.get_evaluation_report(conf_matrix=False,samples=False)\r\n",
        "\r\n",
        "print(\"\\n\\nPixels = discrete values\")\r\n",
        "print(\"------------------------------------------------------------\")\r\n",
        "eval_cont = Evaluate(y_test, y_pred_discrete, x_test_r)\r\n",
        "eval_cont.get_evaluation_report(conf_matrix=False,samples=False)"
      ],
      "execution_count": 7,
      "outputs": [
        {
          "output_type": "stream",
          "text": [
            "------------------------------------------------------------\n",
            "              Multinomial Naive Bayes\n",
            "------------------------------------------------------------\n",
            "\n",
            "\n",
            "Pixels = continuous values\n",
            "------------------------------------------------------------\n",
            "precision : 0.841388518342107\n",
            "recall : 0.8303876526729421\n",
            "f1 : 0.8321244459322497\n",
            "accuracy : 0.8334\n",
            "\n",
            "\n",
            "Pixels = discrete values\n",
            "------------------------------------------------------------\n",
            "precision : 0.8412585483058936\n",
            "recall : 0.8308389366722857\n",
            "f1 : 0.8324421815414371\n",
            "accuracy : 0.8338\n"
          ],
          "name": "stdout"
        }
      ]
    },
    {
      "cell_type": "markdown",
      "metadata": {
        "id": "P6B4jezeBTpW"
      },
      "source": [
        "Συγκρίνουμε και τους confusion matrices"
      ]
    },
    {
      "cell_type": "code",
      "metadata": {
        "colab": {
          "base_uri": "https://localhost:8080/"
        },
        "id": "Xrx8ipJdBXSN",
        "outputId": "1f18e1bb-a9cf-452c-e114-39a8e425f814"
      },
      "source": [
        "mnb = MultinomialNB()\r\n",
        "gnb = GaussianNB()\r\n",
        "\r\n",
        "y_pred_mnb = mnb.fit(x_train, y_train).predict(x_test)\r\n",
        "y_pred_gnb = gnb.fit(x_train, y_train).predict(x_test)\r\n",
        "\r\n",
        "print(f\"MultinomialNB:\\n{confusion_matrix(y_test, y_pred_mnb)}\")\r\n",
        "print(f\"GaussianNB:\\n{confusion_matrix(y_test, y_pred_gnb)}\")"
      ],
      "execution_count": 79,
      "outputs": [
        {
          "output_type": "stream",
          "text": [
            "MultinomialNB:\n",
            "[[ 911    0    3    6    1    7   15    1   36    0]\n",
            " [   0 1057    6    8    0    1    6    0   56    1]\n",
            " [  15   12  854   26    9    2   34   12   67    1]\n",
            " [   4   10   36  851    1   18    7   12   44   27]\n",
            " [   3    2    6    0  723    0   24    1   37  186]\n",
            " [  24   12    6  109   19  588   18    6   75   35]\n",
            " [  18   14   17    1   10   21  860    0   17    0]\n",
            " [   1   21   11    5   20    0    1  855   43   71]\n",
            " [   5   27   14   56   14   26    8    8  776   40]\n",
            " [   6    9    3   11   65    9    1   16   30  859]]\n",
            "GaussianNB:\n",
            "[[ 894    1    3    3    4    7   29    1   12   26]\n",
            " [   0 1096    1    2    1    0    9    0   21    5]\n",
            " [ 116   48  263   69   10    0  272    6  224   24]\n",
            " [  94   66    5  339    3    3   72    9  301  118]\n",
            " [  20   14    3    3  280    7   77    8   63  507]\n",
            " [ 116   43    1   20    8   78   53    3  458  112]\n",
            " [  18   21    4    1    1    8  890    0   14    1]\n",
            " [   2   22    1    9    8    1    5  314   22  644]\n",
            " [  19  145    3    4    7   13   23    7  496  257]\n",
            " [   7   15    3    6    2    0    1   14    9  952]]\n"
          ],
          "name": "stdout"
        }
      ]
    },
    {
      "cell_type": "markdown",
      "metadata": {
        "id": "S1hUk7okNyfd"
      },
      "source": []
    },
    {
      "cell_type": "markdown",
      "metadata": {
        "id": "SAmP4BrCbOB9"
      },
      "source": [
        "## Σχολιασμός\r\n",
        "Παρατηρούμε πως η δική μας υλοποίηση έχει παραπάνω accuracy από τον υλοποιημένο gaussian naive bayes διότι στην φιλοσοφία είναι πιο κοντά στον multinomial naive bayes.Για το λόγο αυτό πήραμε και τα αποτελέσματα για τον υλοποιημένο multinomial naive bayes και βλέπουμε πως το acccuracy είναι πολύ κοντά στο accuracy που πέτυχε η δική μας υλοποίηση (διαφορά κάτω απο 1%).\r\n",
        "\r\n",
        "Ο ταξινομητής naive bayes κάνει κάποιες παραδοχες.Στο συγκεκριμένο παράδειγμα έχουμε θεωρήσει πως η πιθανότητα ενός πίξελ να εμφανίζεται σε μια συγκεκριμένη κλάση είναι ανεξάρτητη από όλες τις άλλες πιθανοτητες.Αυτή η παραδοχή όμως δεν ισχύει, καθώς εάν γνωρίζουμε πως σε μια γειτονιά πολλές τιμές των πίξελ είναι 1, τότε αυξάνεται η πιθανοτητα να είναι και τα γειτονικά τους.Αντίστοιχα εάν ένα πίξελ είναι μηδεν.Συνεπώς θα μπορούσαμε να βελτιώσουμε το accuracy θεωρώντας πως οι πιθανότητες δεν είναι ανεξάρτητες, κάτι τέτοιο όμως θα είχε σοβαρή επίδραση στο χρόνο εκτέλεσης καθώς η πολυπλοκότητα του αλγορίθμου θα γινότανε $O(2^n)$\r\n",
        "\r\n",
        "Όσον αναφορα τον χρόνο εκτέλεσης, η δικιά μας υλοποιηση κάνει σαφώς περισσότερο χρόνο καθώς στην ετοιμηση υλοποιηση ο αλγοριθμος εχει βελτιστοποιησηθει με διάφορους τρόπου,οπως μέιωση της πολυπλοκότητας και παραλληλοποίηση του αλγορίθμου.Αντιθετα η δική μας υλοποιση τρέχει σε έναν πυρήνα και έχει πολυπλοκότητα $O(n*m*k)$ όπου n=ο αριθμός των κλασεων,m=ο αριθμός των πίξελ, k=ο αριθμός των εικόνων"
      ]
    },
    {
      "cell_type": "markdown",
      "metadata": {
        "id": "Vvw-OUkjbRb9"
      },
      "source": [
        "#4ο Μέρος: Multi-Layer Perceptron \r\n",
        "\r\n",
        "Σε αυτό το σημείο της άσκησης θα επιλύσετε το παραπάνω πρόβλημα κατασκευάζοντας ένα πολύεπίπεδο νευρωνικό δίκτυο. Αρχικά θα υλοποιήσετε το νευρωνικό χωρίς να χρησιμοποιήσετε κάποια έτοιμη κλάση κάποιας βιβλιοθήκης (όπως sckit-learn, keras), ενώ στην συνέχεια θα κατασκευάσετε το ίδιο σύστημα με την χρήση της βιβλιοθήκης sckit-learn. "
      ]
    },
    {
      "cell_type": "markdown",
      "metadata": {
        "id": "vovDwSIPbTiE"
      },
      "source": [
        "Στο παρακάτω κελί κώδικα σας δίνεται η βασική δομή του επιπέδου ενός πολυεπίπεδου νευρωνικού δικτύου. Η παρακάτω κλάση δεν υλοποιεί κάποιο πραγματικό επίπεδο (όπως Dense) αλλά αυτή χρησιμοποιείται για την παρουσίαση των λειτουργιών κάθε επιπέδου.\r\n",
        "\r\n",
        "Ουσιαστικά κάθε επίπεδο ενός νευρωνικού δικτύου πρέπει να είναι σε θέση να κάνει: \r\n",
        "\r\n",
        "\r\n",
        "1.   Για μια είσοδο να υπολογίζει την έξοδο κάθε νευρώνα. Αυτό επιτυγχάνεται μέσω της μεθόδου forward η όποια δέχεται ως όρισμα μια είσοδο  και επιστρέφει έναν πίνακα με τις εξόδους κάθε νευρώνα του επιπέδου. \r\n",
        "\r\n",
        "2.   Να υπολογίζει τις μεταβολές οι όποιες πρέπει να γίνουν στα βάρη κάθε επιπέδου, ανάλογα με το πόσο καλά- κοντινά ήταν τα αποτελέσματα του επιπέδου στα πραγματικά. Η λειτουργία αυτή θα μας βοηθήσει την ανανέωση των βαρών του δικτύου και συνεπώς στην σωστή εκπαίδευσή του. Η λειτουργικότητα αυτή επιτυγχάνεται μέσω της μεθόδου backward. \r\n",
        "\r\n",
        "  \r\n",
        "\r\n",
        "Η λειτουργικότητα συνεπώς κάθε επιπέδου καθορίζεται από την συνάρτηση που υλοποιείται στην μέθοδο forward. Ένα instance της παρακάτω κλάσης συνεπώς  επιστρέφει ως έξοδο την είσοδο κάθε νευρώνα (ταυτοτική συνάρτηση) όποτε δεν προσφέρει κάποια υψηλή λειτουργικότητα. Στην παρακάτω κλάση δεν έχετε να προσθέσετε κάτι, απλά να μελετήσετε και να καταλάβετε την δομή που πρέπει να έχει ένα επίπεδο. "
      ]
    },
    {
      "cell_type": "code",
      "metadata": {
        "id": "jgx1VIMmbMQP"
      },
      "source": [
        "class Layer:\r\n",
        "    def __init__(self):\r\n",
        "        \"\"\"Here we can initialize layer parameters (if any) and auxiliary stuff.\"\"\"\r\n",
        "        # A dummy layer does nothing\r\n",
        "        pass\r\n",
        "    \r\n",
        "    def forward(self, input):\r\n",
        "        \"\"\"\r\n",
        "        Takes input data of shape [batch, input_units], returns output data [batch, output_units]\r\n",
        "        \"\"\"\r\n",
        "        # A dummy layer just returns whatever it gets as input.\r\n",
        "        return input\r\n",
        "\r\n",
        "    def backward(self, input, grad_output):\r\n",
        "        # The gradient of a dummy layer is precisely grad_output, but we'll write it more explicitly\r\n",
        "        num_units = input.shape[1]\r\n",
        "        \r\n",
        "        d_layer_d_input = np.eye(num_units)\r\n",
        "        \r\n",
        "        return np.dot(grad_output, d_layer_d_input) # chain rule"
      ],
      "execution_count": null,
      "outputs": []
    },
    {
      "cell_type": "markdown",
      "metadata": {
        "id": "r1iQCroAbV-F"
      },
      "source": [
        "Στο σημείο αυτό αξίζει να αναφερθεί ότι για την σωστή εκπαίδευση του δικτύου (σε πρακτικό επίπεδο) πρέπει να διαχωριστεί η έξοδος κάθε νευρώνα πριν και μετά την συνάρτηση ενεργοποίησης. Έτσι η παραπάνω μέθοδος forward της κλάσης layer πρέπει να υπολογίζει την έξοδο του επιπέδου χωρίς την συνάρτηση ενεργοποίησης και κάποια άλλη κλάση να υπολογίζει το αποτέλεσμα με αυτή.  \r\n",
        "\r\n",
        "  \r\n",
        "\r\n",
        "Έκτος όμως από την εκπαίδευση του δικτύου, ο διαχωρισμός αυτός μας βοηθά σημαντικά και κατά την φάση σχεδιασμού της  αρχιτεκτονικής μιας και μας δίνει την δυνατότητα να αλλάζουμε την συνάρτηση ενεργοποίησης χωρίς κάθε φόρα να πρέπει να αλλάξουμε ολόκληρη την κλάση layer. Για τους παραπάνω λόγους θα χειριζόμαστε την συνάρτηση ενεργοποίησης σαν ένα ξεχωριστό επίπεδο με τις δικές της μεθόδους: forward, backward.  \r\n",
        "\r\n",
        "  \r\n",
        "\r\n",
        "Παρακάτω παρουσιάζεται η κλάση η όποια υλοποιεί την λειτουργικότητα της συνάρτησης ενεργοποίησης [ReLU](https://en.wikipedia.org/wiki/Rectifier_(neural_networks)).  \r\n",
        "\r\n",
        "  \r\n",
        "\r\n",
        "Με την ίδια λογική μπορούμε να υλοποιήσουμε οποιαδήποτε άλλη συνάρτηση ενεργοποίησης θέλουμε π.χ. sigmoid, tanh κ.ο.κ. και επιπλέον μπορούμε να τις εναλλάσσουμε μεταξύ επιπέδων χωρίς δυσκολία. "
      ]
    },
    {
      "cell_type": "code",
      "metadata": {
        "id": "6P33228VbYIf"
      },
      "source": [
        "class ReLU(Layer):\r\n",
        "    def __init__(self):\r\n",
        "        \"\"\"ReLU layer simply applies elementwise rectified linear unit to all inputs\"\"\"\r\n",
        "        pass\r\n",
        "    \r\n",
        "    def forward(self, input):\r\n",
        "        \"\"\"Apply elementwise ReLU to [batch, input_units] matrix\"\"\"\r\n",
        "        relu_forward = np.maximum(0,input)\r\n",
        "        return relu_forward\r\n",
        "    \r\n",
        "    def backward(self, input, grad_output):\r\n",
        "        \"\"\"Compute gradient of loss w.r.t. ReLU input\"\"\"\r\n",
        "        relu_grad = input > 0\r\n",
        "        return grad_output*relu_grad"
      ],
      "execution_count": null,
      "outputs": []
    },
    {
      "cell_type": "markdown",
      "metadata": {
        "id": "Rrrub_76ba19"
      },
      "source": [
        "Η κλάση Dense υλοποιεί ένα επίπεδο dense όπου η έξοδος κάθε νευρώνα (χωρίς τη  συνάρτηση ενεργοποίησης) υπολογίζεται από την παρακάτω εξίσωση: \r\n",
        "\r\n",
        "  \r\n",
        "\r\n",
        "  \r\n",
        "\r\n",
        "$$ z(x) = w^Τx + b $$ \r\n",
        "\r\n",
        "  \r\n",
        "\r\n",
        "όπου $w$, $b$ είναι τα βάρη του επιπέδου.   \r\n",
        "\r\n",
        "  \r\n",
        "\r\n",
        "Συνεπώς το δίκτυο είναι απαραίτητοί να διατηρεί 2 τους δυο πίνακες με τα βάρη οι όποιο στην μέθοδο forward θα χρησιμοποιούνται για τον υπολογισμό της εξόδου και θα ανανεώνονται από την μέθοδο backward. Οι πίνακες αυτοί δημιουργούνται κατά την κατασκευή κάθε στιγμιότυπου και αρχικοποιούνται, ο πρώτος τυχαία και ο δεύτερος με μηδενικά.  Στο σημείο αυτό καλείστε να συμπληρώσετε την μέθοδο forward με κατάλληλο τρόπο ώστε να επιτυγχάνεται επιθυμητή λειτουργικότητα. "
      ]
    },
    {
      "cell_type": "code",
      "metadata": {
        "id": "HEnuIuOHbZge"
      },
      "source": [
        "class Dense(Layer):\r\n",
        "    def __init__(self, input_units, output_units, learning_rate=0.1):\r\n",
        "        \"\"\"\r\n",
        "        Weight Initialization\r\n",
        "        \"\"\"\r\n",
        "        self.input_units = input_units\r\n",
        "        self.output_units = output_units\r\n",
        "        \r\n",
        "        self.learning_rate = learning_rate\r\n",
        "        self.weights = np.random.normal(loc=0.0, \r\n",
        "                                        scale = np.sqrt(2/(input_units+output_units)), \r\n",
        "                                        size = (input_units,output_units))\r\n",
        "        self.biases = np.zeros(output_units)\r\n",
        "        \r\n",
        "    def forward(self,input):\r\n",
        "        \"\"\"\r\n",
        "        Perform an affine transformation:\r\n",
        "        f(x) = <W*x> + b\r\n",
        "        \r\n",
        "        input shape: [number of inputs, input units]\r\n",
        "        output shape: [number of inputs, output units]\r\n",
        "        \"\"\"\r\n",
        "        ###################\r\n",
        "        ## Your code below\r\n",
        "        ## hint: numpy.dot\r\n",
        "        output = np.dot(input,self.weights) + self.biases\r\n",
        "        \r\n",
        "        ## Your code above\r\n",
        "        ##################\r\n",
        "        return output\r\n",
        "    \r\n",
        "    def backward(self,input,grad_output):\r\n",
        "        # compute d f / d x = d f / d dense * d dense / d x\r\n",
        "        # where d dense/ d x = weights transposed\r\n",
        "        grad_input = np.dot(grad_output, self.weights.T)\r\n",
        "        \r\n",
        "        # compute gradient w.r.t. weights and biases\r\n",
        "        grad_weights = np.dot(input.T, grad_output)\r\n",
        "        grad_biases = grad_output.mean(axis=0)*input.shape[0]\r\n",
        "        \r\n",
        "        assert grad_weights.shape == self.weights.shape and grad_biases.shape == self.biases.shape\r\n",
        "        \r\n",
        "        # Here we perform a stochastic gradient descent step. \r\n",
        "        self.weights = self.weights - self.learning_rate * grad_weights\r\n",
        "        self.biases = self.biases - self.learning_rate * grad_biases\r\n",
        "        \r\n",
        "        return grad_input"
      ],
      "execution_count": null,
      "outputs": []
    },
    {
      "cell_type": "markdown",
      "metadata": {
        "id": "Ml2jvLeybeRe"
      },
      "source": [
        "Οι παρακάτω συναρτήσεις χρησιμοποιούνται για να μπορεί το δίκτυο να ελέγχει πόσο κοντά βρίσκονται τα αποτελέσματα του στα πραγματικά (Loss function). Όπως είναι λογικό υπάρχουν διαφορετικές τέτοιες συναρτήσεις ανάλογα το πρόβλημα που καλείται να λύσει το δίκτυο. Η παρακάτω συνάρτηση ονομάζεται [softmax](https://en.wikipedia.org/wiki/Softmax_function) και χρησιμοποιείται κατά κύριο λόγο σε προβλήματα ταξινόμησης όπως το συγκεκριμένο. Η softmax δέχεται σαν είσοδο τις ενεργοποιήσεις του τελευταίου επιπέδου και επιστρέφει μια κατανομή πιθανοτήτων για κάθε μια από τις κλάσεις εξόδου (π.χ. κλάση 0 έχει πιθανότητα 0.001,  η κλάση 1 έχει 0.9 κ.ο.κ.).  "
      ]
    },
    {
      "cell_type": "code",
      "metadata": {
        "id": "qT7nl_1Gbc0B"
      },
      "source": [
        "def softmax_crossentropy_with_logits(logits,reference_answers):\r\n",
        "    \"\"\"Compute crossentropy from logits[batch,n_classes] and ids of correct answers\"\"\"\r\n",
        "    logits_for_answers = logits[np.arange(len(logits)),reference_answers]\r\n",
        "    xentropy = - logits_for_answers + np.log(np.sum(np.exp(logits),axis=-1))\r\n",
        "    return xentropy\r\n",
        "\r\n",
        "def grad_softmax_crossentropy_with_logits(logits,reference_answers):\r\n",
        "    \"\"\"Compute crossentropy gradient from logits[batch,n_classes] and ids of correct answers\"\"\"\r\n",
        "    ones_for_answers = np.zeros_like(logits)\r\n",
        "    ones_for_answers[np.arange(len(logits)),reference_answers] = 1\r\n",
        "    \r\n",
        "    softmax = np.exp(logits) / np.exp(logits).sum(axis=-1,keepdims=True)\r\n",
        "    \r\n",
        "    return (- ones_for_answers + softmax) / logits.shape[0]"
      ],
      "execution_count": null,
      "outputs": []
    },
    {
      "cell_type": "markdown",
      "metadata": {
        "id": "5XnSJjxYbhdX"
      },
      "source": [
        "Έχοντας υλοποιήσει τις κλάσεις Dense και ReLU μπορούμε πλέον να κατασκευάσουμε μια κλάση η όποια θα ορίζει ένα πολυεπίπεδο νευρωνικό δίκτυο (MLP). Το δίκτυο αυτό ουσιαστικά αποτελείται από μια ακολουθία Dense επιπέδων όπου το κάθε ένα (εκτός του τελευταίου) ακολουθείται από μια μη-γραμμική συνάρτηση ενεργοποίησης (ReLU). Όμοια με πριν, η κλάση αυτή πρέπει να περιέχει μια μέθοδο forward η όποια θα δέχεται μια είσοδο (εδώ μια εικόνα flatten) και θα επιστρέφει μια έξοδο (εδώ μια κατανομή 10 πιθανοτήτων). Παράλληλα πρέπει να περιέχει και μια μέθοδο fit, η όποια θα εκπαιδεύει το δίκτυο δεδομένου ενός τέτοιου συνόλου (εδώ του x_train). Στο σημείο αυτό χρησιμοποιούνται οι μέθοδοι backward που έχουν οριστεί για κάθε ένα επίπεδο (δεν χρειάζεται να συμπληρώσετε κάτι).  Τέλος θα ήταν βοηθητικό να έχουμε και μια μέθοδο η όποια θα μετατρέπει την κατανομή εξόδου στην επιστρεφόμενη κλάση (predict) για κάποιο ή κάποια στιγμιότυπα του συνόλου δεδομένων.   \r\n",
        "\r\n",
        "Το δίκτυο όπως αναφέρθηκε και προηγουμένως αποτελείται από έναν αριθμό Dense επιπέδων κάθε ένα από τα όποια ακολουθείται από μια συνάρτηση ReLU. Η κατασκευή των επιπέδων γίνεται κατά την στιγμή δημιουργίας του δικτύου, όπου δίνεται ως είσοδος μια λίστα με το μέγεθος κάθε επιπέδου, μαζί με το μέγεθος εισόδου (εδώ 28*28). Έτσι για παράδειγμα η παρακάτω γραμμή κώδικα:  \r\n",
        "``` \r\n",
        "net = MLP([100, 200, 100, 10], 784)  \r\n",
        "```  \r\n",
        "κατασκευάζει ένα MLP το όποιο αποτελείται από 4 επίπεδα με μέγεθος 100, 200, 100, 10. Ο αριθμός των επιπέδων καθώς και του μεγέθους καθενός από αυτά είναι ελεύθερος να οριστεί από τον χρήστη.   \r\n",
        "Στον constructor της κλάσης ουσιαστικά ορίζεται μια λίστα η όποια περιέχει κάθε ένα από τα επίπεδα που πρέπει να οριστούν, π.χ. για το παραπάνω παράδειγμα η μεταβλητή net.network περιέχει τα εξής στιγμιότυπα των κλάσεων:  \r\n",
        "\r\n",
        "``` \r\n",
        "[Dense(100), ReLU(), Dense(200), ReLU(), Dense(100), ReLU(), Dense(10)]  \r\n",
        "```  \r\n",
        "\r\n",
        "Συνεπώς η λειτουργικότητα του δικτύου όπως και πριν πρέπει να οριστεί στην μέθοδο forward. Στο σημείο αυτό καλείστε να συμπληρώσετε την μέθοδο αυτή έτσι ώστε το δίκτυο να λειτουργεί όπως πρέπει, δηλαδή στο παράδειγμά μας η είσοδος να περνά από το επίπεδο Dense(100), μετά από το ReLU(), στην συνέχεια από το Dense(200) κ.ο.κ. μέχρι και το τελευταίο επίπεδο.  Ο αλγόριθμος αυτός παρουσιάζεται και σε ψευδοκώδικα στην διαφάνεια 33 του μαθήματος. "
      ]
    },
    {
      "cell_type": "code",
      "metadata": {
        "id": "MHHcg1unbf21"
      },
      "source": [
        "class MLP:\r\n",
        "    def __init__(self, shapes, input_dim):\r\n",
        "        '''\r\n",
        "        Κατασκευή του MLP. Τα επίπεδα και το μέγεθός τους ορίζεται από την μεταβλήτη shape, ενώ\r\n",
        "        το μέγεθος της εισόδου ορίζεται από την μεταβλήτη input_dim\r\n",
        "        '''\r\n",
        "        self.shapes = shapes\r\n",
        "        self.network = [Dense(input_dim, shapes[0])]\r\n",
        "        self.network.append(ReLU())\r\n",
        "        for i in range(1, len(self.shapes) - 1):\r\n",
        "            self.network.append(Dense(shapes[i-1],shapes[i]))\r\n",
        "            self.network.append(ReLU())\r\n",
        "        self.network.append(Dense(shapes[i],shapes[-1]))\r\n",
        "\r\n",
        "    def forward(self, X):\r\n",
        "        \"\"\"\r\n",
        "        Αγόριθμος διφάνειας 33\r\n",
        "        \"\"\"\r\n",
        "        activations = []\r\n",
        "        input = X\r\n",
        "        # Looping through each layer\r\n",
        "        for l in self.network:\r\n",
        "            ###################\r\n",
        "            ## Your code below\r\n",
        "            # hint: τροφοδοτούμε την έξοδο κάθε επιπέδου στο επόμενο\r\n",
        "            \r\n",
        "            activations.append(l.forward(input))\r\n",
        "            input = activations[-1]\r\n",
        "\r\n",
        "            ## Your code above\r\n",
        "            ##################        \r\n",
        "        assert len(activations) == len(self.network)\r\n",
        "        return activations\r\n",
        "\r\n",
        "    def predict(self,X):\r\n",
        "        \"\"\"\r\n",
        "        Προβλέπει την έξοδο του δικτύου για ένα ή περισσότερα στιγμιότυπα εισόδου\r\n",
        "        \"\"\"\r\n",
        "        logits = self.forward(X)[-1]\r\n",
        "        return logits.argmax(axis=-1)\r\n",
        "\r\n",
        "    def fit(self, X, y):\r\n",
        "        # Get the layer activations\r\n",
        "        layer_activations = self.forward(X)\r\n",
        "        layer_inputs = [X]+layer_activations  #layer_input[i] is an input for network[i]\r\n",
        "        logits = layer_activations[-1]\r\n",
        "        \r\n",
        "        # Compute the loss and the initial gradient\r\n",
        "        loss = softmax_crossentropy_with_logits(logits,y)\r\n",
        "        loss_grad = grad_softmax_crossentropy_with_logits(logits,y)\r\n",
        "        \r\n",
        "        # Propagate gradients through the network\r\n",
        "        # Reverse propogation as this is backprop\r\n",
        "        for layer_index in range(len(self.network))[::-1]:\r\n",
        "            layer = self.network[layer_index]\r\n",
        "            loss_grad = layer.backward(layer_inputs[layer_index],loss_grad) #grad w.r.t. input, also weight updates\r\n",
        "        return np.mean(loss)"
      ],
      "execution_count": null,
      "outputs": []
    },
    {
      "cell_type": "markdown",
      "metadata": {
        "id": "6zCBcKqvbm4t"
      },
      "source": [
        "## Αξιολόγηση ενός Multi-Layer Perceptron\r\n",
        "\r\n",
        "Αφού έχουμε κατασκευάσει τα παραπάνω είμαστε πλέον σε θέση να εκπαιδεύσουμε το MLP. Αυτό γίνεται καλώντας την μέθοδο fit. Στο παρακάτω κελί κώδικα ορίζεται το MLP του παραπάνω παραδείγματος και εκπαιδεύεται αρχικά για 25 και στη συνέχεια για 200 εποχές. Στο τέλος κάθε εποχής παρουσιάζονται τα αποτελέσματα του μαζί με μια γραφική των train και test accuracy. "
      ]
    },
    {
      "cell_type": "code",
      "metadata": {
        "id": "_48PfAymEggc"
      },
      "source": [
        "#---------------------------------------------------------#\r\n",
        "#   Συνάρτηση για την εκπαίδευση MLP και την απεικόνιση   #\r\n",
        "#                 των αποτελεσμάτων                       #\r\n",
        "#---------------------------------------------------------#\r\n",
        "\r\n",
        "from IPython.display import clear_output\r\n",
        "import numpy as np\r\n",
        "\r\n",
        "#Αυτά πρέπει να τρέχουν αφού έχετε φτιάξει σωστά τον κώδικα της MLP\r\n",
        "def train_network(network, epochs, x_train, y_train, x_test, y_test, samples=True, info=True):\r\n",
        "  \"\"\" \r\n",
        "  Train MLP, show metrics and plot accuracy\r\n",
        "  \"\"\"\r\n",
        "  train_log = []\r\n",
        "  val_log = []\r\n",
        "  for epoch in range(epochs):\r\n",
        "      network.fit(x_train,y_train)\r\n",
        "      \r\n",
        "      if (info):\r\n",
        "        train_log.append(np.mean(network.predict(x_train)==y_train))\r\n",
        "        val_log.append(np.mean(network.predict(x_test)==y_test))\r\n",
        "        \r\n",
        "        clear_output()\r\n",
        "        print(\"Epoch\",epoch)\r\n",
        "        print(\"Train accuracy:\",train_log[-1])\r\n",
        "        print(\"Val accuracy:\",val_log[-1])\r\n",
        "        plt.plot(train_log,label='train accuracy')\r\n",
        "        plt.plot(val_log,label='val accuracy')\r\n",
        "        plt.legend(loc='best')\r\n",
        "        plt.grid()\r\n",
        "        plt.show()\r\n",
        "  if (info):\r\n",
        "    y_pred = network.predict(x_test)\r\n",
        "\r\n",
        "    eval = Evaluate(y_test, y_pred, x_test)\r\n",
        "    eval.get_evaluation_report(samples=samples)"
      ],
      "execution_count": null,
      "outputs": []
    },
    {
      "cell_type": "code",
      "metadata": {
        "colab": {
          "base_uri": "https://localhost:8080/",
          "height": 1000
        },
        "id": "RdqU20JKDtcX",
        "outputId": "8a304fa4-9c4a-4162-d4e8-dbb17bba93a1"
      },
      "source": [
        "# Εκπαιδεύουμε αρχικά για 25 εποχές\r\n",
        "network = MLP([100, 200, 100, 10], 28*28)\r\n",
        "\r\n",
        "train_network(network,25,x_train,y_train,x_test,y_test,True)"
      ],
      "execution_count": null,
      "outputs": [
        {
          "output_type": "stream",
          "text": [
            "Epoch 24\n",
            "Train accuracy: 0.7397\n",
            "Val accuracy: 0.7467\n"
          ],
          "name": "stdout"
        },
        {
          "output_type": "display_data",
          "data": {
            "image/png": "[encoded data removed]",
            "text/plain": [
              "<Figure size 432x288 with 1 Axes>"
            ]
          },
          "metadata": {
            "tags": [],
            "needs_background": "light"
          }
        },
        {
          "output_type": "stream",
          "text": [
            "precision : 0.7577342318882004\n",
            "recall : 0.737481852560371\n",
            "f1 : 0.7149770497337895\n",
            "accuracy : 0.7467\n",
            "Confusion matrix: \n",
            "[[ 950    1    1    3    0    2   18    1    4    0]\n",
            " [   0 1105    4    5    0    0    2    0   15    4]\n",
            " [  39   54  781   68   29    0   36   17    7    1]\n",
            " [  17   27   42  831    5   16    8   37   20    7]\n",
            " [   3   16    4    0  807    1   51   11    2   87]\n",
            " [  74   28   12  267   17  125  133   82  135   19]\n",
            " [  28   10   30    3   24    1  854    0    8    0]\n",
            " [  11   49   23    4   14    1    1  903    1   21]\n",
            " [  22   47   61  172   23    2   46   36  546   19]\n",
            " [  26   16    4   16  186    2    8  180    6  565]]\n",
            "Some images with wrong predictions\n"
          ],
          "name": "stdout"
        },
        {
          "output_type": "display_data",
          "data": {
            "image/png": "[encoded data removed]",
            "text/plain": [
              "<Figure size 720x720 with 20 Axes>"
            ]
          },
          "metadata": {
            "tags": [],
            "needs_background": "light"
          }
        }
      ]
    },
    {
      "cell_type": "markdown",
      "metadata": {
        "id": "k2v3w8RXFQYp"
      },
      "source": [
        "Το δίκτυ φαίνεται να μπορεί να ανεβάσει περαιτέρω το accuracy με παραπάνω εκπαίδευση.Στη συνέχεια εκπαιδεύουμε για περισσότερα epochs."
      ]
    },
    {
      "cell_type": "code",
      "metadata": {
        "id": "4jw-8qN6bjQG",
        "colab": {
          "base_uri": "https://localhost:8080/",
          "height": 1000
        },
        "outputId": "e6fbb2a7-7e4c-4d5a-c53f-60e5236bb8dd"
      },
      "source": [
        "# Εκπαιδεύουμε για 200 εποχές\r\n",
        "network = MLP([100, 200, 100, 10], 28*28)\r\n",
        "\r\n",
        "train_network(network,200,x_train,y_train,x_test,y_test,True)"
      ],
      "execution_count": null,
      "outputs": [
        {
          "output_type": "stream",
          "text": [
            "Epoch 199\n",
            "Train accuracy: 0.9142\n",
            "Val accuracy: 0.9105\n"
          ],
          "name": "stdout"
        },
        {
          "output_type": "display_data",
          "data": {
            "image/png": "[encoded data removed]",
            "text/plain": [
              "<Figure size 432x288 with 1 Axes>"
            ]
          },
          "metadata": {
            "tags": [],
            "needs_background": "light"
          }
        },
        {
          "output_type": "stream",
          "text": [
            "precision : 0.90924840871646\n",
            "recall : 0.9096388329928871\n",
            "f1 : 0.9091335440525201\n",
            "accuracy : 0.9105\n",
            "Confusion matrix: \n",
            "[[ 956    0    2    1    0   10    8    1    2    0]\n",
            " [   0 1100    4    2    1    2    3    2   21    0]\n",
            " [  10   12  904    8   17    4   18   15   39    5]\n",
            " [   3    0   23  883    1   54    2   16   23    5]\n",
            " [   2    3    3    0  917    1   13    2    7   34]\n",
            " [  11    2    7   35    7  777   18    4   26    5]\n",
            " [  20    3    6    1   12   16  898    1    1    0]\n",
            " [   5   10   27    4   11    0    0  946    5   20]\n",
            " [   5    6    8   20    6   34   22   12  853    8]\n",
            " [  11    5    4    9   60   11    1   24   13  871]]\n",
            "Some images with wrong predictions\n"
          ],
          "name": "stdout"
        },
        {
          "output_type": "display_data",
          "data": {
            "image/png": "[encoded data removed]",
            "text/plain": [
              "<Figure size 720x720 with 20 Axes>"
            ]
          },
          "metadata": {
            "tags": [],
            "needs_background": "light"
          }
        }
      ]
    },
    {
      "cell_type": "markdown",
      "metadata": {
        "id": "ygud3NX3b-wN"
      },
      "source": [
        "## Έτοιμο Multi-Layer Perceptron \r\n",
        "\r\n",
        "Όπως και με τις τεχνικές των παραπάνω ερωτημάτων έτσι και εδώ υπάρχει έτοιμη η παραπάνω κλάση σε διάφορες βιβλιοθήκες. Έτσι στο δεύτερο μέρος του ερωτήματος αυτού θα κατασκευάσετε το ίδιο MLP χρησιμοποιώντας όμως την έτοιμη κλάση [MLPClassifier](https://scikit-learn.org/stable/modules/generated/sklearn.neural_network.MLPClassifier.html)  της βιβλιοθήκης scikit-learn. Παρακάτω παρουσιάζεται ένα παράδειγμα χρήσης της κλάσης αυτής. "
      ]
    },
    {
      "cell_type": "code",
      "metadata": {
        "colab": {
          "base_uri": "https://localhost:8080/"
        },
        "id": "hltXBE2Vbojo",
        "outputId": "d6a3a552-9557-4a9d-98ed-67596e237dfe"
      },
      "source": [
        "from sklearn.neural_network import MLPClassifier\r\n",
        "\r\n",
        "epochs = 25\r\n",
        "mlp = MLPClassifier(hidden_layer_sizes=(100, 200, 100), max_iter = epochs)\r\n",
        "\r\n",
        "mlp.fit(x_train,y_train)\r\n",
        "\r\n",
        "y_pred = mlp.predict(x_test)\r\n",
        "eval = Evaluate(y_test, y_pred, x_test)\r\n",
        "eval.get_evaluation_report(samples=False)"
      ],
      "execution_count": null,
      "outputs": [
        {
          "output_type": "stream",
          "text": [
            "/usr/local/lib/python3.6/dist-packages/sklearn/neural_network/_multilayer_perceptron.py:571: ConvergenceWarning: Stochastic Optimizer: Maximum iterations (25) reached and the optimization hasn't converged yet.\n",
            "  % self.max_iter, ConvergenceWarning)\n"
          ],
          "name": "stderr"
        },
        {
          "output_type": "stream",
          "text": [
            "precision : 0.9706501199199536\n",
            "recall : 0.9705407134983719\n",
            "f1 : 0.9705839064716427\n",
            "accuracy : 0.9709\n",
            "Confusion matrix: \n",
            "[[ 965    1    1    0    2    3    3    1    1    3]\n",
            " [   0 1122    5    1    0    1    4    1    1    0]\n",
            " [   2    3 1006    5    4    0    4    4    2    2]\n",
            " [   0    0    4  980    0    9    0    5   10    2]\n",
            " [   2    0    3    0  957    0    3    3    2   12]\n",
            " [   5    0    2    9    2  856   10    1    4    3]\n",
            " [   8    3    1    0    7    5  930    1    3    0]\n",
            " [   0    5   12    1    1    0    1  994    2   12]\n",
            " [   6    0    4    6    5    5    3    8  930    7]\n",
            " [   3    3    0    6   11    5    0    5    7  969]]\n"
          ],
          "name": "stdout"
        }
      ]
    },
    {
      "cell_type": "markdown",
      "metadata": {
        "id": "DOQYML9wcDBk"
      },
      "source": [
        "## Σύγκριση υλοποιήσεων \r\n",
        "\r\n",
        "  \r\n",
        "\r\n",
        "Στα παρακάτω κελιά πειραματιστείτε με τις δύο υλοποιήσεις (τη δική σας και την έτοιμη). Συγκρίνετε τα αποτελέσματά σας τόσο ως προς τους χρόνους εκτέλεσης αλλά και ως προς τα αποτελέσματα. Η διαφορά των αποτελεσμάτων προκύπτει από το ότι στην έτοιμη κλάση έχουν γίνει αρκετές βελτιστοποιήσεις στην λειτουργία, στον τρόπο εκπαίδευσης κ.α. με αποτέλεσμα να προκύπτουν καλύτερα αποτέλεσμα. Παρόλα αυτά στην δική μας κλάση έχουμε καλύτερο έλεγχο και έχουμε την δυνατότητα να σχεδιάσουμε πιο σύνθετες αρχιτεκτονικές καθώς να αλλάξουμε τις τιμές παραμέτρων που στην έτοιμη κλάση μπορεί να μην μας δίνεται η δυνατότητα. "
      ]
    },
    {
      "cell_type": "markdown",
      "metadata": {
        "id": "oMKLVSpuRV_j"
      },
      "source": [
        "### Χρόνος εκπαίδευσης"
      ]
    },
    {
      "cell_type": "markdown",
      "metadata": {
        "id": "znDU4iKSJYJW"
      },
      "source": [
        "<h4> 25 Εποχές"
      ]
    },
    {
      "cell_type": "code",
      "metadata": {
        "colab": {
          "base_uri": "https://localhost:8080/"
        },
        "id": "CJulLcf2QEG4",
        "outputId": "75092c07-f6fd-4296-a1a2-f4c9ce47bc16"
      },
      "source": [
        "# Εκπαιδεύουμε για 25 εποχές\r\n",
        "network = MLP([100, 200, 100, 10], 28*28)\r\n",
        "%time train_network(network,25,x_train,y_train,x_test,y_test,False,info=False)"
      ],
      "execution_count": null,
      "outputs": [
        {
          "output_type": "stream",
          "text": [
            "CPU times: user 28.4 s, sys: 4.99 s, total: 33.4 s\n",
            "Wall time: 16.9 s\n"
          ],
          "name": "stdout"
        }
      ]
    },
    {
      "cell_type": "code",
      "metadata": {
        "colab": {
          "base_uri": "https://localhost:8080/"
        },
        "id": "S3Y1UXp2TAw3",
        "outputId": "6886222c-4e0f-41e1-caeb-4b74ca2d3827"
      },
      "source": [
        "mlp = MLPClassifier(hidden_layer_sizes=(100, 200, 100), max_iter = 25)\r\n",
        "%time mlp.fit(x_train,y_train)"
      ],
      "execution_count": null,
      "outputs": [
        {
          "output_type": "stream",
          "text": [
            "CPU times: user 31.7 s, sys: 12.8 s, total: 44.5 s\n",
            "Wall time: 22.6 s\n"
          ],
          "name": "stdout"
        },
        {
          "output_type": "stream",
          "text": [
            "/usr/local/lib/python3.6/dist-packages/sklearn/neural_network/_multilayer_perceptron.py:571: ConvergenceWarning: Stochastic Optimizer: Maximum iterations (25) reached and the optimization hasn't converged yet.\n",
            "  % self.max_iter, ConvergenceWarning)\n"
          ],
          "name": "stderr"
        },
        {
          "output_type": "execute_result",
          "data": {
            "text/plain": [
              "MLPClassifier(activation='relu', alpha=0.0001, batch_size='auto', beta_1=0.9,\n",
              "              beta_2=0.999, early_stopping=False, epsilon=1e-08,\n",
              "              hidden_layer_sizes=(100, 200, 100), learning_rate='constant',\n",
              "              learning_rate_init=0.001, max_fun=15000, max_iter=25,\n",
              "              momentum=0.9, n_iter_no_change=10, nesterovs_momentum=True,\n",
              "              power_t=0.5, random_state=None, shuffle=True, solver='adam',\n",
              "              tol=0.0001, validation_fraction=0.1, verbose=False,\n",
              "              warm_start=False)"
            ]
          },
          "metadata": {
            "tags": []
          },
          "execution_count": 51
        }
      ]
    },
    {
      "cell_type": "markdown",
      "metadata": {
        "id": "5QCmFrYKJdy9"
      },
      "source": [
        "<h4> 200 Εποχές σε μεγαλύτερο δίκτυο"
      ]
    },
    {
      "cell_type": "code",
      "metadata": {
        "colab": {
          "base_uri": "https://localhost:8080/",
          "height": 605
        },
        "id": "m9MWDL6mJqUA",
        "outputId": "ef5c7dd0-5ffc-4756-dc4c-a94d173f22ce"
      },
      "source": [
        "# Εκπαιδεύουμε για 200 εποχές\r\n",
        "network = MLP([200, 400, 800, 400, 100, 10], 28*28)\r\n",
        "%time train_network(network,200,x_train,y_train,x_test,y_test,False,info=True)"
      ],
      "execution_count": null,
      "outputs": [
        {
          "output_type": "stream",
          "text": [
            "Epoch 199\n",
            "Train accuracy: 0.91665\n",
            "Val accuracy: 0.9096\n"
          ],
          "name": "stdout"
        },
        {
          "output_type": "display_data",
          "data": {
            "image/png": "[encoded data removed]",
            "text/plain": [
              "<Figure size 432x288 with 1 Axes>"
            ]
          },
          "metadata": {
            "tags": [],
            "needs_background": "light"
          }
        },
        {
          "output_type": "stream",
          "text": [
            "precision : 0.9120480049908677\n",
            "recall : 0.9097296590580146\n",
            "f1 : 0.908550119569002\n",
            "accuracy : 0.9096\n",
            "Confusion matrix: \n",
            "[[ 960    0    0    0    0   10    5    1    4    0]\n",
            " [   0 1093    1    2    1    3    4    1   30    0]\n",
            " [  11    5  891   11   18    9   14   10   59    4]\n",
            " [   8    1   13  783    1  127    2   11   56    8]\n",
            " [   1    1    2    0  915    2   12    1    8   40]\n",
            " [  10    1    4    8    4  830   15    0   15    5]\n",
            " [  12    2    2    0   11   23  903    0    5    0]\n",
            " [   4    9   24    1   10    1    0  919    8   52]\n",
            " [   5    1    3    4    9   43   14    4  880   11]\n",
            " [   7    5    0    2   34   15    1    6   17  922]]\n",
            "CPU times: user 31min 36s, sys: 3min 55s, total: 35min 32s\n",
            "Wall time: 18min 13s\n"
          ],
          "name": "stdout"
        }
      ]
    },
    {
      "cell_type": "code",
      "metadata": {
        "colab": {
          "base_uri": "https://localhost:8080/"
        },
        "id": "JP-XUm20JqUE",
        "outputId": "e77733fa-45b9-4910-f846-c6cf9f33dcf9"
      },
      "source": [
        "from sklearn.neural_network import MLPClassifier\r\n",
        "mlp = MLPClassifier(hidden_layer_sizes=(200, 400, 800, 400, 100), max_iter = 200)\r\n",
        "%time mlp.fit(x_train,y_train)\r\n",
        "y_pred = mlp.predict(x_test)\r\n",
        "eval = Evaluate(y_test, y_pred, x_test)\r\n",
        "eval.get_evaluation_report(samples=False)"
      ],
      "execution_count": null,
      "outputs": [
        {
          "output_type": "stream",
          "text": [
            "CPU times: user 6min 13s, sys: 1min 48s, total: 8min 2s\n",
            "Wall time: 4min 4s\n",
            "precision : 0.9741282893045271\n",
            "recall : 0.9738194017997917\n",
            "f1 : 0.9739377342530002\n",
            "accuracy : 0.9742\n",
            "Confusion matrix: \n",
            "[[ 970    1    0    2    1    1    1    1    1    2]\n",
            " [   0 1127    1    1    0    0    3    1    2    0]\n",
            " [   3    1 1012    4    1    0    0    6    5    0]\n",
            " [   1    0    5  985    1    5    0    7    3    3]\n",
            " [   0    1    4    0  955    0    3    0    2   17]\n",
            " [   2    0    0    9    1  859   10    1    8    2]\n",
            " [   6    3    1    1   12    2  932    0    1    0]\n",
            " [   2    5    9    2    1    1    0  988    1   19]\n",
            " [   4    0    4    5    3    3    7    6  932   10]\n",
            " [   0    2    0    3    7    6    2    2    5  982]]\n"
          ],
          "name": "stdout"
        }
      ]
    },
    {
      "cell_type": "markdown",
      "metadata": {
        "id": "PNctxmSJaFAM"
      },
      "source": [
        "###Σχολιασμός"
      ]
    },
    {
      "cell_type": "markdown",
      "metadata": {
        "id": "24RWWorpaANV"
      },
      "source": [
        "Κατά την εκπαίδευση η δική μας υλοποίηση σε ορισμένες περιπτώσεις υπέστησε μια μέιωση στην απόδοσή της.Αυτό πιθανώς να συμβαίνει στο γεγονός πως έχουμε σταθερό learning rate και το δίκτυο \"εξερευνώντας\" το χώρο αναζήτησης φεύγει απο σημείο τοπικού μεγίστου και κατευθύνεται σε άλλες περιοχές.Πιθανώς ένα learning rate που δεν είναι σταθερό αλλά αυξομειώνεται ανάλογα με τη σύγκλιση του δικτύου σε ένα μέγιστο να βοηθούσε την εκπαίδευση (Αdaptive learning rate).Περισσότερες πληροφορίες σχετικά με αυτήν την τεχνική ξεφεύγουν από τα πλαίσια της παρούσας εργασίας.\r\n",
        "\r\n",
        "Παρατηρούμε πως η δικιά μας υλοποίηση αδυνατεί να φτάσει σε accuracy αλλά και χρόνο εκπαίδευσης την συνάρτηση του Sklearn.Οδηγούμαστε στο συμπέρασμα πως δεν έχει σημασία η αλλαγή του δικτύου ή η αύξηση του αριθμού των εποχών,αλλά το πρόβλημα είναι δομικό.Δηλαδή χρειάζεται να αλλάξουμε την υλοποίησή μας προκειμένου να συμπεριλάβει ορισμένες βελτιστοποιήσεις προκειμένου να αυξηθεί το accuracy,αλλά και να μειωθεί ο χρόνος εκτέλεσης.Ενδεικτικά αναφέρονται τεχνικές που είναι δυνατόν να υλοποιηθούν προκειμένου να βελτιστοποιήσουν την υλοποίησή μας ως προς το accuracy:\r\n",
        "\r\n",
        "\r\n",
        "*   Adaptive learning rate\r\n",
        "*   Dropout\r\n",
        "*   Data Augmentation\r\n",
        "*   Early Stopping\r\n",
        "*   Περισσότερες loss functions για πειραματισμό\r\n",
        "*   Παραλλαγές στην κατάβαση κλίσης όπως είναι η στοχαστική κατάβαση κλίσης(stochastic gradient descent), η mini-bach gradient descent, Adam, Adagrad κτλπ.\r\n",
        "\r\n",
        "Ως προς το χρόνο εκτέλεσης παρατηρούμε πως για μικρά epochs η έτοιμη υλοποίηση χρειάζεται λίγο περισσότερο χρόνο για να υλοποιηθεί, ενώ για πολλά epochs συντριπτικά λιγότερο χρόνο.Αυτό συμβαίνει διότι οι βελτιστοποιήσεις που έχει η έτοιμη συνάρτηση την καθιστούν υπολογιστικά πολυπλοκότερη.Όμως για πολλές επαναλήψεις η παραλληλοποίησή της και η αξιοποίηση της gpu κάνουν το χρόνο να μειώνεται εντυπωσιακά, πράγμα που δεν ήταν τόσο φανερό στο μικρό αριθμό επαναλήψεων.\r\n"
      ]
    },
    {
      "cell_type": "markdown",
      "metadata": {
        "id": "gfrx064gcCr8"
      },
      "source": [
        "# Αξιολόγηση- Συμπεράσματα \r\n",
        "\r\n",
        "  \r\n",
        "\r\n"
      ]
    },
    {
      "cell_type": "markdown",
      "metadata": {
        "id": "iCX8VVPxT96_"
      },
      "source": [
        "Στον παρακάτω πίνακα παρουσιάζονται συγκεντρωμένα τα αποτελέσματα για τα μοντέλα που παρουσιάστηκαν παραπάνω.Μερικοί από τους πειραματισμούς δεν προστέθηκαν στον πίνακα.GNB = Guassian Naive Bayes και MNB = Multinomial Naive Bayes \r\n",
        "\r\n",
        "\r\n",
        "<table>\r\n",
        "<thead>\r\n",
        "  <tr>\r\n",
        "    <th>Μοντέλο</th>\r\n",
        "    <th>Αccuracy</th>\r\n",
        "    <th>Χρόνος εκτέλεσης</th>\r\n",
        "  </tr>\r\n",
        "</thead>\r\n",
        "<tbody>\r\n",
        "  <tr>\r\n",
        "    <td>our_KNN</td>\r\n",
        "    <td>0.96</td>\r\n",
        "    <td>19min 54s</td>\r\n",
        "  </tr>\r\n",
        "  <tr>\r\n",
        "    <td>KNN</td>\r\n",
        "    <td>0.96</td>\r\n",
        "    <td>5.86 s</td>\r\n",
        "  </tr>\r\n",
        "  <tr>\r\n",
        "    <td>our_NB</td>\r\n",
        "    <td>0.8411</td>\r\n",
        "    <td>1min 12s</td>\r\n",
        "  </tr>\r\n",
        "  <tr>\r\n",
        "    <td>GNB</td>\r\n",
        "    <td>0.5602</td>\r\n",
        "    <td>611 ms</td>\r\n",
        "  </tr>\r\n",
        "  <tr>\r\n",
        "    <td>MNB</td>\r\n",
        "    <td>0.8338</td>\r\n",
        "    <td>217 ms</td>\r\n",
        "  </tr>\r\n",
        "  <tr>\r\n",
        "    <td>our_MLP</td>\r\n",
        "    <td>0.9105</td>\r\n",
        "    <td>33.4 s (25 epochs)</td>\r\n",
        "  </tr>\r\n",
        "  <tr>\r\n",
        "    <td>MLP</td>\r\n",
        "    <td>0.9709</td>\r\n",
        "    <td>44.5 s (25 epochs)</td>\r\n",
        "  </tr>\r\n",
        "</tbody>\r\n",
        "</table>\r\n",
        "\r\n",
        "Παρατηρούμε πως την καλύτερη απόδοση μας δίνουν τα μοντέλα KNN και το βελτιστοποιημένο MLP που μας παρέχει το sklearn,το οποίο χρησιμοποιεί mini-batch gradient descent.Το γεγονός πως το μοντέλο ήταν μικρό και εκπαιδεύτηκε μόνο για 25 εποχές μας δείχνει πως το MLP μπορεί να αποδώσει πολύ καλα σε μια ευρεία γκάμα από προβλήματα, καθώς μπορούμε εύκολα να κάνουμε scale-up την αρχιτεκτονική του σε πολυπλοκότερες καταστάσεις.Επίσης πολύ καλή απόδοση μας παρέχει το knn σε πολύ μικρότερο χρόνο.Τον μικρότερο χρόνο εκτέλεσης έχουν τα Naive Bayes μοντέλα τα οποία όμως δεν καταφέρνουν τα ταξινομήσουν τις εικόνες με την ίδια αποτελεσματικότητα.\r\n",
        "\r\n",
        "Συμπερασματικά, το machine learning απαιτεί πολλούς πειραματισμούς με διαφόρων είδων μοντέλα κα τεχνικές προκειμένου να προσδιορίσουμε τι ακριβώς ταιριάζει στο δικό μας πρόβλημα και σε ικανοποιητικό χρόνο εκτέλεσης.Αντιπροσωπευτικό παράδειγμα αποτελεί η δική μας υλοποίηση του MLP όπου πετυχαίνει accuracy 91%, όμως με βελτιστοποιήσεις μπορεί να πετύχει παραπάνω από 97%.Συνεπώς ακόμα και αν ένα μοντέλο φαίνεται να μην ταιριάζει στο πρόβλημα, πολλές φορές παραλλαγές πάνω σε αυτό το μοντέλο ή hyperparameter tuning μπορούν να επιφέρουν τα επιθυμητά αποτελέσματα. "
      ]
    }
  ]
}