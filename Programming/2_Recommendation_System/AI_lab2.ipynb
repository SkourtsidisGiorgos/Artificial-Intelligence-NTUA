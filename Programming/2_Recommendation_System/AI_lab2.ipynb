{
  "nbformat": 4,
  "nbformat_minor": 0,
  "metadata": {
    "kernelspec": {
      "display_name": "Python 3",
      "language": "python",
      "name": "python3"
    },
    "language_info": {
      "codemirror_mode": {
        "name": "ipython",
        "version": 3
      },
      "file_extension": ".py",
      "mimetype": "text/x-python",
      "name": "python",
      "nbconvert_exporter": "python",
      "pygments_lexer": "ipython3",
      "version": "3.7.6"
    },
    "colab": {
      "name": "TN_lab2_03114307_03116057.ipynb",
      "provenance": [],
      "collapsed_sections": [],
      "toc_visible": true
    },
    "widgets": {
      "application/vnd.jupyter.widget-state+json": {
        "2148c1b0eb194263bda5e72d5b71f45f": {
          "model_module": "@jupyter-widgets/controls",
          "model_name": "HBoxModel",
          "state": {
            "_view_name": "HBoxView",
            "_dom_classes": [],
            "_model_name": "HBoxModel",
            "_view_module": "@jupyter-widgets/controls",
            "_model_module_version": "1.5.0",
            "_view_count": null,
            "_view_module_version": "1.5.0",
            "box_style": "",
            "layout": "IPY_MODEL_6b2f7643c72d4db3bc4ed31d122e667f",
            "_model_module": "@jupyter-widgets/controls",
            "children": [
              "IPY_MODEL_443b1a598db840549ecd936ccbcf2fbc",
              "IPY_MODEL_98d22efde952422bb2b869ce7812a239"
            ]
          }
        },
        "6b2f7643c72d4db3bc4ed31d122e667f": {
          "model_module": "@jupyter-widgets/base",
          "model_name": "LayoutModel",
          "state": {
            "_view_name": "LayoutView",
            "grid_template_rows": null,
            "right": null,
            "justify_content": null,
            "_view_module": "@jupyter-widgets/base",
            "overflow": null,
            "_model_module_version": "1.2.0",
            "_view_count": null,
            "flex_flow": null,
            "width": null,
            "min_width": null,
            "border": null,
            "align_items": null,
            "bottom": null,
            "_model_module": "@jupyter-widgets/base",
            "top": null,
            "grid_column": null,
            "overflow_y": null,
            "overflow_x": null,
            "grid_auto_flow": null,
            "grid_area": null,
            "grid_template_columns": null,
            "flex": null,
            "_model_name": "LayoutModel",
            "justify_items": null,
            "grid_row": null,
            "max_height": null,
            "align_content": null,
            "visibility": null,
            "align_self": null,
            "height": null,
            "min_height": null,
            "padding": null,
            "grid_auto_rows": null,
            "grid_gap": null,
            "max_width": null,
            "order": null,
            "_view_module_version": "1.2.0",
            "grid_template_areas": null,
            "object_position": null,
            "object_fit": null,
            "grid_auto_columns": null,
            "margin": null,
            "display": null,
            "left": null
          }
        },
        "443b1a598db840549ecd936ccbcf2fbc": {
          "model_module": "@jupyter-widgets/controls",
          "model_name": "FloatProgressModel",
          "state": {
            "_view_name": "ProgressView",
            "style": "IPY_MODEL_f4a166c650ae4e068f797f9462f1b51a",
            "_dom_classes": [],
            "description": "",
            "_model_name": "FloatProgressModel",
            "bar_style": "success",
            "max": 1,
            "_view_module": "@jupyter-widgets/controls",
            "_model_module_version": "1.5.0",
            "value": 1,
            "_view_count": null,
            "_view_module_version": "1.5.0",
            "orientation": "horizontal",
            "min": 0,
            "description_tooltip": null,
            "_model_module": "@jupyter-widgets/controls",
            "layout": "IPY_MODEL_c3e8fe46bfd34f6fb01f94654e82874e"
          }
        },
        "98d22efde952422bb2b869ce7812a239": {
          "model_module": "@jupyter-widgets/controls",
          "model_name": "HTMLModel",
          "state": {
            "_view_name": "HTMLView",
            "style": "IPY_MODEL_22aac15059354bb899df2a243621db43",
            "_dom_classes": [],
            "description": "",
            "_model_name": "HTMLModel",
            "placeholder": "​",
            "_view_module": "@jupyter-widgets/controls",
            "_model_module_version": "1.5.0",
            "value": " 10/? [00:02&lt;00:00,  3.80it/s]",
            "_view_count": null,
            "_view_module_version": "1.5.0",
            "description_tooltip": null,
            "_model_module": "@jupyter-widgets/controls",
            "layout": "IPY_MODEL_03cda00eecaf4fe8a6bd50a862fc8f4b"
          }
        },
        "f4a166c650ae4e068f797f9462f1b51a": {
          "model_module": "@jupyter-widgets/controls",
          "model_name": "ProgressStyleModel",
          "state": {
            "_view_name": "StyleView",
            "_model_name": "ProgressStyleModel",
            "description_width": "initial",
            "_view_module": "@jupyter-widgets/base",
            "_model_module_version": "1.5.0",
            "_view_count": null,
            "_view_module_version": "1.2.0",
            "bar_color": null,
            "_model_module": "@jupyter-widgets/controls"
          }
        },
        "c3e8fe46bfd34f6fb01f94654e82874e": {
          "model_module": "@jupyter-widgets/base",
          "model_name": "LayoutModel",
          "state": {
            "_view_name": "LayoutView",
            "grid_template_rows": null,
            "right": null,
            "justify_content": null,
            "_view_module": "@jupyter-widgets/base",
            "overflow": null,
            "_model_module_version": "1.2.0",
            "_view_count": null,
            "flex_flow": null,
            "width": null,
            "min_width": null,
            "border": null,
            "align_items": null,
            "bottom": null,
            "_model_module": "@jupyter-widgets/base",
            "top": null,
            "grid_column": null,
            "overflow_y": null,
            "overflow_x": null,
            "grid_auto_flow": null,
            "grid_area": null,
            "grid_template_columns": null,
            "flex": null,
            "_model_name": "LayoutModel",
            "justify_items": null,
            "grid_row": null,
            "max_height": null,
            "align_content": null,
            "visibility": null,
            "align_self": null,
            "height": null,
            "min_height": null,
            "padding": null,
            "grid_auto_rows": null,
            "grid_gap": null,
            "max_width": null,
            "order": null,
            "_view_module_version": "1.2.0",
            "grid_template_areas": null,
            "object_position": null,
            "object_fit": null,
            "grid_auto_columns": null,
            "margin": null,
            "display": null,
            "left": null
          }
        },
        "22aac15059354bb899df2a243621db43": {
          "model_module": "@jupyter-widgets/controls",
          "model_name": "DescriptionStyleModel",
          "state": {
            "_view_name": "StyleView",
            "_model_name": "DescriptionStyleModel",
            "description_width": "",
            "_view_module": "@jupyter-widgets/base",
            "_model_module_version": "1.5.0",
            "_view_count": null,
            "_view_module_version": "1.2.0",
            "_model_module": "@jupyter-widgets/controls"
          }
        },
        "03cda00eecaf4fe8a6bd50a862fc8f4b": {
          "model_module": "@jupyter-widgets/base",
          "model_name": "LayoutModel",
          "state": {
            "_view_name": "LayoutView",
            "grid_template_rows": null,
            "right": null,
            "justify_content": null,
            "_view_module": "@jupyter-widgets/base",
            "overflow": null,
            "_model_module_version": "1.2.0",
            "_view_count": null,
            "flex_flow": null,
            "width": null,
            "min_width": null,
            "border": null,
            "align_items": null,
            "bottom": null,
            "_model_module": "@jupyter-widgets/base",
            "top": null,
            "grid_column": null,
            "overflow_y": null,
            "overflow_x": null,
            "grid_auto_flow": null,
            "grid_area": null,
            "grid_template_columns": null,
            "flex": null,
            "_model_name": "LayoutModel",
            "justify_items": null,
            "grid_row": null,
            "max_height": null,
            "align_content": null,
            "visibility": null,
            "align_self": null,
            "height": null,
            "min_height": null,
            "padding": null,
            "grid_auto_rows": null,
            "grid_gap": null,
            "max_width": null,
            "order": null,
            "_view_module_version": "1.2.0",
            "grid_template_areas": null,
            "object_position": null,
            "object_fit": null,
            "grid_auto_columns": null,
            "margin": null,
            "display": null,
            "left": null
          }
        },
        "f59945f04d5f46a2945e625c314fc46e": {
          "model_module": "@jupyter-widgets/controls",
          "model_name": "HBoxModel",
          "state": {
            "_view_name": "HBoxView",
            "_dom_classes": [],
            "_model_name": "HBoxModel",
            "_view_module": "@jupyter-widgets/controls",
            "_model_module_version": "1.5.0",
            "_view_count": null,
            "_view_module_version": "1.5.0",
            "box_style": "",
            "layout": "IPY_MODEL_8c57c31a3db0444689f8cdd170d4ad2e",
            "_model_module": "@jupyter-widgets/controls",
            "children": [
              "IPY_MODEL_6774fe8b96cf41188a62527bb0e7802b",
              "IPY_MODEL_950782ef5d654717b5279b5656a14584"
            ]
          }
        },
        "8c57c31a3db0444689f8cdd170d4ad2e": {
          "model_module": "@jupyter-widgets/base",
          "model_name": "LayoutModel",
          "state": {
            "_view_name": "LayoutView",
            "grid_template_rows": null,
            "right": null,
            "justify_content": null,
            "_view_module": "@jupyter-widgets/base",
            "overflow": null,
            "_model_module_version": "1.2.0",
            "_view_count": null,
            "flex_flow": null,
            "width": null,
            "min_width": null,
            "border": null,
            "align_items": null,
            "bottom": null,
            "_model_module": "@jupyter-widgets/base",
            "top": null,
            "grid_column": null,
            "overflow_y": null,
            "overflow_x": null,
            "grid_auto_flow": null,
            "grid_area": null,
            "grid_template_columns": null,
            "flex": null,
            "_model_name": "LayoutModel",
            "justify_items": null,
            "grid_row": null,
            "max_height": null,
            "align_content": null,
            "visibility": null,
            "align_self": null,
            "height": null,
            "min_height": null,
            "padding": null,
            "grid_auto_rows": null,
            "grid_gap": null,
            "max_width": null,
            "order": null,
            "_view_module_version": "1.2.0",
            "grid_template_areas": null,
            "object_position": null,
            "object_fit": null,
            "grid_auto_columns": null,
            "margin": null,
            "display": null,
            "left": null
          }
        },
        "6774fe8b96cf41188a62527bb0e7802b": {
          "model_module": "@jupyter-widgets/controls",
          "model_name": "FloatProgressModel",
          "state": {
            "_view_name": "ProgressView",
            "style": "IPY_MODEL_f6774c7ea453491cabd312fc9948cdd9",
            "_dom_classes": [],
            "description": "",
            "_model_name": "FloatProgressModel",
            "bar_style": "success",
            "max": 1,
            "_view_module": "@jupyter-widgets/controls",
            "_model_module_version": "1.5.0",
            "value": 1,
            "_view_count": null,
            "_view_module_version": "1.5.0",
            "orientation": "horizontal",
            "min": 0,
            "description_tooltip": null,
            "_model_module": "@jupyter-widgets/controls",
            "layout": "IPY_MODEL_b3b8c4ac87d648cb9ff98031d2ff8d9d"
          }
        },
        "950782ef5d654717b5279b5656a14584": {
          "model_module": "@jupyter-widgets/controls",
          "model_name": "HTMLModel",
          "state": {
            "_view_name": "HTMLView",
            "style": "IPY_MODEL_bbc6f84a3c1345c2b1e160f8f13d3723",
            "_dom_classes": [],
            "description": "",
            "_model_name": "HTMLModel",
            "placeholder": "​",
            "_view_module": "@jupyter-widgets/controls",
            "_model_module_version": "1.5.0",
            "value": " 10/? [00:03&lt;00:00,  3.00it/s]",
            "_view_count": null,
            "_view_module_version": "1.5.0",
            "description_tooltip": null,
            "_model_module": "@jupyter-widgets/controls",
            "layout": "IPY_MODEL_6703f7eee4f246a8b5bc81381435c629"
          }
        },
        "f6774c7ea453491cabd312fc9948cdd9": {
          "model_module": "@jupyter-widgets/controls",
          "model_name": "ProgressStyleModel",
          "state": {
            "_view_name": "StyleView",
            "_model_name": "ProgressStyleModel",
            "description_width": "initial",
            "_view_module": "@jupyter-widgets/base",
            "_model_module_version": "1.5.0",
            "_view_count": null,
            "_view_module_version": "1.2.0",
            "bar_color": null,
            "_model_module": "@jupyter-widgets/controls"
          }
        },
        "b3b8c4ac87d648cb9ff98031d2ff8d9d": {
          "model_module": "@jupyter-widgets/base",
          "model_name": "LayoutModel",
          "state": {
            "_view_name": "LayoutView",
            "grid_template_rows": null,
            "right": null,
            "justify_content": null,
            "_view_module": "@jupyter-widgets/base",
            "overflow": null,
            "_model_module_version": "1.2.0",
            "_view_count": null,
            "flex_flow": null,
            "width": null,
            "min_width": null,
            "border": null,
            "align_items": null,
            "bottom": null,
            "_model_module": "@jupyter-widgets/base",
            "top": null,
            "grid_column": null,
            "overflow_y": null,
            "overflow_x": null,
            "grid_auto_flow": null,
            "grid_area": null,
            "grid_template_columns": null,
            "flex": null,
            "_model_name": "LayoutModel",
            "justify_items": null,
            "grid_row": null,
            "max_height": null,
            "align_content": null,
            "visibility": null,
            "align_self": null,
            "height": null,
            "min_height": null,
            "padding": null,
            "grid_auto_rows": null,
            "grid_gap": null,
            "max_width": null,
            "order": null,
            "_view_module_version": "1.2.0",
            "grid_template_areas": null,
            "object_position": null,
            "object_fit": null,
            "grid_auto_columns": null,
            "margin": null,
            "display": null,
            "left": null
          }
        },
        "bbc6f84a3c1345c2b1e160f8f13d3723": {
          "model_module": "@jupyter-widgets/controls",
          "model_name": "DescriptionStyleModel",
          "state": {
            "_view_name": "StyleView",
            "_model_name": "DescriptionStyleModel",
            "description_width": "",
            "_view_module": "@jupyter-widgets/base",
            "_model_module_version": "1.5.0",
            "_view_count": null,
            "_view_module_version": "1.2.0",
            "_model_module": "@jupyter-widgets/controls"
          }
        },
        "6703f7eee4f246a8b5bc81381435c629": {
          "model_module": "@jupyter-widgets/base",
          "model_name": "LayoutModel",
          "state": {
            "_view_name": "LayoutView",
            "grid_template_rows": null,
            "right": null,
            "justify_content": null,
            "_view_module": "@jupyter-widgets/base",
            "overflow": null,
            "_model_module_version": "1.2.0",
            "_view_count": null,
            "flex_flow": null,
            "width": null,
            "min_width": null,
            "border": null,
            "align_items": null,
            "bottom": null,
            "_model_module": "@jupyter-widgets/base",
            "top": null,
            "grid_column": null,
            "overflow_y": null,
            "overflow_x": null,
            "grid_auto_flow": null,
            "grid_area": null,
            "grid_template_columns": null,
            "flex": null,
            "_model_name": "LayoutModel",
            "justify_items": null,
            "grid_row": null,
            "max_height": null,
            "align_content": null,
            "visibility": null,
            "align_self": null,
            "height": null,
            "min_height": null,
            "padding": null,
            "grid_auto_rows": null,
            "grid_gap": null,
            "max_width": null,
            "order": null,
            "_view_module_version": "1.2.0",
            "grid_template_areas": null,
            "object_position": null,
            "object_fit": null,
            "grid_auto_columns": null,
            "margin": null,
            "display": null,
            "left": null
          }
        },
        "17ce11d7a5df441791ff6496cdd77822": {
          "model_module": "@jupyter-widgets/controls",
          "model_name": "HBoxModel",
          "state": {
            "_view_name": "HBoxView",
            "_dom_classes": [],
            "_model_name": "HBoxModel",
            "_view_module": "@jupyter-widgets/controls",
            "_model_module_version": "1.5.0",
            "_view_count": null,
            "_view_module_version": "1.5.0",
            "box_style": "",
            "layout": "IPY_MODEL_49420b278c7f48d788a8bf6a9463c005",
            "_model_module": "@jupyter-widgets/controls",
            "children": [
              "IPY_MODEL_d4290e65ebf14e9bbf841550301fc050",
              "IPY_MODEL_461dc714ba9a481fbf3835d3e484e389"
            ]
          }
        },
        "49420b278c7f48d788a8bf6a9463c005": {
          "model_module": "@jupyter-widgets/base",
          "model_name": "LayoutModel",
          "state": {
            "_view_name": "LayoutView",
            "grid_template_rows": null,
            "right": null,
            "justify_content": null,
            "_view_module": "@jupyter-widgets/base",
            "overflow": null,
            "_model_module_version": "1.2.0",
            "_view_count": null,
            "flex_flow": null,
            "width": null,
            "min_width": null,
            "border": null,
            "align_items": null,
            "bottom": null,
            "_model_module": "@jupyter-widgets/base",
            "top": null,
            "grid_column": null,
            "overflow_y": null,
            "overflow_x": null,
            "grid_auto_flow": null,
            "grid_area": null,
            "grid_template_columns": null,
            "flex": null,
            "_model_name": "LayoutModel",
            "justify_items": null,
            "grid_row": null,
            "max_height": null,
            "align_content": null,
            "visibility": null,
            "align_self": null,
            "height": null,
            "min_height": null,
            "padding": null,
            "grid_auto_rows": null,
            "grid_gap": null,
            "max_width": null,
            "order": null,
            "_view_module_version": "1.2.0",
            "grid_template_areas": null,
            "object_position": null,
            "object_fit": null,
            "grid_auto_columns": null,
            "margin": null,
            "display": null,
            "left": null
          }
        },
        "d4290e65ebf14e9bbf841550301fc050": {
          "model_module": "@jupyter-widgets/controls",
          "model_name": "FloatProgressModel",
          "state": {
            "_view_name": "ProgressView",
            "style": "IPY_MODEL_198fe71625a14356b9005d641b49d53b",
            "_dom_classes": [],
            "description": "",
            "_model_name": "FloatProgressModel",
            "bar_style": "success",
            "max": 1,
            "_view_module": "@jupyter-widgets/controls",
            "_model_module_version": "1.5.0",
            "value": 1,
            "_view_count": null,
            "_view_module_version": "1.5.0",
            "orientation": "horizontal",
            "min": 0,
            "description_tooltip": null,
            "_model_module": "@jupyter-widgets/controls",
            "layout": "IPY_MODEL_f1b7335e79ef49eabf390e77f3d401a1"
          }
        },
        "461dc714ba9a481fbf3835d3e484e389": {
          "model_module": "@jupyter-widgets/controls",
          "model_name": "HTMLModel",
          "state": {
            "_view_name": "HTMLView",
            "style": "IPY_MODEL_f48ffd69e8e14b52bdec045b3490232a",
            "_dom_classes": [],
            "description": "",
            "_model_name": "HTMLModel",
            "placeholder": "​",
            "_view_module": "@jupyter-widgets/controls",
            "_model_module_version": "1.5.0",
            "value": " 10/? [00:04&lt;00:00,  2.09it/s]",
            "_view_count": null,
            "_view_module_version": "1.5.0",
            "description_tooltip": null,
            "_model_module": "@jupyter-widgets/controls",
            "layout": "IPY_MODEL_1691ecee6e7e42f1bbec3ce6f46f8e09"
          }
        },
        "198fe71625a14356b9005d641b49d53b": {
          "model_module": "@jupyter-widgets/controls",
          "model_name": "ProgressStyleModel",
          "state": {
            "_view_name": "StyleView",
            "_model_name": "ProgressStyleModel",
            "description_width": "initial",
            "_view_module": "@jupyter-widgets/base",
            "_model_module_version": "1.5.0",
            "_view_count": null,
            "_view_module_version": "1.2.0",
            "bar_color": null,
            "_model_module": "@jupyter-widgets/controls"
          }
        },
        "f1b7335e79ef49eabf390e77f3d401a1": {
          "model_module": "@jupyter-widgets/base",
          "model_name": "LayoutModel",
          "state": {
            "_view_name": "LayoutView",
            "grid_template_rows": null,
            "right": null,
            "justify_content": null,
            "_view_module": "@jupyter-widgets/base",
            "overflow": null,
            "_model_module_version": "1.2.0",
            "_view_count": null,
            "flex_flow": null,
            "width": null,
            "min_width": null,
            "border": null,
            "align_items": null,
            "bottom": null,
            "_model_module": "@jupyter-widgets/base",
            "top": null,
            "grid_column": null,
            "overflow_y": null,
            "overflow_x": null,
            "grid_auto_flow": null,
            "grid_area": null,
            "grid_template_columns": null,
            "flex": null,
            "_model_name": "LayoutModel",
            "justify_items": null,
            "grid_row": null,
            "max_height": null,
            "align_content": null,
            "visibility": null,
            "align_self": null,
            "height": null,
            "min_height": null,
            "padding": null,
            "grid_auto_rows": null,
            "grid_gap": null,
            "max_width": null,
            "order": null,
            "_view_module_version": "1.2.0",
            "grid_template_areas": null,
            "object_position": null,
            "object_fit": null,
            "grid_auto_columns": null,
            "margin": null,
            "display": null,
            "left": null
          }
        },
        "f48ffd69e8e14b52bdec045b3490232a": {
          "model_module": "@jupyter-widgets/controls",
          "model_name": "DescriptionStyleModel",
          "state": {
            "_view_name": "StyleView",
            "_model_name": "DescriptionStyleModel",
            "description_width": "",
            "_view_module": "@jupyter-widgets/base",
            "_model_module_version": "1.5.0",
            "_view_count": null,
            "_view_module_version": "1.2.0",
            "_model_module": "@jupyter-widgets/controls"
          }
        },
        "1691ecee6e7e42f1bbec3ce6f46f8e09": {
          "model_module": "@jupyter-widgets/base",
          "model_name": "LayoutModel",
          "state": {
            "_view_name": "LayoutView",
            "grid_template_rows": null,
            "right": null,
            "justify_content": null,
            "_view_module": "@jupyter-widgets/base",
            "overflow": null,
            "_model_module_version": "1.2.0",
            "_view_count": null,
            "flex_flow": null,
            "width": null,
            "min_width": null,
            "border": null,
            "align_items": null,
            "bottom": null,
            "_model_module": "@jupyter-widgets/base",
            "top": null,
            "grid_column": null,
            "overflow_y": null,
            "overflow_x": null,
            "grid_auto_flow": null,
            "grid_area": null,
            "grid_template_columns": null,
            "flex": null,
            "_model_name": "LayoutModel",
            "justify_items": null,
            "grid_row": null,
            "max_height": null,
            "align_content": null,
            "visibility": null,
            "align_self": null,
            "height": null,
            "min_height": null,
            "padding": null,
            "grid_auto_rows": null,
            "grid_gap": null,
            "max_width": null,
            "order": null,
            "_view_module_version": "1.2.0",
            "grid_template_areas": null,
            "object_position": null,
            "object_fit": null,
            "grid_auto_columns": null,
            "margin": null,
            "display": null,
            "left": null
          }
        },
        "c0a6a04eecbc4f97b9e1088d72052521": {
          "model_module": "@jupyter-widgets/controls",
          "model_name": "HBoxModel",
          "state": {
            "_view_name": "HBoxView",
            "_dom_classes": [],
            "_model_name": "HBoxModel",
            "_view_module": "@jupyter-widgets/controls",
            "_model_module_version": "1.5.0",
            "_view_count": null,
            "_view_module_version": "1.5.0",
            "box_style": "",
            "layout": "IPY_MODEL_e262f16e04c44707933f34b03b0cd057",
            "_model_module": "@jupyter-widgets/controls",
            "children": [
              "IPY_MODEL_60c99a3ad75b44b39d722298d7387bd4",
              "IPY_MODEL_05a50a499dc04d038f4f68e8f0369143"
            ]
          }
        },
        "e262f16e04c44707933f34b03b0cd057": {
          "model_module": "@jupyter-widgets/base",
          "model_name": "LayoutModel",
          "state": {
            "_view_name": "LayoutView",
            "grid_template_rows": null,
            "right": null,
            "justify_content": null,
            "_view_module": "@jupyter-widgets/base",
            "overflow": null,
            "_model_module_version": "1.2.0",
            "_view_count": null,
            "flex_flow": null,
            "width": null,
            "min_width": null,
            "border": null,
            "align_items": null,
            "bottom": null,
            "_model_module": "@jupyter-widgets/base",
            "top": null,
            "grid_column": null,
            "overflow_y": null,
            "overflow_x": null,
            "grid_auto_flow": null,
            "grid_area": null,
            "grid_template_columns": null,
            "flex": null,
            "_model_name": "LayoutModel",
            "justify_items": null,
            "grid_row": null,
            "max_height": null,
            "align_content": null,
            "visibility": null,
            "align_self": null,
            "height": null,
            "min_height": null,
            "padding": null,
            "grid_auto_rows": null,
            "grid_gap": null,
            "max_width": null,
            "order": null,
            "_view_module_version": "1.2.0",
            "grid_template_areas": null,
            "object_position": null,
            "object_fit": null,
            "grid_auto_columns": null,
            "margin": null,
            "display": null,
            "left": null
          }
        },
        "60c99a3ad75b44b39d722298d7387bd4": {
          "model_module": "@jupyter-widgets/controls",
          "model_name": "FloatProgressModel",
          "state": {
            "_view_name": "ProgressView",
            "style": "IPY_MODEL_e909a6ba9a20445d9d68ab28ea129dd6",
            "_dom_classes": [],
            "description": "",
            "_model_name": "FloatProgressModel",
            "bar_style": "success",
            "max": 1,
            "_view_module": "@jupyter-widgets/controls",
            "_model_module_version": "1.5.0",
            "value": 1,
            "_view_count": null,
            "_view_module_version": "1.5.0",
            "orientation": "horizontal",
            "min": 0,
            "description_tooltip": null,
            "_model_module": "@jupyter-widgets/controls",
            "layout": "IPY_MODEL_ad4f33bf5b1c4beca1783efe838b713e"
          }
        },
        "05a50a499dc04d038f4f68e8f0369143": {
          "model_module": "@jupyter-widgets/controls",
          "model_name": "HTMLModel",
          "state": {
            "_view_name": "HTMLView",
            "style": "IPY_MODEL_784ba9e5940a49f8923bb9c48ebc4c39",
            "_dom_classes": [],
            "description": "",
            "_model_name": "HTMLModel",
            "placeholder": "​",
            "_view_module": "@jupyter-widgets/controls",
            "_model_module_version": "1.5.0",
            "value": " 10/? [00:02&lt;00:00,  4.13it/s]",
            "_view_count": null,
            "_view_module_version": "1.5.0",
            "description_tooltip": null,
            "_model_module": "@jupyter-widgets/controls",
            "layout": "IPY_MODEL_64162edfb51f41ce93aee05094227413"
          }
        },
        "e909a6ba9a20445d9d68ab28ea129dd6": {
          "model_module": "@jupyter-widgets/controls",
          "model_name": "ProgressStyleModel",
          "state": {
            "_view_name": "StyleView",
            "_model_name": "ProgressStyleModel",
            "description_width": "initial",
            "_view_module": "@jupyter-widgets/base",
            "_model_module_version": "1.5.0",
            "_view_count": null,
            "_view_module_version": "1.2.0",
            "bar_color": null,
            "_model_module": "@jupyter-widgets/controls"
          }
        },
        "ad4f33bf5b1c4beca1783efe838b713e": {
          "model_module": "@jupyter-widgets/base",
          "model_name": "LayoutModel",
          "state": {
            "_view_name": "LayoutView",
            "grid_template_rows": null,
            "right": null,
            "justify_content": null,
            "_view_module": "@jupyter-widgets/base",
            "overflow": null,
            "_model_module_version": "1.2.0",
            "_view_count": null,
            "flex_flow": null,
            "width": null,
            "min_width": null,
            "border": null,
            "align_items": null,
            "bottom": null,
            "_model_module": "@jupyter-widgets/base",
            "top": null,
            "grid_column": null,
            "overflow_y": null,
            "overflow_x": null,
            "grid_auto_flow": null,
            "grid_area": null,
            "grid_template_columns": null,
            "flex": null,
            "_model_name": "LayoutModel",
            "justify_items": null,
            "grid_row": null,
            "max_height": null,
            "align_content": null,
            "visibility": null,
            "align_self": null,
            "height": null,
            "min_height": null,
            "padding": null,
            "grid_auto_rows": null,
            "grid_gap": null,
            "max_width": null,
            "order": null,
            "_view_module_version": "1.2.0",
            "grid_template_areas": null,
            "object_position": null,
            "object_fit": null,
            "grid_auto_columns": null,
            "margin": null,
            "display": null,
            "left": null
          }
        },
        "784ba9e5940a49f8923bb9c48ebc4c39": {
          "model_module": "@jupyter-widgets/controls",
          "model_name": "DescriptionStyleModel",
          "state": {
            "_view_name": "StyleView",
            "_model_name": "DescriptionStyleModel",
            "description_width": "",
            "_view_module": "@jupyter-widgets/base",
            "_model_module_version": "1.5.0",
            "_view_count": null,
            "_view_module_version": "1.2.0",
            "_model_module": "@jupyter-widgets/controls"
          }
        },
        "64162edfb51f41ce93aee05094227413": {
          "model_module": "@jupyter-widgets/base",
          "model_name": "LayoutModel",
          "state": {
            "_view_name": "LayoutView",
            "grid_template_rows": null,
            "right": null,
            "justify_content": null,
            "_view_module": "@jupyter-widgets/base",
            "overflow": null,
            "_model_module_version": "1.2.0",
            "_view_count": null,
            "flex_flow": null,
            "width": null,
            "min_width": null,
            "border": null,
            "align_items": null,
            "bottom": null,
            "_model_module": "@jupyter-widgets/base",
            "top": null,
            "grid_column": null,
            "overflow_y": null,
            "overflow_x": null,
            "grid_auto_flow": null,
            "grid_area": null,
            "grid_template_columns": null,
            "flex": null,
            "_model_name": "LayoutModel",
            "justify_items": null,
            "grid_row": null,
            "max_height": null,
            "align_content": null,
            "visibility": null,
            "align_self": null,
            "height": null,
            "min_height": null,
            "padding": null,
            "grid_auto_rows": null,
            "grid_gap": null,
            "max_width": null,
            "order": null,
            "_view_module_version": "1.2.0",
            "grid_template_areas": null,
            "object_position": null,
            "object_fit": null,
            "grid_auto_columns": null,
            "margin": null,
            "display": null,
            "left": null
          }
        },
        "662bce02f09d448eb4301ba44adf1385": {
          "model_module": "@jupyter-widgets/controls",
          "model_name": "HBoxModel",
          "state": {
            "_view_name": "HBoxView",
            "_dom_classes": [],
            "_model_name": "HBoxModel",
            "_view_module": "@jupyter-widgets/controls",
            "_model_module_version": "1.5.0",
            "_view_count": null,
            "_view_module_version": "1.5.0",
            "box_style": "",
            "layout": "IPY_MODEL_e9b31ef105544e1eb1313709512ac707",
            "_model_module": "@jupyter-widgets/controls",
            "children": [
              "IPY_MODEL_77dbaccc80c84c7c845018547d11a62a",
              "IPY_MODEL_2a0e02b7e7834415876a6b915d0f0297"
            ]
          }
        },
        "e9b31ef105544e1eb1313709512ac707": {
          "model_module": "@jupyter-widgets/base",
          "model_name": "LayoutModel",
          "state": {
            "_view_name": "LayoutView",
            "grid_template_rows": null,
            "right": null,
            "justify_content": null,
            "_view_module": "@jupyter-widgets/base",
            "overflow": null,
            "_model_module_version": "1.2.0",
            "_view_count": null,
            "flex_flow": null,
            "width": null,
            "min_width": null,
            "border": null,
            "align_items": null,
            "bottom": null,
            "_model_module": "@jupyter-widgets/base",
            "top": null,
            "grid_column": null,
            "overflow_y": null,
            "overflow_x": null,
            "grid_auto_flow": null,
            "grid_area": null,
            "grid_template_columns": null,
            "flex": null,
            "_model_name": "LayoutModel",
            "justify_items": null,
            "grid_row": null,
            "max_height": null,
            "align_content": null,
            "visibility": null,
            "align_self": null,
            "height": null,
            "min_height": null,
            "padding": null,
            "grid_auto_rows": null,
            "grid_gap": null,
            "max_width": null,
            "order": null,
            "_view_module_version": "1.2.0",
            "grid_template_areas": null,
            "object_position": null,
            "object_fit": null,
            "grid_auto_columns": null,
            "margin": null,
            "display": null,
            "left": null
          }
        },
        "77dbaccc80c84c7c845018547d11a62a": {
          "model_module": "@jupyter-widgets/controls",
          "model_name": "FloatProgressModel",
          "state": {
            "_view_name": "ProgressView",
            "style": "IPY_MODEL_0e9bce852dea4d5f9cbbe31e7e47ab5d",
            "_dom_classes": [],
            "description": "",
            "_model_name": "FloatProgressModel",
            "bar_style": "success",
            "max": 1,
            "_view_module": "@jupyter-widgets/controls",
            "_model_module_version": "1.5.0",
            "value": 1,
            "_view_count": null,
            "_view_module_version": "1.5.0",
            "orientation": "horizontal",
            "min": 0,
            "description_tooltip": null,
            "_model_module": "@jupyter-widgets/controls",
            "layout": "IPY_MODEL_723d9f35d4cc499a81dd58910e38d2e6"
          }
        },
        "2a0e02b7e7834415876a6b915d0f0297": {
          "model_module": "@jupyter-widgets/controls",
          "model_name": "HTMLModel",
          "state": {
            "_view_name": "HTMLView",
            "style": "IPY_MODEL_2a322e696dbd4c49a2e8e87898a73d5f",
            "_dom_classes": [],
            "description": "",
            "_model_name": "HTMLModel",
            "placeholder": "​",
            "_view_module": "@jupyter-widgets/controls",
            "_model_module_version": "1.5.0",
            "value": " 10/? [00:01&lt;00:00,  6.19it/s]",
            "_view_count": null,
            "_view_module_version": "1.5.0",
            "description_tooltip": null,
            "_model_module": "@jupyter-widgets/controls",
            "layout": "IPY_MODEL_9ae28585409e4e8aa85e4f1aa70a6a5d"
          }
        },
        "0e9bce852dea4d5f9cbbe31e7e47ab5d": {
          "model_module": "@jupyter-widgets/controls",
          "model_name": "ProgressStyleModel",
          "state": {
            "_view_name": "StyleView",
            "_model_name": "ProgressStyleModel",
            "description_width": "initial",
            "_view_module": "@jupyter-widgets/base",
            "_model_module_version": "1.5.0",
            "_view_count": null,
            "_view_module_version": "1.2.0",
            "bar_color": null,
            "_model_module": "@jupyter-widgets/controls"
          }
        },
        "723d9f35d4cc499a81dd58910e38d2e6": {
          "model_module": "@jupyter-widgets/base",
          "model_name": "LayoutModel",
          "state": {
            "_view_name": "LayoutView",
            "grid_template_rows": null,
            "right": null,
            "justify_content": null,
            "_view_module": "@jupyter-widgets/base",
            "overflow": null,
            "_model_module_version": "1.2.0",
            "_view_count": null,
            "flex_flow": null,
            "width": null,
            "min_width": null,
            "border": null,
            "align_items": null,
            "bottom": null,
            "_model_module": "@jupyter-widgets/base",
            "top": null,
            "grid_column": null,
            "overflow_y": null,
            "overflow_x": null,
            "grid_auto_flow": null,
            "grid_area": null,
            "grid_template_columns": null,
            "flex": null,
            "_model_name": "LayoutModel",
            "justify_items": null,
            "grid_row": null,
            "max_height": null,
            "align_content": null,
            "visibility": null,
            "align_self": null,
            "height": null,
            "min_height": null,
            "padding": null,
            "grid_auto_rows": null,
            "grid_gap": null,
            "max_width": null,
            "order": null,
            "_view_module_version": "1.2.0",
            "grid_template_areas": null,
            "object_position": null,
            "object_fit": null,
            "grid_auto_columns": null,
            "margin": null,
            "display": null,
            "left": null
          }
        },
        "2a322e696dbd4c49a2e8e87898a73d5f": {
          "model_module": "@jupyter-widgets/controls",
          "model_name": "DescriptionStyleModel",
          "state": {
            "_view_name": "StyleView",
            "_model_name": "DescriptionStyleModel",
            "description_width": "",
            "_view_module": "@jupyter-widgets/base",
            "_model_module_version": "1.5.0",
            "_view_count": null,
            "_view_module_version": "1.2.0",
            "_model_module": "@jupyter-widgets/controls"
          }
        },
        "9ae28585409e4e8aa85e4f1aa70a6a5d": {
          "model_module": "@jupyter-widgets/base",
          "model_name": "LayoutModel",
          "state": {
            "_view_name": "LayoutView",
            "grid_template_rows": null,
            "right": null,
            "justify_content": null,
            "_view_module": "@jupyter-widgets/base",
            "overflow": null,
            "_model_module_version": "1.2.0",
            "_view_count": null,
            "flex_flow": null,
            "width": null,
            "min_width": null,
            "border": null,
            "align_items": null,
            "bottom": null,
            "_model_module": "@jupyter-widgets/base",
            "top": null,
            "grid_column": null,
            "overflow_y": null,
            "overflow_x": null,
            "grid_auto_flow": null,
            "grid_area": null,
            "grid_template_columns": null,
            "flex": null,
            "_model_name": "LayoutModel",
            "justify_items": null,
            "grid_row": null,
            "max_height": null,
            "align_content": null,
            "visibility": null,
            "align_self": null,
            "height": null,
            "min_height": null,
            "padding": null,
            "grid_auto_rows": null,
            "grid_gap": null,
            "max_width": null,
            "order": null,
            "_view_module_version": "1.2.0",
            "grid_template_areas": null,
            "object_position": null,
            "object_fit": null,
            "grid_auto_columns": null,
            "margin": null,
            "display": null,
            "left": null
          }
        },
        "314ac337a5f74201ae88fefd374875ca": {
          "model_module": "@jupyter-widgets/controls",
          "model_name": "HBoxModel",
          "state": {
            "_view_name": "HBoxView",
            "_dom_classes": [],
            "_model_name": "HBoxModel",
            "_view_module": "@jupyter-widgets/controls",
            "_model_module_version": "1.5.0",
            "_view_count": null,
            "_view_module_version": "1.5.0",
            "box_style": "",
            "layout": "IPY_MODEL_644dd45302c64c5d88925c5c7449d808",
            "_model_module": "@jupyter-widgets/controls",
            "children": [
              "IPY_MODEL_0081f3387a794f0986a4bd40a938e347",
              "IPY_MODEL_8419a67229ad446a966363fed6f44ef5"
            ]
          }
        },
        "644dd45302c64c5d88925c5c7449d808": {
          "model_module": "@jupyter-widgets/base",
          "model_name": "LayoutModel",
          "state": {
            "_view_name": "LayoutView",
            "grid_template_rows": null,
            "right": null,
            "justify_content": null,
            "_view_module": "@jupyter-widgets/base",
            "overflow": null,
            "_model_module_version": "1.2.0",
            "_view_count": null,
            "flex_flow": null,
            "width": null,
            "min_width": null,
            "border": null,
            "align_items": null,
            "bottom": null,
            "_model_module": "@jupyter-widgets/base",
            "top": null,
            "grid_column": null,
            "overflow_y": null,
            "overflow_x": null,
            "grid_auto_flow": null,
            "grid_area": null,
            "grid_template_columns": null,
            "flex": null,
            "_model_name": "LayoutModel",
            "justify_items": null,
            "grid_row": null,
            "max_height": null,
            "align_content": null,
            "visibility": null,
            "align_self": null,
            "height": null,
            "min_height": null,
            "padding": null,
            "grid_auto_rows": null,
            "grid_gap": null,
            "max_width": null,
            "order": null,
            "_view_module_version": "1.2.0",
            "grid_template_areas": null,
            "object_position": null,
            "object_fit": null,
            "grid_auto_columns": null,
            "margin": null,
            "display": null,
            "left": null
          }
        },
        "0081f3387a794f0986a4bd40a938e347": {
          "model_module": "@jupyter-widgets/controls",
          "model_name": "FloatProgressModel",
          "state": {
            "_view_name": "ProgressView",
            "style": "IPY_MODEL_87d91158d18f405e8cf5e4d74513b7ac",
            "_dom_classes": [],
            "description": "",
            "_model_name": "FloatProgressModel",
            "bar_style": "success",
            "max": 1,
            "_view_module": "@jupyter-widgets/controls",
            "_model_module_version": "1.5.0",
            "value": 1,
            "_view_count": null,
            "_view_module_version": "1.5.0",
            "orientation": "horizontal",
            "min": 0,
            "description_tooltip": null,
            "_model_module": "@jupyter-widgets/controls",
            "layout": "IPY_MODEL_70f17599eece42a1a37cb0b338ee269b"
          }
        },
        "8419a67229ad446a966363fed6f44ef5": {
          "model_module": "@jupyter-widgets/controls",
          "model_name": "HTMLModel",
          "state": {
            "_view_name": "HTMLView",
            "style": "IPY_MODEL_5cde77b6c80849c0b3e471ce1f6af022",
            "_dom_classes": [],
            "description": "",
            "_model_name": "HTMLModel",
            "placeholder": "​",
            "_view_module": "@jupyter-widgets/controls",
            "_model_module_version": "1.5.0",
            "value": " 10/? [00:02&lt;00:00,  4.68it/s]",
            "_view_count": null,
            "_view_module_version": "1.5.0",
            "description_tooltip": null,
            "_model_module": "@jupyter-widgets/controls",
            "layout": "IPY_MODEL_034a7f0e408e40ff82a6b23cb125774f"
          }
        },
        "87d91158d18f405e8cf5e4d74513b7ac": {
          "model_module": "@jupyter-widgets/controls",
          "model_name": "ProgressStyleModel",
          "state": {
            "_view_name": "StyleView",
            "_model_name": "ProgressStyleModel",
            "description_width": "initial",
            "_view_module": "@jupyter-widgets/base",
            "_model_module_version": "1.5.0",
            "_view_count": null,
            "_view_module_version": "1.2.0",
            "bar_color": null,
            "_model_module": "@jupyter-widgets/controls"
          }
        },
        "70f17599eece42a1a37cb0b338ee269b": {
          "model_module": "@jupyter-widgets/base",
          "model_name": "LayoutModel",
          "state": {
            "_view_name": "LayoutView",
            "grid_template_rows": null,
            "right": null,
            "justify_content": null,
            "_view_module": "@jupyter-widgets/base",
            "overflow": null,
            "_model_module_version": "1.2.0",
            "_view_count": null,
            "flex_flow": null,
            "width": null,
            "min_width": null,
            "border": null,
            "align_items": null,
            "bottom": null,
            "_model_module": "@jupyter-widgets/base",
            "top": null,
            "grid_column": null,
            "overflow_y": null,
            "overflow_x": null,
            "grid_auto_flow": null,
            "grid_area": null,
            "grid_template_columns": null,
            "flex": null,
            "_model_name": "LayoutModel",
            "justify_items": null,
            "grid_row": null,
            "max_height": null,
            "align_content": null,
            "visibility": null,
            "align_self": null,
            "height": null,
            "min_height": null,
            "padding": null,
            "grid_auto_rows": null,
            "grid_gap": null,
            "max_width": null,
            "order": null,
            "_view_module_version": "1.2.0",
            "grid_template_areas": null,
            "object_position": null,
            "object_fit": null,
            "grid_auto_columns": null,
            "margin": null,
            "display": null,
            "left": null
          }
        },
        "5cde77b6c80849c0b3e471ce1f6af022": {
          "model_module": "@jupyter-widgets/controls",
          "model_name": "DescriptionStyleModel",
          "state": {
            "_view_name": "StyleView",
            "_model_name": "DescriptionStyleModel",
            "description_width": "",
            "_view_module": "@jupyter-widgets/base",
            "_model_module_version": "1.5.0",
            "_view_count": null,
            "_view_module_version": "1.2.0",
            "_model_module": "@jupyter-widgets/controls"
          }
        },
        "034a7f0e408e40ff82a6b23cb125774f": {
          "model_module": "@jupyter-widgets/base",
          "model_name": "LayoutModel",
          "state": {
            "_view_name": "LayoutView",
            "grid_template_rows": null,
            "right": null,
            "justify_content": null,
            "_view_module": "@jupyter-widgets/base",
            "overflow": null,
            "_model_module_version": "1.2.0",
            "_view_count": null,
            "flex_flow": null,
            "width": null,
            "min_width": null,
            "border": null,
            "align_items": null,
            "bottom": null,
            "_model_module": "@jupyter-widgets/base",
            "top": null,
            "grid_column": null,
            "overflow_y": null,
            "overflow_x": null,
            "grid_auto_flow": null,
            "grid_area": null,
            "grid_template_columns": null,
            "flex": null,
            "_model_name": "LayoutModel",
            "justify_items": null,
            "grid_row": null,
            "max_height": null,
            "align_content": null,
            "visibility": null,
            "align_self": null,
            "height": null,
            "min_height": null,
            "padding": null,
            "grid_auto_rows": null,
            "grid_gap": null,
            "max_width": null,
            "order": null,
            "_view_module_version": "1.2.0",
            "grid_template_areas": null,
            "object_position": null,
            "object_fit": null,
            "grid_auto_columns": null,
            "margin": null,
            "display": null,
            "left": null
          }
        },
        "2b0ca5126dab436eb704b6a4d893862e": {
          "model_module": "@jupyter-widgets/controls",
          "model_name": "HBoxModel",
          "state": {
            "_view_name": "HBoxView",
            "_dom_classes": [],
            "_model_name": "HBoxModel",
            "_view_module": "@jupyter-widgets/controls",
            "_model_module_version": "1.5.0",
            "_view_count": null,
            "_view_module_version": "1.5.0",
            "box_style": "",
            "layout": "IPY_MODEL_87cde21fabd14096b817ee56c768a08e",
            "_model_module": "@jupyter-widgets/controls",
            "children": [
              "IPY_MODEL_ed0e7d19906b4299b732405f42061e21",
              "IPY_MODEL_8bd6db0d47064a7e83c2bc35c47a1703"
            ]
          }
        },
        "87cde21fabd14096b817ee56c768a08e": {
          "model_module": "@jupyter-widgets/base",
          "model_name": "LayoutModel",
          "state": {
            "_view_name": "LayoutView",
            "grid_template_rows": null,
            "right": null,
            "justify_content": null,
            "_view_module": "@jupyter-widgets/base",
            "overflow": null,
            "_model_module_version": "1.2.0",
            "_view_count": null,
            "flex_flow": null,
            "width": null,
            "min_width": null,
            "border": null,
            "align_items": null,
            "bottom": null,
            "_model_module": "@jupyter-widgets/base",
            "top": null,
            "grid_column": null,
            "overflow_y": null,
            "overflow_x": null,
            "grid_auto_flow": null,
            "grid_area": null,
            "grid_template_columns": null,
            "flex": null,
            "_model_name": "LayoutModel",
            "justify_items": null,
            "grid_row": null,
            "max_height": null,
            "align_content": null,
            "visibility": null,
            "align_self": null,
            "height": null,
            "min_height": null,
            "padding": null,
            "grid_auto_rows": null,
            "grid_gap": null,
            "max_width": null,
            "order": null,
            "_view_module_version": "1.2.0",
            "grid_template_areas": null,
            "object_position": null,
            "object_fit": null,
            "grid_auto_columns": null,
            "margin": null,
            "display": null,
            "left": null
          }
        },
        "ed0e7d19906b4299b732405f42061e21": {
          "model_module": "@jupyter-widgets/controls",
          "model_name": "FloatProgressModel",
          "state": {
            "_view_name": "ProgressView",
            "style": "IPY_MODEL_46dc43ae82e2466188683fc92d32fb27",
            "_dom_classes": [],
            "description": "",
            "_model_name": "FloatProgressModel",
            "bar_style": "success",
            "max": 1,
            "_view_module": "@jupyter-widgets/controls",
            "_model_module_version": "1.5.0",
            "value": 1,
            "_view_count": null,
            "_view_module_version": "1.5.0",
            "orientation": "horizontal",
            "min": 0,
            "description_tooltip": null,
            "_model_module": "@jupyter-widgets/controls",
            "layout": "IPY_MODEL_f7930afd597345a0a917f4f70e052eaa"
          }
        },
        "8bd6db0d47064a7e83c2bc35c47a1703": {
          "model_module": "@jupyter-widgets/controls",
          "model_name": "HTMLModel",
          "state": {
            "_view_name": "HTMLView",
            "style": "IPY_MODEL_e30eaf1461484ad687ad05eaa7d406b6",
            "_dom_classes": [],
            "description": "",
            "_model_name": "HTMLModel",
            "placeholder": "​",
            "_view_module": "@jupyter-widgets/controls",
            "_model_module_version": "1.5.0",
            "value": " 9/? [00:01&lt;00:00,  5.89it/s]",
            "_view_count": null,
            "_view_module_version": "1.5.0",
            "description_tooltip": null,
            "_model_module": "@jupyter-widgets/controls",
            "layout": "IPY_MODEL_8f9a3dbb23d44a24b0e35fb894264c75"
          }
        },
        "46dc43ae82e2466188683fc92d32fb27": {
          "model_module": "@jupyter-widgets/controls",
          "model_name": "ProgressStyleModel",
          "state": {
            "_view_name": "StyleView",
            "_model_name": "ProgressStyleModel",
            "description_width": "initial",
            "_view_module": "@jupyter-widgets/base",
            "_model_module_version": "1.5.0",
            "_view_count": null,
            "_view_module_version": "1.2.0",
            "bar_color": null,
            "_model_module": "@jupyter-widgets/controls"
          }
        },
        "f7930afd597345a0a917f4f70e052eaa": {
          "model_module": "@jupyter-widgets/base",
          "model_name": "LayoutModel",
          "state": {
            "_view_name": "LayoutView",
            "grid_template_rows": null,
            "right": null,
            "justify_content": null,
            "_view_module": "@jupyter-widgets/base",
            "overflow": null,
            "_model_module_version": "1.2.0",
            "_view_count": null,
            "flex_flow": null,
            "width": null,
            "min_width": null,
            "border": null,
            "align_items": null,
            "bottom": null,
            "_model_module": "@jupyter-widgets/base",
            "top": null,
            "grid_column": null,
            "overflow_y": null,
            "overflow_x": null,
            "grid_auto_flow": null,
            "grid_area": null,
            "grid_template_columns": null,
            "flex": null,
            "_model_name": "LayoutModel",
            "justify_items": null,
            "grid_row": null,
            "max_height": null,
            "align_content": null,
            "visibility": null,
            "align_self": null,
            "height": null,
            "min_height": null,
            "padding": null,
            "grid_auto_rows": null,
            "grid_gap": null,
            "max_width": null,
            "order": null,
            "_view_module_version": "1.2.0",
            "grid_template_areas": null,
            "object_position": null,
            "object_fit": null,
            "grid_auto_columns": null,
            "margin": null,
            "display": null,
            "left": null
          }
        },
        "e30eaf1461484ad687ad05eaa7d406b6": {
          "model_module": "@jupyter-widgets/controls",
          "model_name": "DescriptionStyleModel",
          "state": {
            "_view_name": "StyleView",
            "_model_name": "DescriptionStyleModel",
            "description_width": "",
            "_view_module": "@jupyter-widgets/base",
            "_model_module_version": "1.5.0",
            "_view_count": null,
            "_view_module_version": "1.2.0",
            "_model_module": "@jupyter-widgets/controls"
          }
        },
        "8f9a3dbb23d44a24b0e35fb894264c75": {
          "model_module": "@jupyter-widgets/base",
          "model_name": "LayoutModel",
          "state": {
            "_view_name": "LayoutView",
            "grid_template_rows": null,
            "right": null,
            "justify_content": null,
            "_view_module": "@jupyter-widgets/base",
            "overflow": null,
            "_model_module_version": "1.2.0",
            "_view_count": null,
            "flex_flow": null,
            "width": null,
            "min_width": null,
            "border": null,
            "align_items": null,
            "bottom": null,
            "_model_module": "@jupyter-widgets/base",
            "top": null,
            "grid_column": null,
            "overflow_y": null,
            "overflow_x": null,
            "grid_auto_flow": null,
            "grid_area": null,
            "grid_template_columns": null,
            "flex": null,
            "_model_name": "LayoutModel",
            "justify_items": null,
            "grid_row": null,
            "max_height": null,
            "align_content": null,
            "visibility": null,
            "align_self": null,
            "height": null,
            "min_height": null,
            "padding": null,
            "grid_auto_rows": null,
            "grid_gap": null,
            "max_width": null,
            "order": null,
            "_view_module_version": "1.2.0",
            "grid_template_areas": null,
            "object_position": null,
            "object_fit": null,
            "grid_auto_columns": null,
            "margin": null,
            "display": null,
            "left": null
          }
        },
        "5511f62ffbcb45e58d072072b38b90e6": {
          "model_module": "@jupyter-widgets/controls",
          "model_name": "HBoxModel",
          "state": {
            "_view_name": "HBoxView",
            "_dom_classes": [],
            "_model_name": "HBoxModel",
            "_view_module": "@jupyter-widgets/controls",
            "_model_module_version": "1.5.0",
            "_view_count": null,
            "_view_module_version": "1.5.0",
            "box_style": "",
            "layout": "IPY_MODEL_8ed2eb4562994e85ae5a29d669f433b3",
            "_model_module": "@jupyter-widgets/controls",
            "children": [
              "IPY_MODEL_1f5baf46331841f59a8064f344e666e4",
              "IPY_MODEL_d748901c7f33482e9ea578b274601dcb"
            ]
          }
        },
        "8ed2eb4562994e85ae5a29d669f433b3": {
          "model_module": "@jupyter-widgets/base",
          "model_name": "LayoutModel",
          "state": {
            "_view_name": "LayoutView",
            "grid_template_rows": null,
            "right": null,
            "justify_content": null,
            "_view_module": "@jupyter-widgets/base",
            "overflow": null,
            "_model_module_version": "1.2.0",
            "_view_count": null,
            "flex_flow": null,
            "width": null,
            "min_width": null,
            "border": null,
            "align_items": null,
            "bottom": null,
            "_model_module": "@jupyter-widgets/base",
            "top": null,
            "grid_column": null,
            "overflow_y": null,
            "overflow_x": null,
            "grid_auto_flow": null,
            "grid_area": null,
            "grid_template_columns": null,
            "flex": null,
            "_model_name": "LayoutModel",
            "justify_items": null,
            "grid_row": null,
            "max_height": null,
            "align_content": null,
            "visibility": null,
            "align_self": null,
            "height": null,
            "min_height": null,
            "padding": null,
            "grid_auto_rows": null,
            "grid_gap": null,
            "max_width": null,
            "order": null,
            "_view_module_version": "1.2.0",
            "grid_template_areas": null,
            "object_position": null,
            "object_fit": null,
            "grid_auto_columns": null,
            "margin": null,
            "display": null,
            "left": null
          }
        },
        "1f5baf46331841f59a8064f344e666e4": {
          "model_module": "@jupyter-widgets/controls",
          "model_name": "FloatProgressModel",
          "state": {
            "_view_name": "ProgressView",
            "style": "IPY_MODEL_feab2b243e7d4972848bede8a9b47563",
            "_dom_classes": [],
            "description": "",
            "_model_name": "FloatProgressModel",
            "bar_style": "success",
            "max": 1,
            "_view_module": "@jupyter-widgets/controls",
            "_model_module_version": "1.5.0",
            "value": 1,
            "_view_count": null,
            "_view_module_version": "1.5.0",
            "orientation": "horizontal",
            "min": 0,
            "description_tooltip": null,
            "_model_module": "@jupyter-widgets/controls",
            "layout": "IPY_MODEL_dc31db5551db4fbca99f645ab03e1801"
          }
        },
        "d748901c7f33482e9ea578b274601dcb": {
          "model_module": "@jupyter-widgets/controls",
          "model_name": "HTMLModel",
          "state": {
            "_view_name": "HTMLView",
            "style": "IPY_MODEL_cba26d8d48e94977a8160fa82d995802",
            "_dom_classes": [],
            "description": "",
            "_model_name": "HTMLModel",
            "placeholder": "​",
            "_view_module": "@jupyter-widgets/controls",
            "_model_module_version": "1.5.0",
            "value": " 10/? [00:07&lt;00:00,  1.25it/s]",
            "_view_count": null,
            "_view_module_version": "1.5.0",
            "description_tooltip": null,
            "_model_module": "@jupyter-widgets/controls",
            "layout": "IPY_MODEL_17fb94c5853e45fb81bbde57bcebf437"
          }
        },
        "feab2b243e7d4972848bede8a9b47563": {
          "model_module": "@jupyter-widgets/controls",
          "model_name": "ProgressStyleModel",
          "state": {
            "_view_name": "StyleView",
            "_model_name": "ProgressStyleModel",
            "description_width": "initial",
            "_view_module": "@jupyter-widgets/base",
            "_model_module_version": "1.5.0",
            "_view_count": null,
            "_view_module_version": "1.2.0",
            "bar_color": null,
            "_model_module": "@jupyter-widgets/controls"
          }
        },
        "dc31db5551db4fbca99f645ab03e1801": {
          "model_module": "@jupyter-widgets/base",
          "model_name": "LayoutModel",
          "state": {
            "_view_name": "LayoutView",
            "grid_template_rows": null,
            "right": null,
            "justify_content": null,
            "_view_module": "@jupyter-widgets/base",
            "overflow": null,
            "_model_module_version": "1.2.0",
            "_view_count": null,
            "flex_flow": null,
            "width": null,
            "min_width": null,
            "border": null,
            "align_items": null,
            "bottom": null,
            "_model_module": "@jupyter-widgets/base",
            "top": null,
            "grid_column": null,
            "overflow_y": null,
            "overflow_x": null,
            "grid_auto_flow": null,
            "grid_area": null,
            "grid_template_columns": null,
            "flex": null,
            "_model_name": "LayoutModel",
            "justify_items": null,
            "grid_row": null,
            "max_height": null,
            "align_content": null,
            "visibility": null,
            "align_self": null,
            "height": null,
            "min_height": null,
            "padding": null,
            "grid_auto_rows": null,
            "grid_gap": null,
            "max_width": null,
            "order": null,
            "_view_module_version": "1.2.0",
            "grid_template_areas": null,
            "object_position": null,
            "object_fit": null,
            "grid_auto_columns": null,
            "margin": null,
            "display": null,
            "left": null
          }
        },
        "cba26d8d48e94977a8160fa82d995802": {
          "model_module": "@jupyter-widgets/controls",
          "model_name": "DescriptionStyleModel",
          "state": {
            "_view_name": "StyleView",
            "_model_name": "DescriptionStyleModel",
            "description_width": "",
            "_view_module": "@jupyter-widgets/base",
            "_model_module_version": "1.5.0",
            "_view_count": null,
            "_view_module_version": "1.2.0",
            "_model_module": "@jupyter-widgets/controls"
          }
        },
        "17fb94c5853e45fb81bbde57bcebf437": {
          "model_module": "@jupyter-widgets/base",
          "model_name": "LayoutModel",
          "state": {
            "_view_name": "LayoutView",
            "grid_template_rows": null,
            "right": null,
            "justify_content": null,
            "_view_module": "@jupyter-widgets/base",
            "overflow": null,
            "_model_module_version": "1.2.0",
            "_view_count": null,
            "flex_flow": null,
            "width": null,
            "min_width": null,
            "border": null,
            "align_items": null,
            "bottom": null,
            "_model_module": "@jupyter-widgets/base",
            "top": null,
            "grid_column": null,
            "overflow_y": null,
            "overflow_x": null,
            "grid_auto_flow": null,
            "grid_area": null,
            "grid_template_columns": null,
            "flex": null,
            "_model_name": "LayoutModel",
            "justify_items": null,
            "grid_row": null,
            "max_height": null,
            "align_content": null,
            "visibility": null,
            "align_self": null,
            "height": null,
            "min_height": null,
            "padding": null,
            "grid_auto_rows": null,
            "grid_gap": null,
            "max_width": null,
            "order": null,
            "_view_module_version": "1.2.0",
            "grid_template_areas": null,
            "object_position": null,
            "object_fit": null,
            "grid_auto_columns": null,
            "margin": null,
            "display": null,
            "left": null
          }
        },
        "9c6a3ce7fbc24694b3fd7055d975c7d4": {
          "model_module": "@jupyter-widgets/controls",
          "model_name": "HBoxModel",
          "state": {
            "_view_name": "HBoxView",
            "_dom_classes": [],
            "_model_name": "HBoxModel",
            "_view_module": "@jupyter-widgets/controls",
            "_model_module_version": "1.5.0",
            "_view_count": null,
            "_view_module_version": "1.5.0",
            "box_style": "",
            "layout": "IPY_MODEL_1959ad10858d42f0a74ea7e59e4675d0",
            "_model_module": "@jupyter-widgets/controls",
            "children": [
              "IPY_MODEL_6f5434e2b9f04215814da17445cbfdf4",
              "IPY_MODEL_d8d74c22b204421fa4e0d5e0ed083dd6"
            ]
          }
        },
        "1959ad10858d42f0a74ea7e59e4675d0": {
          "model_module": "@jupyter-widgets/base",
          "model_name": "LayoutModel",
          "state": {
            "_view_name": "LayoutView",
            "grid_template_rows": null,
            "right": null,
            "justify_content": null,
            "_view_module": "@jupyter-widgets/base",
            "overflow": null,
            "_model_module_version": "1.2.0",
            "_view_count": null,
            "flex_flow": null,
            "width": null,
            "min_width": null,
            "border": null,
            "align_items": null,
            "bottom": null,
            "_model_module": "@jupyter-widgets/base",
            "top": null,
            "grid_column": null,
            "overflow_y": null,
            "overflow_x": null,
            "grid_auto_flow": null,
            "grid_area": null,
            "grid_template_columns": null,
            "flex": null,
            "_model_name": "LayoutModel",
            "justify_items": null,
            "grid_row": null,
            "max_height": null,
            "align_content": null,
            "visibility": null,
            "align_self": null,
            "height": null,
            "min_height": null,
            "padding": null,
            "grid_auto_rows": null,
            "grid_gap": null,
            "max_width": null,
            "order": null,
            "_view_module_version": "1.2.0",
            "grid_template_areas": null,
            "object_position": null,
            "object_fit": null,
            "grid_auto_columns": null,
            "margin": null,
            "display": null,
            "left": null
          }
        },
        "6f5434e2b9f04215814da17445cbfdf4": {
          "model_module": "@jupyter-widgets/controls",
          "model_name": "FloatProgressModel",
          "state": {
            "_view_name": "ProgressView",
            "style": "IPY_MODEL_aa44ec2bfc874311be191e40d62cd578",
            "_dom_classes": [],
            "description": "",
            "_model_name": "FloatProgressModel",
            "bar_style": "success",
            "max": 1,
            "_view_module": "@jupyter-widgets/controls",
            "_model_module_version": "1.5.0",
            "value": 1,
            "_view_count": null,
            "_view_module_version": "1.5.0",
            "orientation": "horizontal",
            "min": 0,
            "description_tooltip": null,
            "_model_module": "@jupyter-widgets/controls",
            "layout": "IPY_MODEL_49d2da5741c3471aa3ac327703847a17"
          }
        },
        "d8d74c22b204421fa4e0d5e0ed083dd6": {
          "model_module": "@jupyter-widgets/controls",
          "model_name": "HTMLModel",
          "state": {
            "_view_name": "HTMLView",
            "style": "IPY_MODEL_dc032d37b4124435820a28a6b93e031d",
            "_dom_classes": [],
            "description": "",
            "_model_name": "HTMLModel",
            "placeholder": "​",
            "_view_module": "@jupyter-widgets/controls",
            "_model_module_version": "1.5.0",
            "value": " 10/? [00:02&lt;00:00,  4.44it/s]",
            "_view_count": null,
            "_view_module_version": "1.5.0",
            "description_tooltip": null,
            "_model_module": "@jupyter-widgets/controls",
            "layout": "IPY_MODEL_897db59a88b94f9cb694ef91d8061469"
          }
        },
        "aa44ec2bfc874311be191e40d62cd578": {
          "model_module": "@jupyter-widgets/controls",
          "model_name": "ProgressStyleModel",
          "state": {
            "_view_name": "StyleView",
            "_model_name": "ProgressStyleModel",
            "description_width": "initial",
            "_view_module": "@jupyter-widgets/base",
            "_model_module_version": "1.5.0",
            "_view_count": null,
            "_view_module_version": "1.2.0",
            "bar_color": null,
            "_model_module": "@jupyter-widgets/controls"
          }
        },
        "49d2da5741c3471aa3ac327703847a17": {
          "model_module": "@jupyter-widgets/base",
          "model_name": "LayoutModel",
          "state": {
            "_view_name": "LayoutView",
            "grid_template_rows": null,
            "right": null,
            "justify_content": null,
            "_view_module": "@jupyter-widgets/base",
            "overflow": null,
            "_model_module_version": "1.2.0",
            "_view_count": null,
            "flex_flow": null,
            "width": null,
            "min_width": null,
            "border": null,
            "align_items": null,
            "bottom": null,
            "_model_module": "@jupyter-widgets/base",
            "top": null,
            "grid_column": null,
            "overflow_y": null,
            "overflow_x": null,
            "grid_auto_flow": null,
            "grid_area": null,
            "grid_template_columns": null,
            "flex": null,
            "_model_name": "LayoutModel",
            "justify_items": null,
            "grid_row": null,
            "max_height": null,
            "align_content": null,
            "visibility": null,
            "align_self": null,
            "height": null,
            "min_height": null,
            "padding": null,
            "grid_auto_rows": null,
            "grid_gap": null,
            "max_width": null,
            "order": null,
            "_view_module_version": "1.2.0",
            "grid_template_areas": null,
            "object_position": null,
            "object_fit": null,
            "grid_auto_columns": null,
            "margin": null,
            "display": null,
            "left": null
          }
        },
        "dc032d37b4124435820a28a6b93e031d": {
          "model_module": "@jupyter-widgets/controls",
          "model_name": "DescriptionStyleModel",
          "state": {
            "_view_name": "StyleView",
            "_model_name": "DescriptionStyleModel",
            "description_width": "",
            "_view_module": "@jupyter-widgets/base",
            "_model_module_version": "1.5.0",
            "_view_count": null,
            "_view_module_version": "1.2.0",
            "_model_module": "@jupyter-widgets/controls"
          }
        },
        "897db59a88b94f9cb694ef91d8061469": {
          "model_module": "@jupyter-widgets/base",
          "model_name": "LayoutModel",
          "state": {
            "_view_name": "LayoutView",
            "grid_template_rows": null,
            "right": null,
            "justify_content": null,
            "_view_module": "@jupyter-widgets/base",
            "overflow": null,
            "_model_module_version": "1.2.0",
            "_view_count": null,
            "flex_flow": null,
            "width": null,
            "min_width": null,
            "border": null,
            "align_items": null,
            "bottom": null,
            "_model_module": "@jupyter-widgets/base",
            "top": null,
            "grid_column": null,
            "overflow_y": null,
            "overflow_x": null,
            "grid_auto_flow": null,
            "grid_area": null,
            "grid_template_columns": null,
            "flex": null,
            "_model_name": "LayoutModel",
            "justify_items": null,
            "grid_row": null,
            "max_height": null,
            "align_content": null,
            "visibility": null,
            "align_self": null,
            "height": null,
            "min_height": null,
            "padding": null,
            "grid_auto_rows": null,
            "grid_gap": null,
            "max_width": null,
            "order": null,
            "_view_module_version": "1.2.0",
            "grid_template_areas": null,
            "object_position": null,
            "object_fit": null,
            "grid_auto_columns": null,
            "margin": null,
            "display": null,
            "left": null
          }
        },
        "ee08ddbd0f2849518c9fa76d08c0fb2d": {
          "model_module": "@jupyter-widgets/controls",
          "model_name": "HBoxModel",
          "state": {
            "_view_name": "HBoxView",
            "_dom_classes": [],
            "_model_name": "HBoxModel",
            "_view_module": "@jupyter-widgets/controls",
            "_model_module_version": "1.5.0",
            "_view_count": null,
            "_view_module_version": "1.5.0",
            "box_style": "",
            "layout": "IPY_MODEL_d8b81ff4cde2417ba398a2cb39ea4c8f",
            "_model_module": "@jupyter-widgets/controls",
            "children": [
              "IPY_MODEL_4c84701cba094671b41655449229169a",
              "IPY_MODEL_521a060b8f814c26babb6b20df310765"
            ]
          }
        },
        "d8b81ff4cde2417ba398a2cb39ea4c8f": {
          "model_module": "@jupyter-widgets/base",
          "model_name": "LayoutModel",
          "state": {
            "_view_name": "LayoutView",
            "grid_template_rows": null,
            "right": null,
            "justify_content": null,
            "_view_module": "@jupyter-widgets/base",
            "overflow": null,
            "_model_module_version": "1.2.0",
            "_view_count": null,
            "flex_flow": null,
            "width": null,
            "min_width": null,
            "border": null,
            "align_items": null,
            "bottom": null,
            "_model_module": "@jupyter-widgets/base",
            "top": null,
            "grid_column": null,
            "overflow_y": null,
            "overflow_x": null,
            "grid_auto_flow": null,
            "grid_area": null,
            "grid_template_columns": null,
            "flex": null,
            "_model_name": "LayoutModel",
            "justify_items": null,
            "grid_row": null,
            "max_height": null,
            "align_content": null,
            "visibility": null,
            "align_self": null,
            "height": null,
            "min_height": null,
            "padding": null,
            "grid_auto_rows": null,
            "grid_gap": null,
            "max_width": null,
            "order": null,
            "_view_module_version": "1.2.0",
            "grid_template_areas": null,
            "object_position": null,
            "object_fit": null,
            "grid_auto_columns": null,
            "margin": null,
            "display": null,
            "left": null
          }
        },
        "4c84701cba094671b41655449229169a": {
          "model_module": "@jupyter-widgets/controls",
          "model_name": "FloatProgressModel",
          "state": {
            "_view_name": "ProgressView",
            "style": "IPY_MODEL_7dad7c907725481fa4db4654d8e2169d",
            "_dom_classes": [],
            "description": "",
            "_model_name": "FloatProgressModel",
            "bar_style": "success",
            "max": 1,
            "_view_module": "@jupyter-widgets/controls",
            "_model_module_version": "1.5.0",
            "value": 1,
            "_view_count": null,
            "_view_module_version": "1.5.0",
            "orientation": "horizontal",
            "min": 0,
            "description_tooltip": null,
            "_model_module": "@jupyter-widgets/controls",
            "layout": "IPY_MODEL_7dae85a1391a4db4af9848d4f2724edd"
          }
        },
        "521a060b8f814c26babb6b20df310765": {
          "model_module": "@jupyter-widgets/controls",
          "model_name": "HTMLModel",
          "state": {
            "_view_name": "HTMLView",
            "style": "IPY_MODEL_c6548bf34db342e592dd970d2d4305e3",
            "_dom_classes": [],
            "description": "",
            "_model_name": "HTMLModel",
            "placeholder": "​",
            "_view_module": "@jupyter-widgets/controls",
            "_model_module_version": "1.5.0",
            "value": " 10/? [00:02&lt;00:00,  4.20it/s]",
            "_view_count": null,
            "_view_module_version": "1.5.0",
            "description_tooltip": null,
            "_model_module": "@jupyter-widgets/controls",
            "layout": "IPY_MODEL_90e311b6b8d74fc1888a6d6f9ac4ec4e"
          }
        },
        "7dad7c907725481fa4db4654d8e2169d": {
          "model_module": "@jupyter-widgets/controls",
          "model_name": "ProgressStyleModel",
          "state": {
            "_view_name": "StyleView",
            "_model_name": "ProgressStyleModel",
            "description_width": "initial",
            "_view_module": "@jupyter-widgets/base",
            "_model_module_version": "1.5.0",
            "_view_count": null,
            "_view_module_version": "1.2.0",
            "bar_color": null,
            "_model_module": "@jupyter-widgets/controls"
          }
        },
        "7dae85a1391a4db4af9848d4f2724edd": {
          "model_module": "@jupyter-widgets/base",
          "model_name": "LayoutModel",
          "state": {
            "_view_name": "LayoutView",
            "grid_template_rows": null,
            "right": null,
            "justify_content": null,
            "_view_module": "@jupyter-widgets/base",
            "overflow": null,
            "_model_module_version": "1.2.0",
            "_view_count": null,
            "flex_flow": null,
            "width": null,
            "min_width": null,
            "border": null,
            "align_items": null,
            "bottom": null,
            "_model_module": "@jupyter-widgets/base",
            "top": null,
            "grid_column": null,
            "overflow_y": null,
            "overflow_x": null,
            "grid_auto_flow": null,
            "grid_area": null,
            "grid_template_columns": null,
            "flex": null,
            "_model_name": "LayoutModel",
            "justify_items": null,
            "grid_row": null,
            "max_height": null,
            "align_content": null,
            "visibility": null,
            "align_self": null,
            "height": null,
            "min_height": null,
            "padding": null,
            "grid_auto_rows": null,
            "grid_gap": null,
            "max_width": null,
            "order": null,
            "_view_module_version": "1.2.0",
            "grid_template_areas": null,
            "object_position": null,
            "object_fit": null,
            "grid_auto_columns": null,
            "margin": null,
            "display": null,
            "left": null
          }
        },
        "c6548bf34db342e592dd970d2d4305e3": {
          "model_module": "@jupyter-widgets/controls",
          "model_name": "DescriptionStyleModel",
          "state": {
            "_view_name": "StyleView",
            "_model_name": "DescriptionStyleModel",
            "description_width": "",
            "_view_module": "@jupyter-widgets/base",
            "_model_module_version": "1.5.0",
            "_view_count": null,
            "_view_module_version": "1.2.0",
            "_model_module": "@jupyter-widgets/controls"
          }
        },
        "90e311b6b8d74fc1888a6d6f9ac4ec4e": {
          "model_module": "@jupyter-widgets/base",
          "model_name": "LayoutModel",
          "state": {
            "_view_name": "LayoutView",
            "grid_template_rows": null,
            "right": null,
            "justify_content": null,
            "_view_module": "@jupyter-widgets/base",
            "overflow": null,
            "_model_module_version": "1.2.0",
            "_view_count": null,
            "flex_flow": null,
            "width": null,
            "min_width": null,
            "border": null,
            "align_items": null,
            "bottom": null,
            "_model_module": "@jupyter-widgets/base",
            "top": null,
            "grid_column": null,
            "overflow_y": null,
            "overflow_x": null,
            "grid_auto_flow": null,
            "grid_area": null,
            "grid_template_columns": null,
            "flex": null,
            "_model_name": "LayoutModel",
            "justify_items": null,
            "grid_row": null,
            "max_height": null,
            "align_content": null,
            "visibility": null,
            "align_self": null,
            "height": null,
            "min_height": null,
            "padding": null,
            "grid_auto_rows": null,
            "grid_gap": null,
            "max_width": null,
            "order": null,
            "_view_module_version": "1.2.0",
            "grid_template_areas": null,
            "object_position": null,
            "object_fit": null,
            "grid_auto_columns": null,
            "margin": null,
            "display": null,
            "left": null
          }
        },
        "1df09298192d43e0b04d24843efee370": {
          "model_module": "@jupyter-widgets/controls",
          "model_name": "HBoxModel",
          "state": {
            "_view_name": "HBoxView",
            "_dom_classes": [],
            "_model_name": "HBoxModel",
            "_view_module": "@jupyter-widgets/controls",
            "_model_module_version": "1.5.0",
            "_view_count": null,
            "_view_module_version": "1.5.0",
            "box_style": "",
            "layout": "IPY_MODEL_ae2f091d1b19462781757d9cc766215c",
            "_model_module": "@jupyter-widgets/controls",
            "children": [
              "IPY_MODEL_1107d96fa2664eccb36ec2c342bbe1f5",
              "IPY_MODEL_4700388ae2374cb6a05ed991dbd1e26b"
            ]
          }
        },
        "ae2f091d1b19462781757d9cc766215c": {
          "model_module": "@jupyter-widgets/base",
          "model_name": "LayoutModel",
          "state": {
            "_view_name": "LayoutView",
            "grid_template_rows": null,
            "right": null,
            "justify_content": null,
            "_view_module": "@jupyter-widgets/base",
            "overflow": null,
            "_model_module_version": "1.2.0",
            "_view_count": null,
            "flex_flow": null,
            "width": null,
            "min_width": null,
            "border": null,
            "align_items": null,
            "bottom": null,
            "_model_module": "@jupyter-widgets/base",
            "top": null,
            "grid_column": null,
            "overflow_y": null,
            "overflow_x": null,
            "grid_auto_flow": null,
            "grid_area": null,
            "grid_template_columns": null,
            "flex": null,
            "_model_name": "LayoutModel",
            "justify_items": null,
            "grid_row": null,
            "max_height": null,
            "align_content": null,
            "visibility": null,
            "align_self": null,
            "height": null,
            "min_height": null,
            "padding": null,
            "grid_auto_rows": null,
            "grid_gap": null,
            "max_width": null,
            "order": null,
            "_view_module_version": "1.2.0",
            "grid_template_areas": null,
            "object_position": null,
            "object_fit": null,
            "grid_auto_columns": null,
            "margin": null,
            "display": null,
            "left": null
          }
        },
        "1107d96fa2664eccb36ec2c342bbe1f5": {
          "model_module": "@jupyter-widgets/controls",
          "model_name": "FloatProgressModel",
          "state": {
            "_view_name": "ProgressView",
            "style": "IPY_MODEL_2ba214b3837445fc8ee0d2adf54b27c8",
            "_dom_classes": [],
            "description": "",
            "_model_name": "FloatProgressModel",
            "bar_style": "success",
            "max": 1,
            "_view_module": "@jupyter-widgets/controls",
            "_model_module_version": "1.5.0",
            "value": 1,
            "_view_count": null,
            "_view_module_version": "1.5.0",
            "orientation": "horizontal",
            "min": 0,
            "description_tooltip": null,
            "_model_module": "@jupyter-widgets/controls",
            "layout": "IPY_MODEL_80f744c495964698b9ed14e754146d3f"
          }
        },
        "4700388ae2374cb6a05ed991dbd1e26b": {
          "model_module": "@jupyter-widgets/controls",
          "model_name": "HTMLModel",
          "state": {
            "_view_name": "HTMLView",
            "style": "IPY_MODEL_d8d77fa08e874a649b264fb3c0510417",
            "_dom_classes": [],
            "description": "",
            "_model_name": "HTMLModel",
            "placeholder": "​",
            "_view_module": "@jupyter-widgets/controls",
            "_model_module_version": "1.5.0",
            "value": " 100/? [00:26&lt;00:00,  3.81it/s]",
            "_view_count": null,
            "_view_module_version": "1.5.0",
            "description_tooltip": null,
            "_model_module": "@jupyter-widgets/controls",
            "layout": "IPY_MODEL_e38abd543a29421588676bb60c9853a9"
          }
        },
        "2ba214b3837445fc8ee0d2adf54b27c8": {
          "model_module": "@jupyter-widgets/controls",
          "model_name": "ProgressStyleModel",
          "state": {
            "_view_name": "StyleView",
            "_model_name": "ProgressStyleModel",
            "description_width": "initial",
            "_view_module": "@jupyter-widgets/base",
            "_model_module_version": "1.5.0",
            "_view_count": null,
            "_view_module_version": "1.2.0",
            "bar_color": null,
            "_model_module": "@jupyter-widgets/controls"
          }
        },
        "80f744c495964698b9ed14e754146d3f": {
          "model_module": "@jupyter-widgets/base",
          "model_name": "LayoutModel",
          "state": {
            "_view_name": "LayoutView",
            "grid_template_rows": null,
            "right": null,
            "justify_content": null,
            "_view_module": "@jupyter-widgets/base",
            "overflow": null,
            "_model_module_version": "1.2.0",
            "_view_count": null,
            "flex_flow": null,
            "width": null,
            "min_width": null,
            "border": null,
            "align_items": null,
            "bottom": null,
            "_model_module": "@jupyter-widgets/base",
            "top": null,
            "grid_column": null,
            "overflow_y": null,
            "overflow_x": null,
            "grid_auto_flow": null,
            "grid_area": null,
            "grid_template_columns": null,
            "flex": null,
            "_model_name": "LayoutModel",
            "justify_items": null,
            "grid_row": null,
            "max_height": null,
            "align_content": null,
            "visibility": null,
            "align_self": null,
            "height": null,
            "min_height": null,
            "padding": null,
            "grid_auto_rows": null,
            "grid_gap": null,
            "max_width": null,
            "order": null,
            "_view_module_version": "1.2.0",
            "grid_template_areas": null,
            "object_position": null,
            "object_fit": null,
            "grid_auto_columns": null,
            "margin": null,
            "display": null,
            "left": null
          }
        },
        "d8d77fa08e874a649b264fb3c0510417": {
          "model_module": "@jupyter-widgets/controls",
          "model_name": "DescriptionStyleModel",
          "state": {
            "_view_name": "StyleView",
            "_model_name": "DescriptionStyleModel",
            "description_width": "",
            "_view_module": "@jupyter-widgets/base",
            "_model_module_version": "1.5.0",
            "_view_count": null,
            "_view_module_version": "1.2.0",
            "_model_module": "@jupyter-widgets/controls"
          }
        },
        "e38abd543a29421588676bb60c9853a9": {
          "model_module": "@jupyter-widgets/base",
          "model_name": "LayoutModel",
          "state": {
            "_view_name": "LayoutView",
            "grid_template_rows": null,
            "right": null,
            "justify_content": null,
            "_view_module": "@jupyter-widgets/base",
            "overflow": null,
            "_model_module_version": "1.2.0",
            "_view_count": null,
            "flex_flow": null,
            "width": null,
            "min_width": null,
            "border": null,
            "align_items": null,
            "bottom": null,
            "_model_module": "@jupyter-widgets/base",
            "top": null,
            "grid_column": null,
            "overflow_y": null,
            "overflow_x": null,
            "grid_auto_flow": null,
            "grid_area": null,
            "grid_template_columns": null,
            "flex": null,
            "_model_name": "LayoutModel",
            "justify_items": null,
            "grid_row": null,
            "max_height": null,
            "align_content": null,
            "visibility": null,
            "align_self": null,
            "height": null,
            "min_height": null,
            "padding": null,
            "grid_auto_rows": null,
            "grid_gap": null,
            "max_width": null,
            "order": null,
            "_view_module_version": "1.2.0",
            "grid_template_areas": null,
            "object_position": null,
            "object_fit": null,
            "grid_auto_columns": null,
            "margin": null,
            "display": null,
            "left": null
          }
        }
      }
    }
  },
  "cells": [
    {
      "cell_type": "markdown",
      "metadata": {
        "id": "jHMQWOw4F6_q"
      },
      "source": [
        "# Στοιχεία Φοιτητή\n",
        "\n",
        "Σκουρτσίδης Γεώργιος 03114307"
      ]
    },
    {
      "cell_type": "markdown",
      "metadata": {
        "id": "YNwhI6744rUa"
      },
      "source": [
        "# Τεχνητή Νοημοσύνη: Εργαστηριακή Άσκηση 2\n",
        "---\n",
        "\n",
        "Ο στόχος της εργασίας είναι η κατασκευή ενός συστήματος προτάσεων (Recommendation System) για ταινίες. Οι προτάσεις αυτές θα πηγάζουν τόσο από τα χαρακτηριστικά της ταινίας όσο και από ορισμένες αξιολογήσεις του κάθε χρήστη.\n",
        "\n",
        "Στα δεδομένα της άσκησης περιλαμβάνονται ένα αρχείο με το όνομα movies_metadata.csv το όποιο περιέχει τα χαρακτηριστικά κάθε ταινίας όπως θέμα, σκηνοθέτης ηθοποιοί, λέξεις κλειδιά κ.α. από το imdb καθώς και τα αρχεία ratings.csv τα όποια περιέχουν πραγματικές αξιολογήσεις χρηστών, χωρισμένες σε train και σε test.\n"
      ]
    },
    {
      "cell_type": "markdown",
      "metadata": {
        "id": "O0ndiHu0MRrj"
      },
      "source": [
        "---\r\n",
        "## Κατασκευή Περιβάλλοντος Εργασίας\r\n",
        "---"
      ]
    },
    {
      "cell_type": "markdown",
      "metadata": {
        "id": "LB4qThZjMYhF"
      },
      "source": [
        "### Διάβασμα Αρχείων στο Colab \r\n",
        "Αν η υλοποίηση γίνει στο google colab τότε μπορεί να χρησιμοποιηθεί το google drive ως file system. Για να γίνει Mount το google drive τρέχουμε τον παρακάτω κώδικα και κλικάρουμε στο link που θα μας εμφανιστεί. \r\n",
        "\r\n",
        "```\r\n",
        "from google.colab import drive\r\n",
        "drive.mount('/gdrive')\r\n",
        "import os\r\n",
        "os.listdir('/gdrive/My Drive')\r\n",
        "```\r\n",
        "Έπειτα στην σελίδα που άνοιξε επιλέγουμε το mail μας και στο επόμενο παράθυρο που θα μας ανοίξει πατάμε Να επιτρέπεται. Στην συνέχεια αντιγράφουμε τον κωδικό που θα μας βγάλει και τον κάνουμε paste στο Input που έχει ανοίξει στο colab. Έτσι πλέον αν έχουμε ανεβάσει ένα αρχείο στο google drive μπορούμε να το βρούμε στην θέση:\r\n",
        "\r\n",
        "```\r\n",
        "movies_filename = '/gdrive/My Drive/' + movies_metadata.csv\r\n",
        "```\r\n",
        "Μπορούμε πλέον κανονικά να δουλέψουμε φτιάχνοντας φακέλους ή αρχεία και γενικότερα κάνοντας οτιδήποτε θα κάναμε αν ήμασταν τοπικά. \r\n"
      ]
    },
    {
      "cell_type": "markdown",
      "metadata": {
        "id": "9HWH0oMY4rUb"
      },
      "source": [
        "\n",
        "\n",
        "### Prolog μέσω Python\n",
        "___\n",
        "Το πακέτο που θα χρησιμοποιηθεί για την επικοινωνία Python και Prolog είναι το pyswip (https://pypi.org/project/pyswip/). Για να δουλέψει το Pyswip  χρειάζεται να υπάρχει το Swi-Prolog το όποιο αν δουλεύουμε τοπικά πρέπει να το εγκαταστήσουμε, ακολουθώντας αντίστοιχες οδηγίες στην σελίδα του εργαλείου. Για να γίνει του Swi-Prolog η εγκατάσταση στο Google Colab πρέπει να τρέξουμε τον παρακάτω κώδικα:\n",
        "\n",
        "```\n",
        "!sudo apt-get install software-properties-common\n",
        "!sudo apt-add-repository ppa:swi-prolog/stable\n",
        "!sudo apt-get update\n",
        "!sudo apt-get install swi-prolog\n",
        "```\n",
        "Σε κάποιο σημείο της εκτέλεσης εμφανίζεται ένα μήνυμα ότι πρέπει να πατήσουμε enter σε ένα input για να συνεχίσει η διαδικασία. Έπειτα από αυτό η εκτέλεση θα συνεχίσει χωρίς κάποιο πρόβλημα.\n",
        "\n",
        "Τέλος πρέπει να εγκαταστήσουμε το pyswip (**όπου και να δουλεύουμε**) όπως παρακάτω:\n",
        "\n",
        "```\n",
        "!pip isntall pyswip\n",
        "```\n"
      ]
    },
    {
      "cell_type": "markdown",
      "metadata": {
        "id": "doHQmp994rUb"
      },
      "source": [
        "---\n",
        "#Κώδικας για κατασκευή περιβάλλοντος εργασίας\n",
        "___\n",
        "##Μόνο για Google Colab\n",
        "\n",
        "Κώδικας για να γίνει Mount to Google Drive"
      ]
    },
    {
      "cell_type": "code",
      "metadata": {
        "id": "4QOs_gnx4rUb",
        "colab": {
          "base_uri": "https://localhost:8080/"
        },
        "outputId": "88b0103a-b1a1-4d42-9a0e-ba66125ecee3"
      },
      "source": [
        "from google.colab import drive\n",
        "drive.mount('/gdrive')\n",
        "import os\n",
        "os.listdir('/gdrive/My Drive')\n",
        "path='/gdrive/My Drive/tn2/'"
      ],
      "execution_count": null,
      "outputs": [
        {
          "output_type": "stream",
          "text": [
            "Drive already mounted at /gdrive; to attempt to forcibly remount, call drive.mount(\"/gdrive\", force_remount=True).\n"
          ],
          "name": "stdout"
        }
      ]
    },
    {
      "cell_type": "code",
      "metadata": {
        "id": "xZdXjQr64rUc",
        "colab": {
          "base_uri": "https://localhost:8080/"
        },
        "outputId": "86e30114-8e19-4616-f2f8-8bb6895c44d2"
      },
      "source": [
        "# install swi-prolog\n",
        "!sudo apt-get install software-properties-common\n",
        "!sudo apt-add-repository ppa:swi-prolog/stable\n",
        "!sudo apt-get update\n",
        "!sudo apt-get install swi-prolog\n",
        "#install pyswip\n",
        "!pip install pyswip"
      ],
      "execution_count": null,
      "outputs": [
        {
          "output_type": "stream",
          "text": [
            "Reading package lists... Done\n",
            "Building dependency tree       \n",
            "Reading state information... Done\n",
            "software-properties-common is already the newest version (0.96.24.32.14).\n",
            "0 upgraded, 0 newly installed, 0 to remove and 17 not upgraded.\n",
            " Comprehensive Prolog implementation with extensive libraries and development tools.   Primarily targetted at teaching, RDF processing and web-related tasks, such as creating web services or analysing web content.\n",
            " More info: https://launchpad.net/~swi-prolog/+archive/ubuntu/stable\n",
            "Press [ENTER] to continue or Ctrl-c to cancel adding it.\n",
            "\n",
            "Get:1 http://security.ubuntu.com/ubuntu bionic-security InRelease [88.7 kB]\n",
            "Ign:2 https://developer.download.nvidia.com/compute/cuda/repos/ubuntu1804/x86_64  InRelease\n",
            "Ign:3 https://developer.download.nvidia.com/compute/machine-learning/repos/ubuntu1804/x86_64  InRelease\n",
            "Hit:4 http://ppa.launchpad.net/c2d4u.team/c2d4u4.0+/ubuntu bionic InRelease\n",
            "Hit:5 https://developer.download.nvidia.com/compute/cuda/repos/ubuntu1804/x86_64  Release\n",
            "Hit:6 https://developer.download.nvidia.com/compute/machine-learning/repos/ubuntu1804/x86_64  Release\n",
            "Hit:7 http://archive.ubuntu.com/ubuntu bionic InRelease\n",
            "Hit:8 https://cloud.r-project.org/bin/linux/ubuntu bionic-cran40/ InRelease\n",
            "Get:9 http://archive.ubuntu.com/ubuntu bionic-updates InRelease [88.7 kB]\n",
            "Hit:10 http://ppa.launchpad.net/cran/libgit2/ubuntu bionic InRelease\n",
            "Hit:13 http://ppa.launchpad.net/graphics-drivers/ppa/ubuntu bionic InRelease\n",
            "Get:14 http://archive.ubuntu.com/ubuntu bionic-backports InRelease [74.6 kB]\n",
            "Hit:15 http://ppa.launchpad.net/swi-prolog/stable/ubuntu bionic InRelease\n",
            "Fetched 252 kB in 1s (233 kB/s)\n",
            "Reading package lists... Done\n",
            "Get:1 http://security.ubuntu.com/ubuntu bionic-security InRelease [88.7 kB]\n",
            "Ign:2 https://developer.download.nvidia.com/compute/cuda/repos/ubuntu1804/x86_64  InRelease\n",
            "Hit:3 https://cloud.r-project.org/bin/linux/ubuntu bionic-cran40/ InRelease\n",
            "Ign:4 https://developer.download.nvidia.com/compute/machine-learning/repos/ubuntu1804/x86_64  InRelease\n",
            "Hit:5 http://ppa.launchpad.net/c2d4u.team/c2d4u4.0+/ubuntu bionic InRelease\n",
            "Hit:6 http://archive.ubuntu.com/ubuntu bionic InRelease\n",
            "Hit:7 https://developer.download.nvidia.com/compute/cuda/repos/ubuntu1804/x86_64  Release\n",
            "Hit:8 https://developer.download.nvidia.com/compute/machine-learning/repos/ubuntu1804/x86_64  Release\n",
            "Get:9 http://archive.ubuntu.com/ubuntu bionic-updates InRelease [88.7 kB]\n",
            "Hit:10 http://ppa.launchpad.net/cran/libgit2/ubuntu bionic InRelease\n",
            "Hit:11 http://ppa.launchpad.net/graphics-drivers/ppa/ubuntu bionic InRelease\n",
            "Get:13 http://archive.ubuntu.com/ubuntu bionic-backports InRelease [74.6 kB]\n",
            "Hit:15 http://ppa.launchpad.net/swi-prolog/stable/ubuntu bionic InRelease\n",
            "Fetched 252 kB in 1s (231 kB/s)\n",
            "Reading package lists... Done\n",
            "Reading package lists... Done\n",
            "Building dependency tree       \n",
            "Reading state information... Done\n",
            "swi-prolog is already the newest version (8.2.3-1-ge5584f06e-bionicppa2).\n",
            "0 upgraded, 0 newly installed, 0 to remove and 17 not upgraded.\n",
            "Requirement already satisfied: pyswip in /usr/local/lib/python3.6/dist-packages (0.2.10)\n"
          ],
          "name": "stdout"
        }
      ]
    },
    {
      "cell_type": "markdown",
      "metadata": {
        "id": "GxLahZ-i4rUc"
      },
      "source": [
        "# **1o Μέρος: Μελέτη των Metadata, Δημιουργία κόσμου και των βασικών queries.**\n",
        "---"
      ]
    },
    {
      "cell_type": "markdown",
      "metadata": {
        "id": "EIqSy4KULbE_"
      },
      "source": [
        "Στο μέρος 1 και 2 θα ασχοληθείτε και θα εργαστείτε μόνο με το αρχείο movies_metadata.csv."
      ]
    },
    {
      "cell_type": "code",
      "metadata": {
        "id": "gA3CRz5c4rUc"
      },
      "source": [
        "import pandas as pd\n",
        "from pyswip import Prolog"
      ],
      "execution_count": null,
      "outputs": []
    },
    {
      "cell_type": "code",
      "metadata": {
        "id": "jnVDBIDw4rUd",
        "colab": {
          "base_uri": "https://localhost:8080/",
          "height": 684
        },
        "outputId": "a86ad616-c0b9-4ce9-b02e-f834da921edf"
      },
      "source": [
        "# Η βιβλιοθήκη pandas είναι χρήσιμη για την εργασία με τέτοια δεδομένα\n",
        "import pandas as pd \n",
        "# Try to increase stack size\n",
        "Prolog.consult(path +\"increase_stack_size.pl\")\n",
        "# Διάβασμα του αρχείου 'movie_metadata.csv' \n",
        "data = pd.read_csv(path + \"movies_metadata.csv\") \n",
        "#Στο csv υπαρχούν κελία με nan τιμές\n",
        "#Στις θέσεις αυτές βάζουμε 'UNK' πράγμα που  κάνουμε με την παρακάτω συνάρτηση\n",
        "data.fillna(\"UNK\", inplace=True)\n",
        "# Preview the first 5 lines of the loaded data \n",
        "data.head()"
      ],
      "execution_count": null,
      "outputs": [
        {
          "output_type": "execute_result",
          "data": {
            "text/html": [
              "<div>\n",
              "<style scoped>\n",
              "    .dataframe tbody tr th:only-of-type {\n",
              "        vertical-align: middle;\n",
              "    }\n",
              "\n",
              "    .dataframe tbody tr th {\n",
              "        vertical-align: top;\n",
              "    }\n",
              "\n",
              "    .dataframe thead th {\n",
              "        text-align: right;\n",
              "    }\n",
              "</style>\n",
              "<table border=\"1\" class=\"dataframe\">\n",
              "  <thead>\n",
              "    <tr style=\"text-align: right;\">\n",
              "      <th></th>\n",
              "      <th>Unnamed: 0</th>\n",
              "      <th>budget</th>\n",
              "      <th>genres</th>\n",
              "      <th>homepage</th>\n",
              "      <th>id</th>\n",
              "      <th>plot_keywords</th>\n",
              "      <th>language</th>\n",
              "      <th>original_title</th>\n",
              "      <th>overview</th>\n",
              "      <th>popularity</th>\n",
              "      <th>production_companies</th>\n",
              "      <th>production_countries</th>\n",
              "      <th>release_date</th>\n",
              "      <th>gross</th>\n",
              "      <th>duration</th>\n",
              "      <th>spoken_languages</th>\n",
              "      <th>status</th>\n",
              "      <th>tagline</th>\n",
              "      <th>movie_title</th>\n",
              "      <th>vote_average</th>\n",
              "      <th>num_voted_users</th>\n",
              "      <th>title_year</th>\n",
              "      <th>country</th>\n",
              "      <th>director_name</th>\n",
              "      <th>actor_1_name</th>\n",
              "      <th>actor_2_name</th>\n",
              "      <th>actor_3_name</th>\n",
              "    </tr>\n",
              "  </thead>\n",
              "  <tbody>\n",
              "    <tr>\n",
              "      <th>0</th>\n",
              "      <td>0</td>\n",
              "      <td>237000000</td>\n",
              "      <td>Action|Adventure|Fantasy|Science Fiction</td>\n",
              "      <td>http://www.avatarmovie.com/</td>\n",
              "      <td>19995</td>\n",
              "      <td>culture clash|future|space war|space colony|so...</td>\n",
              "      <td>English</td>\n",
              "      <td>Avatar</td>\n",
              "      <td>In the 22nd century, a paraplegic Marine is di...</td>\n",
              "      <td>150.437577</td>\n",
              "      <td>[{'name': 'Ingenious Film Partners', 'id': 289...</td>\n",
              "      <td>[{'iso_3166_1': 'US', 'name': 'United States o...</td>\n",
              "      <td>2009-12-10</td>\n",
              "      <td>2787965087</td>\n",
              "      <td>162</td>\n",
              "      <td>[{'iso_639_1': 'en', 'name': 'English'}, {'iso...</td>\n",
              "      <td>Released</td>\n",
              "      <td>Enter the World of Pandora.</td>\n",
              "      <td>Avatar</td>\n",
              "      <td>7.2</td>\n",
              "      <td>11800</td>\n",
              "      <td>2009</td>\n",
              "      <td>United States of America</td>\n",
              "      <td>James Cameron</td>\n",
              "      <td>Zoe Saldana</td>\n",
              "      <td>Sigourney Weaver</td>\n",
              "      <td>Stephen Lang</td>\n",
              "    </tr>\n",
              "    <tr>\n",
              "      <th>1</th>\n",
              "      <td>1</td>\n",
              "      <td>300000000</td>\n",
              "      <td>Adventure|Fantasy|Action</td>\n",
              "      <td>http://disney.go.com/disneypictures/pirates/</td>\n",
              "      <td>285</td>\n",
              "      <td>ocean|drug abuse|exotic island|east india trad...</td>\n",
              "      <td>English</td>\n",
              "      <td>Pirates of the Caribbean: At World's End</td>\n",
              "      <td>Captain Barbossa, long believed to be dead, ha...</td>\n",
              "      <td>139.082615</td>\n",
              "      <td>[{'name': 'Walt Disney Pictures', 'id': 2}, {'...</td>\n",
              "      <td>[{'iso_3166_1': 'US', 'name': 'United States o...</td>\n",
              "      <td>2007-05-19</td>\n",
              "      <td>961000000</td>\n",
              "      <td>169</td>\n",
              "      <td>[{'iso_639_1': 'en', 'name': 'English'}]</td>\n",
              "      <td>Released</td>\n",
              "      <td>At the end of the world, the adventure begins.</td>\n",
              "      <td>Pirates of the Caribbean: At World's End</td>\n",
              "      <td>6.9</td>\n",
              "      <td>4500</td>\n",
              "      <td>2007</td>\n",
              "      <td>United States of America</td>\n",
              "      <td>Gore Verbinski</td>\n",
              "      <td>Orlando Bloom</td>\n",
              "      <td>Keira Knightley</td>\n",
              "      <td>Stellan Skarsgård</td>\n",
              "    </tr>\n",
              "    <tr>\n",
              "      <th>2</th>\n",
              "      <td>2</td>\n",
              "      <td>245000000</td>\n",
              "      <td>Action|Adventure|Crime</td>\n",
              "      <td>http://www.sonypictures.com/movies/spectre/</td>\n",
              "      <td>206647</td>\n",
              "      <td>spy|based on novel|secret agent|sequel|mi6|bri...</td>\n",
              "      <td>Français</td>\n",
              "      <td>Spectre</td>\n",
              "      <td>A cryptic message from Bond’s past sends him o...</td>\n",
              "      <td>107.376788</td>\n",
              "      <td>[{'name': 'Columbia Pictures', 'id': 5}, {'nam...</td>\n",
              "      <td>[{'iso_3166_1': 'GB', 'name': 'United Kingdom'...</td>\n",
              "      <td>2015-10-26</td>\n",
              "      <td>880674609</td>\n",
              "      <td>148</td>\n",
              "      <td>[{'iso_639_1': 'fr', 'name': 'Français'}, {'is...</td>\n",
              "      <td>Released</td>\n",
              "      <td>A Plan No One Escapes</td>\n",
              "      <td>Spectre</td>\n",
              "      <td>6.3</td>\n",
              "      <td>4466</td>\n",
              "      <td>2015</td>\n",
              "      <td>United Kingdom</td>\n",
              "      <td>Sam Mendes</td>\n",
              "      <td>Christoph Waltz</td>\n",
              "      <td>Léa Seydoux</td>\n",
              "      <td>Ralph Fiennes</td>\n",
              "    </tr>\n",
              "    <tr>\n",
              "      <th>3</th>\n",
              "      <td>3</td>\n",
              "      <td>250000000</td>\n",
              "      <td>Action|Crime|Drama|Thriller</td>\n",
              "      <td>http://www.thedarkknightrises.com/</td>\n",
              "      <td>49026</td>\n",
              "      <td>dc comics|crime fighter|terrorist|secret ident...</td>\n",
              "      <td>English</td>\n",
              "      <td>The Dark Knight Rises</td>\n",
              "      <td>Following the death of District Attorney Harve...</td>\n",
              "      <td>112.312950</td>\n",
              "      <td>[{'name': 'Legendary Pictures', 'id': 923}, {'...</td>\n",
              "      <td>[{'iso_3166_1': 'US', 'name': 'United States o...</td>\n",
              "      <td>2012-07-16</td>\n",
              "      <td>1084939099</td>\n",
              "      <td>165</td>\n",
              "      <td>[{'iso_639_1': 'en', 'name': 'English'}]</td>\n",
              "      <td>Released</td>\n",
              "      <td>The Legend Ends</td>\n",
              "      <td>The Dark Knight Rises</td>\n",
              "      <td>7.6</td>\n",
              "      <td>9106</td>\n",
              "      <td>2012</td>\n",
              "      <td>United States of America</td>\n",
              "      <td>Christopher Nolan</td>\n",
              "      <td>Michael Caine</td>\n",
              "      <td>Gary Oldman</td>\n",
              "      <td>Anne Hathaway</td>\n",
              "    </tr>\n",
              "    <tr>\n",
              "      <th>4</th>\n",
              "      <td>4</td>\n",
              "      <td>260000000</td>\n",
              "      <td>Action|Adventure|Science Fiction</td>\n",
              "      <td>http://movies.disney.com/john-carter</td>\n",
              "      <td>49529</td>\n",
              "      <td>based on novel|mars|medallion|space travel|pri...</td>\n",
              "      <td>English</td>\n",
              "      <td>John Carter</td>\n",
              "      <td>John Carter is a war-weary, former military ca...</td>\n",
              "      <td>43.926995</td>\n",
              "      <td>[{'name': 'Walt Disney Pictures', 'id': 2}]</td>\n",
              "      <td>[{'iso_3166_1': 'US', 'name': 'United States o...</td>\n",
              "      <td>2012-03-07</td>\n",
              "      <td>284139100</td>\n",
              "      <td>132</td>\n",
              "      <td>[{'iso_639_1': 'en', 'name': 'English'}]</td>\n",
              "      <td>Released</td>\n",
              "      <td>Lost in our world, found in another.</td>\n",
              "      <td>John Carter</td>\n",
              "      <td>6.1</td>\n",
              "      <td>2124</td>\n",
              "      <td>2012</td>\n",
              "      <td>United States of America</td>\n",
              "      <td>Andrew Stanton</td>\n",
              "      <td>Lynn Collins</td>\n",
              "      <td>Samantha Morton</td>\n",
              "      <td>Willem Dafoe</td>\n",
              "    </tr>\n",
              "  </tbody>\n",
              "</table>\n",
              "</div>"
            ],
            "text/plain": [
              "   Unnamed: 0     budget  ...      actor_2_name       actor_3_name\n",
              "0           0  237000000  ...  Sigourney Weaver       Stephen Lang\n",
              "1           1  300000000  ...   Keira Knightley  Stellan Skarsgård\n",
              "2           2  245000000  ...       Léa Seydoux      Ralph Fiennes\n",
              "3           3  250000000  ...       Gary Oldman      Anne Hathaway\n",
              "4           4  260000000  ...   Samantha Morton       Willem Dafoe\n",
              "\n",
              "[5 rows x 27 columns]"
            ]
          },
          "metadata": {
            "tags": []
          },
          "execution_count": 3
        }
      ]
    },
    {
      "cell_type": "markdown",
      "metadata": {
        "id": "s4dp8Y3nLV34"
      },
      "source": [
        "## Ερώτημα 1α\r\n",
        "---\r\n",
        "Αρχικά θα πρέπει, αφού μελετήσετε τη δομή και τα χαρακτηριστικά του αρχείου αυτού, να κατασκευάσετε μια βάση γνώσης για την Prolog η όποια ουσιαστικά θα αποτελεί τον κόσμο με τον όποιο θα εργαστείτε στην συνέχεια. Τα κατηγορήματα που θα δημιουργηθούν θα σας βοηθήσουν και στην κατασκευή του recommender και θα είναι της μορφής:\r\n",
        "\r\n",
        "```\r\n",
        "director(Movie, Director).\r\n",
        "genre(Movie, Genre).\r\n",
        "```"
      ]
    },
    {
      "cell_type": "code",
      "metadata": {
        "colab": {
          "base_uri": "https://localhost:8080/"
        },
        "id": "8KBV0C9zdWYy",
        "outputId": "16a13607-eeec-4527-e61b-868eb4336a3d"
      },
      "source": [
        "# All labels names \r\n",
        "for col in data.columns: \r\n",
        "    print(col) "
      ],
      "execution_count": null,
      "outputs": [
        {
          "output_type": "stream",
          "text": [
            "Unnamed: 0\n",
            "budget\n",
            "genres\n",
            "homepage\n",
            "id\n",
            "plot_keywords\n",
            "language\n",
            "original_title\n",
            "overview\n",
            "popularity\n",
            "production_companies\n",
            "production_countries\n",
            "release_date\n",
            "gross\n",
            "duration\n",
            "spoken_languages\n",
            "status\n",
            "tagline\n",
            "movie_title\n",
            "vote_average\n",
            "num_voted_users\n",
            "title_year\n",
            "country\n",
            "director_name\n",
            "actor_1_name\n",
            "actor_2_name\n",
            "actor_3_name\n"
          ],
          "name": "stdout"
        }
      ]
    },
    {
      "cell_type": "code",
      "metadata": {
        "id": "sPAqSe0n4rUd"
      },
      "source": [
        "def clean_text(text):\n",
        "  text = text.replace(u'\\xa0', u'')\n",
        "  text = text.replace(u\"'\", u'')\n",
        "  return text"
      ],
      "execution_count": null,
      "outputs": []
    },
    {
      "cell_type": "code",
      "metadata": {
        "id": "RcOo0hyJ4rUd"
      },
      "source": [
        "# Create World\n",
        "# Ορίζουμε τον κόσμο μας\n",
        "prolog = Prolog()\n",
        "prolog.query(\"make\")\n",
        "\n",
        "# Για κάθε row του πίνακα φτιάχνουμε τα κατηγορήματα που θέλουμε να αποθηκέυσουμε\n",
        "# αρχικά σε μια λίστα με το όνομα literals\n",
        "literals = []\n",
        "movie_score = {}\n",
        "color = \"Colorized\"\n",
        "for row in data.itertuples(index=True, name='Pandas'):\n",
        "    # Παίρνουμε τα δεδομένα που μας αφορούν\n",
        "    movie_title = clean_text(getattr(row, 'movie_title'))\n",
        "    director = clean_text(getattr(row, 'director_name'))\n",
        "    num_voted_users = clean_text(str(getattr(row, 'num_voted_users')))\n",
        "    vote_average = clean_text(str(getattr(row, 'vote_average')))\n",
        "    title_year = clean_text(str(getattr(row, 'title_year')))\n",
        "    plot_keywords = clean_text(getattr(row, 'plot_keywords'))\n",
        "    popularity = clean_text(str(getattr(row, 'popularity')))\n",
        "    duration = clean_text(str(getattr(row, 'duration')))\n",
        "    \n",
        "    # Αν δεν είναι null τότε τα αποθηκεύουμε στη λίστα literals\n",
        "    if movie_title != \"UNK\":\n",
        "        if director != \"UNK\":\n",
        "            literals.append(\"director('\"+ movie_title +\"','\" + director + \"')\")\n",
        "        if director != \"UNK\":\n",
        "            literals.append(\"popularity('\"+ movie_title +\"','\" + popularity + \"')\")            \n",
        "        if num_voted_users != \"UNK\":\n",
        "            literals.append(\"num_voted_users('\"+ movie_title +\"','\" + num_voted_users + \"')\")            \n",
        "        if title_year != \"UNK\":\n",
        "            literals.append(\"title_year('\"+ movie_title +\"','\" + title_year + \"')\")          \n",
        "        \n",
        "        # Rating\n",
        "        if vote_average != \"UNK\":\n",
        "          if float(vote_average) > 8.0:\n",
        "            literals.append(\"vote('\"+ movie_title +\"','over_8')\")    \n",
        "          elif float(vote_average) < 8.0 and float(vote_average) > 6.0:\n",
        "            literals.append(\"vote('\"+ movie_title +\"','over_6')\")    \n",
        "          elif float(vote_average) < 6.0 and float(vote_average) > 3.0:\n",
        "            literals.append(\"vote('\"+ movie_title +\"','over_3')\")    \n",
        "          else: # vote_average < 3.0\n",
        "            literals.append(\"vote('\"+ movie_title +\"','under_3')\")   \n",
        "\n",
        "        # Duration (3 categories long,medium short)\n",
        "        if duration != \"UNK\":\n",
        "          if float(duration) > 120:\n",
        "              literals.append(\"duration('\"+ movie_title +\"','long')\")    \n",
        "          elif float(duration) < 120 and float(duration) >60:\n",
        "              literals.append(\"duration('\"+ movie_title +\"','medium')\")  \n",
        "          else:# duration < 60:\n",
        "              literals.append(\"duration('\"+ movie_title +\"','short')\")           \n",
        "        \n",
        "        # Users Voted (3 categories depending of the number of votes)\n",
        "        if num_voted_users != \"UNK\":\n",
        "          if float(num_voted_users) >8000:\n",
        "            literals.append(\"users_voted('\"+ movie_title +\"','high')\")         \n",
        "          elif float(num_voted_users) < 8000 and float(num_voted_users) > 4000:\n",
        "            literals.append(\"users_voted('\"+ movie_title +\"','medium')\")         \n",
        "          else:\n",
        "            literals.append(\"users_voted('\"+ movie_title +\"','low')\")         \n",
        "\n",
        "        # Keywords and color\n",
        "        for plot_keyword in plot_keywords.split(\"|\"):\n",
        "            literals.append(\"keyword('\"+ movie_title +\"','\"+ plot_keyword +\"')\")\n",
        "            if plot_keyword == \"black and white\":\n",
        "              color = \"Black_and_White\"\n",
        "        literals.append(\"color('\"+ movie_title +\"','\" + color + \"')\")\n",
        "        \n",
        "        # Genre\n",
        "        for genre in getattr(row, 'genres').split(\"|\"):\n",
        "            literals.append(\"genre('\"+ movie_title +\"','\"+ genre +\"')\")\n",
        "        # Actors\n",
        "        for actor in [getattr(row, 'actor_1_name'), getattr(row, 'actor_2_name'), getattr(row, 'actor_3_name')]:\n",
        "            literals.append(\"actors('\"+ movie_title +\"','\"+ actor.replace(\"'\",'\"') +\"')\")\n",
        "        # Language\n",
        "        for language in getattr(row, 'language'):\n",
        "            literals.append(\"language('\"+ movie_title +\"','\"+ language +\"')\")\n",
        "            \n",
        "# Η Prolog θέλει τα κατηγορήματά της με την σειρά \n",
        "literals.sort()\n",
        "for literal in literals:\n",
        "  prolog.assertz(literal)\n",
        "\n",
        "# Επίσης μπορούμε να κάνουμε consult ένα έτοιμο αρχείο στον κόσμο όπως παρακάτω\n",
        "#  prolog.consult(path +\"db.pl\")"
      ],
      "execution_count": null,
      "outputs": []
    },
    {
      "cell_type": "markdown",
      "metadata": {
        "id": "X4lblSlBLjY3"
      },
      "source": [
        "\r\n",
        "## Ερώτημα 1β\r\n",
        "---\r\n",
        "Αφού δημιουργήσετε τον κόσμο του προβλήματος, στη συνέχεια καλείστε να δημιουργήσετε, σε Prolog, απλούς κανόνες οι οποίοι θα βρίσκουν όλες τις ταινίες με:\r\n",
        "1.\tΚοινό θέμα (κάποιες λέξεις σχετικά με το genre κοινές)\r\n",
        "2.\tΑρκετά κοινό θέμα (κάποιες λιγότερες λέξεις σχετικά με το genre κοινές π.χ. 3)\r\n",
        "3.\tΣχετικά κοινό θέμα (λίγες λέξεις σχετικές με το genre κοινές π.χ. 1)\r\n",
        "4.\tΚοινός σκηνοθέτης\r\n",
        "5.\tΑκριβώς ίδια πλοκή (κάποιες λέξεις κλειδιά της πλοκής κοινές)\r\n",
        "6.\tΣχετικά ίδια πλοκή (κάποιες λιγότερες λέξεις κλειδιά κοινές)\r\n",
        "7.\tΊδιους τους βασικούς ηθοποιούς (και τους 3)\r\n",
        "8.\tΑρκετά ίδιους βασικούς ηθοποιούς (ορισμένους βασικούς ηθοποιούς κοινούς π.χ. 2)\r\n",
        "9.\tΣχετικά ίδιους ηθοποιούς (π.χ. 1 από τους 3)\r\n",
        "10.\tΊδια γλώσσα\r\n",
        "11.\tΕίναι έγχρωμες ή ασπρόμαυρες\r\n",
        "\r\n",
        "Αξίζει να σημειωθεί ότι στα παραπάνω μπορείτε να προσθέσετε περισσότερα ερωτήματα ή να αλλάξετε την κλιμακωσιμότητα των queries (πέρα από το ίδιο, αρκετά ίδιο, σχετικά ίδιο) που θα κατασκευάσετε(π.χ. μια κλίμακα από 1 στα 5 όπου αυτό είναι δυνατόν), μιας και αυτά στην συνέχεια θα χρησιμοποιηθούν για την λειτουργία του recommender. Έτσι μπορείτε να προσθέσετε queries με τα όποια μπορεί να παράγονται καλύτερες συστάσεις  (το αρχείο movie_metadata.csv περιέχει πολλές πληροφορίες ακόμα για κάθε ταινία όπως έτος κυκλοφορίας, βαθμολογία στο imdb, facebοok_likes κ.α.).\r\n",
        "\r\n",
        "Περισσότερες πληροφορίες για το dataset μπορείτε να διαβάσετε σε αυτό το [Link](https://www.kaggle.com/georgefila/movies-metadata):"
      ]
    },
    {
      "cell_type": "markdown",
      "metadata": {
        "id": "AG8l5i3p_4he"
      },
      "source": [
        "---"
      ]
    },
    {
      "cell_type": "markdown",
      "metadata": {
        "id": "EfpvPhDx-P54"
      },
      "source": [
        "Αξίζει να σημειωθέι πως προσθέσαμε και μερικά δικά μας ερωτήματα.Το πρώτο εκ των 3, αφορά την εύρεση ταινιών που έχουν συγκεντρώσει παρόμοια βαθμολογία από τους χρήστες.Έχει 4 βαθμολογικές κλίμακες ανάλογα τη βαθμολογία (χαμηλή :0-3, μέτρια:3-6, καλή:6-8, πολύ καλή: 8-10).\r\n",
        "Το 2ο ερώτημα αφόρα την εύρεση ταινιών με παρόμοιο χρόνο διάρκειας (0-1 ώρα: χαμηλή, 1-2 ώρες: μέτρια, 2+ ώρες: μακρά διάρκεια). \r\n",
        "Το τελευταίο ερώτημα που διατυπώσαμε αφορά την εύρεση ταινιών για τις οποίες παρόμοιος αριθμος χρηστών έχει καταθέσει βαθμολογία.Έχει 3 βαθμολογικές κλίμακες (0-4.000, 4.000-8.000, 8.000+ )"
      ]
    },
    {
      "cell_type": "code",
      "metadata": {
        "id": "61SbKPrg4rUd"
      },
      "source": [
        "#---------------------------------------------------------------------------#\r\n",
        "#                      1) Common Subject                                    #\r\n",
        "#---------------------------------------------------------------------------# \r\n",
        "prolog.assertz('(similar_genre_4(X, Y) :-  genre(X,A), genre(Y,A), genre(X,B), genre(Y,B), genre(X,C), genre(Y,C), genre(X,D), genre(Y,D), A\\=B, A\\=C, A\\=D, B\\=C, B\\=D, C\\=D, X\\=Y)')\r\n",
        "\r\n",
        "#---------------------------------------------------------------------------#\r\n",
        "#                      2) Less common Subject                               #\r\n",
        "#---------------------------------------------------------------------------# \r\n",
        "prolog.assertz('(similar_genre_3(X, Y) :-  genre(X,A), genre(X,B), genre(X,C), genre(Y,A), genre(Y,B), genre(Y,C), X\\=Y, A\\= B, A\\= C, B\\=C, not(similar_genre_4(X, Y)) )')\r\n",
        "\r\n",
        "#---------------------------------------------------------------------------#\r\n",
        "#                      3) Even Less Common Subject                          #\r\n",
        "#---------------------------------------------------------------------------# \r\n",
        "prolog.assertz('(similar_genre_2(X, Y) :-  genre(X,A), genre(X,B), genre(Y,A), genre(Y,B), X\\=Y, A\\= B, not(similar_genre_3(X, Y)) )')\r\n",
        "prolog.assertz('(similar_genre_1(X, Y) :-  genre(X,A), genre(Y,A), X\\=Y, not(similar_genre_2(X, Y)) )')\r\n",
        "\r\n",
        "#---------------------------------------------------------------------------#\r\n",
        "#                      4) Common Director                                     #\r\n",
        "#---------------------------------------------------------------------------# \r\n",
        "prolog.assertz('(common_director(X, Y) :-  director(X,A), director(Y,A), X\\=Y )')\r\n",
        "\r\n",
        "#---------------------------------------------------------------------------#\r\n",
        "#                      5) Same Plot                                         #\r\n",
        "#---------------------------------------------------------------------------# \r\n",
        "prolog.assertz('(similar_keyword_4(X, Y) :-  keyword(X,A), keyword(Y,A), keyword(X,B), keyword(Y,B), keyword(X,C), keyword(Y,C), keyword(X,D), keyword(Y,D), A\\=B, A\\=C, A\\=D, B\\=C, B\\=D, C\\=D, X\\=Y)')\r\n",
        "prolog.assertz('(similar_keyword_3(X, Y) :-  keyword(X,A), keyword(X,B), keyword(X,C), keyword(Y,A), keyword(Y,B), keyword(Y,C), X\\=Y, A\\= B, A\\= C, B\\=C, not(similar_keyword_4(X, Y)) )')\r\n",
        "\r\n",
        "#---------------------------------------------------------------------------#\r\n",
        "#                      6) Common Plot                                       #\r\n",
        "#---------------------------------------------------------------------------# \r\n",
        "prolog.assertz('(similar_keyword_2(X, Y) :-  keyword(X,A), keyword(X,B), keyword(Y,A), keyword(Y,B), X\\=Y , A \\= B, not(similar_keyword_3(X, Y)))')\r\n",
        "prolog.assertz('(similar_keyword_1(X, Y) :-  keyword(X,A), keyword(X,B), X\\=Y , A \\= B, not(similar_keyword_2(X, Y)))')\r\n",
        "\r\n",
        "#---------------------------------------------------------------------------#\r\n",
        "#                      7) 3 Actors Common                                   #\r\n",
        "#---------------------------------------------------------------------------# \r\n",
        "prolog.assertz('(common_actors_3(X, Y) :-  actors(X,A), actors(X,B), actors(X,C), actors(Y,A), actors(Y,B), actors(Y,C), X\\=Y, A \\= B, A \\= C, B \\= C)')\r\n",
        "\r\n",
        "#---------------------------------------------------------------------------#\r\n",
        "#                      8) 2 Actors Common                                   #\r\n",
        "#---------------------------------------------------------------------------#\r\n",
        "prolog.assertz('(common_actors_2(X, Y) :-  actors(X,A), actors(X,B), actors(Y,A), actors(Y,B), X\\=Y, A \\= B, not(common_actors_3(X, Y)) )')\r\n",
        "\r\n",
        "#---------------------------------------------------------------------------#\r\n",
        "#                      9) 1 Actors Common                                   #\r\n",
        "#---------------------------------------------------------------------------#\r\n",
        "prolog.assertz('(common_actors_1(X, Y) :-  actors(X,A), actors(Y,A), X\\=Y, not(common_actors_2(X, Y)) )')\r\n",
        "\r\n",
        "#---------------------------------------------------------------------------#\r\n",
        "#                      10) Common Language                                  #\r\n",
        "#---------------------------------------------------------------------------#\r\n",
        "prolog.assertz('(common_language(X, Y) :- language(X,D), language(Y,D), X \\= Y)')\r\n",
        "\r\n",
        "#---------------------------------------------------------------------------#\r\n",
        "#                      11) Same color                                       #\r\n",
        "#---------------------------------------------------------------------------#\r\n",
        "prolog.assertz('(same_color(X,Y) :- color(X, C), color(Y, C), X \\= Y )')\r\n",
        "\r\n",
        "\r\n",
        "\r\n",
        "#---------------------------------------------------------------------------#\r\n",
        "#                      12) Our Querries                                     #\r\n",
        "#---------------------------------------------------------------------------#\r\n",
        "# Same Rating (4 categories depending on the score)\r\n",
        "prolog.assertz('''(same_rating(X, Y) :- vote(X,C),   vote(Y,C),   X \\= Y )''')\r\n",
        "\r\n",
        "# Same duration (3 categories, over 2 hours,1-2 hours and under 1 hour)\r\n",
        "prolog.assertz('''(same_duration(X, Y) :- duration(X,C),   duration(Y,C),   X \\= Y )''')\r\n",
        "\r\n",
        "# Same volume of numbers voted (3 categories depending on the number of votes)\r\n",
        "prolog.assertz('''(number_of_users_voted(X, Y) :- users_voted(X,C),   users_voted(Y,C),   X \\= Y )''')\r\n",
        " "
      ],
      "execution_count": null,
      "outputs": []
    },
    {
      "cell_type": "markdown",
      "metadata": {
        "id": "uljxcE1l5nLh"
      },
      "source": [
        "Στη συνέχεια θα προχωρήσουμε σε έλεγχο της λειτουργίας των querries."
      ]
    },
    {
      "cell_type": "code",
      "metadata": {
        "id": "DoCDAsyJIfyU"
      },
      "source": [
        "#---------------------------------------------------------------------------#\r\n",
        "#                       Testing                                             #\r\n",
        "#---------------------------------------------------------------------------#\r\n",
        "\r\n",
        "xs = [\"similar_genre_4('\",\"similar_genre_3('\",\"similar_genre_2('\",\"similar_genre_1('\",\r\n",
        "      \"similar_keyword_3('\",\"similar_keyword_4('\",\"common_actors_1('\",\"common_actors_2('\",\r\n",
        "      \"common_actors_3('\",\"common_director('\",\"common_language('\", \"same_color('\", \"same_duration('\",\"same_rating('\",\r\n",
        "      \"number_of_users_voted('\"]\r\n",
        "def TEST(movie):\r\n",
        "  for x in xs: \r\n",
        "    querry = prolog.query(x + movie +\"',M)\")\r\n",
        "    result = set()\r\n",
        "    for solution in querry:\r\n",
        "        result.add(solution[\"M\"])\r\n",
        "    print(x.split(\"(\")[0],list(set(result))[:5])\r\n",
        "  return\r\n"
      ],
      "execution_count": null,
      "outputs": []
    },
    {
      "cell_type": "code",
      "metadata": {
        "id": "SI_vRIilteef",
        "colab": {
          "base_uri": "https://localhost:8080/"
        },
        "outputId": "254c3872-bb98-4255-b85e-915f933b76f9"
      },
      "source": [
        "print('Unbreakable\\n---------------------------------------------------------------\\n')\r\n",
        "TEST(\"Unbreakable\")\r\n",
        "print('\\n\\nThe Dark Knight Rises\\n---------------------------------------------------------------\\n')\r\n",
        "TEST(\"The Dark Knight Rises\")"
      ],
      "execution_count": null,
      "outputs": [
        {
          "output_type": "stream",
          "text": [
            "Unbreakable\n",
            "---------------------------------------------------------------\n",
            "\n",
            "similar_genre_4 []\n",
            "similar_genre_3 ['Chronicle', 'Southland Tales', 'I Am Legend', '10 Cloverfield Lane', 'Victor Frankenstein']\n",
            "similar_genre_2 ['The I Inside', 'Planet of the Apes', 'Star Trek V: The Final Frontier', 'Crimson Tide', 'After.Life']\n",
            "similar_genre_1 ['Red Eye', 'AWOL-72', 'Maurice', 'Next Stop Wonderland', 'Serial Mom']\n",
            "similar_keyword_3 ['Superman Returns']\n",
            "similar_keyword_4 []\n",
            "common_actors_1 ['Adore', 'Jumper', 'What Just Happened', 'Eves Bayou', 'Kiss of Death']\n",
            "common_actors_2 []\n",
            "common_actors_3 []\n",
            "common_director ['The Visit', 'After Earth', 'The Sixth Sense', 'The Happening', 'The Last Airbender']\n",
            "common_language ['Red Eye', 'AWOL-72', 'Shrek the Third', 'Maurice', 'Intolerance']\n",
            "same_color ['Shrek the Third', 'Paddington', 'Planet of the Apes', 'Crimson Tide', 'Killer Elite']\n",
            "same_duration ['Red Eye', 'AWOL-72', 'Shrek the Third', 'Paddington', 'Next Stop Wonderland']\n",
            "same_rating ['Red Eye', 'Maurice', 'Paddington', 'Serial Mom', 'Intolerance']\n",
            "number_of_users_voted ['Red Eye', 'AWOL-72', 'Shrek the Third', 'Maurice', 'Intolerance']\n",
            "\n",
            "\n",
            "The Dark Knight Rises\n",
            "---------------------------------------------------------------\n",
            "\n",
            "similar_genre_4 ['Narc', 'Hackers', 'Dead Man Down', 'Stolen', 'Need for Speed']\n",
            "similar_genre_3 ['Crimson Tide', 'Repo Men', 'Bad Boys II', 'The Bourne Supremacy', 'Jindabyne']\n",
            "similar_genre_2 ['Serial Mom', 'The Adventures of Huck Finn', 'Planet of the Apes', 'Star Trek V: The Final Frontier', 'After.Life']\n",
            "similar_genre_1 ['Red Eye', 'AWOL-72', 'Maurice', 'Next Stop Wonderland', 'Intolerance']\n",
            "similar_keyword_3 ['Batman v Superman: Dawn of Justice', 'Teenage Mutant Ninja Turtles', 'Batman Forever', 'Kick-Ass 2', 'Superman']\n",
            "similar_keyword_4 ['Batman & Robin', 'Batman', 'The Dark Knight', 'Batman Begins', 'Batman Returns']\n",
            "common_actors_1 ['Les Misérables', 'Cars 2', 'Jaws: The Revenge', 'The Book of Eli', 'The Other Side of Heaven']\n",
            "common_actors_2 ['Interstellar']\n",
            "common_actors_3 []\n",
            "common_director ['Insomnia', 'The Dark Knight', 'Batman Begins', 'Memento', 'Interstellar']\n",
            "common_language ['Red Eye', 'AWOL-72', 'Shrek the Third', 'Maurice', 'Intolerance']\n",
            "same_color ['Shrek the Third', 'Paddington', 'Planet of the Apes', 'Crimson Tide', 'Killer Elite']\n",
            "same_duration ['Major Dundee', 'Maurice', 'Princess Mononoke', 'Intolerance', 'Notting Hill']\n",
            "same_rating ['Red Eye', 'Maurice', 'Paddington', 'Serial Mom', 'Intolerance']\n",
            "number_of_users_voted ['Interstellar', 'Iron Man 3', 'The Lord of the Rings: The Return of the King', 'Pulp Fiction', 'The Shawshank Redemption']\n"
          ],
          "name": "stdout"
        }
      ]
    },
    {
      "cell_type": "markdown",
      "metadata": {
        "id": "sZCCxbp4LvIt"
      },
      "source": [
        "---\r\n",
        "# **2ο Μέρος: Recommendation System με βάση μόνο τα χαρακτηριστικά των ταινιών.**\r\n",
        "---"
      ]
    },
    {
      "cell_type": "markdown",
      "metadata": {
        "id": "q-sAr8eIttQY"
      },
      "source": [
        "## Εκφώνηση\r\n"
      ]
    },
    {
      "cell_type": "markdown",
      "metadata": {
        "id": "kg76xNcyL0il"
      },
      "source": [
        "Στο σημείο αυτό καλείστε με βάση αυτά που κάνατε στο μέρος 1 να κατασκευάσετε queries τα όποια θα σας επιστρέφουν παρόμοιες (σε χαρακτηριστικά) ταινίες. Τα ερωτήματα αυτά θα είναι κλιμακούμενα, δηλαδή θα υπάρχουν ερωτήματα που επιστρέφουν αρκετά κοινές ταινίες αλλά και που επιστρέφουν λιγότερο και λιγότερο κοινές (σε μια κλίμακα π.χ. από 1 σε 5). Για παράδειγμα:\r\n",
        "\r\n",
        "```\r\n",
        "find_simmilar_movies_5(\"Pirates Of The Caribbean\", M).\r\n",
        "M = \"Pirates Of The Caribbean: On Stranger Tides\"\r\n",
        "M = \"The Chronicles Of Narnia\"\r\n",
        "M = \"Prince Of Persia: The Sands Of Time\"\r\n",
        "...\r\n",
        "```\r\n",
        "Για παράδειγμα, το παραπάνω ερώτημα θα επιστρέφει αρκετά κοινές σε περιεχόμενο ταινίες με την ταινια \"Pirates Of The Caribbean\". Θα υπάρχουν και αντίστοιχα ερωτήματα που θα βρίσκουν λιγότερο όμοιες ταινίες. Ο δείκτης ομοιότητας των ταινιών είναι αυθαίρετος και μπορείτε να τον ορίσετε εσείς όπως θέλετε, αρκεί να υπάρχει κάποια λογική σύνδεση με τα δεδομένα που περιέχονται στο αρχείο movies_metadata.csv. \r\n",
        "\r\n",
        "Συνεπώς η συνάρτηση που θα κάνει τις προτάσεις (recommendation) με είσοδο μια ταινία πρέπει να επιστρέφει-εκτυπώνει μια λίστα με τις προτεινόμενες ταινίες κατά φθίνουσα σειρά ομοιότητας. "
      ]
    },
    {
      "cell_type": "markdown",
      "metadata": {
        "id": "zBHhT2X5t1QI"
      },
      "source": [
        "##Simple Recommender\r\n",
        "---"
      ]
    },
    {
      "cell_type": "markdown",
      "metadata": {
        "id": "ibe9jBk24rUd"
      },
      "source": [
        "\n",
        "\n",
        "Mε βάση τους κανόνες που κατασκευάστηκαν στο Μέρος 1 θα κατασκευαστούν κατηγορήματα για την ομοιότητα ταινιών. \n"
      ]
    },
    {
      "cell_type": "markdown",
      "metadata": {
        "id": "ccg0EoxNB1nu"
      },
      "source": [
        "Στην παρακάτω θεώρηση, ταινίες ομοιότητας τύπου 5 θεωρούνται αρκετά όμοιες,ενώ καθώς μειώνεται ο αριθμός η ομοιότητα αυξάνεται (ομοιότητα 5 > ομοιότητα 4)"
      ]
    },
    {
      "cell_type": "code",
      "metadata": {
        "id": "hVfcBBpd4rUd"
      },
      "source": [
        "prolog.assertz('(find_sim_5(X, Y) :- similar_genre_4(X, Y),common_language(X, Y),similar_keyword_4(X, Y); common_actors_1(X,Y),similar_genre_3(X, Y),similar_keyword_4(X, Y), common_director(X, Y),common_language(X, Y);common_actors_3(X, Y),common_language(X, Y),similar_keyword_2(X, Y),similar_genre_3(X, Y))')\n",
        "prolog.assertz('(find_sim_4(X, Y) :- common_actors_1(X, Y), similar_genre_3(X, Y),common_language(X, Y),similar_keyword_3(X, Y);similar_keyword_4(X, Y),common_language(X, Y),similar_genre_2(X, Y);common_actors_3(X, Y),common_language(X, Y),similar_keyword_1(X, Y),similar_genre_1(X, Y))')\n",
        "prolog.assertz('(find_sim_3(X, Y) :- similar_genre_3(X, Y),common_language(X, Y),similar_keyword_2(X, Y); similar_genre_2(X, Y),common_language(X, Y),similar_keyword_3(X, Y))')\n",
        "prolog.assertz('(find_sim_2(X, Y) :- similar_keyword_1(X, Y),common_language(X, Y),similar_genre_2(X, Y);similar_keyword_2(X, Y),common_language(X, Y),similar_genre_1(X, Y) )')\n",
        "prolog.assertz('(find_sim_1(X, Y) :- similar_genre_1(X, Y),similar_keyword_1(X, Y),common_language(X, Y) )')"
      ],
      "execution_count": null,
      "outputs": []
    },
    {
      "cell_type": "markdown",
      "metadata": {
        "id": "52gEur8q4mWC"
      },
      "source": [
        "Παρακάτω ακολουθεί ενα απλό recommender system το οποίο βασίζεται στα δεδομένα ταινιών που μας δώθηκαν.Προκειμένου να παρουσιάσουμε όσο το δυνατόν πιο σχετικές ταινίες, αρχικά αναζητούνται ταινίες ομοιότητας 1.Εάν δεν βρεθεί καμία,τότε προχωρούμε στην αναζήτηση ταινιών ομοιότητας 2 κ.ο.κ."
      ]
    },
    {
      "cell_type": "code",
      "metadata": {
        "id": "bh_jfhPC4rUd"
      },
      "source": [
        "def simple_recommender(movie):\n",
        "  def check(querry):\n",
        "    s = set()\n",
        "    for solution in querry:\n",
        "      m = solution['M'] \n",
        "      if m not in s:\n",
        "        s.add(solution['M'])\n",
        "    return s\n",
        "\n",
        "  # Similarity will be used in part-3\n",
        "  similarity = 0\n",
        "  # A list containing all recommended movies\n",
        "  answers = []\n",
        "  s = set()\n",
        "  q = prolog.query(\"find_sim_5('\" + movie +\"',M)\")\n",
        "  s = check(q)\n",
        "  if (s): \n",
        "    similarity = 5\n",
        "    answers = s\n",
        "    q.close()\n",
        "    return answers,similarity\n",
        "  else:\n",
        "    q = prolog.query(\"find_sim_4('\" + movie +\"',M)\")\n",
        "    s = check(q)\n",
        "    if (s): \n",
        "      similarity = 4\n",
        "      answers = s\n",
        "      q.close()\n",
        "      return answers,similarity \n",
        "    else:\n",
        "      q = prolog.query(\"find_sim_3('\" + movie +\"',M)\")\n",
        "      s = check(q)\n",
        "      if (s): \n",
        "        similarity = 3\n",
        "        answers = s\n",
        "        q.close()\n",
        "        return answers,similarity \n",
        "      else:\n",
        "        q = prolog.query(\"find_sim_2('\" + movie +\"',M)\")\n",
        "        s = check(q)\n",
        "        if (s): \n",
        "          similarity = 2\n",
        "          answers = s\n",
        "          q.close()\n",
        "          return answers,similarity \n",
        "        else:\n",
        "          q = prolog.query(\"find_sim_1('\" + movie +\"',M)\")\n",
        "          s = check(q)\n",
        "          if (s): \n",
        "            similarity = 1\n",
        "            answers = s\n",
        "            q.close()\n",
        "            return answers,similarity \n",
        "          else:\n",
        "            return answers,similarity"
      ],
      "execution_count": null,
      "outputs": []
    },
    {
      "cell_type": "markdown",
      "metadata": {
        "id": "jbiGeZ8Lt5x5"
      },
      "source": [
        "## Functionality Test\r\n",
        "---"
      ]
    },
    {
      "cell_type": "markdown",
      "metadata": {
        "id": "m4i2QUar5CC4"
      },
      "source": [
        "Δομιμάζουμε το recommender system σε μερικές ταινίες.Ρυθμίζουμε το σύστημα στην παρούσα στιγμή προκειμένου να μας προτείνει μέχρι 3 ταινίες. \r\n",
        "Αυτή τη στιγμή δε μας ενδιαφέρει να μας προτείνει το σύστημα πολλές ταινίες, αλλά απλώς να ελέγξουμε τη λειτουργία του.Εάν είναι επιθυμητή η πρόταση πολλών ταινιών θα μπορούσε να ρυθμιστεί κατάλληλα."
      ]
    },
    {
      "cell_type": "code",
      "metadata": {
        "id": "Ug_L_Qx-4rUd",
        "colab": {
          "base_uri": "https://localhost:8080/"
        },
        "outputId": "9c4e2e96-3402-47af-9662-a50ae7d16860"
      },
      "source": [
        "max_rec_movies = 3\r\n",
        "\r\n",
        "sample_movies = [\"Batman\", \"Spectre\", \"Avatar\",\"Network\",\r\n",
        "                 \"Jaws 2\",\"Titanic\",\"King Kong\",\"Toy Story 2\",\r\n",
        "                 \"Harry Potter and the Prisoner of Azkaban\"]\r\n",
        "\r\n",
        "for x in sample_movies:  \r\n",
        "  rec_mov,similarity = simple_recommender(x)\r\n",
        "  rec_mov = list(rec_mov)[:max_rec_movies]\r\n",
        "  print(\"You like \"+ x +\", we also recommend\",end=\": \")\r\n",
        "  print(', '.join(list(rec_mov)))\r\n"
      ],
      "execution_count": null,
      "outputs": [
        {
          "output_type": "stream",
          "text": [
            "You like Batman, we also recommend: Superman\n",
            "You like Spectre, we also recommend: Quantum of Solace, Johnny English Reborn, Skyfall\n",
            "You like Avatar, we also recommend: Predator, Green Lantern, Enders Game\n",
            "You like Network, we also recommend: The Lives of Others, 11:14, The Doors\n",
            "You like Jaws 2, we also recommend: Jaws\n",
            "You like Titanic, we also recommend: Pompeii\n",
            "You like King Kong, we also recommend: Pirates of the Caribbean: Dead Mans Chest\n",
            "You like Toy Story 2, we also recommend: Night at the Museum, Megamind, The Brave Little Toaster\n",
            "You like Harry Potter and the Prisoner of Azkaban, we also recommend: Harry Potter and the Goblet of Fire, Aladdin, Harry Potter and the Order of the Phoenix\n"
          ],
          "name": "stdout"
        }
      ]
    },
    {
      "cell_type": "code",
      "metadata": {
        "id": "jLRdb3gO8re4"
      },
      "source": [
        "max_rec_movies = 3\r\n",
        "\r\n",
        "sample_movies = [\"Batman\", \"Spectre\", \"Avatar\",\"Network\",\r\n",
        "                 \"Jaws 2\",\"Titanic\",\"King Kong\",\"Toy Story 2\",\r\n",
        "                 \"Harry Potter and the Prisoner of Azkaban\"]\r\n",
        "\r\n",
        "for x in sample_movies:  \r\n",
        "  rec_mov,similarity = simple_recommender(x)\r\n",
        "  rec_mov = list(rec_mov)[:max_rec_movies]\r\n",
        "  print(\"You like \"+ x +\", we also recommend\",end=\": \")\r\n",
        "  print(', '.join(list(rec_mov)))\r\n"
      ],
      "execution_count": null,
      "outputs": []
    },
    {
      "cell_type": "markdown",
      "metadata": {
        "id": "nw0eXZOd5XEf"
      },
      "source": [
        "Για ένα τόσο απλό σύστημα τα αποτελέσματα κρίνονται ως ικανοποιητικά, καθώς παρατηρούμε μια σχετική συνάφεια στις ταινίες που προτείνονται. Για παράδειγμα στην ταινια \"Βatman\" η πρόταση \"Superman\" είναι πολύ λογική και στην ταινία \"Τoy story 2\" προτείνονται επίσης ταινίες κινουμένων σχεδίων για παιδιά.Η γενική θεματολογία των προτεινόμενων ταινιών είναι αρκετά κοντά με την αρχική."
      ]
    },
    {
      "cell_type": "markdown",
      "metadata": {
        "id": "YjpTwOuO4rUd"
      },
      "source": [
        "---\n",
        "# **3ο Μέρος: Recommendation System Με βάση τις προτιμήσεις-Αξιολογήσεις του χρήστη-Εκπαίδευση και Πρόβλεψη**\n",
        "---\n",
        "\n",
        "\n"
      ]
    },
    {
      "cell_type": "markdown",
      "metadata": {
        "id": "obcI6FCjtgOx"
      },
      "source": [
        "## Εκφώνηση"
      ]
    },
    {
      "cell_type": "markdown",
      "metadata": {
        "id": "7qedrZVeMFHU"
      },
      "source": [
        "Σε αυτό το σημείο θα εργαστείτε με τα αρχεία ratings τα όποια περιέχουν αξιολογήσεις (από 1 μέχρι 5) για τις παραπάνω ταινίες. Το προηγούμενο σύστημα συστάσεων προτείνει στον χρήστη ταινίες αποκλειστικά με βάση την ομοιότητά τους. Σε αυτό το σημείο θα γίνει μια αναβάθμιση του συστήματος έτσι ώστε να παράγονται καλύτερες  συστάσεις οι όποιες θα λαμβάνουν υπόψιν και τις προτιμήσεις του χρήστη, οι όποιες θα εξάγονται από τις αξιολογήσεις που έχει κάνει μέχρι στιγμής. \r\n",
        "\r\n",
        "Η εκπαίδευση του recommender θα γίνεται ως εξής:\r\n",
        "\r\n",
        "Για κάθε ταινία θα υπάρχει ένα score το όποιο αρχικά θε είναι ίσο με 0 και θα διαμορφώνεται από τις αξιολογήσεις κάθε user. Έτσι για έναν χρήστη με βάση τις αξιολογήσεις που υπάρχουν στο αρχείο train_ratings θα πρέπει:\r\n",
        "\r\n",
        "1.\tΓια κάθε ταινία που έχει βαθμολογήσει να βρίσκονται οι κοινές ταινίες ανά κλίμακα και στο μέχρι τώρα σκορ κάθε παρόμοιας ταινίας θα προστίθεται ένα βάρος το όποιο θα μπορούσε να είναι το ποσοστό ομοιότητας της ταινίας (δηλαδή ένα βάρος για κάθε κλίμακα) επί τον βαθμό που έχει βάλει ο χρήστης για την αρχική ταινία. Στη συνέχεια, ανάλογα με το σκορ που έχει σχηματιστεί για κάθε ταινία, θα επιλέγεται αν αυτή θα μπορούσε να είναι προτεινόμενη για τον χρήστη.\r\n",
        "\r\n",
        "Η λογική πίσω από την παραπάνω διαδικασία είναι ότι παρόμοιες ταινίες θα έχουν ανάλογο βαθμό. Για παράδειγμα αν ένας χρήστης έχει αξιολογήσει αρκετές  ταινίες οι όποιες είναι sci-fiction με 5/5 τότε μια ταίνια sci-fiction την όποια δεν έχει δεί λογικά θα του αρέσει και θα έπρεπε να την προτείνουμε.\r\n",
        "\r\n",
        "Μετά την εκπαίδευση του συστήματος σας καλείστε να δοκιμάσετε τον recommender που κατασκευάσατε στην πράξη. Για τον σκοπό αυτό θα φορτώσετε το αρχείο train_ratings.csv όπου περιέχονται οι αξιολογήσεις του ίδιου χρήστη για άλλες ταινίες. Το σύστημά σας πρέπει να προβλέπει αν μια ταινία θα πρέπει να προταθεί στον χρήστη. Μια ταίνια θα έπρεπε να έχει προταθεί στον  χρήστη, αν έχει βαθμό μεγαλύτερο του 3. Συνεπώς για την επίβλεψη του συστήματός σας θα πρέπει για κάθε μια από τις ταινίες του αρχείου test_ratings.csv να επιστρέφεται 1 ή 0 αν η ταινία θα έπαιρνε βαθμό μεγαλύτερο του 3 ή όχι, δηλαδή αν θα έπρεπε να την είχαμε προτείνει ή όχι.\r\n",
        "\r\n",
        "Στην συνέχεια, σε συνδιασμό με τις πραγματικές απαντήσεις του χρήστη θα αξιολογήσετε το σύστημά σας χρησιμοποιόντας τις μετρικές: precision, recall, f1 οι οποίες είναι οι πλέον γνωστές μετρικές και ευρέως χρησιμοποιούμενες τεχνικές για την επίβλεψη-μέτρηση απόδοσης ανάλογων συστημάτων.\r\n",
        "\r\n",
        "1. Precision: Δείχνει πόσο ακριβές είναι το σύστημα. Υπολογίζει πόσα από τα στιγμιότυπα τα όποια προβλέψαμε ότι ανήκουν σε μια κλάση όντως ανήκουν σε αυτή. Η μετρική αυτή μας δίνει μια εικόνα σχετικά με τον αριθμό των ταινίων που προβλέψαμε ως προτεινόμενες ενώ δεν θα έπρεπε.\r\n",
        "\r\n",
        "2. Recall: Υπολογίζει πόσα από τα στιγμιότυπα που ανήκουν σε μια κλάση (π.χ. προτεινόμενες ταινίες) προβλέφθηκαν σωστά.\r\n",
        "\r\n",
        "3. F1: Είναι ένας μέσος μεταξύ των παραπάνω δυο μετρικών, έτσι ώστε να διατηρείται μια ισορροπία μεταξύ τους. Υπολογίζεται από την παρακάτω σχέση:\r\n",
        "\r\n",
        "$$F_1=2\\frac{Precision\\times{Recall}}{Precision+Recall}$$\r\n",
        "\r\n",
        "Οι παραπάνω συναρτήσεις παρέχονται από την βιβλιοθήκη scikit-learn.\r\n",
        "\r\n",
        "Τέλος για την καλύτερη επίβλεψη του συστήματος σας μπορείτε να εκπαιδεύσετε  τον recommender σας με ένα υποσύνολο ταινίων (π.χ. 10, 20, 50, ...) για να μελετήσετε κατά πόσο σας βοηθούν οι επιπλέον αξιολογήσεις κάθε φορά (δηλαδή κατά πόσο βελτιώνονται οι παραπάνω μετρικές στο test set). Έτσι π.χ. μπορείτε να εντοπίσετε περιπτώσεις όπως για παράδειγμα ότι με έναν recommender μπορεί να μην επιτυγχάνετε πολύ υψηλό σκορ όσο με άλλους, αλλά το βέλτιστο σκόρ σας επιτυγχάνεται πολύ γρηγόρα π.χ. με μόνο 10 ταινίες αντί 100."
      ]
    },
    {
      "cell_type": "markdown",
      "metadata": {
        "id": "P3jVmkGNwiKX"
      },
      "source": [
        "## Προβλήματα με το PySwip"
      ]
    },
    {
      "cell_type": "markdown",
      "metadata": {
        "id": "miEaqDr9wp5z"
      },
      "source": [
        "Σε αυτό το σημείο αντιμετωπίσαμε έντονα προβλήματα στη χρήση του PySwip.Συγκεκριμένα, σε querries που επιστρέφουν strings (όπως είναι τα δικά μας) ο compiler κατά τη διάρκεια της αναζήτησης παράγει προσωρινά strings τα οποία δεν απελευθερώνει στη συνέχεια της εκτέλεσης του προγράμματος.Ως αποτέλεσμα,το runtime crashάρει.Λίγο πριν τον τερματισμό, λαμβάνουμε το warning \"Too many stacked strings\".Πιθανές λύσεις που δοκιμάστηκαν:\r\n",
        "\r\n",
        "\r\n",
        "*   Τρέξιμο του κώδικα τοπικά στο Jupyter, σε .py, σε Anaconda enviroment και σε cloud στην υπηρεσία Kaggle\r\n",
        "*   [Aύξηση του stack size της prolog.](https://www.swi-prolog.org/FAQ/StackSizes.html)\r\n",
        "*   Xρήση κάποιον [μακροεντολών](https://www.swi-prolog.org/pldoc/man?CAPI=PL_STRINGS_MARK) για την αποφυγή του προβλήματος\r\n",
        "*   Αλλαγή των querries ώστε να επιστρέφουν λιγότερες ταινίες, άρα και να γεμίζεται λιγότερο η μνήμη\r\n",
        "\r\n",
        "Από τα παραπάνω, το τρέξιμο του κώδικα τοπικά δεν απέδωσε καθώς το ίδιο πρόβλημα εξακολούθησε να υφίσταται.Mε την αύξηση του stack_size με την εντολή \r\n",
        "\":-set_prolog_flag(stack_limit, 5000000000).\" το πρόβλημα δε φάνηκε να βελτιώνεται,πιθανώς δεν κάνουμε σωστό χειρισμό της εντολής.\r\n",
        "  H χρήση του block μακροεντολών δεν απέδωσε, καθώς όποτε χρησιμοποιήθηκε, ο compiler μετά δεν αναγνώριζε τα querries που προσπαθούσαμε να φορτώσουμε.\r\n",
        "\r\n",
        "  Για να παρακάμψουμε το πρόβλημα αρχικά τρέχαμε τις αναζητήσεις για ένα υποσύνολο των ταινιών αποτελούμενο μόνο από 10 ταινίες.Καθώς η συνάρτηση \"train recommender\" μπορεί να δεχτεί και ως όρισμα το movies_score για ένα υποσύνολο δεδομένων, τρέχαμε την εκπαίδευση για 10 μόνο ταινίες,αποθηκεύαμε τα αποτελέσματα στο google drive μέσω του εργαλείου joblib, και ύστερα κάναμε restrat runtime.Έχουμε προσαρμόσει κατάλληλα το επόμενο κελί ώστε να φορτώνει το movies_score από το google drive και να συνεχίζει την εκπαίδευση από εκεί όπου είχε μέινει.\r\n",
        "\r\n",
        "  Η τελική λύση προήλθε με την χρήση του \"distict\" .Από την στιγμή που προστέθηκε στα querries μας σταμάτησε η εμφάνιση του προβλήματος.\r\n",
        "\r\n"
      ]
    },
    {
      "cell_type": "markdown",
      "metadata": {
        "id": "BRjpcmrZtduy"
      },
      "source": [
        "## Σύστημα συστάσεων"
      ]
    },
    {
      "cell_type": "markdown",
      "metadata": {
        "id": "TKVpRztLMIKN"
      },
      "source": [
        "Αρχικά μελετάμε τις αξιολογήσεις κάθε χρήστη για να καταλάβουμε την δομή και τις πληροφορίες κάθε αρχείου."
      ]
    },
    {
      "cell_type": "code",
      "metadata": {
        "colab": {
          "base_uri": "https://localhost:8080/",
          "height": 198
        },
        "id": "Zb4k_D5o4r85",
        "outputId": "712eb033-8824-4993-81cf-09182bf04019"
      },
      "source": [
        "train_ratings.head()"
      ],
      "execution_count": null,
      "outputs": [
        {
          "output_type": "execute_result",
          "data": {
            "text/html": [
              "<div>\n",
              "<style scoped>\n",
              "    .dataframe tbody tr th:only-of-type {\n",
              "        vertical-align: middle;\n",
              "    }\n",
              "\n",
              "    .dataframe tbody tr th {\n",
              "        vertical-align: top;\n",
              "    }\n",
              "\n",
              "    .dataframe thead th {\n",
              "        text-align: right;\n",
              "    }\n",
              "</style>\n",
              "<table border=\"1\" class=\"dataframe\">\n",
              "  <thead>\n",
              "    <tr style=\"text-align: right;\">\n",
              "      <th></th>\n",
              "      <th>Unnamed: 0</th>\n",
              "      <th>userId</th>\n",
              "      <th>movieId</th>\n",
              "      <th>movie_title</th>\n",
              "      <th>rating</th>\n",
              "      <th>timestamp</th>\n",
              "    </tr>\n",
              "  </thead>\n",
              "  <tbody>\n",
              "    <tr>\n",
              "      <th>0</th>\n",
              "      <td>78477</td>\n",
              "      <td>547</td>\n",
              "      <td>235</td>\n",
              "      <td>Stand by Me</td>\n",
              "      <td>4.0</td>\n",
              "      <td>974780707</td>\n",
              "    </tr>\n",
              "    <tr>\n",
              "      <th>1</th>\n",
              "      <td>78747</td>\n",
              "      <td>547</td>\n",
              "      <td>1251</td>\n",
              "      <td>Letters from Iwo Jima</td>\n",
              "      <td>5.0</td>\n",
              "      <td>974809897</td>\n",
              "    </tr>\n",
              "    <tr>\n",
              "      <th>2</th>\n",
              "      <td>78808</td>\n",
              "      <td>547</td>\n",
              "      <td>1391</td>\n",
              "      <td>Y Tu Mamá También</td>\n",
              "      <td>0.5</td>\n",
              "      <td>1076809696</td>\n",
              "    </tr>\n",
              "    <tr>\n",
              "      <th>3</th>\n",
              "      <td>78584</td>\n",
              "      <td>547</td>\n",
              "      <td>824</td>\n",
              "      <td>Moulin Rouge!</td>\n",
              "      <td>2.0</td>\n",
              "      <td>1076968814</td>\n",
              "    </tr>\n",
              "    <tr>\n",
              "      <th>4</th>\n",
              "      <td>80322</td>\n",
              "      <td>547</td>\n",
              "      <td>51540</td>\n",
              "      <td>Horrible Bosses</td>\n",
              "      <td>4.0</td>\n",
              "      <td>1192372083</td>\n",
              "    </tr>\n",
              "  </tbody>\n",
              "</table>\n",
              "</div>"
            ],
            "text/plain": [
              "   Unnamed: 0  userId  movieId            movie_title  rating   timestamp\n",
              "0       78477     547      235            Stand by Me     4.0   974780707\n",
              "1       78747     547     1251  Letters from Iwo Jima     5.0   974809897\n",
              "2       78808     547     1391      Y Tu Mamá También     0.5  1076809696\n",
              "3       78584     547      824          Moulin Rouge!     2.0  1076968814\n",
              "4       80322     547    51540        Horrible Bosses     4.0  1192372083"
            ]
          },
          "metadata": {
            "tags": []
          },
          "execution_count": 5
        }
      ]
    },
    {
      "cell_type": "code",
      "metadata": {
        "id": "gM8hHroW96c3",
        "colab": {
          "base_uri": "https://localhost:8080/",
          "height": 198
        },
        "outputId": "b9101fa8-83ad-4d46-e3ec-d5b054cd7b47"
      },
      "source": [
        "test_ratings.head()"
      ],
      "execution_count": null,
      "outputs": [
        {
          "output_type": "execute_result",
          "data": {
            "text/html": [
              "<div>\n",
              "<style scoped>\n",
              "    .dataframe tbody tr th:only-of-type {\n",
              "        vertical-align: middle;\n",
              "    }\n",
              "\n",
              "    .dataframe tbody tr th {\n",
              "        vertical-align: top;\n",
              "    }\n",
              "\n",
              "    .dataframe thead th {\n",
              "        text-align: right;\n",
              "    }\n",
              "</style>\n",
              "<table border=\"1\" class=\"dataframe\">\n",
              "  <thead>\n",
              "    <tr style=\"text-align: right;\">\n",
              "      <th></th>\n",
              "      <th>Unnamed: 0</th>\n",
              "      <th>userId</th>\n",
              "      <th>movieId</th>\n",
              "      <th>movie_title</th>\n",
              "      <th>rating</th>\n",
              "      <th>timestamp</th>\n",
              "    </tr>\n",
              "  </thead>\n",
              "  <tbody>\n",
              "    <tr>\n",
              "      <th>0</th>\n",
              "      <td>78436</td>\n",
              "      <td>547</td>\n",
              "      <td>11</td>\n",
              "      <td>Star Wars</td>\n",
              "      <td>3.0</td>\n",
              "      <td>1418149949</td>\n",
              "    </tr>\n",
              "    <tr>\n",
              "      <th>1</th>\n",
              "      <td>78437</td>\n",
              "      <td>547</td>\n",
              "      <td>14</td>\n",
              "      <td>American Beauty</td>\n",
              "      <td>3.5</td>\n",
              "      <td>1053171195</td>\n",
              "    </tr>\n",
              "    <tr>\n",
              "      <th>2</th>\n",
              "      <td>78438</td>\n",
              "      <td>547</td>\n",
              "      <td>16</td>\n",
              "      <td>Dancer in the Dark</td>\n",
              "      <td>4.0</td>\n",
              "      <td>986694981</td>\n",
              "    </tr>\n",
              "    <tr>\n",
              "      <th>3</th>\n",
              "      <td>78441</td>\n",
              "      <td>547</td>\n",
              "      <td>25</td>\n",
              "      <td>Jarhead</td>\n",
              "      <td>4.5</td>\n",
              "      <td>1053087861</td>\n",
              "    </tr>\n",
              "    <tr>\n",
              "      <th>4</th>\n",
              "      <td>78452</td>\n",
              "      <td>547</td>\n",
              "      <td>111</td>\n",
              "      <td>Scarface</td>\n",
              "      <td>5.0</td>\n",
              "      <td>974809870</td>\n",
              "    </tr>\n",
              "  </tbody>\n",
              "</table>\n",
              "</div>"
            ],
            "text/plain": [
              "   Unnamed: 0  userId  movieId         movie_title  rating   timestamp\n",
              "0       78436     547       11           Star Wars     3.0  1418149949\n",
              "1       78437     547       14     American Beauty     3.5  1053171195\n",
              "2       78438     547       16  Dancer in the Dark     4.0   986694981\n",
              "3       78441     547       25             Jarhead     4.5  1053087861\n",
              "4       78452     547      111            Scarface     5.0   974809870"
            ]
          },
          "metadata": {
            "tags": []
          },
          "execution_count": 3
        }
      ]
    },
    {
      "cell_type": "markdown",
      "metadata": {
        "id": "yTylCQ4OTXEq"
      },
      "source": [
        "### Επανακαθορισμός της Simple Recommender"
      ]
    },
    {
      "cell_type": "markdown",
      "metadata": {
        "id": "5f1LiphucwKY"
      },
      "source": [
        "Εξ'αιτίας όσων περιγράφονται παραπάνω κρίθηκε αναγκαίος ο εκ νέου καθορισμός των querries αναζήτησης όμοιων ταινιών,καθώς και ο καθορισμός της συνάρτησης \"simple_recommender\"."
      ]
    },
    {
      "cell_type": "code",
      "metadata": {
        "id": "98zWZfMOHoe5"
      },
      "source": [
        "def find_movies(movie, similarity):\r\n",
        "    q = prolog.query(\"find_sim_\"+similarity+\"('\" + movie +\"',M)\")\r\n",
        "    ans = []\r\n",
        "    for soln in q:\r\n",
        "        ans.append((soln[\"M\"],similarity))\r\n",
        "    ans = set(ans)\r\n",
        "    return ans\r\n",
        "\r\n",
        "def simple_recommender(movie):\r\n",
        "  ans = set()\r\n",
        "  temp_ans = set()\r\n",
        "  temp_ans = find_movies(movie, \"5\")\r\n",
        "  ans.update((temp_ans))\r\n",
        "  temp_ans = find_movies(movie, \"4\")\r\n",
        "  ans.update((temp_ans))\r\n",
        "  temp_ans = find_movies(movie, \"3\")\r\n",
        "  ans.update((temp_ans))\r\n",
        "  temp_ans = find_movies(movie, \"2\")\r\n",
        "  ans.update((temp_ans))\r\n",
        "  temp_ans = find_movies(movie, \"1\")\r\n",
        "  ans.update((temp_ans))\r\n",
        "  return list(ans)"
      ],
      "execution_count": null,
      "outputs": []
    },
    {
      "cell_type": "code",
      "metadata": {
        "colab": {
          "base_uri": "https://localhost:8080/"
        },
        "id": "OFJafkgIOJM6",
        "outputId": "5947e534-8e71-4b65-ce78-b539c682c70d"
      },
      "source": [
        "print(simple_recommender(\"Batman\"))"
      ],
      "execution_count": null,
      "outputs": [
        {
          "output_type": "stream",
          "text": [
            "[('Dead Man on Campus', '3'), ('Boyz n the Hood', '3'), ('Six Days Seven Nights', '3'), ('Just Go with It', '3'), ('Caddyshack', '3'), ('Event Horizon', '3'), ('Star Trek: The Motion Picture', '2'), ('Risen', '3'), ('The Bucket List', '3'), ('Return to the Blue Lagoon', '3'), ('Faster', '2'), ('Me You and Five Bucks', '3'), ('X2', '3'), ('Alvin and the Chipmunks: The Road Chip', '3'), ('The Other End of the Line', '3'), ('The Life Aquatic with Steve Zissou', '2'), ('The Dead Girl', '3'), ('The Way Way Back', '3'), ('Falcon Rising', '2'), ('Welcome to Collinwood', '3'), ('Dawn of the Planet of the Apes', '2'), ('Street Fighter', '2'), ('Dinner Rush', '3'), ('My Bosss Daughter', '3'), ('Speedway Junky', '3'), ('Fat Albert', '2'), ('Big Trouble in Little China', '2'), ('Killer Elite', '2'), ('The Jackal', '3'), ('The Prince of Egypt', '2'), ('The Mist', '3'), ('Rambo: First Blood Part II', '2'), ('Madagascar 3: Europes Most Wanted', '3'), ('Beverly Hills Chihuahua', '3'), ('R.I.P.D.', '2'), ('Love Stinks', '3'), ('The Invasion', '3'), ('Special', '2'), ('Fantastic Four', '3'), ('Star Trek III: The Search for Spock', '3'), ('Son of the Mask', '2'), ('Antarctica: A Year on Ice', '3'), ('All or Nothing', '3'), ('Ta Ra Rum Pum', '2'), ('Dragon Wars: D-War', '3'), ('Battleship', '3'), ('Four Single Fathers', '3'), ('Shrek the Third', '2'), ('A Sound of Thunder', '3'), ('Action Jackson', '2'), ('Mystery, Alaska', '3'), ('Under the Rainbow', '3'), ('Paul Blart: Mall Cop', '2'), ('Mr. Nice Guy', '3'), ('Due Date', '3'), ('Waiting...', '3'), ('Topaz', '3'), ('Back to the Future Part III', '2'), ('My Favorite Martian', '3'), ('The Hotel New Hampshire', '3'), ('Groundhog Day', '2'), ('Hoodwinked Too! Hood VS. Evil', '2'), ('Keanu', '2'), ('The Sentinel', '2'), ('The Flintstones in Viva Rock Vegas', '3'), ('First Blood', '2'), ('Poohs Heffalump Movie', '3'), ('Resident Evil: Extinction', '2'), ('Next Day Air', '3'), ('The Last Five Years', '3'), ('Sin City: A Dame to Kill For', '3'), ('Varsity Blues', '3'), ('The Equalizer', '2'), ('Another Year', '3'), ('Death Race 2000', '3'), ('Grand Theft Parsons', '3'), ('Jeff, Who Lives at Home', '3'), ('Jonah Hex', '2'), ('Nurse Betty', '2'), ('The Box', '3'), ('Brigham City', '3'), ('Dude Wheres My Dog?', '3'), ('Town & Country', '3'), ('Catch That Kid', '3'), ('Dogma', '3'), ('Walking and Talking', '3'), ('My Dog Skip', '2'), ('I Dreamed of Africa', '3'), ('The Covenant', '2'), ('Tadpole', '3'), ('Godsend', '3'), ('Now You See Me 2', '2'), ('Brighton Rock', '3'), ('Crimson Tide', '3'), ('I Am Wrath', '2'), ('The Hunger Games', '3'), ('Con Air', '2'), ('Were the Millers', '2'), ('Bottle Shock', '3'), ('Remember Me, My Love', '3'), ('How to Train Your Dragon 2', '2'), ('Blue Crush', '3'), ('Blazing Saddles', '3'), ('The Living Wake', '3'), ('The Wood', '3'), ('Superhero Movie', '3'), ('Jay and Silent Bob Strike Back', '3'), ('Never Let Me Go', '3'), ('The Finest Hours', '3'), ('Hercules', '2'), ('Charlottes Web', '3'), ('First Knight', '2'), ('I Served the King of England', '3'), ('Letters from Iwo Jima', '2'), ('Dark Shadows', '5'), ('Diary of a Mad Black Woman', '3'), ('TMNT', '3'), ('The Chronicles of Narnia: Prince Caspian', '3'), ('Pocahontas', '2'), ('Money Train', '3'), ('Stealth', '3'), ('Lost in Space', '3'), ('Fright Night', '3'), ('Compadres', '2'), ('This Is the End', '2'), ('The Chronicles of Riddick', '2'), ('Find Me Guilty', '3'), ('The Devils Double', '2'), ('Saving Silverman', '2'), ('Def Jams How to Be a Player', '3'), ('Couples Retreat', '3'), ('A Knights Tale', '2'), ('Skyline', '3'), ('Abraham Lincoln: Vampire Hunter', '2'), ('End of the Spear', '3'), ('Hugo', '2'), ('Christmas Eve', '3'), ('Rubber', '2'), ('Jack Ryan: Shadow Recruit', '3'), ('Prison', '3'), ('Galaxina', '2'), ('Rush Hour 2', '3'), ('The Good Heart', '3'), ('Transformers: Dark of the Moon', '3'), ('The Joneses', '3'), ('Donkey Punch', '3'), ('Alexander', '2'), ('The Adventures of Elmo in Grouchland', '3'), ('The Bad Lieutenant: Port of Call - New Orleans', '3'), ('Enough Said', '3'), ('Logans Run', '3'), ('Predator 2', '2'), ('Run All Night', '2'), ('Shadow Conspiracy', '3'), ('Farce of the Penguins', '3'), ('City of Angels', '3'), ('In Good Company', '3'), ('Skin Trade', '3'), ('Something Borrowed', '3'), ('The Spectacular Now', '3'), ('Monster', '3'), ('The Greatest Movie Ever Sold', '3'), ('The Secret Life of Walter Mitty', '3'), ('Lone Wolf McQuade', '2'), ('Hard to Be a God', '3'), ('Monte Carlo', '2'), ('Charlies Angels: Full Throttle', '3'), ('Departure', '3'), ('Max Keebles Big Move', '2'), ('Flight of the Phoenix', '2'), ('Red Dawn', '3'), ('Everest', '3'), ('Basic', '2'), ('The Adventures of Pluto Nash', '3'), ('Mystic River', '3'), ('Saw', '3'), ('The Work and The Story', '3'), ('Now You See Me', '3'), ('The Beastmaster', '2'), ('Fight to the Finish', '3'), ('Happy Feet Two', '2'), ('Blade Runner', '3'), ('Runaway Bride', '3'), ('The Killer Inside Me', '3'), ('Lake Placid', '3'), ('Kick-Ass', '2'), ('Akira', '3'), ('Deterrence', '3'), ('The Divide', '3'), ('Code Name: The Cleaner', '3'), ('Faithful', '2'), ('Woo', '3'), ('Tales from the Crypt: Demon Knight', '3'), ('The Day the Earth Stood Still', '3'), ('Dude, Where’s My Car?', '3'), ('Breakin All the Rules', '3'), ('The Last Big Thing', '3'), ('The Mighty Ducks', '2'), ('Duplicity', '2'), ('Batman Forever', '5'), ('Grandmas Boy', '3'), ('42nd Street', '3'), ('Just My Luck', '3'), ('The Order', '3'), ('Starsky & Hutch', '2'), ('The Muppets', '2'), ('Breakdown', '3'), ('Automata', '3'), ('The Host', '3'), ('Dumb and Dumber To', '3'), ('The Rugrats Movie', '3'), ('Heavens Gate', '3'), ('Because of Winn-Dixie', '2'), ('Martin Lawrence Live: Runteldat', '3'), ('As Good as It Gets', '3'), ('Tin Cup', '3'), ('Man on the Moon', '3'), ('The Adventures of Sharkboy and Lavagirl', '3'), ('Nanny McPhee', '3'), ('2 Guns', '3'), ('The Bad News Bears', '2'), ('Compliance', '3'), ('Wyatt Earp', '3'), ('But Im a Cheerleader', '3'), ('Kill Bill: Vol. 1', '2'), ('Steamboy', '2'), ('Ladder 49', '3'), ('Oceans Eleven', '3'), ('K-PAX', '3'), ('Howls Moving Castle', '2'), ('The Good Girl', '3'), ('Bridget Joness Diary', '3'), ('Snow White and the Seven Dwarfs', '2'), ('Jersey Girl', '3'), ('Force 10 from Navarone', '2'), ('The Incredibles', '3'), ('Sound of My Voice', '3'), ('Just Wright', '3'), ('Click', '2'), ('Scary Movie 2', '3'), ('The Best Offer', '3'), ('The Bourne Ultimatum', '3'), ('Soul Plane', '3'), ('The American', '3'), ('New York Stories', '3'), ('The Last Airbender', '2'), ('The Misfits', '3'), ('Glengarry Glen Ross', '3'), ('The Opposite Sex', '3'), ('Adulterers', '3'), ('High Anxiety', '3'), ('Herbie Fully Loaded', '2'), ('Good Morning, Vietnam', '3'), ('Four Weddings and a Funeral', '3'), ('Aquamarine', '3'), ('The Island of Dr. Moreau', '2'), ('The Brothers Grimm', '2'), ('Screwed', '2'), ('Knock Off', '2'), ('Dance Flick', '2'), ('The Ultimate Gift', '3'), ('Eddie: The Sleepwalking Cannibal', '3'), ('Space Dogs', '3'), ('The Adventures of Rocky & Bullwinkle', '2'), ('Tango & Cash', '3'), ('Theresa Is a Mother', '3'), ('A Thin Line Between Love and Hate', '2'), ('The World Is Not Enough', '2'), ('Twilight', '2'), ('Conan the Barbarian', '3'), ('Journey to the Center of the Earth', '2'), ('Ultraviolet', '2'), ('Beastly', '3'), ('My Girl', '2'), ('Reno 911!: Miami', '2'), ('Tae Guk Gi: The Brotherhood of War', '2'), ('Panic Room', '3'), ('Deliver Us from Evil', '3'), ('Hancock', '2'), ('The Perfect Game', '3'), ('Latter Days', '3'), ('Cutthroat Island', '2'), ('Money Talks', '3'), ('Area 51', '3'), ('Hells Angels', '3'), ('National Treasure', '2'), ('Legend of the Guardians: The Owls of GaHoole', '3'), ('Transcendence', '3'), ('Bambi', '3'), ('The Producers', '3'), ('Diary of a Wimpy Kid', '2'), ('Small Soldiers', '2'), ('Hotel for Dogs', '2'), ('Rushmore', '3'), ('Jack and Jill', '3'), ('Independence Day: Resurgence', '3'), ('Splice', '3'), ('Jennifers Body', '3'), ('Ice Age: Continental Drift', '3'), ('11:14', '3'), ('Die Another Day', '2'), ('Don McKay', '3'), ('Fled', '2'), ('Sorcerer', '2'), ('Romeo Must Die', '2'), ('Mean Streets', '3'), ('The Sorcerers Apprentice', '2'), ('Light Sleeper', '3'), ('Gunless', '2'), ('Madea Goes to Jail', '2'), ('The Signal', '3'), ('Prometheus', '2'), ('The Naked Gun 2½: The Smell of Fear', '2'), ('The Stewardesses', '3'), ('Deep Rising', '3'), ('21', '3'), ('Bullets Over Broadway', '2'), ('Superstar', '2'), ('The American President', '3'), ('E.T. the Extra-Terrestrial', '2'), ('The Other Guys', '3'), ('Life of Pi', '2'), ('Semi-Pro', '3'), ('16 to Life', '3'), ('Big Mommas House', '2'), ('Ishtar', '3'), ('Lock, Stock and Two Smoking Barrels', '2'), ('Beerfest', '3'), ('Mr. Smith Goes to Washington', '3'), ('Transformers: Age of Extinction', '3'), ('Barbershop', '3'), ('Welcome to the Sticks', '3'), ('Astro Boy', '3'), ('Octopussy', '2'), ('Crooklyn', '3'), ('Robots', '3'), ('All About the Benjamins', '3'), ('The Nutcracker: The Untold Story', '3'), ('Khiladi 786', '2'), ('Wolves', '3'), ('Cheaper by the Dozen', '3'), ('Some Guy Who Kills People', '3'), ('The Wash', '2'), ('The Salon', '3'), ('Sea of Love', '3'), ('Alexander and the Terrible, Horrible, No Good, Very Bad Day', '2'), ('Indiana Jones and the Kingdom of the Crystal Skull', '2'), ('The Lizzie McGuire Movie', '2'), ('Its Kind of a Funny Story', '3'), ('Playing for Keeps', '3'), ('Bran Nue Dae', '3'), ('Queen Crab', '3'), ('Scary Movie 4', '3'), ('Juno', '3'), ('The Incredible Hulk', '3'), ('Wag the Dog', '3'), ('Little Man', '2'), ('Four Lions', '2'), ('Seventh Son', '2'), ('Shooter', '2'), ('The Net', '2'), ('A True Story', '3'), ('Taxi Driver', '3'), ('Mad Max Beyond Thunderdome', '3'), ('Iron Man 2', '3'), ('Out of Inferno', '3'), ('Ace Ventura: Pet Detective', '3'), ('Modern Problems', '3'), ('The Lady from Shanghai', '3'), ('The Score', '2'), ('Super Troopers', '2'), ('Three to Tango', '3'), ('Man on Fire', '2'), ('The Last Dragon', '3'), ('Jurassic Park III', '3'), ('Star Trek Beyond', '3'), ('The Client', '3'), ('The Godfather: Part II', '3'), ('Gerry', '3'), ('Swimming Pool', '3'), ('Jaws', '3'), ('The Abyss', '3'), ('Dumb and Dumber', '3'), ('Danny Collins', '3'), ('Windtalkers', '3'), ('L!fe Happens', '3'), ('The Tourist', '3'), ('Step Up', '3'), ('Diary of a Wimpy Kid: Rodrick Rules', '2'), ('X-Men', '3'), ('Niagara', '3'), ('Double Take', '3'), ('Wild Wild West', '2'), ('The Secret of Kells', '2'), ('Enter the Void', '3'), ('Thomas and the Magic Railroad', '2'), ('The Princess Bride', '2'), ('Dancer, Texas Pop. 81', '2'), ('The Rage: Carrie 2', '3'), ('Theres Always Woodstock', '3'), ('The Martian', '2'), ('The Greatest Game Ever Played', '3'), ('Zoolander 2', '3'), ('The Heat', '3'), ('The Longest Yard', '3'), ('Safety Not Guaranteed', '2'), ('All Hat', '2'), ('The Proposal', '3'), ('Source Code', '3'), ('Karachi se Lahore', '2'), ('Evan Almighty', '3'), ('Edward Scissorhands', '5'), ('The Hunger Games: Mockingjay - Part 1', '2'), ('Radio Days', '3'), ('Harold & Kumar Go to White Castle', '2'), ('Moms Night Out', '3'), ('Bangkok Dangerous', '2'), ('Mrs Henderson Presents', '3'), ('Neighbors', '3'), ('Phat Girlz', '3'), ('Doom', '2'), ('Magic Mike', '3'), ('Christmas Mail', '2'), ('Serendipity', '3'), ('Airborne', '3'), ('Sweet Home Alabama', '3'), ('The Motel', '3'), ('Warlock', '3'), ('Escape from Alcatraz', '3'), ('Get Carter', '2'), ('The Great Beauty', '3'), ('The Interview', '2'), ('Black Knight', '3'), ('On the Road', '3'), ('The Women', '3'), ('Under the Tuscan Sun', '3'), ('Hulk', '2'), ('Charlie Bartlett', '3'), ('50/50', '3'), ('I Spit on Your Grave', '3'), ('This Means War', '2'), ('Observe and Report', '2'), ('Dreamer: Inspired By a True Story', '3'), ('Clueless', '3'), ('The Good Thief', '3'), ('Laws of Attraction', '2'), ('Our Brand Is Crisis', '3'), ('Rise of the Guardians', '2'), ('Legally Blonde', '3'), ('Airplane!', '3'), ('The Mummy: Tomb of the Dragon Emperor', '3'), ('Youth in Revolt', '3'), ('Step Brothers', '3'), ('A Christmas Story', '2'), ('Kiss of Death', '2'), ('New in Town', '3'), ('The Californians', '3'), ('The Full Monty', '3'), ('Married Life', '3'), ('Ironclad', '2'), ('Johnny Suede', '3'), ('Cloudy with a Chance of Meatballs', '2'), ('A Lot Like Love', '3'), ('Super Size Me', '3'), ('Red Riding: In the Year of Our Lord 1974', '3'), ('Training Day', '2'), ('Resident Evil: Afterlife', '3'), ('Hud', '3'), ('Dragon Hunters', '3'), ('Surfs Up', '2'), ('Royal Kill', '3'), ('Meet Joe Black', '3'), ('The Ladykillers', '2'), ('Annie Get Your Gun', '2'), ('The Switch', '3'), ('Bound', '3'), ('The Santa Clause 2', '3'), ('Blood Done Sign My Name', '3'), ('The White Ribbon', '3'), ('Live and Let Die', '2'), ('Beverly Hills Cop II', '3'), ('Heartbeeps', '2'), ('Next Friday', '3'), ('Volver', '3'), ('Quest for Camelot', '2'), ('Central Intelligence', '2'), ('Rio 2', '3'), ('The Informant!', '2'), ('The Lone Ranger', '2'), ('The Interpreter', '3'), ('Accidental Love', '3'), ('Kill Bill: Vol. 2', '2'), ('Dinosaur', '3'), ('Hitch', '3'), ('Hop', '2'), ('The Perez Family', '3'), ('Drop Dead Gorgeous', '3'), ('Executive Decision', '2'), ('Footloose', '3'), ('Fun with Dick and Jane', '3'), ('Arachnophobia', '3'), ('Fast Times at Ridgemont High', '3'), ('Harry Potter and the Chamber of Secrets', '3'), ('The Skulls', '3'), ('The Illusionist', '3'), ('Blade: Trinity', '2'), ('Dream with the Fishes', '3'), ('The Matrix Revolutions', '3'), ('Big Mommas House 2', '2'), ('My Super Ex-Girlfriend', '2'), ('Ladyhawke', '2'), ('Glee: The Concert Movie', '3'), ('Serial Mom', '2'), ('Extract', '3'), ('Captain Phillips', '3'), ('Wanted', '2'), ('Honey', '3'), ('Ed Wood', '3'), ('My Dog Tulip', '3'), ('Imaginary Heroes', '3'), ('Soldier', '2'), ('American Pie 2', '3'), ('Primary Colors', '3'), ('Driving Miss Daisy', '3'), ('Pocketful of Miracles', '3'), ('Suicide Squad', '2'), ('WarGames', '3'), ('Adaptation.', '2'), ('Gangster Squad', '2'), ('Bridget Jones: The Edge of Reason', '3'), ('Thank You for Smoking', '3'), ('Flywheel', '3'), ('Congo', '3'), ('Code 46', '3'), ('21 Jump Street', '3'), ('The Importance of Being Earnest', '3'), ('Insomnia', '3'), ('Kiss the Bride', '3'), ('Bulworth', '3'), ('The Station Agent', '3'), ('Buffalo Soldiers', '2'), ('Dantes Peak', '2'), ('Sex Tape', '3'), ('Waynes World', '3'), ('Ted', '2'), ('Dreamcatcher', '3'), ('The Cottage', '2'), ('Hardflip', '3'), ('Rock Star', '3'), ('Man of the Year', '3'), ('The Saint', '3'), ('Clockstoppers', '3'), ('The Fisher King', '3'), ('Goosebumps', '2'), ('The Girl Next Door', '3'), ('The Specialist', '3'), ('Perrier’s Bounty', '3'), ('Winter Passing', '3'), ('The Hammer', '3'), ('Dragon Blade', '2'), ('Funny People', '3'), ('Deep Blue Sea', '2'), ('Saint Ralph', '3'), ('Frances Ha', '3'), ('Go', '2'), ('Firestorm', '2'), ('Donnie Darko', '3'), ('El Rey de Najayo', '3'), ('In Bruges', '2'), ('Hot Fuzz', '3'), ('Paint Your Wagon', '2'), ('Ghost Town', '2'), ('Street Fighter: The Legend of Chun-Li', '3'), ('The Smurfs', '2'), ('Dirty Grandpa', '3'), ('Eulogy', '3'), ('Knocked Up', '3'), ('Big Fat Liar', '2'), ('American Pie', '3'), ('What Women Want', '3'), ('Everyone Says I Love You', '3'), ('Monster-in-Law', '3'), ('U-571', '3'), ('The Tree of Life', '3'), ('The Shawshank Redemption', '3'), ('The Legend of the Lone Ranger', '2'), ('Driven', '3'), ('Troy', '3'), ('Kingdom of the Spiders', '3'), ('Riding in Cars with Boys', '3'), ('Frequency', '2'), ('War of the Worlds', '2'), ('Moliere', '3'), ('Pootie Tang', '2'), ('The Purge: Election Year', '3'), ('The 6th Day', '3'), ('Return of the Living Dead 3', '2'), ('Sands of Iwo Jima', '3'), ('Lady in the Water', '3'), ('Dylan Dog: Dead of Night', '3'), ('Anchorman 2: The Legend Continues', '3'), ('Femme Fatale', '3'), ('We Bought a Zoo', '2'), ('Mad Max: Fury Road', '3'), ('Inkheart', '3'), ('Scary Movie 5', '3'), ('Battlefield Earth', '2'), ('A Charlie Brown Christmas', '2'), ('The SpongeBob Movie: Sponge Out of Water', '3'), ('16 Blocks', '3'), ('The Best Man Holiday', '3'), ('Night Watch', '2'), ('Valentines Day', '3'), ('Lords of London', '3'), ('30 Nights of Paranormal Activity With the Devil Inside the Girl With the Dragon Tattoo', '3'), ('Kiss the Girls', '3'), ('Requiem for a Dream', '3'), ('Inside Out', '2'), ('Bloodsport', '3'), ('Speed', '3'), ('Good Intentions', '3'), ('Trust', '3'), ('Return to Me', '3'), ('Annie', '2'), ('The Amazing Spider-Man 2', '3'), ('Dick Tracy', '2'), ('Scream', '3'), ('The Godfather: Part III', '3'), ('DysFunktional Family', '3'), ('Clockwatchers', '3'), ('EuroTrip', '3'), ('Pirates of the Caribbean: Dead Mans Chest', '3'), ('The Brothers Bloom', '2'), ('Crocodile Dundee II', '2'), ('Daddys Home', '3'), ('Mary Poppins', '3'), ('My Cousin Vinny', '3'), ('Last I Heard', '3'), ('Star Trek: Insurrection', '3'), ('The Rules of Attraction', '3'), ('22 Jump Street', '3'), ('Superman Returns', '2'), ('Sweet Charity', '3'), ('Lets Go to Prison', '2'), ('Wild Hogs', '3'), ('Lets Kill Wards Wife', '3'), ('88 Minutes', '3'), ('Theres Something About Mary', '3'), ('Limbo', '3'), ('Travellers and Magicians', '3'), ('A Cock and Bull Story', '3'), ('Good Deeds', '3'), ('Delgo', '2'), ('Stand by Me', '3'), ('Four Brothers', '2'), ('American Hustle', '3'), ('The Edge', '2'), ('In the Name of the King III', '3'), ('Trainspotting', '3'), ('New Years Eve', '3'), ('Runner Runner', '3'), ('Swelter', '3'), ('Nowhere to Run', '2'), ('Fury', '3'), ('Quest for Fire', '3'), ('Das Boot', '2'), ('The Singing Detective', '2'), ('Letters to God', '2'), ('Sahara', '3'), ('Cloverfield', '2'), ('Easy Virtue', '3'), ('Trash', '2'), ('The Jimmy Show', '3'), ('Best in Show', '3'), ('The Three Musketeers', '2'), ('Tim and Erics Billion Dollar Movie', '3'), ('Dumb and Dumberer: When Harry Met Lloyd', '3'), ('In & Out', '3'), ('Dickie Roberts: Former Child Star', '3'), ('The Son of No One', '3'), ('Bulletproof Monk', '3'), ('National Lampoons Loaded Weapon 1', '3'), ('The Devil Wears Prada', '3'), ('Cube', '3'), ('Spy Kids', '2'), ('Bride & Prejudice', '3'), ('Welcome to Mooseport', '3'), ('The Pink Panther', '2'), ('Mission: Impossible - Rogue Nation', '2'), ('Over Her Dead Body', '3'), ('Life or Something Like It', '3'), ('Open Season', '2'), ('The Puffy Chair', '3'), ('BloodRayne', '3'), ('The Gambler', '3'), ('Last Orders', '3'), ('The Brothers McMullen', '3'), ('Spy Kids 3-D: Game Over', '2'), ('Major League', '3'), ('The Lego Movie', '2'), ('Space Battleship Yamato', '3'), ('Allegiant', '2'), ('Bachelorette', '3'), ('Going the Distance', '3'), ('The Blue Butterfly', '2'), ('The Road', '3'), ('How to Fall in Love', '3'), ('Tracker', '2'), ('Mission: Impossible III', '2'), ('The Legend of Gods Gun', '3'), ('Alvin and the Chipmunks', '3'), ('Taking Woodstock', '3'), ('X-Men: The Last Stand', '3'), ('Time Changer', '3'), ('Shooting Fish', '2'), ('Collateral Damage', '3'), ('Dudley Do-Right', '2'), ('Day of the Dead', '3'), ('Harry Potter and the Goblet of Fire', '3'), ('Kill the Messenger', '3'), ('Super 8', '3'), ('Green Lantern', '2'), ('Black Mass', '3'), ('Zulu', '3'), ('Men of War', '3'), ('The Glimmer Man', '3'), ('Juwanna Mann', '3'), ('Bring It On', '3'), ('The Tuxedo', '3'), ('The Chronicles of Narnia: The Lion, the Witch and the Wardrobe', '3'), ('A Room for Romeo Brass', '3'), ('Good Luck Chuck', '3'), ('Charlie and the Chocolate Factory', '2'), ('Close Range', '2'), ('The Astronaut Farmer', '3'), ('Freeze Frame', '3'), ('Nicholas Nickleby', '3'), ('Armageddon', '3'), ('Ever After: A Cinderella Story', '3'), ('Battle for the Planet of the Apes', '2'), ('Act of Valor', '3'), ('This Christmas', '3'), ('Happily NEver After', '2'), ('Definitely, Maybe', '3'), ('Red State', '3'), ('Don Jon', '3'), ('Dope', '2'), ('Someone Like You...', '3'), ('Corpse Bride', '3'), ('A Passage to India', '3'), ('Fantastic Mr. Fox', '3'), ('Hollywood Ending', '3'), ('Drive Angry', '3'), ('Black Hawk Down', '3'), ('The Five-Year Engagement', '3'), ('The Big Hit', '3'), ('Fantastic 4: Rise of the Silver Surfer', '3'), ('The Warlords', '3'), ('Tremors', '3'), ('Queen of the Mountains', '3'), ('Cirque du Freak: The Vampires Assistant', '3'), ('Deconstructing Harry', '3'), ('The Spanish Prisoner', '3'), ('Modern Times', '3'), ('Diamonds Are Forever', '2'), ('The Bodyguard', '3'), ('Side Effects', '3'), ('The 5th Wave', '2'), ('Neighbors 2: Sorority Rising', '3'), ('The Blood of Heroes', '3'), ('Timeline', '3'), ('Star Trek V: The Final Frontier', '3'), ('Memoirs of an Invisible Man', '3'), ('The Last Song', '3'), ('Blade', '3'), ('We Have Your Husband', '3'), ('Ghost Rider', '2'), ('Hitman', '2'), ('Zero Effect', '2'), ('Extreme Movie', '3'), ('Office Space', '2'), ('The Hudsucker Proxy', '3'), ('Kung Fu Jungle', '2'), ('Pieces of April', '3'), ('Contraband', '2'), ('Getaway', '2'), ('The Trouble with Harry', '3'), ('Jackass 3D', '2'), ('Johnny English Reborn', '2'), ('From Dusk Till Dawn', '2'), ('Aberdeen', '3'), ('The Pirates! In an Adventure with Scientists!', '3'), ('Baahubali: The Beginning', '2'), ('xXx: State of the Union', '3'), ('Half Baked', '2'), ('The Naked Gun 33⅓: The Final Insult', '2'), ('Owning Mahowny', '3'), ('Harry Potter and the Order of the Phoenix', '3'), ('Bad Company', '3'), ('Micmacs', '3'), ('Harry Potter and the Philosophers Stone', '3'), ('John Carter', '3'), ('The Last Days on Mars', '3'), ('Turbulence', '2'), ('Hudson Hawk', '3'), ('The Golden Child', '3'), ('The Crocodile Hunter: Collision Course', '3'), ('For Your Consideration', '3'), ('The Three Burials of Melquiades Estrada', '2'), ('Not Another Teen Movie', '3'), ('Ratatouille', '3'), ('The Oh in Ohio', '3'), ('Scrooged', '2'), ('Madagascar: Escape 2 Africa', '3'), ('Babe', '3'), ('Detention', '2'), ('Bless the Child', '3'), ('Impostor', '2'), ('Riddick', '2'), ('Brown Sugar', '3'), ('The Last Samurai', '3'), ('The Lord of the Rings: The Return of the King', '3'), ('Repo Men', '3'), ('A Walk Among the Tombstones', '3'), ('The Fourth Kind', '3'), ('The Legend of Zorro', '2'), ('Hanging Up', '3'), ('Down Terrace', '2'), ('Jingle All the Way', '2'), ('Cats Dont Dance', '2'), ('Casa De Mi Padre', '3'), ('The Imaginarium of Doctor Parnassus', '2'), ('Mamma Mia!', '3'), ('Blackthorn', '2'), ('Death Sentence', '2'), ('Being John Malkovich', '2'), ('The Intern', '3'), ('Licence to Kill', '2'), ('Planet of the Apes', '5'), ('Hes Just Not That Into You', '3'), ('Anaconda', '3'), ('Dinner for Schmucks', '3'), ('Chasing Papi', '3'), ('The Best Man', '3'), ('Bowfinger', '3'), ('Submarine', '3'), ('Pandorum', '2'), ('RockNRolla', '2'), ('A Simple Wish', '2'), ('Seed of Chucky', '3'), ('Earth to Echo', '3'), ('Austin Powers: The Spy Who Shagged Me', '2'), ('A Dogs Breakfast', '3'), ('The Return of the Living Dead', '3'), ('The Spy Next Door', '3'), ('The Best Little Whorehouse in Texas', '3'), ('The Dictator', '3'), ('Holy Motors', '3'), ('Blue Jasmine', '3'), ('Deuces Wild', '2'), ('Soul Kitchen', '3'), ('The Country Doctor', '3'), ('Save the Last Dance', '3'), ('The November Man', '2'), ('The Thing', '3'), ('Nomad: The Warrior', '3'), ('Blonde Ambition', '3'), ('Movie 43', '3'), ('Virgin Territory', '3'), ('Killers', '2'), ('Lara Croft Tomb Raider: The Cradle of Life', '3'), ('The Adventures of Ford Fairlane', '3'), ('20 Dates', '3'), ('Dear Wendy', '2'), ('Love Jones', '3'), ('Youve Got Mail', '3'), ('Ice Princess', '2'), ('I Love You, Man', '3'), ('Shaft', '3'), ('Puss in Boots', '2'), ('Resident Evil: Apocalypse', '2'), ('Navy Seals vs. Zombies', '3'), ('Rabbit-Proof Fence', '2'), ('The Names of Love', '3'), ('Adventureland', '3'), ('Sex and the City 2', '3'), ('Shopgirl', '3'), ('Peggy Sue Got Married', '2'), ('Jason Goes to Hell: The Final Friday', '3'), ('The Bourne Legacy', '3'), ('Digimon: The Movie', '3'), ('Torque', '3'), ('Shes Out of My League', '3'), ('Megaforce', '3'), ('Made', '2'), ('The Man with the Iron Fists', '3'), ('Sunshine Cleaning', '3'), ('The Ballad of Cable Hogue', '2'), ('Thirteen', '3'), ('The Godfather', '3'), ('Contact', '3'), ('Hackers', '2'), ('The Hobbit: An Unexpected Journey', '3'), ('The Singles Ward', '2'), ('Hav Plenty', '3'), ('Muppets from Space', '2'), ('Ted 2', '3'), ('Little Voice', '3'), ('Rock of Ages', '3'), ('Spider-Man 2', '3'), ('Gridiron Gang', '3'), ('Carnage', '3'), ('The Sweeney', '2'), ('Hot Pursuit', '3'), ('American Splendor', '3'), ('The Expendables', '2'), ('Shall We Dance?', '3'), ('Brother', '3'), ('The Watch', '3'), ('Meteor', '2'), ('The Prisoner of Zenda', '3'), ('Tears of the Sun', '3'), ('Green Room', '3'), ('Mr. Beans Holiday', '2'), ('I Am Number Four', '3'), ('Baggage Claim', '3'), ('Stiff Upper Lips', '3'), ('The Rocker', '3'), ('Aladdin', '2'), ('Match Point', '3'), ('Into the Woods', '2'), ('Elsa & Fred', '2'), ('Kung Pow: Enter the Fist', '2'), ('Star Trek VI: The Undiscovered Country', '3'), ('The Boondock Saints', '2'), ('Poseidon', '2'), ('Scooby-Doo', '2'), ('The Ugly Truth', '3'), ('Bad Boys II', '2'), ('An Everlasting Piece', '2'), ('Asterix at the Olympic Games', '2'), ('Sky High', '3'), ('The Mask', '3'), ('Tidal Wave', '2'), ('Robin Hood: Prince of Thieves', '3'), ('The Beast from 20,000 Fathoms', '2'), ('Hairspray', '2'), ('The Grey', '3'), ('The Hole', '2'), ('Highway', '2'), ('The Thirteenth Floor', '3'), ('Crossroads', '2'), ('Evil Dead II', '2'), ('Titan A.E.', '2'), ('Soul Men', '3'), ('1941', '2'), ('Scoop', '3'), ('Troll Hunter', '3'), ('Winters Tale', '3'), ('Spy Hard', '2'), ('The Transporter', '2'), ('Dragon Nest: Warriors Dawn', '3'), ('The Core', '3'), ('The Town', '3'), ('City Island', '3'), ('Lord of War', '3'), ('Big Fish', '5'), ('Sphere', '3'), ('The Lucky Ones', '3'), ('Malone', '3'), ('The Darkest Hour', '2'), ('Ant-Man', '3'), ('Not Cool', '3'), ('Sicario', '2'), ('The Horseman on the Roof', '3'), ('Mirrormask', '3'), ('Dances with Wolves', '3'), ('The Big Short', '3'), ('Across the Universe', '3'), ('Project Almanac', '3'), ('Did You Hear About the Morgans?', '3'), ('The Legend of Tarzan', '2'), ('Jade', '3'), ('Sugar Hill', '3'), ('Red Riding Hood', '3'), ('Bandits', '3'), ('Barnyard', '2'), ('Three Men and a Baby', '2'), ('Sgt. Bilko', '2'), ('Born Of War', '3'), ('Survival of the Dead', '3'), ('The Perfect Man', '2'), ('The Book of Eli', '2'), ('Practical Magic', '2'), ('The Hunger Games: Catching Fire', '3'), ('Smokin Aces', '3'), ('The Exorcism of Emily Rose', '3'), ('Apollo 18', '3'), ('A Good Year', '3'), ('Big Eyes', '5'), ('Sinbad: Legend of the Seven Seas', '2'), ('St. Vincent', '3'), ('Kicking & Screaming', '2'), ('Around the World in 80 Days', '3'), ('The X Files', '3'), ('Lawrence of Arabia', '3'), ('The History Boys', '3'), ('Along the Roadside', '3'), ('Gods of Egypt', '3'), ('Prom Night', '3'), ('Monkeybone', '2'), ('Pain & Gain', '2'), ('Forbidden Kingdom', '2'), ('The Musketeer', '2'), ('Ripleys Game', '3'), ('Disturbing Behavior', '3'), ('10th & Wolf', '2'), ('Tropic Thunder', '2'), ('The Corruptor', '2'), ('Love Actually', '3'), ('Big', '3'), ('Sex Drive', '2'), ('Double Impact', '2'), ('Cursed', '3'), ('A Most Violent Year', '3'), ('RoboCop 3', '2'), ('Ponyo', '3'), ('Cure', '3'), ('Her', '3'), ('Class of 1984', '2'), ('1911', '2'), ('The Matrix Reloaded', '3'), ('Teachers Pet', '3'), ('The Postman', '3'), ('Home Fries', '3'), ('Children of Heaven', '2'), ('On the Waterfront', '3'), ('Wonderland', '3'), ('Red Dog', '2'), ('Silent Trigger', '3'), ('The Toxic Avenger Part II', '2'), ('Agent Cody Banks', '3'), ('A Madea Christmas', '3'), ('Zoom', '3'), ('The Kids Are All Right', '3'), ('The Good, The Bad, The Weird', '3'), ('Paul', '3'), ('Bamboozled', '3'), ('Desert Blue', '3'), ('Treading Water', '3'), ('The Three Stooges', '3'), ('Heavenly Creatures', '3'), ('Babys Day Out', '2'), ('Warm Bodies', '3'), ('Hidalgo', '3'), ('Krull', '3'), ('Betty Fisher and Other Stories', '3'), ('September Dawn', '3'), ('Down to Earth', '3'), ('Lara Croft: Tomb Raider', '3'), ('Swing Vote', '3'), ('Flawless', '3'), ('The Ghastly Love of Johnny X', '2'), ('Underworld: Rise of the Lycans', '2'), ('Vaalu', '3'), ('Where the Wild Things Are', '2'), ('Independence Daysaster', '2'), ('War', '2'), ('Horrible Bosses 2', '3'), ('Red Sky', '3'), ('The 13th Warrior', '3'), ('Mrs. Winterbourne', '3'), ('Dave Chappelles Block Party', '3'), ('Dom Hemingway', '2'), ('The Bélier Family', '3'), ('Love & Other Drugs', '3'), ('Scott Pilgrim vs. the World', '3'), ('Vamps', '3'), ('That Awkward Moment', '3'), ('Home Alone', '2'), ('High School Musical 3: Senior Year', '2'), ('Northfork', '2'), ('The Twilight Saga: Eclipse', '2'), ('The Haunting', '3'), ('Head of State', '3'), ('You Only Live Twice', '2'), ('Funny Ha Ha', '3'), ('Road to Perdition', '3'), ('Priest', '3'), ('House of Flying Daggers', '2'), ('Reign of Assassins', '3'), ('Swingers', '3'), ('Showdown in Little Tokyo', '3'), ('Soul Food', '3'), ('Tsotsi', '3'), ('Eight Legged Freaks', '2'), ('College', '3'), ('Running Scared', '2'), ('Lesbian Vampire Killers', '3'), ('True Romance', '2'), ('Looney Tunes: Back in Action', '2'), ('The Benchwarmers', '3'), ('The New Guy', '2'), ('Into the Wild', '3'), ('Happiness', '3'), ('Captain America: The Winter Soldier', '3'), ('About Last Night', '3'), ('You Dont Mess with the Zohan', '2'), ('Stardust', '3'), ('Metropolis', '3'), ('The Lost Boys', '3'), ('Wasabi', '2'), ('My Fellow Americans', '3'), ('The Good Guy', '3'), ('Willy Wonka & the Chocolate Factory', '2'), ('Lonesome Jim', '3'), ('Pinocchio', '3'), ('Growing Up Smith', '2'), ('The Black Stallion', '2'), ('Catch a Fire', '3'), ('Signed, Sealed, Delivered', '3'), ('Stake Land', '2'), ('The Princess and the Frog', '3'), ('Music and Lyrics', '3'), ('Headhunters', '3'), ('Blue Streak', '3'), ('Ex Machina', '3'), ('Wish I Was Here', '3'), ('High School Musical 2', '2'), ('The Hunting Party', '2'), ('A Funny Thing Happened on the Way to the Forum', '3'), ('Vanilla Sky', '3'), ('Catwoman', '2'), ('The Longshots', '3'), ('Hero', '2'), ('Ed and His Dead Mother', '3'), ('Slums of Beverly Hills', '3'), ('Confidence', '3'), ('Grown Ups 2', '3'), ('Boiler Room', '3'), ('The Quiet American', '3'), ('Saving Mr. Banks', '3'), ('Wrath of the Titans', '3'), ('Whale Rider', '3'), ('Sherlock Holmes', '3'), ('Undisputed', '2'), ('Bathory: Countess of Blood', '3'), ('The Scorpion King', '3'), ('Excessive Force', '3'), ('Unnatural', '3'), ('Sausage Party', '3'), ('Mean Machine', '3'), ('Meet the Spartans', '3'), ('Gremlins', '2'), ('Freddy Got Fingered', '3'), ('The Italian Job', '2'), ('The Punisher', '2'), ('Joe Dirt', '2'), ('Into the Blue', '3'), ('Mean Creek', '3'), ('A Prairie Home Companion', '3'), ('Blood Ties', '3'), ('Poolhall Junkies', '3'), ('Joy', '3'), ('The Secret Life of Bees', '3'), ('Murder by Numbers', '3'), ('Metropolitan', '3'), ('The Lincoln Lawyer', '3'), ('Alfie', '3'), ('The Betrayed', '3'), ('The Untouchables', '3'), ('Z Storm', '3'), ('Bottle Rocket', '2'), ('Kevin Hart: Let Me Explain', '3'), ('Spirit: Stallion of the Cimarron', '3'), ('Dry Spell', '3'), ('Veronica Guerin', '3'), ('The Negotiator', '3'), ('Duma', '2'), ('Trading Places', '3'), ('Frankenweenie', '5'), ('Fever Pitch', '3'), ('Reservoir Dogs', '3'), ('The R.M.', '3'), ('The Dark Knight', '2'), ('Hostage', '3'), ('Get Hard', '3'), ('The Usual Suspects', '3'), ('What Dreams May Come', '3'), ('Swordfish', '2'), ('Young Frankenstein', '2'), ('Deadpool', '3'), ('The Departed', '3'), ('The Jungle Book 2', '2'), ('Monsters vs Aliens', '3'), ('Oblivion', '3'), ('The Bourne Identity', '3'), ('Killing Zoe', '2'), ('White Fang', '3'), ('Ride Along', '2'), ('Batman Forever', '3'), ('Thunderball', '2'), ('Run Lola Run', '3'), ('10 Things I Hate About You', '3'), ('Undercover Brother', '2'), ('Napoleon Dynamite', '3'), ('Juliet and Alfa Romeo', '3'), ('The White Countess', '3'), ('Friends with Money', '3'), ('Love and Other Catastrophes', '3'), ('Delivery Man', '3'), ('The Spanish Apartment', '3'), ('The Great Raid', '3'), ('White House Down', '3'), ('Christmas with the Kranks', '2'), ('American Reunion', '3'), ('High Fidelity', '3'), ('Harry Brown', '2'), ('Stung', '3'), ('Savages', '3'), ('Miss Congeniality 2: Armed and Fabulous', '2'), ('Escape from Planet Earth', '2'), ('Begin Again', '3'), ('Hereafter', '3'), ('Cape Fear', '3'), ('Amidst the Devils Wings', '2'), ('Hanna', '2'), ('Alex Cross', '2'), ('Secretary', '3'), ('Striptease', '3'), ('The Mighty Macs', '3'), ('You Cant Take It With You', '3'), ('Broken Arrow', '2'), ('Mystic Pizza', '3'), ('The Last Castle', '3'), ('Me, Myself & Irene', '3'), ('Grown Ups', '3'), ('Paddington', '2'), ('Snakes on a Plane', '2'), ('Midnight Run', '3'), ('The Charge of the Light Brigade', '2'), ('Lockout', '2'), ('Chocolat', '3'), ('Payback', '2'), ('Snowpiercer', '2'), ('Hollow Man', '2'), ('The Yards', '2'), ('Superbabies: Baby Geniuses 2', '2'), ('Dawn of the Dead', '2'), ('Sky Captain and the World of Tomorrow', '3'), ('The Kingdom', '3'), ('A Woman, a Gun and a Noodle Shop', '3'), ('The Wedding Planner', '3'), ('Batman: The Dark Knight Returns, Part 2', '3'), ('Half Past Dead', '2'), ('You Kill Me', '2'), ('Old Dogs', '2'), ('The Brass Teapot', '2'), ('Solitary Man', '3'), ('Mercy Streets', '2'), ('Rush Hour 3', '3'), ('Horrible Bosses', '2'), ('Monster House', '3'), ('Quartet', '3'), ('Silent Movie', '3'), ('Little Boy', '3'), ('The Return of the Pink Panther', '3'), ('Beyond the Valley of the Dolls', '3'), ('The Life of David Gale', '3'), ('Batman Returns', '2'), ('About Time', '2'), ('Spy Kids 2: The Island of Lost Dreams', '3'), ('The Fugitive', '3'), ('Womb', '3'), ('The Dukes of Hazzard', '3'), ('And Then Came Love', '3'), ('They Live', '2'), ('The Animal', '2'), ('Sliding Doors', '2'), ('The Guard', '3'), ('Slither', '2'), ('Shanghai Knights', '3'), ('Highlander: The Final Dimension', '3'), ('The Assassination of Jesse James by the Coward Robert Ford', '3'), ('Terminator Genisys', '3'), ('She Done Him Wrong', '3'), ('Wanderlust', '3'), ('One for the Money', '3'), ('Shes the Man', '2'), ('Speed 2: Cruise Control', '2'), ('Tiny Furniture', '3'), ('Hotel Transylvania', '3'), ('Clear and Present Danger', '3'), ('Chain Reaction', '2'), ('30 Minutes or Less', '3'), ('Subway', '3'), ('Catch Me If You Can', '3'), ('The French Connection', '2'), ('The Incredibly True Adventure of Two Girls In Love', '3'), ('Jaws: The Revenge', '3'), ('Chasing Amy', '3'), ('Dolphin Tale 2', '3'), ('The Out-of-Towners', '3'), ('Fast Five', '2'), ('The Sisterhood of the Traveling Pants 2', '3'), ('House of D', '3'), ('District B13', '2'), ('The Haunted Mansion', '3'), ('The Young and Prodigious T.S. Spivet', '2'), ('I Love You, Dont Touch Me!', '3'), ('Deadline - U.S.A.', '3'), ('The Losers', '3'), ('Are We There Yet?', '3'), ('Kung Fu Hustle', '2'), ('The Boss', '3'), ('Awake', '3'), ('George and the Dragon', '3'), ('The Sitter', '3'), ('Where the Heart Is', '3'), ('Fools Gold', '2'), ('Firestarter', '2'), ('Blood Work', '3'), ('East Is East', '3'), ('Resident Evil', '2'), ('The Perfect Match', '3'), ('My Last Day Without You', '3'), ('Seven Years in Tibet', '3'), ('Antitrust', '2'), ('The Medallion', '3'), ('Ed Wood', '5'), ('Underdogs', '3'), ('Stuart Little', '3'), ('Twister', '2'), ('Why Did I Get Married?', '3'), ('Whatever It Takes', '3'), ('Piranha 3D', '3'), ('The Ghost and the Darkness', '3'), ('Prophecy', '3'), ('The Good Dinosaur', '2'), ('Frat Party', '3'), ('Harry Potter and the Prisoner of Azkaban', '3'), ('Antiviral', '3'), ('Daybreakers', '3'), ('Hansel & Gretel: Witch Hunters', '2'), ('Chicago', '3'), ('Bully', '3'), ('The Cave', '2'), ('Deep Impact', '3'), ('Unsullied', '3'), ('Spy Kids: All the Time in the World', '3'), ('Blast from the Past', '3'), ('The Hangover Part II', '3'), ('The Green Hornet', '3'), ('Cotton Comes to Harlem', '2'), ('Arthur Christmas', '2'), ('Never Back Down', '3'), ('San Andreas', '3'), ('Heavy Metal', '3'), ('Air Bud', '2'), ('Terminator 2: Judgment Day', '2'), ('Moonrise Kingdom', '3'), ('Another Earth', '3'), ('Stan Helsing', '3'), ('All The Queens Men', '2'), ('Isnt She Great', '3'), ('The Lord of the Rings: The Two Towers', '3'), ('Barbershop 2:  Back in Business', '3'), ('Paa', '3'), ('Waiting for Guffman', '3'), ('Creative Control', '3'), ('Open Secret', '3'), ('Mission: Impossible - Ghost Protocol', '2'), ('Fantasia 2000', '3'), ('Kiss of the Dragon', '2'), ('Breakfast of Champions', '3'), ('Blood and Chocolate', '3'), ('Centurion', '2'), ('History of the World: Part I', '3'), ('A Good Day to Die Hard', '3'), ('Ernest & Celestine', '2'), ('21 Grams', '3'), ('Thor', '3'), ('The Replacement Killers', '2'), ('Oceans Thirteen', '3'), ('Imagine Me & You', '3'), ('Pacific Rim', '3'), ('Malibus Most Wanted', '2'), ('Spider-Man 3', '3'), ('Mr. & Mrs. Smith', '2'), ('The Descent', '3'), ('Warriors of Virtue', '3'), ('Munich', '3'), ('Captain America: The First Avenger', '3'), ('Capote', '3'), ('Bubba Ho-tep', '2'), ('Shrek Forever After', '2'), ('Tora! Tora! Tora!', '2'), ('The Crying Game', '3'), ('The Blues Brothers', '3'), ('The International', '3'), ('Year One', '2'), ('The Fast and the Furious: Tokyo Drift', '2'), ('Secret in Their Eyes', '3'), ('Anything Else', '3'), ('Kiss Kiss Bang Bang', '3'), ('Corky Romano', '3'), ('The Silence of the Lambs', '3'), ('PCU', '3'), ('An Alan Smithee Film: Burn, Hollywood, Burn', '3'), ('Skyfall', '2'), ('Inherent Vice', '2'), ('The Day After Tomorrow', '3'), ('A League of Their Own', '3'), ('LOL', '3'), ('D.E.B.S.', '3'), ('Star Wars: Clone Wars: Volume 1', '2'), ('Jekyll and Hyde ... Together Again', '2'), ('American Ninja 2: The Confrontation', '2'), ('Hall Pass', '3'), ('Unfinished Business', '3'), ('The Dark Knight', '5'), ('Escape from L.A.', '3'), ('Frankenweenie', '2'), ('The Family Man', '2'), ('Whatever Works', '3'), ('Sleeper', '2'), ('Transformers: Revenge of the Fallen', '3'), ('The Descendants', '3'), ('Underworld', '2'), ('Criminal Activities', '3'), ('The Grand Budapest Hotel', '3'), ('Big Mommas: Like Father, Like Son', '3'), ('American Hero', '3'), ('Terminator 3: Rise of the Machines', '2'), ('The Lovers', '3'), ('Fifty Shades of Black', '3'), ('Idiocracy', '3'), ('Penguins of Madagascar', '3'), ('Anne of Green Gables', '3'), ('Hook', '2'), ('Strange Wilderness', '3'), ('Bound by Honor', '2'), ('No Reservations', '3'), ('The Island', '3'), ('Please Give', '3'), ('Bride Wars', '3'), ('Taken', '3'), ('Nothing', '3'), ('From Paris with Love', '2'), ('Top Five', '3'), ('Lilo & Stitch', '3'), ('The Prince', '3'), ('Transformers', '3'), ('The Wraith', '3'), ('Roar', '3'), ('American Gangster', '3'), ('Sleepers', '3'), ('Unleashed', '2'), ('The Hoax', '3'), ('Silent Running', '2'), ('Moon', '3'), ('Men with Brooms', '3'), ('Michael Clayton', '3'), ('The Forbidden Kingdom', '3'), ('Meet Dave', '2'), ('Kids', '3'), ('Legends of the Fall', '3'), ('Andersons Cross', '3'), ('Fight Valley', '3'), ('Ice Age: Dawn of the Dinosaurs', '3'), ('Blood and Wine', '3'), ('G-Force', '2'), ('Immortals', '2'), ('Highlander', '3'), ('Absolute Power', '3'), ('The Master of Disguise', '2'), ('Se7en', '3'), ('Real Steel', '2'), ('Pixels', '3'), ('Big Daddy', '3'), ('Straight As', '3'), ('Cheri', '3'), ('Punisher: War Zone', '2'), ('Cypher', '3'), ('Jesus Son', '3'), ('Dead Man Down', '2'), ('To Die For', '2'), ('School Daze', '3'), ('Severance', '3'), ('Admission', '3'), ('The Time Machine', '3'), ('The Tempest', '3'), ('Princess Mononoke', '2'), ('Damnation Alley', '3'), ('Teen Wolf Too', '3'), ('Dark Shadows', '2'), ('Casper', '3'), ('Lovely & Amazing', '3'), ('Madison', '2'), ('Pompeii', '2'), ('Checkmate', '2'), ('Batman Begins', '2'), ('Dune', '3'), ('Howard the Duck', '3'), ('Griff the Invisible', '3'), ('Oz: The Great and Powerful', '3'), ('Outside Bet', '3'), ('The Blue Room', '3'), ('Detention of the Dead', '3'), ('Traffic', '3'), ('The First Great Train Robbery', '2'), ('Four Rooms', '2'), ('The Perfect Host', '2'), ('Fun Size', '3'), ('You Again', '3'), ('White Squall', '3'), ('Krampus', '2'), ('Hannibal Rising', '3'), ('Criminal', '3'), ('The Men Who Stare at Goats', '3'), ('Charlies Angels', '2'), ('The Dangerous Lives of Altar Boys', '3'), ('Johnson Family Vacation', '2'), ('Timecop', '3'), ('The Mask of Zorro', '2'), ('How to Deal', '3'), ('Stranger Than Fiction', '2'), ('Larry the Cable Guy: Health Inspector', '3'), ('Petes Dragon', '3'), ('Home Alone 2: Lost in New York', '2'), ('Roadside Romeo', '3'), ('Flushed Away', '3'), ('8 Heads in a Duffel Bag', '2'), ('Anywhere But Here', '3'), ('Hatchet', '3'), ('Mr. 3000', '3'), ('Captive', '3'), ('Novocaine', '2'), ('Fighting Tommy Riley', '2'), ('Videodrome', '3'), ('Point Break', '2'), ('Rat Race', '2'), ('The Count of Monte Cristo', '2'), ('Jack the Giant Slayer', '3'), ('24 7: Twenty Four Seven', '3'), ('Topsy-Turvy', '3'), ('Talladega Nights: The Ballad of Ricky Bobby', '3'), ('Held Up', '3'), ('Stuck on You', '3'), ('The I Inside', '3'), ('Harsh Times', '2'), ('Pound of Flesh', '3'), ('Monsters, Inc.', '2'), ('Bill & Teds Excellent Adventure', '3'), ('The Thomas Crown Affair', '3'), ('Toy Story', '2'), ('Housefull', '3'), ('Oldboy', '3'), ('The Replacements', '3'), ('The SpongeBob SquarePants Movie', '2'), ('My Best Friends Wedding', '3'), ('The Odd Life of Timothy Green', '3'), ('Return to Oz', '3'), ('The Gunman', '2'), ('Our Idiot Brother', '3'), ('The Dress', '3'), ('Only the Strong', '3'), ('Oliver!', '3'), ('WALL·E', '3'), ('Warrior', '3'), ('Meet the Fockers', '3'), ('Dead Like Me: Life After Death', '2'), ('Meet the Parents', '3'), ('Star Trek: First Contact', '3'), ('The Nut Job', '3'), ('Unbreakable', '3'), ('School for Scoundrels', '3'), ('Foolish', '3'), ('The Prince & Me', '3'), ('The Brothers Solomon', '3'), ('Simon Birch', '2'), ('The Virginity Hit', '3'), ('Eragon', '2'), ('George of the Jungle', '3'), ('Dr. Strangelove or: How I Learned to Stop Worrying and Love the Bomb', '3'), ('Good Boy!', '3'), ('Stick It', '3'), ('The Borrowers', '2'), ('The Sting', '2'), ('Must Love Dogs', '3'), ('Army of Darkness', '2'), ('Alvin and the Chipmunks: The Squeakquel', '3'), ('In Time', '2'), ('Epic', '3'), ('West Side Story', '3'), ('The Country Bears', '3'), ('The Guru', '3'), ('Dont Be Afraid of the Dark', '3'), ('Love Me Tender', '3'), ('See Spot Run', '3'), ('Soul Surfer', '3'), ('Ink', '2'), ('Bubble Boy', '2'), ('Happy Feet', '3'), ('Underclassman', '2'), ('Casino', '3'), ('The Purge', '3'), ('Two Brothers', '2'), ('Teenage Mutant Ninja Turtles II: The Secret of the Ooze', '2'), ('House Party 2', '3'), ('Trainwreck', '3'), ('The Empire Strikes Back', '3'), ('Beginners', '3'), ('Hit & Run', '2'), ('Cloudy with a Chance of Meatballs 2', '2'), ('Dark City', '3'), ('Doomsday', '2'), ('Megiddo: The Omega Code 2', '2'), ('The Train', '3'), ('Hobo with a Shotgun', '2'), ('X-Men Origins: Wolverine', '3'), ('Tower Heist', '2'), ('The Indian in the Cupboard', '3'), ('Hannah Montana: The Movie', '2'), ('The Front Page', '3'), ('Mumford', '3'), ('King Kong', '2'), ('Kites', '3'), ('Miss March', '3'), ('Sweet Sweetbacks Baadasssss Song', '3'), ('On Deadly Ground', '3'), ('Ravenous', '3'), ('The Lost Medallion: The Adventures of Billy Stone', '2'), ('Supporting Characters', '3'), ('Drowning Mona', '2'), ('20,000 Leagues Under the Sea', '2'), ('What Just Happened', '3'), ('Dr. Dolittle 2', '3'), ('I Heart Huckabees', '3'), ('The Raven', '3'), ('Pans Labyrinth', '3'), ('My Name Is Bruce', '3'), ('Get Shorty', '2'), ('H.', '3'), ('The Forsaken', '2'), ('Maria Full of Grace', '3'), ('Loose Cannons', '3'), ('The Specials', '2'), ('All About Steve', '3'), ('Blood Diamond', '3'), ('Code of Honor', '2'), ('Oceans', '3'), ('Twilight Zone: The Movie', '2'), ('Trippin', '3'), ('Hits', '3'), ('Star Trek II: The Wrath of Khan', '3'), ('Terminator Salvation', '2'), ('Shorts', '2'), ('The Secret in Their Eyes', '3'), ('Whipped', '3'), ('Mambo Italiano', '3'), ('Gladiator', '2'), ('Incident at Loch Ness', '2'), ('Caramel', '3'), ('Singin in the Rain', '3'), ('Machete Kills', '2'), ('Layer Cake', '3'), ('Summer Catch', '3'), ('Mallrats', '3'), ('Role Models', '3'), ('Mission to Mars', '3'), ('The Expendables 3', '2'), ('The Messenger: The Story of Joan of Arc', '2'), ('Khumba', '2'), ('Seven Samurai', '3'), ('Friday', '3'), ('The Funeral', '3'), ('The Man with the Golden Gun', '2'), ('Renaissance', '2'), ('Wind Walkers', '3'), ('The Nutcracker', '2'), ('Run, Fatboy, Run', '3'), ('The Original Kings of Comedy', '3'), ('Enter Nowhere', '3'), ('Anastasia', '3'), ('Harley Davidson and the Marlboro Man', '3'), ('Bogus', '3'), ('School of Rock', '3'), ('Vampires', '2'), ('Punch-Drunk Love', '3'), ('Knowing', '3'), ('Little Nicholas', '3'), ('The 40 Year Old Virgin', '3'), ('Broken Horses', '3'), ('Tangled', '3'), ('Southpaw', '3'), ('Sydney White', '3'), ('Gattaca', '3'), ('Frozen', '2'), ('Boomerang', '3'), ('Obvious Child', '3'), ('The Cotton Club', '3'), ('Rio', '3'), ('13 Hours: The Secret Soldiers of Benghazi', '3'), ('Jimmy and Judy', '2'), ('A Hard Days Night', '3'), ('The Terminal', '3'), ('The Incredible Burt Wonderstone', '3'), ('The Hunted', '2'), ('Alone in the Dark', '2'), ('Tank Girl', '2'), ('Easy A', '3'), ('Recess: Schools Out', '3'), ('The Dark Knight Rises', '2'), ('The Peacemaker', '3'), ('The DUFF', '3'), ('The Mechanic', '2'), ('Employee of the Month', '3'), ('The Art of War', '3'), ('Hail, Caesar!', '3'), ('My Big Fat Independent Movie', '3'), ('I Love You, Beth Cooper', '3'), ('Bandidas', '3'), ('Ronin', '3'), ('G.I. Jane', '3'), ('Kings Ransom', '2'), ('Legally Blonde 2: Red, White & Blonde', '3'), ('Cats & Dogs 2 : The Revenge of Kitty Galore', '2'), ('Top Hat', '3'), ('Confessions of a Dangerous Mind', '2'), ('Bronson', '2'), ('Jindabyne', '3'), ('Dolphin Tale', '3'), ('Switchback', '2'), ('Deuce Bigalow: European Gigolo', '3'), ('Dysfunctional Friends', '3'), ('Elektra', '2'), ('Grudge Match', '3'), ('The Dark Knight Rises', '5'), ('The Last Godfather', '2'), ('Multiplicity', '3'), ('Divergent', '3'), ('Salvation Boulevard', '2'), ('Once Upon a Time in Mexico', '3'), ('The Lovely Bones', '3'), ('Police Academy', '2'), ('High Road', '3'), ('R.L. Stines Monsterville: The Cabinet of Souls', '3'), ('Edward Scissorhands', '3'), ('The Last Shot', '2'), ('Saw: The Final Chapter', '3'), ('Fetching Cody', '3'), ('The Masked Saint', '2'), ('Bad Santa', '2'), ('How to Train Your Dragon', '3'), ('Emma', '3'), ('Hot Rod', '2'), ('Extreme Ops', '2'), ('Bedtime Stories', '3'), ('Here Comes the Boom', '3'), ('Containment', '3'), ('2001: A Space Odyssey', '2'), ('Cop Land', '2'), ('Hollywood Homicide', '3'), ('Solaris', '2'), ('Flipper', '2'), ('The Open Road', '3'), ('Purple Violets', '3'), ('Envy', '3'), ('Choke', '3'), ('Pulp Fiction', '3'), ('Winnie the Pooh', '3'), ('The Emperors New Groove', '2'), ('No Strings Attached', '3'), ('The Raid', '2'), ('Spun', '2'), ('Outside Providence', '3'), ('Bullet to the Head', '2'), ('The Girl with the Dragon Tattoo', '3'), ('Nutty Professor II: The Klumps', '3'), ('Think Like a Man', '3'), ('Burn After Reading', '3'), ('Drive Me Crazy', '2'), ('Celebrity', '3'), ('Legend of a Rabbit', '2'), ('Invaders from Mars', '3'), ('Changing Lanes', '3'), ('In Her Line of Fire', '3'), ('Yogi Bear', '3'), ('Zombieland', '3'), ('Waterworld', '2'), ('The Boondock Saints II: All Saints Day', '2'), ('The Huntsman: Winters War', '2'), ('Ice Age: The Meltdown', '3'), ('The Banger Sisters', '3'), ('I Origins', '3'), ('Red Planet', '2'), ('Three Kingdoms: Resurrection of the Dragon', '3'), ('Housebound', '3'), ('Post Grad', '3'), ('The Artist', '3'), ('The Generals Daughter', '3'), ('Henry V', '3'), ('Mad Money', '3'), ('Kindergarten Cop', '3'), ('The Flintstones', '3'), ('The House Bunny', '3'), ('Mindhunters', '3'), ('The Family Stone', '3'), ('Machete', '2'), ('Raiders of the Lost Ark', '2'), ('Things to Do in Denver When Youre Dead', '3'), ('RED', '2'), ('Watchmen', '2'), ('The Naked Ape', '2'), ('Cheaper by the Dozen 2', '3'), ('1776', '3'), ('Spirited Away', '3'), ('Quigley Down Under', '2'), ('The Worlds End', '3'), ('O Brother, Where Art Thou?', '3'), ('Knight and Day', '2'), ('Melancholia', '3'), ('Man of the House', '2'), ('Just Married', '3'), ('Joyful Noise', '3'), ('Law Abiding Citizen', '3'), ('In the Heart of the Sea', '2'), ('Young Guns', '3'), ('The Craft', '3'), ('Stuart Little 2', '3'), ('Shes All That', '3'), ('Justin Bieber: Never Say Never', '3'), ('Birdman', '3'), ('Firefox', '3'), ('Divine Secrets of the Ya-Ya Sisterhood', '3'), ('After Earth', '3'), ('Cargo', '3'), ('Kill List', '3'), ('Birthday Girl', '2'), ('Spaceballs', '2'), ('Freaky Deaky', '3'), ('Vampires Suck', '3'), ('2046', '2'), ('When the Cats Away', '3'), ('Me and You and Everyone We Know', '3'), ('Dougs 1st Movie', '2'), ('Janky Promoters', '3'), ('The Angry Birds Movie', '3'), ('Saw IV', '3'), ('Roll Bounce', '2'), ('Down to You', '2'), ('Up', '3'), ('The Running Man', '2'), ('Malevolence', '3'), ('Planet of the Apes', '3'), ('The NeverEnding Story', '3'), ('Auto Focus', '3'), ('Despicable Me', '3'), ('Mad Hot Ballroom', '3'), ('Shinjuku Incident', '2'), ('The Man from Earth', '3'), ('The Bounty Hunter', '3'), ('Get Low', '3'), ('Loser', '2'), ('Being Julia', '3'), ('Letters to Juliet', '3'), ('Universal Soldier: The Return', '2'), ('Prom', '3'), ('Were No Angels', '2'), ('The Last of the Mohicans', '2'), ('Crank', '2'), ('Changeling', '3'), ('Ghost Dog: The Way of the Samurai', '3'), ('Billy Elliot', '3'), ('Little White Lies', '3'), ('Superman IV: The Quest for Peace', '3'), ('Jack Reacher', '3'), ('DOA: Dead or Alive', '2'), ('Love the Coopers', '2'), ('Instructions Not Included', '3'), ('Scooby-Doo 2: Monsters Unleashed', '3'), ('Dazed and Confused', '3'), ('Patch Adams', '3'), ('Saw V', '3'), ('Double Jeopardy', '3'), ('Splash', '2'), ('Transporter 2', '2'), ('Mr. Deeds', '3'), ('This Thing of Ours', '3'), ('Say It Isnt So', '3'), ('No Good Deed', '3'), ('The Hobbit: The Desolation of Smaug', '2'), ('A.I. Artificial Intelligence', '2'), ('The Devils Tomb', '2'), ('The Wicked Lady', '3'), ('The Rookie', '3'), ('Le Havre', '3'), ('Hansel and Gretel Get Baked', '3'), ('Indiana Jones and the Last Crusade', '2'), ('Last Action Hero', '2'), ('Premium Rush', '2'), ('Focus', '2'), ('Its Complicated', '3'), ('Big Hero 6', '2'), ('Parker', '2'), ('Dragonslayer', '3'), ('Good Kill', '3'), ('127 Hours', '3'), ('The Muse', '2'), ('Jackie Brown', '2'), ('Star Trek: Generations', '3'), ('Insurgent', '2'), ('GoldenEye', '2'), ('Exodus: Gods and Kings', '2'), ('Its a Mad, Mad, Mad, Mad World', '2'), ('Stargate: The Ark of Truth', '2'), ('Amélie', '3'), ('A Very Harold & Kumar Christmas', '3'), ('Turbo', '3'), ('John Q', '3'), ('The Land Before Time', '2'), ('The Last Legion', '3'), ('Attack the Block', '3'), ('Detroit Rock City', '3'), ('The Squid and the Whale', '3'), ('The Curious Case of Benjamin Button', '3'), ('Starship Troopers', '3'), ('Self/less', '3'), ('The Legend of Hells Gate: An American Conspiracy', '2'), ('Stolen', '2'), ('Freeway', '3'), ('The Postman Always Rings Twice', '3'), ('The Kentucky Fried Movie', '3'), ('Edge of Tomorrow', '2'), ('Ira & Abby', '3'), ('The Battle of Shaker Heights', '3'), ('Mystery Men', '2'), ('Midnight in Paris', '2'), ('Caravans', '2'), ('Connie and Carla', '3'), ('The Conversation', '3'), ('Battle: Los Angeles', '2'), ('Curse of the Golden Flower', '2'), ('The Sticky Fingers of Time', '3'), ('Saving Private Perez', '2'), ('Fido', '3'), ('Live Free or Die Hard', '3'), ('Holy Man', '3'), ('Cirque du Soleil: Worlds Away', '2'), ('The Walk', '3'), ('Heli', '3'), ('Deck the Halls', '2'), ('Spectre', '3'), ('Dirty Pretty Things', '3'), ('Bandslam', '2'), ('Trance', '3'), ('Head Over Heels', '3'), ('Vessel', '3'), ('Charlie and the Chocolate Factory', '5'), ('The Warriors Way', '3'), ('Mad City', '3'), ('Cyrus', '3'), ('In Cold Blood', '3'), ('RoboCop', '2'), ('Leap Year', '3'), ('About Schmidt', '3'), ('Colombiana', '2'), ('The Green Mile', '2'), ('Taxman', '3'), ('Grindhouse', '3'), ('Chicken Little', '2'), ('Catch-22', '3'), ('Slacker', '3'), ('A Turtles Tale: Sammys Adventures', '3'), ('Space Pirate Captain Harlock', '3'), ('Sucker Punch', '2'), ('What Planet Are You From?', '2'), ('The Sound and the Shadow', '3'), ('Inspector Gadget', '2'), ('Air Force One', '3'), ('CJ7', '2'), ('Crocodile Dundee', '2'), ('8 Women', '2'), ('We Were Soldiers', '3'), ('Failure to Launch', '3'), ('The Dead Zone', '3'), ('The Transporter Refueled', '2'), ('Menace II Society', '2'), ('Peeples', '3'), ('My Stepmother is an Alien', '2'), ('A View to a Kill', '2'), ('Hedwig and the Angry Inch', '3'), ('Ramona and Beezus', '2'), ('Yoga Hosers', '2'), ('Iron Man', '3'), ('The Cable Guy', '3'), ('Mortal Kombat', '2'), ('Renaissance Man', '3'), ('Walking With Dinosaurs', '2'), ('Savva. Heart of the Warrior', '2'), ('Project X', '2'), ('Coyote Ugly', '3'), ('The Missing Person', '3'), ('Welcome to the Dollhouse', '3'), ('The Lawnmower Man', '3'), ('3000 Miles to Graceland', '2'), ('F.I.S.T.', '3'), ('Osmosis Jones', '2'), ('Sideways', '3'), ('Walking Tall', '2'), ('Analyze This', '2'), ('Identity Thief', '2'), ('Bang Bang Baby', '3'), ('Alice in Wonderland', '3'), ('Imagine That', '3'), ('D-Tox', '3'), ('The Whole Nine Yards', '2'), ('The Great Escape', '3'), ('Vertical Limit', '2'), ('Independence Day', '3'), ('Meet the Deedles', '2'), ('Narc', '2'), ('The Hateful Eight', '3'), ('The Walking Deceased', '2'), ('Mars Attacks!', '3'), ('Alien Zone', '2'), ('You Will Meet a Tall Dark Stranger', '3'), ('Animal House', '3'), ('Running with Scissors', '3'), ('Safe Men', '2'), ('Beverly Hills Cop III', '3'), ('Furry Vengeance', '3'), ('Tootsie', '3'), ('The Long Kiss Goodnight', '2'), ('Race', '3'), ('From a Whisper to a Scream', '3'), ('UHF', '3'), ('Frenzy', '3'), ('Arthur and the Invisibles', '3'), ('The Frozen Ground', '3'), ('Do You Believe?', '3'), ('Star Wars: Episode I - The Phantom Menace', '3'), ('The Christmas Candle', '3'), ('Underworld: Evolution', '3'), ('Date Night', '3'), ('Losin It', '3'), ('Lucky Numbers', '2'), ('Flash Gordon', '3'), ('Olympus Has Fallen', '3'), ('Creature', '3'), ('Rango', '3'), ('Blended', '3'), ('Somewhere in Time', '2'), ('Big Miracle', '3'), ('American Psycho', '3'), ('March of the Penguins', '3'), ('El Mariachi', '2'), ('The Muppet Movie', '3'), ('The Call of Cthulhu', '3'), ('Diary of the Dead', '2'), ('Jack Brooks: Monster Slayer', '2'), ('Whats Your Number?', '3'), ('G.I. Joe: Retaliation', '3'), ('Legal Eagles', '2'), ('The Timber', '3'), ('I Spy', '3'), ('The Next Three Days', '3'), ('Edge of Darkness', '3'), ('State of Play', '3'), ('Rugrats in Paris: The Movie', '3'), ('The Sessions', '3'), ('The Twilight Saga: New Moon', '2'), ('The Hebrew Hammer', '2'), ('Freedom Writers', '3'), ('Ninja Assassin', '2'), ('Unknown', '3'), ('I Can Do Bad All By Myself', '3'), ('License to Wed', '3'), ('The Prophecy', '3'), ('Safe House', '3'), ('The Nutty Professor', '3'), ('The Man Who Knew Too Little', '3'), ('The Upside of Anger', '3'), ('17 Again', '3'), ('Among Giants', '3'), ('The Iron Giant', '2'), ('Bend It Like Beckham', '3'), ('The Four Seasons', '3'), ('Over the Hedge', '2'), ('Superman', '2'), ('Just Visiting', '3'), ('Mulan', '2'), ('The Princess Diaries 2: Royal Engagement', '2'), ('Casino Royale', '2'), ('Certifiably Jonathan', '3'), ('Johnny English', '3'), ('Boom Town', '3'), ('Atlas Shrugged Part II', '3'), ('Gremlins 2: The New Batch', '2'), ('Cant Hardly Wait', '3'), ('Bridesmaids', '3'), ('Lucky Break', '2'), ('The Bounty', '3'), ('Stormbreaker', '3'), ('The Inhabited Island', '3'), ('Newlyweds', '3'), ('The Man', '3'), ('True Lies', '3'), ('Megamind', '2'), ('Alatriste', '3'), ('Dear Frankie', '3'), ('Green Zone', '2'), ('The Simpsons Movie', '2'), ('The 51st State', '3'), ('U.F.O.', '3'), ('Agora', '3'), ('Fugly', '3'), ('2012', '3'), ('Bill & Teds Bogus Journey', '2'), ('Samantha: An American Girl Holiday', '3'), ('Hurricane Streets', '3'), ('Left Behind', '2'), ('Captain America: Civil War', '3'), ('Pontypool', '3'), ('The Butterfly Effect', '3'), ('Americas Sweethearts', '3'), ('Capricorn One', '2'), ('Set It Off', '2'), ('Machine Gun McCain', '2'), ('Scarface', '2'), ('Braveheart', '3'), ('Lions for Lambs', '2'), ('Echo Dr.', '2'), ('The Addams Family', '2'), ('Black Rain', '2'), ('Real Women Have Curves', '3'), ('Ace Ventura: When Nature Calls', '3'), ('The Legend of Bagger Vance', '3'), ('Zambezia', '3'), ('Taken 2', '2'), ('Ca$h', '2'), ('Cast Away', '3'), ('Red Cliff', '2'), ('Running Forever', '3'), ('Eastern Promises', '3'), ('Family Plot', '2'), ('Wild Target', '2'), ('Planet 51', '2'), ('Atlantis: The Lost Empire', '3'), ('Conan the Destroyer', '3'), ('Flirting with Disaster', '3'), ('Why Did I Get Married Too?', '3'), ('Forrest Gump', '3'), ('Shanghai Surprise', '3'), ('Baby Mama', '3'), ('The Greatest Show on Earth', '3'), ('Spaced Invaders', '3'), ('Airlift', '3'), ('Igby Goes Down', '3'), ('Spanglish', '3'), ('Rounders', '3'), ('Journey to Saturn', '2'), ('Scary Movie 3', '3'), ('The Ice Pirates', '3'), ('A Million Ways to Die in the West', '3'), ('Lethal Weapon 4', '2'), ('Curious George', '3'), ('Street Kings', '2'), ('Surrogates', '2'), ('The Holiday', '3'), ('Down & Out With The Dolls', '3'), ('Shanghai Noon', '3'), ('The Baader Meinhof Complex', '2'), ('Carriers', '2'), ('Pirates of the Caribbean: On Stranger Tides', '3'), ('How High', '3'), ('The Change-Up', '3'), ('The Rock', '2'), ('Psycho Beach Party', '3'), ('Whos Your Caddy?', '3'), ('You, Me and Dupree', '3'), ('Clerks II', '3'), ('Aliens vs Predator: Requiem', '3'), ('Jonah: A VeggieTales Movie', '2'), ('Annie Hall', '3'), ('Saint John of Las Vegas', '3'), ('A Time to Kill', '3'), ('One Mans Hero', '3'), ('The Good German', '3'), ('The Invention of Lying', '2'), ('Butterfly on a Wheel', '3'), ('Barneys Version', '3'), ('Minority Report', '2'), ('The Second Best Exotic Marigold Hotel', '3'), ('In the Valley of Elah', '3'), ('Proof of Life', '2'), ('Conquest of the Planet of the Apes', '2'), ('Seven Psychopaths', '2'), ('Of Horses and Men', '3'), ('Pride and Glory', '3'), ('Elite Squad', '2'), ('The Twilight Saga: Breaking Dawn - Part 2', '2'), ('Garfield', '2'), ('Rivers Edge', '3'), ('Time Bandits', '2'), ('Play It to the Bone', '3'), ('Some Like It Hot', '3'), ('Dirty Work', '3'), ('Jackass Number Two', '2'), ('Mrs. Doubtfire', '2'), ('Witness', '3'), ('Abduction', '3'), ('Pitch Perfect 2', '3'), ('Heartbreakers', '2'), ('Rush', '3'), ('Beastmaster 2: Through the Portal of Time', '2'), ('The Toxic Avenger', '3'), ('Waterloo', '3'), ('Election', '3'), ('Woman on Top', '3'), ('The Boys from Brazil', '3'), ('The Blue Lagoon', '3'), ('Kung Fu Panda 2', '3'), ('Cant Stop the Music', '3'), ('The Triplets of Belleville', '2'), ('London to Brighton', '3'), ('War, Inc.', '3'), ('Home on the Range', '3'), ('The Cookout', '3'), ('Signs', '3'), ('The Revenant', '3'), ('Hollywood Shuffle', '3'), ('Zoolander', '3'), ('Rudderless', '3'), ('Vacation', '3'), ('Prisoners', '3'), ('Lucy', '2'), ('The Crow', '2'), ('Tom Jones', '2'), ('Be Kind Rewind', '3'), ('Stealing Harvard', '2'), ('Sphinx', '3'), ('The Sound of Music', '3'), ('The Lost World: Jurassic Park', '3'), ('And So It Goes', '3'), ('Midnight in the Garden of Good and Evil', '3'), ('The Four Feathers', '3'), ('The Barbarians', '2'), ('The Hunchback of Notre Dame', '3'), ('Black November', '2'), ('I Got the Hook Up', '2'), ('Appaloosa', '3'), ('Rise of the Planet of the Apes', '2'), ('The Living Daylights', '2'), ('Ghosts of Mars', '2'), ('Domino', '2'), ('Little Shop of Horrors', '3'), ('The Truman Show', '3'), ('The Royal Tenenbaums', '3'), ('Rodeo Girl', '3'), ('The Internship', '3'), ('Mortal Kombat: Annihilation', '3'), ('Larry Crowne', '3'), ('Opal Dream', '3'), ('American Graffiti', '3'), ('Decoys', '3'), ('The Spy Who Loved Me', '2'), ('Next Stop Wonderland', '3'), ('Boat Trip', '3'), ('My Babys Daddy', '3'), ('The Oogieloves in the Big Balloon Adventure', '3'), ('Suspect Zero', '3'), ('Hellboy', '3'), ('Beetlejuice', '2'), ('Ride Along 2', '2'), ('Deadfall', '3'), ('Home', '2'), ('Made of Honor', '3'), ('Much Ado About Nothing', '3'), ('Thor: The Dark World', '3'), ('Paparazzi', '3'), ('Thunder and the House of Magic', '3'), ('Road House', '3'), ('The Best Exotic Marigold Hotel', '3'), ('Bad Moms', '3'), ('Trees Lounge', '3'), ('Barbecue', '3'), ('Casino Jack', '2'), ('White Noise 2: The Light', '3'), ('Alien: Resurrection', '2'), ('GoodFellas', '3'), ('Jumping the Broom', '3'), ('Alex & Emma', '3'), ('Pirates of the Caribbean: The Curse of the Black Pearl', '3'), ('Bathing Beauty', '3'), ('Escape from Tomorrow', '3'), ('Cheap Thrills', '2'), ('Into the Storm', '3'), ('Shes Gotta Have It', '3'), ('Dick', '3'), ('Bringing Down the House', '3'), ('Tucker and Dale vs Evil', '3'), ('Taken 3', '3'), ('Snake Eyes', '3'), ('American Dreamz', '2'), ('Subconscious', '3'), ('Robin Hood', '2'), ('Josie and the Pussycats', '3'), ('The Wild Bunch', '3'), ('Smillas Sense of Snow', '2'), ('Police Academy: Mission to Moscow', '2'), ('The Legend of Hercules', '2'), ('The Magic Flute', '3'), ('The Brothers', '3'), ('Stolen Summer', '2'), ('Tomorrowland', '3'), ('Mutual Appreciation', '3'), ('Shin Godzilla', '3'), ('Cars', '3'), ('Finding Nemo', '3'), ('Non-Stop', '3'), ('Clerks', '3'), ('The Beach', '3'), ('Drive Hard', '3'), ('Club Dread', '3'), ('The Christmas Bunny', '3'), ('Four Christmases', '3'), ('The Devils Rejects', '3'), ('Magic Mike XXL', '3'), ('United 93', '2'), ('The Chumscrubber', '3'), ('Domestic Disturbance', '3'), ('About a Boy', '3'), ('The Hobbit: The Battle of the Five Armies', '3'), ('Contagion', '3'), ('10 Cloverfield Lane', '3'), ('Men in Black', '2'), ('Mickey Blue Eyes', '2'), ('The Broken Hearts Club: A Romantic Comedy', '3'), ('Snow White and the Huntsman', '2'), ('Body of Lies', '3'), ('The Matador', '3'), ('Tusk', '3'), ('Kung Fu Panda', '3'), ('Sugar Town', '3'), ('Bloody Sunday', '2'), ('47 Ronin', '3'), ('Shes the One', '3'), ('Sunshine', '3'), ('Beer League', '3'), ('Dead Snow', '3'), ('Little Black Book', '3'), ('What to Expect When Youre Expecting', '3'), ('Pan', '3'), ('Ransom', '3'), ('Whiteout', '2'), ('Dead Mans Shoes', '3'), ('Analyze That', '2'), ('Clash of the Titans', '3'), ('ParaNorman', '3'), ('The Man in the Iron Mask', '2'), ('Donovans Reef', '2'), ('Crocodile Dundee in Los Angeles', '2'), ('The Man from U.N.C.L.E.', '3'), ('I, Robot', '2'), ('Anchorman: The Legend of Ron Burgundy', '3'), ('Breaking Upwards', '3'), ('Gangsters Paradise: Jerusalema', '2'), ('The Cold Light of Day', '3'), ('The Campaign', '3'), ('Cinderella', '2'), ('Alice in Wonderland', '5'), ('The Visitors II: The Corridors of Time', '2'), ('The Newton Boys', '2'), ('Teenage Mutant Ninja Turtles: Out of the Shadows', '2'), ('Monsoon Wedding', '3'), ('Summer of Sam', '3'), ('Land of the Lost', '3'), ('A Mighty Wind', '3'), ('Diner', '3'), ('Smoke Signals', '3'), ('The Object of My Affection', '3'), ('Outbreak', '2'), ('Eternal Sunshine of the Spotless Mind', '3'), ('Crank: High Voltage', '2'), ('How to Be Single', '3'), ('How to Lose a Guy in 10 Days', '3'), ('Free Birds', '2'), ('Elysium', '2'), ('American Sniper', '3'), ('Predators', '3'), ('Shrek 2', '2'), ('Bruce Almighty', '2'), ('Old School', '3'), ('Miss Potter', '3'), ('Home for the Holidays', '3'), ('Creepshow', '2'), ('The Brain That Wouldnt Die', '3'), ('Muppets Most Wanted', '2'), ('To Kill a Mockingbird', '3'), ('The Whole Ten Yards', '2'), ('Noah', '3'), ('Chain of Command', '2'), ('Idle Hands', '3'), ('Die Hard: With a Vengeance', '3'), ('My Life in Ruins', '3'), ('City of God', '3'), ('The Dark Hours', '3'), ('Legends of Oz: Dorothys Return', '3'), ('Your Sisters Sister', '3'), ('Top Gun', '3'), ('X-Men: Days of Future Past', '2'), ('Fantasia', '3'), ('Brave', '2'), ('Motherhood', '3'), ('City By The Sea', '3'), ('Killer Joe', '3'), ('Everything Must Go', '3'), ('Jupiter Ascending', '2'), ('Cop Out', '3'), ('Jimmy Neutron: Boy Genius', '2'), ('Spice World', '3'), ('Swept Away', '3'), ('Tomcats', '3'), ('Journey 2: The Mysterious Island', '3'), ('March or Die', '2'), ('Thunderbirds', '2'), ('Because I Said So', '3'), ('The Way of the Gun', '2'), ('Queen of the Damned', '3'), ('Looper', '2'), ('Victor Frankenstein', '3'), ('Sleep Dealer', '3'), ('Feast', '2'), ('Phantasm II', '2'), ('Jurassic World', '3'), ('Green Street Hooligans: Underground', '3'), ('Holes', '3'), ('Jane Got a Gun', '3'), ('Little Nicky', '2'), ('Kevin Hart: Laugh at My Pain', '3'), ('Closer to the Moon', '3'), ('Slackers', '3'), ('As It Is in Heaven', '3'), ('Robot & Frank', '3'), ('Hachi: A Dogs Tale', '3'), ('Out of Time', '3'), ('Happy, Texas', '2'), ('Thats My Boy', '3'), ('Flight of the Intruder', '2'), ('27 Dresses', '3'), ('A History of Violence', '3'), ('Fame', '3'), ('The Wild Thornberrys Movie', '2'), ('Cloud Atlas', '3'), ('Under the Skin', '3'), ('Zodiac', '3'), ('Ri¢hie Ri¢h', '2'), ('RED 2', '3'), ('Baby Boy', '3'), ('Paycheck', '3'), ('Mr. Hollands Opus', '3'), ('Chuck & Buck', '3'), ('Zathura: A Space Adventure', '2'), ('Mirror Mirror', '2'), ('American Desi', '3'), ('Boys Dont Cry', '3'), ('Goldfinger', '2'), ('Shaolin Soccer', '2'), ('The Promise', '2'), ('Madagascar', '3'), ('The Tale of Despereaux', '2'), ('The Croods', '2'), ('Broken City', '3'), ('Coraline', '3'), ('Chasing Liberty', '3'), ('Eagle Eye', '3'), ('Open Road', '3'), ('Bananas', '3'), ('The Polar Express', '3'), ('Aliens', '2'), ('Go for It!', '3'), ('Its a Wonderful Life', '2'), ('The Thief and the Cobbler', '2'), ('The Road to El Dorado', '3'), ('Madeas Family Reunion', '3'), ('Red Tails', '2'), ('Days of Thunder', '3'), ('The Dilemma', '3'), ('Loves Abiding Joy', '2'), ('The Other Side of Heaven', '3'), ('Spawn', '2'), ('Haywire', '3'), ('Chicken Run', '2'), ('The Blue Bird', '2'), ('Along Came Polly', '3'), ('The Lord of the Rings: The Fellowship of the Ring', '3'), ('Exiled', '2'), ('Babe: Pig in the City', '2'), ('300', '2'), ('Happy Christmas', '3'), ('Star Trek: Nemesis', '3'), ('C.H.U.D.', '3'), ('Win a Date with Tad Hamilton!', '3'), ('Batman Returns', '5'), ('Henry & Me', '3'), ('Why I Did (Not) Eat My Father', '2'), ('Out of Sight', '2'), ('Morning Glory', '3'), ('Freaky Friday', '3'), ('In the Name of the King: A Dungeon Siege Tale', '3'), ('Hardball', '3'), ('I Dont Know How She Does It', '3'), ('The Mortal Instruments: City of Bones', '3'), ('Harriet the Spy', '2'), ('Interstellar', '2'), ('Flame & Citron', '3'), ('The Infiltrator', '3'), ('Beasts of the Southern Wild', '3'), ('Lage Raho Munna Bhai', '3'), ('Dr. No', '2'), ('Dark Blue', '2'), ('Funny Games', '3'), ('Road Trip', '2'), ('Lucky Number Slevin', '3'), ('Blue Ruin', '3'), ('Your Highness', '3'), ('The Patriot', '3'), ('X-Men: First Class', '3'), ('Elf', '3'), ('Warlock: The Armageddon', '2'), ('The Clan of the Cave Bear', '3'), ('Hoodwinked!', '2'), ('Nanny McPhee and the Big Bang', '2'), ('The Pledge', '3'), ('Mr. Peabody & Sherman', '2'), ('Operation Chromite', '3'), ('The Next Best Thing', '3'), ('Oceans Twelve', '3'), ('Midnight Special', '2'), ('Charly', '3'), ('In Too Deep', '2'), ('Chappie', '3'), ('The Astronauts Wife', '3'), ('Max', '2'), ('Da Sweet Blood of Jesus', '3'), ('Paul Blart: Mall Cop 2', '3'), ('Warcraft', '3'), ('Back to the Future', '2'), ('Men in Black II', '2'), ('Heist', '2'), ('Austin Powers in Goldmember', '3'), ('The Crazies', '3'), ('Take Me Home Tonight', '3'), ('Die Hard 2', '3'), ('The Spiderwick Chronicles', '3'), ('From Russia with Love', '2'), ('Kick-Ass 2', '3'), ('Parental Guidance', '3'), ('The Shadow', '2'), ('Borat: Cultural Learnings of America for Make Benefit Glorious Nation of Kazakhstan', '3'), ('Dancer in the Dark', '3'), ('The Little Vampire', '3'), ('Kansas City', '3'), ('The Curse of the Were-Rabbit', '3'), ('Mars Attacks!', '5'), ('The Snow Queen', '3'), ('Kung Fu Panda 3', '2'), ('Legend', '3'), ('Nebraska', '3'), ('End of Watch', '3'), ('Good bye, Lenin!', '3'), ('13 Going on 30', '2'), ('Marmaduke', '2'), ('Lion of the Desert', '3'), ('Halloween III: Season of the Witch', '3'), ('The Princess Diaries', '2'), ('A Bugs Life', '3'), ('Shallow Hal', '3'), ('The Faculty', '3'), ('The Break-Up', '3'), ('I Married a Strange Person!', '3'), ('Close Encounters of the Third Kind', '3'), ('Man of Steel', '2'), ('Valiant', '2'), ('Basic Instinct 2', '3'), ('The Mighty', '3'), ('Harold & Kumar Escape from Guantanamo Bay', '2'), ('The Visitors', '3'), ('Liar Liar', '3'), ('Primer', '3'), ('The Conspirator', '3'), ('District 9', '3'), ('Tuck Everlasting', '3'), ('Desperado', '2'), ('August: Osage County', '3'), ('Smiling Fish & Goat On Fire', '3'), ('Molly', '3'), ('Night at the Museum: Secret of the Tomb', '2'), ('Cellular', '3'), ('The Fountain', '2'), ('Joe Somebody', '3'), ('Shortbus', '3'), ('Barneys Great Adventure', '3'), ('The Proposition', '3'), ('Total Recall', '3'), ('The Cell', '3'), ('Friends with Benefits', '3'), ('Never Again', '3'), ('American Wedding', '3'), ('Collateral', '3'), ('In the Land of Women', '3'), ('Road Hard', '3'), ('All Is Bright', '3'), ('Our Family Wedding', '3'), ('Zookeeper', '2'), ('Death at a Funeral', '3'), ('Happy Gilmore', '3'), ('55 Days at Peking', '3'), ('Minions', '3'), ('The Cat in the Hat', '3'), ('Get Smart', '2'), ('Inglourious Basterds', '3'), ('Pineapple Express', '2'), ('X-Men: Apocalypse', '3'), ('Drive', '2'), ('Bernie', '2'), ('The Hunger Games: Mockingjay - Part 2', '3'), ('Irreversible', '3'), ('Orgazmo', '3'), ('Harper', '2'), ('True Grit', '3'), ('Barry Munday', '3'), ('Kicks', '3'), ('Zombie Hunter', '3'), ('Troop Beverly Hills', '3'), ('The Love Letter', '2'), ('Tycoon', '3'), ('Cradle 2 the Grave', '2'), ('Wreck-It Ralph', '3'), ('Alvin and the Chipmunks: Chipwrecked', '3'), ('The Night Visitor', '3'), ('Crouching Tiger, Hidden Dragon', '2'), ('The Age of Adaline', '3'), ('Sanctuary: Quite a Conundrum', '3'), ('Very Bad Things', '2'), ('Prince of Persia: The Sands of Time', '3'), ('Bad Teacher', '3'), ('I Want Someone to Eat Cheese With', '3'), ('Flyboys', '2'), ('Neal n Nikki', '3'), ('A Beginners Guide to Snuff', '3'), ('Beauty Shop', '3'), ('The Counselor', '3'), ('Teenage Mutant Ninja Turtles III', '2'), ('Little Miss Sunshine', '3'), ('Crossover', '2'), ('Yes Man', '3'), ('Rambo III', '2'), ('The Ant Bully', '2'), ('St. Trinians', '3'), ('Walk Hard: The Dewey Cox Story', '3'), ('Marley & Me', '2'), ('Speed Racer', '3'), ('The Jungle Book', '3'), ('Medicine Man', '3'), ('Flatliners', '3'), ('The Smurfs 2', '3'), ('The Call', '3'), ('Drillbit Taylor', '3'), ('The Chronicles of Narnia: The Voyage of the Dawn Treader', '3'), ('The Boat That Rocked', '3'), ('Teenage Mutant Ninja Turtles', '2'), ('How Stella Got Her Groove Back', '3'), ('The Bank Job', '3'), ('The Lion of Judah', '3'), ('The Place Beyond the Pines', '3'), ('Water & Power', '3'), ('Walter', '3'), ('Split Second', '3'), ('Mission: Impossible II', '2'), ('My Fair Lady', '3'), ('Moby Dick', '3'), ('The Rise of the Krays', '3'), ('Mighty Joe Young', '2'), ('The Fifth Element', '2'), ('The River Wild', '3'), ('Pirates of the Caribbean: At Worlds End', '3'), ('Beautiful Creatures', '3'), ('Lone Survivor', '3'), ('Batman & Robin', '3'), ('Porkys', '3'), ('The Santa Clause', '3'), ('Body Double', '3'), ('The Black Hole', '2'), ('Mr. Poppers Penguins', '2'), ('Anomalisa', '3'), ('The Boxtrolls', '3'), ('Once Upon a Time in America', '3'), ('Anacondas: The Hunt for the Blood Orchid', '3'), ('Equilibrium', '2'), ('Kickboxer: Vengeance', '3'), ('The Adventures of Pinocchio', '2'), ('The Book of Life', '2'), ('Re-Kill', '3'), ('High School Musical', '2'), ('Maid in Manhattan', '3'), ('Eight Below', '2'), ('Salt', '3'), ('The Wolverine', '2'), ('Bolt', '3'), ('Ballistic: Ecks vs. Sever', '2'), ('This Is Where I Leave You', '3'), ('When Harry Met Sally...', '3'), ('Timecrimes', '3'), ('The Lost Skeleton of Cadavra', '2'), ('Sabotage', '2'), ('Grabbers', '2'), ('The Blade of Don Juan', '3'), ('Wimbledon', '3'), ('Miss Congeniality', '3'), ('Baby Geniuses', '3'), ('Gun Shy', '2'), ('Tomorrow Never Dies', '2'), ('Dum Maaro Dum', '2'), ('Madeas Witness Protection', '2'), ('Star Wars: Episode III - Revenge of the Sith', '3'), ('Bee Movie', '3'), ('Critical Care', '3'), ('Carlos', '3'), ('Gentlemen Broncos', '2'), ('Armored', '2'), ('Vantage Point', '2'), ('Bodyguards and Assassins', '3'), ('Big Trouble', '2'), ('Ghost', '3'), ('The Matrix', '2'), ('TRON: Legacy', '3'), ('Me and Orson Welles', '3'), ('Virtuosity', '3'), ('There Goes My Baby', '3'), ('Children of Men', '2'), ('Ultramarines: A Warhammer 40,000 Movie', '3'), ('Teeth', '3'), ('Driving Lessons', '3'), ('Machine Gun Preacher', '2'), ('Keeping Up with the Steins', '3'), ('The Last Stand', '2'), ('Raise the Titanic', '3'), ('Corpse Bride', '5'), ('The Wiz', '3'), ('The Bone Collector', '3'), ('Freddys Dead: The Final Nightmare', '3'), ('Mean Girls', '3'), ('How Do You Know', '3'), ('Platoon', '3'), ('Hot Tub Time Machine 2', '3'), ('102 Dalmatians', '2'), ('Avatar', '2'), ('Shaun of the Dead', '3'), ('New York Minute', '3'), ('Nine Queens', '3'), ('Bon Cop Bad Cop', '3'), ('Silver Medalist', '3'), ('Georgia Rule', '3'), ('Rob Roy', '3'), ('Plastic', '3'), ('Alpha and Omega', '3'), ('Pushing Tin', '3'), ('Saved!', '3'), ('Standing Ovation', '2'), ('Last Vegas', '3'), ('Star Trek IV: The Voyage Home', '2'), ('The Limey', '2'), ('Wall Street', '3'), ('Nims Island', '2'), ('The Legend of Drunken Master', '2'), ('Just Looking', '3'), ('Spring Breakers', '3'), ('Mad Max', '3'), ('Face/Off', '3'), ('The Lion King', '3'), ('Max Payne', '3'), ('Serenity', '3'), ('Species', '2'), ('Superman IV: The Quest for Peace', '2'), ('The Pursuit of D.B. Cooper', '2'), ('The Helix... Loaded', '3'), ('Sexy Beast', '3'), ('15 Minutes', '2'), ('Rapa Nui', '3'), ('Boynton Beach Club', '3'), ('Small Time Crooks', '3'), ('Team America: World Police', '3'), ('The Wedding Date', '3'), ('Cats & Dogs', '2'), ('Nancy Drew', '2'), ('Three', '3'), ('Iron Man 3', '3'), ('The Apartment', '3'), ('Æon Flux', '2'), ('Snow Dogs', '3'), ('Lottery Ticket', '3'), ('Death Race', '2'), ('Krrish', '2'), ('VeggieTales: The Pirates Who Dont Do Anything', '2'), ('The Waterboy', '3'), ('The Secret Life of Pets', '3'), ('Blindness', '3'), ('Space Jam', '3'), ('Only God Forgives', '3'), ('Cool Runnings', '3'), ('Hellboy II: The Golden Army', '3'), ('Blades of Glory', '2'), ('Summer Storm', '3'), ('Foodfight!', '3'), ('Wristcutters: A Love Story', '2'), ('The First Wives Club', '3'), ('The Taking of Pelham 1 2 3', '3'), ('Rotor DR1', '2'), ('How the Grinch Stole Christmas', '3'), ('Boys and Girls', '3'), ('Civil Brand', '3'), ('Steel', '3'), ('Gullivers Travels', '3'), ('Drumline', '3'), ('Seeking a Friend for the End of the World', '2'), ('Texas Rangers', '3'), ('Master and Commander: The Far Side of the World', '3'), ('Forgetting Sarah Marshall', '3'), ('Hoot', '3'), ('The Curse of the Jade Scorpion', '2'), ('London Has Fallen', '2'), ('Defendor', '3'), ('Invasion U.S.A.', '3'), ('American Outlaws', '3'), ('Bad Words', '3'), ('The Muppet Christmas Carol', '3'), ('3 Days to Kill', '2'), ('Dragonball Evolution', '2'), ('Twins', '3'), ('Date Movie', '3'), ('Dracula Untold', '2'), ('Star Trek Into Darkness', '3'), ('Benji', '2'), ('Trust the Man', '3'), ('Welcome Home Roscoe Jenkins', '3'), ('Sleepover', '2'), ('Maleficent', '2'), ('New Nightmare', '3'), ('V for Vendetta', '2'), ('Brooklyns Finest', '3'), ('A Simple Plan', '3'), ('The Perfect Wave', '3'), ('Beyond the Black Rainbow', '2'), ('Yours, Mine and Ours', '2'), ('Perfume: The Story of a Murderer', '2'), ('Dawn of the Crescent Moon', '3'), ('South Park: Bigger, Longer & Uncut', '3'), ('A Perfect Getaway', '3'), ('Coffee Town', '3'), ('The Hunt for Red October', '2'), ('Better Luck Tomorrow', '3'), ('Percy Jackson & the Olympians: The Lightning Thief', '3'), ('Cliffhanger', '2'), ('Somethings Gotta Give', '3'), ('The Kid', '3'), ('The Adventures of Tintin', '3'), ('R100', '3'), ('Lilya 4-ever', '3'), ('The Time Travelers Wife', '3'), ('Idlewild', '3'), ('The Barbarian Invasions', '2'), ('Eddie the Eagle', '3'), ('Garden State', '3'), ('The Monuments Men', '3'), ('The Good Night', '2'), ('Southland Tales', '2'), ('Moonraker', '3'), ('Quarantine', '3'), ('Whats the Worst That Could Happen?', '2'), ('Circle', '3'), ('Witless Protection', '2'), ('Daddy Day Camp', '2'), ('The Pallbearer', '3'), ('Despicable Me 2', '2'), ('Predator', '3'), ('The BFG', '3'), ('Jason X', '3'), ('Sherlock Holmes: A Game of Shadows', '3'), ('Escape Plan', '3'), ('Bedazzled', '2'), ('Escape from New York', '2'), ('Good Dick', '3'), ('The Death and Life of Bobby Z', '2'), ('The Last Witch Hunter', '3'), ('The Assassin', '3'), ('Jungle Shuffle', '2'), ('Bait', '3'), ('Jakob the Liar', '3'), ('Mutant World', '3'), ('Sorority Boys', '3'), ('Safe', '2'), ('The Extra Man', '3'), ('The Pacifier', '3'), ('Wolf', '3'), ('Intolerable Cruelty', '2'), ('Secondhand Lions', '2'), ('Star Wars', '3'), ('Darling Lili', '3'), ('Animals United', '2'), ('Pathology', '3'), ('Dungeons & Dragons: Wrath of the Dragon God', '3'), ('Three Kings', '3'), ('The Swindle', '2'), ('My Big Fat Greek Wedding 2', '2'), ('Repo Man', '3'), ('On the Line', '2'), ('The Expendables 2', '2'), ('Jawbreaker', '3'), ('Mortdecai', '2'), ('A Thousand Words', '3'), ('Gone in Sixty Seconds', '2'), ('That Thing You Do!', '3'), ('A Shine of Rainbows', '3'), ('I Think I Love My Wife', '3'), ('Rocket Singh: Salesman of the Year', '3'), ('2 Fast 2 Furious', '2'), ('Ghostbusters', '3'), ('An Ideal Husband', '3'), ('Fifty Dead Men Walking', '3'), ('Don Juan DeMarco', '3'), ('Fortress', '2'), ('Furious 7', '3'), ('White Chicks', '3'), ('MacGruber', '3'), ('The To Do List', '3'), ('Mi America', '3'), ('Frailty', '3'), ('The Siege', '2'), ('Batman Begins', '5'), ('Kate & Leopold', '3'), ('Rockaway', '2'), ('The Bourne Supremacy', '3'), ('Monsters University', '3'), ('Rampage', '2'), ('Nacho Libre', '2'), ('Horse Camp', '3'), ('Be Cool', '2'), ('Hoffa', '3'), ('End of Days', '2'), ('Party Monster', '2'), ('Behind Enemy Lines', '3'), ('The Quick and the Dead', '3'), ('Rumble in the Bronx', '3'), ('Superman', '5'), ('Top Cat Begins', '3'), ('Waitress', '3'), ('Black Water Transit', '3'), ('Lars and the Real Girl', '3'), ('World War Z', '2'), ('Ella Enchanted', '3'), ('Hotel Transylvania 2', '2'), ('The League of Extraordinary Gentlemen', '3'), ('J. Edgar', '3'), ('Think Like a Man Too', '3'), ('The Adventures of Huck Finn', '3'), ('50 First Dates', '3'), ('Grosse Pointe Blank', '2'), ('A Man Apart', '3'), ('Bride of Chucky', '3'), ('Enemy of the State', '3'), ('Space Cowboys', '2'), ('It Happened One Night', '3'), ('Godzilla 2000', '3'), ('Its a Wonderful Afterlife', '3'), ('We Own the Night', '3'), ('Worlds Greatest Dad', '3'), ('All Superheroes Must Die', '3'), ('Penitentiary', '3'), ('Toy Story 3', '2'), ('Pink Flamingos', '2'), ('Shade', '2'), ('Pitch Perfect', '3'), ('Marci X', '3'), ('Bon voyage', '3'), ('xXx', '2'), ('Six-String Samurai', '3'), ('Blue Like Jazz', '3'), ('An American Carol', '2'), ('The Big Bounce', '2'), ('L.A. Confidential', '3'), ('Quantum of Solace', '3'), ('Homefront', '3'), ('Blow', '3'), ('The Adjustment Bureau', '3'), ('The Adventurer: The Curse of the Midas Box', '3'), ('Saints and Soldiers', '2'), ('Mars Needs Moms', '2'), ('The Jerky Boys', '2'), ('Deuce Bigalow: Male Gigolo', '3'), ('Garfield: A Tail of Two Kitties', '2'), ('Ong Bak 2', '2'), ('Bicentennial Man', '2'), ('Kissing Jessica Stein', '3'), ('A Low Down Dirty Shame', '3'), ('Keeping the Faith', '3'), ('The Mummy Returns', '3'), ('The Last House on the Left', '3'), ('Indiana Jones and the Temple of Doom', '2'), ('Death to Smoochy', '2'), ('Disaster Movie', '2'), ('A Guy Thing', '3'), ('The Wolf of Wall Street', '2'), ('Shark Tale', '3'), ('Out Cold', '3'), ('The Oxford Murders', '3'), ('The Love Guru', '3'), ('Silver Linings Playbook', '3'), ('Friday After Next', '3'), ('Pride and Prejudice and Zombies', '3'), ('The Rainmaker', '3'), ('Superman II', '2'), ('Kit Kittredge: An American Girl', '2'), ('Beverly Hills Cop', '3'), ('Yesterday Was a Lie', '3'), ('Assassins', '3'), ('A Haunted House 2', '3'), ('Wicked Blood', '3'), ('Guardians of the Galaxy', '3'), ('Florence Foster Jenkins', '3'), ('Jerry Maguire', '3'), ('Beneath the Planet of the Apes', '2'), ('Beyond Borders', '3'), ('The Golden Compass', '2'), ('Exit Wounds', '2'), ('Stripes', '2'), ('Flubber', '3'), ('Crying with Laughter', '3'), ('The Big Wedding', '3'), ('Sanctum', '3'), ('eXistenZ', '2'), ('Jumper', '3'), ('The Mexican', '3'), ('Fear and Loathing in Las Vegas', '2'), ('Cars 2', '3'), ('The Man from Snowy River', '2'), ('Celeste & Jesse Forever', '3'), ('The Happening', '3'), ('The Wendell Baker Story', '3'), ('Doogal', '3'), ('Big Fish', '2'), ('Clay Pigeons', '2'), ('Ice Age', '3'), ('The Avengers', '3'), ('The Stepford Wives', '3'), ('Agent Cody Banks 2: Destination London', '3'), ('The Deported', '2'), ('A Haunted House', '3'), ('Unstoppable', '3'), ('Eraserhead', '2'), ('Toy Story 2', '2'), ('Pokémon: Spell of the Unknown', '2'), ('Public Enemies', '3'), ('The Midnight Meat Train', '3'), ('Little Big Top', '3'), ('Def-Con 4', '3'), ('Brooklyn Rules', '3'), ('Kingpin', '3'), ('Romeo Is Bleeding', '2'), ('Into the Grizzly Maze', '3'), ('AVP: Alien vs. Predator', '3'), ('National Lampoon’s Van Wilder', '3'), ('I Love You Phillip Morris', '3'), ('Romance & Cigarettes', '3'), ('Religulous', '3'), ('The Back-Up Plan', '3'), ('Silverado', '2'), ('Tombstone', '2'), ('Bad Boys', '3'), ('The Terminator', '2'), ('Triple 9', '3'), ('Elling', '3'), ('Galaxy Quest', '3'), ('Tales from the Hood', '3'), ('Snatch', '3'), ('Sheena', '2'), ('I Am Legend', '2'), ('Bad Grandpa', '3'), ('Wild Things', '3'), ('Batman v Superman: Dawn of Justice', '3'), ('3 Strikes', '2'), ('The Mirror Has Two Faces', '3'), ('Avengers: Age of Ultron', '3'), ('Treasure Planet', '2'), ('They Came Together', '3'), ('Inside Man', '3'), ('Brüno', '3'), ('Poultrygeist: Night of the Chicken Dead', '3'), ('Shipwrecked', '2'), ('Butch Cassidy and the Sundance Kid', '3'), ('The Iceman', '3'), ('Gangs of New York', '3'), ('Chicago Overcoat', '2'), ('The Goods: Live Hard, Sell Hard', '3'), ('Robin and Marian', '2'), ('Beetlejuice', '5'), ('Harry Potter and the Half-Blood Prince', '3'), ('Super', '2'), ('12 Rounds', '2'), ('The Maze Runner', '2'), ('DragonHeart', '3'), ('Doctor Dolittle', '3'), ('The Marine', '2'), ('Life During Wartime', '3'), ('The Sisterhood of the Traveling Pants', '3'), ('The Phantom', '2'), ('American Heist', '3'), ('Alpha and Omega: The Legend of the Saw Tooth Cave', '3'), ('B-Girl', '3'), ('Die Hard', '3'), ('Alone With Her', '3'), ('Listening', '3'), ('Lets Be Cops', '3'), ('Human Traffic', '3'), ('I Hope They Serve Beer in Hell', '3'), ('The Amazing Catfish', '3'), ('Red Dragon', '3'), ('A Serious Man', '3'), ('Away We Go', '3'), ('Wild Card', '3'), ('Touching the Void', '2'), ('Tea with Mussolini', '3'), ('The True Story of Puss n Boots', '2'), ('A Monster in Paris', '2'), ('Chairman of the Board', '3'), ('Saw III', '3'), ('Vera Drake', '3'), ('Nothing to Lose', '3'), ('The Grandmaster', '3'), ('The Rundown', '3'), ('From Justin to Kelly', '3'), ('My Best Friends Girl', '3'), ('Donnie Brasco', '3'), ('The Spirit', '2'), ('Crazy in Alabama', '3'), ('London', '3'), ('The 41–Year–Old Virgin Who Knocked Up Sarah Marshall and Felt Superbad About It', '3'), ('Cecil B. Demented', '2'), ('Stone Cold', '2'), ('Shouldve Been Romeo', '3'), ('Confessions of a Teenage Drama Queen', '3'), ('Notting Hill', '3'), ('Spider-Man', '2'), ('Child 44', '3'), ('Alien', '2'), ('Mississippi Mermaid', '3'), ('Unaccompanied Minors', '2'), ('Monsters', '3'), ('Jason Bourne', '3'), ('Diary of a Wimpy Kid: Dog Days', '2'), ('Never Say Never Again', '2'), ('Reign of Fire', '3'), ('Commando', '2'), ('Knockaround Guys', '3'), ('Antz', '3'), ('To Rome with Love', '3'), ('Atlas Shrugged Part III: Who is John Galt?', '3'), ('High Heels and Low Lifes', '3'), ('Batman v Superman: Dawn of Justice', '2'), ('Daylight', '2'), ('Living Out Loud', '3'), ('Serving Sara', '3'), ('A Cinderella Story', '3'), ('Another Happy Day', '3'), ('Green Lantern', '3'), ('The Story of Us', '3'), ('Crazy, Stupid, Love.', '3'), ('Zack and Miri Make a Porno', '3'), ('Guess Who', '3'), ('Alien³', '2'), ('Nerve', '2'), ('Patriot Games', '2'), ('(500) Days of Summer', '3'), ('After the Sunset', '3'), ('Undiscovered', '3'), ('Maximum Risk', '2'), ('Arn: The Knight Templar', '2'), ('For Your Eyes Only', '2'), ('The Andromeda Strain', '3'), ('Chronicle', '3'), ('Dredd', '2'), ('S.W.A.T.', '2'), ('Batman & Robin', '5'), ('8MM', '3'), ('Blackhat', '3'), ('Duplex', '2'), ('Brick Mansions', '2'), ('Lifeforce', '2'), ('The Big Lebowski', '2'), ('Never Back Down 2: The Beatdown', '3'), ('A Night at the Roxbury', '3'), ('Alive', '2'), ('Night at the Museum: Battle of the Smithsonian', '2'), ('Private Benjamin', '3'), ('Butterfly', '3'), ('Racing Stripes', '3'), ('Hamlet 2', '3'), ('Exorcist II: The Heretic', '3'), ('The Monkey King 2', '3'), ('Steppin: The Movie', '3'), ('Austin Powers: International Man of Mystery', '3'), ('Without Men', '3'), ('Against the Wild', '2'), ('Escape from the Planet of the Apes', '2'), ('Gravity', '3'), ('My Beautiful Laundrette', '3'), ('Red Sonja', '3'), ('Ghost World', '3'), ('Transsiberian', '3'), ('Tammy', '3'), ('Lethal Weapon 3', '2'), ('The Game Plan', '2'), ('25th Hour', '3'), ('Enchanted', '3'), ('All Good Things', '3'), ('28 Weeks Later', '3'), ('Daddy Day Care', '2'), ('The Green Inferno', '2'), ('Out of the Furnace', '3'), ('High Crimes', '3'), ('The Jacket', '3'), ('Highlander: Endgame', '3'), ('Kangaroo Jack', '3'), ('Waking Ned', '3'), ('Rollerball', '2'), ('Snow White: A Tale of Terror', '3'), ('G.I. Joe: The Rise of Cobra', '3'), ('Wonder Boys', '3'), ('Beowulf', '2'), ('Eraser', '3'), ('Space Chimps', '3'), ('9', '3'), ('Sin City', '2'), ('A Scanner Darkly', '3'), ('The Marine 4: Moving Target', '3'), ('Babylon A.D.', '3'), ('Final Fantasy: The Spirits Within', '2'), ('Rugrats Go Wild', '3'), ('Fly Me to the Moon', '3'), ('Underworld: Awakening', '2'), ('The FP', '3'), ('This Is England', '3'), ('Aqua Teen Hunger Force Colon Movie Film for Theaters', '3'), ('28 Days', '3'), ('Free State of Jones', '3'), ('N-Secure', '3'), ('The X Files: I Want to Believe', '3'), ('Takers', '2'), ('Mercury Rising', '2'), ('Crazy Stone', '2'), ('200 Cigarettes', '3'), ('Return to Never Land', '3'), ('No Escape', '3'), ('Barbarella', '3'), ('Chill Factor', '2'), ('Blade II', '2'), ('Gamer', '2'), ('Made in Dagenham', '3'), ('Hocus Pocus', '3'), ('The Crew', '2'), ('Somewhere', '3'), ('The Other Woman', '3'), ('Star Trek', '3'), ('Without a Paddle', '3'), ('Supercross', '2'), ('A Dog Of Flanders', '3'), ('Disclosure', '3'), ('A Lonely Place to Die', '3'), ('Full Frontal', '3'), ('Nick and Norahs Infinite Playlist', '3'), ('Monty Python and the Holy Grail', '3'), ('Everything You Always Wanted to Know About Sex *But Were Afraid to Ask', '3'), ('Oliver Twist', '2'), ('Love in the Time of Monsters', '3'), ('All Is Lost', '2'), ('Two Can Play That Game', '3'), ('Shrek', '2'), ('Alice Through the Looking Glass', '3'), ('The Giver', '3'), ('Need for Speed', '2'), ('Star Wars: Episode II - Attack of the Clones', '3'), ('Easy Money', '3'), ('Chicken Tikka Masala', '3'), ('Charlie Wilsons War', '3'), ('Point Blank', '2'), ('The Inkwell', '3'), ('The Hangover', '3'), ('Girl 6', '3'), ('This Is 40', '3'), ('Get Him to the Greek', '3'), ('Phenomenon', '2'), ('21 & Over', '3'), ('Tumbleweeds', '3'), ('Young Adult', '3'), ('The Devils Own', '3'), ('Spy Game', '2'), ('Repo! The Genetic Opera', '2'), ('Epic Movie', '3'), ('The Protector', '2'), ('300: Rise of an Empire', '3'), ('Leatherheads', '3'), ('Saving Face', '3'), ('The Talented Mr. Ripley', '3'), ('The Sweetest Thing', '3'), ('Wing Commander', '2'), ('Jurassic Park', '2'), ('Snow Day', '2'), ('Volcano', '2'), ('The Ten', '3'), ('Nine Dead', '3'), ('Valley of the Wolves: Iraq', '2'), ('While Were Young', '3'), ('Wall Street: Money Never Sleeps', '3'), ('Nighthawks', '2'), ('Baghead', '3'), ('Love & Basketball', '2'), ('Along Came a Spider', '2'), ('Elizabethtown', '3'), ('Cat People', '3'), ('What a Girl Wants', '3'), ('Righteous Kill', '2'), ('The Fast and the Furious', '2'), ('For a Good Time, Call...', '3'), ('Thumbsucker', '3'), ('Edtv', '3'), ('The Ridiculous 6', '3'), ('National Lampoons Vacation', '2'), ('Aliens in the Attic', '2'), ('Ip Man 3', '3'), ('The Little Prince', '2'), ('Hot Tub Time Machine', '3'), ('Silmido', '3'), ('In the Company of Men', '3'), ('Jackass: The Movie', '3'), ('Maze Runner: The Scorch Trials', '3'), ('Superbad', '3'), ('DodgeBall: A True Underdog Story', '3'), ('Finishing The Game', '3'), ('Beavis and Butt-Head Do America', '3'), ('Just Like Heaven', '2'), ('Hope Springs', '3'), ('3 Ninjas Kick Back', '2'), ('Like Mike', '3'), ('Rescue Dawn', '3'), ('Resident Evil: Retribution', '2'), ('The One', '2'), ('Little Fockers', '3'), ('My Big Fat Greek Wedding', '3'), ('Super Mario Bros.', '2'), ('Ghost Rider: Spirit of Vengeance', '2'), ('Vampire in Brooklyn', '3'), ('Surfer, Dude', '3'), ('No Country for Old Men', '3'), ('The Wizard of Oz', '3'), ('Man on Wire', '3'), ('Girls Gone Dead', '3'), ('The Amazing Spider-Man', '3'), ('Killing Them Softly', '3'), ('Inception', '3'), ('Mission: Impossible', '2'), ('Kingdom of Heaven', '2'), ('Pitch Black', '2'), ('Buffalo 66', '2'), ('The Brave Little Toaster', '2'), ('The Tigger Movie', '3'), ('Get Over It', '3'), ('Cedar Rapids', '3'), ('Bucky Larson: Born to Be a Star', '3'), ('The Big Year', '3'), ('The Longest Day', '3'), ('Pretty Woman', '3'), ('Its All Gone Pete Tong', '3'), ('City of Ember', '3'), ('Man on a Ledge', '2'), ('Percy Jackson: Sea of Monsters', '3'), ('Back to the Future Part II', '2'), ('Last Holiday', '2'), ('Dutch Kills', '3'), ('The Outsiders', '3'), ('Two Weeks Notice', '3'), ('40 Days and 40 Nights', '3'), ('How to Lose Friends & Alienate People', '3'), ('Brave New Girl', '3'), ('Young Sherlock Holmes', '2'), ('Return of the Jedi', '3'), ('Hey Arnold! The Movie', '3'), ('Ajami', '3'), ('Aloha', '3'), ('Raising Cain', '3'), ('My Lucky Star', '3'), ('The Hit List', '3'), ('Enders Game', '3'), ('Mad Max 2: The Road Warrior', '3'), ('The Guilt Trip', '3'), ('Heroes of Dirt', '3'), ('The Weather Man', '3'), ('What Happens in Vegas', '3'), ('Ready to Rumble', '2'), ('Raising Helen', '3'), ('The Hitchhikers Guide to the Galaxy', '2'), ('Brazil', '2'), ('Lakeview Terrace', '3'), ('Duets', '3'), ('The Pelican Brief', '3'), ('Race to Witch Mountain', '2'), ('Under Siege 2: Dark Territory', '3'), ('Damsels in Distress', '3'), ('The Dead Undead', '2'), ('Nightcrawler', '3'), ('The Big Tease', '3'), ('Supernova', '3'), ('Bridge to Terabithia', '2'), ('On Her Majestys Secret Service', '2'), ('Death Becomes Her', '2'), ('Small Apartments', '2'), ('Free Style', '3'), ('Simply Irresistible', '3'), ('Men in Black 3', '3'), ('The Shaggy Dog', '2'), ('The Ladies Man', '3'), ('Apocalypto', '2'), ('Superman III', '2'), ('The Sum of All Fears', '3'), ('Slow Burn', '3'), ('Albino Alligator', '3'), ('Conspiracy Theory', '3'), ('Night at the Museum', '2'), ('28 Days Later', '3')]\n"
          ],
          "name": "stdout"
        }
      ]
    },
    {
      "cell_type": "markdown",
      "metadata": {
        "id": "803axm4v5Rg3"
      },
      "source": [
        "Eπιπλέον, είναι απαραίτητος ο εκ νέου καθορισμός των querries αναζήτησης διότι τα προηγούμενα δεν φέρουν πλέον ικανοποιητικά αποτελέσματα.Κάνουμε consult ένα καινούργιο αρχείο αναζητήσεων."
      ]
    },
    {
      "cell_type": "code",
      "metadata": {
        "id": "i_-3zbx85iHh"
      },
      "source": [
        "num = 4\r\n",
        "prolog.consult(path + \"db\"+str(num)+\".pl\")\r\n",
        "\r\n",
        "# Επίσης μπορούμε να κάνουμε consult ένα έτοιμο αρχείο στον κόσμο όπως παρακάτω\r\n",
        "#  prolog.consult(path +\"db.pl\")\r\n",
        "train_ratings = pd.read_csv(path + \"train_ratings.csv\")\r\n",
        "test_ratings = pd.read_csv(path + \"test_ratings.csv\")"
      ],
      "execution_count": null,
      "outputs": []
    },
    {
      "cell_type": "markdown",
      "metadata": {
        "id": "wRPM0sWm5kZN"
      },
      "source": [
        "Τα περιεχόμενα του αρχείου db4.pl παρουσιάζονται παρακάτω: \r\n",
        "\r\n",
        "```\r\n",
        "# db4.pl\r\n",
        "prolog.assertz('find_sim_5(X, Y) :- distinct((similar_keyword_4(X, Y); common_actors_2(X, Y), similar_genre_3(X, Y),common_director(X, Y) )))')\r\n",
        "prolog.assertz('find_sim_4(X, Y) :- distinct(((common_actors_2(X, Y);common_director(X, Y)),similar_keyword_4(X, Y)), not(find_sim_5(X, Y)) ))')\r\n",
        "prolog.assertz('find_sim_3(X, Y) :- distinct((similar_genre_1(X, Y); common_actors_2(X, Y); similar_keyword_3(X, Y), not(find_sim_4(X, Y)) )) )')\r\n",
        "prolog.assertz('find_sim_2(X, Y) :- distinct((similar_keyword_3(X, Y);similar_genre_2(X, Y)); not(find_sim_3(X, Y)) ))')\r\n",
        "prolog.assertz('find_sim_1(X, Y) :- distinct((similar_genre_1(X, Y); similar_keyword_1(X, Y) ), not(find_sim_2(X, Y)) ))')\r\n",
        "\r\n",
        "```\r\n",
        "\r\n",
        " "
      ]
    },
    {
      "cell_type": "markdown",
      "metadata": {
        "id": "WbUjSuV994Fx"
      },
      "source": [
        "Όπως αναφέρθηκε και παραπάνω, το keyword \"distinct\" ήταν ο καθοριστικός παράγοντας για την εξάλειψη του προβλήματος με τη μνήμη που αντιμετωπίσαμε."
      ]
    },
    {
      "cell_type": "code",
      "metadata": {
        "id": "lL9P3GOd4rUe",
        "colab": {
          "base_uri": "https://localhost:8080/"
        },
        "outputId": "4f39c9af-add2-4134-de00-606e245f9c6b"
      },
      "source": [
        "from tqdm.notebook import tqdm\n",
        "from sklearn.metrics import precision_score, recall_score, f1_score\n",
        "\n",
        "similarity_weights = { 5:10, 4:7, 3:3, 2:1, 1:0}\n",
        "rating_weights = {5: 10, 4: 5, 3: 0, 2: -5, 1: -10, 0:-20} # ανάλογα με τα επίπεδα ομοιότητας που έχουν οριστεί στην simple_recommender\n",
        "\n",
        "def train_recommender(ratings, rating_weights, similarity_weights, start=0, end = -1, movie_score = {}):\n",
        "    \"\"\"\n",
        "    Στην συνάρτηση αυτή μπορούμε να ορίζουμε ποιο υποσύνολο των αξιολογήσεων θα χρησιμοποιήσουμε για το train,\n",
        "    ενώ παράλληλα μπορούμε να αρχικοποιήσουμε και το movie_score το οποίο αποθηκεύονται τα score κάθε ταινίας.\n",
        "    Έτσι αν έχουμε κάνει train τον recommender μας για τις πρώτες 10 ταινίες, μπορούμε να συνεχίσουμε για τις \n",
        "    υπόλοιπες χωρίς κάθε φορά να ξανά-διαμορφώνουμε το score για αυτές. Αυτό θα σας βοηθήσει στην εκτέλεση και χρονικά όταν ελέγχετε την \n",
        "    απόδοση σε υποσύνολα των ratings π.χ. πρώτες 10 ταινίες έπειτα τις επόμενες 20 κ.ο.κ.\n",
        "    \"\"\"\n",
        "    if end == -1:\n",
        "        end = len(ratings)\n",
        "\n",
        "    ratings = ratings.iloc[range(start, end)]\n",
        "    for row in tqdm(ratings.itertuples(index=True, name='Pandas')):\n",
        "        movie = clean_text(getattr(row, 'movie_title'))\n",
        "        rating = getattr(row, 'rating')\n",
        "        print(\"rating:\",rating,\", movie:\",movie)\n",
        "\n",
        "        # similar_movies=[]\n",
        "        similar_movies=simple_recommender(movie)\n",
        "        # print(similar_movies)\n",
        "        for s in similar_movies:\n",
        "          # print(\"s=\",s)\n",
        "          if s[0] not in movie_score:\n",
        "              movie_score[s[0]] = rating_weights[int(rating)] * similarity_weights[int(s[1])]\n",
        "          else:\n",
        "              # print(\"else\")\n",
        "              movie_score[s[0]] += rating_weights[int(rating)] * similarity_weights[int(s[1])] #το weight θα το ορίσετε ανα επίπεδο ομοιότητας οι πολύ όμοιες ταινίες θα έχουν μεγαλύτερο βάρος\n",
        "    return movie_score\n",
        "\n",
        "\n",
        "#αυτό είναι ένα παράδειγμα για το πως θα μπορούσε να υλοποιήθει η predict\n",
        "#έχουμε ορίσει ότι μια ταινία θα έπρεπε να είναι προτεινόμενη αν είχε σκορ > 1\n",
        "def predict_example(ratings, movie_score):\n",
        "    real, pred = [], []\n",
        "    for i, row in enumerate(ratings.itertuples(index=True, name='Pandas')):\n",
        "        movie = clean_text(getattr(row, 'movie_title'))\n",
        "        rating = getattr(row, 'rating')\n",
        "\n",
        "        if movie in movie_score: #αν έχουμε σχηματίσει βαθμολογία για την ταινία αυτή\n",
        "            pred.append(int(movie_score[movie] > 0)) #heuristic για το αν μια ταινία είναι προτεινόμενη\n",
        "            real.append(int(rating > 3))# έτσι ορίζουμε ότι μια ταινία θα έπρεπε να είναι προτεινόμενη\n",
        "            #η συνθήκη αυτή δεν μπορεί να αλλάξει\n",
        "        else: #δεν μπορούμε να προτείνουμε κάτι για το όποιο δεν έχουμε σχηματίσει εικόνα\n",
        "            pred.append(0)\n",
        "            real.append(int(rating > 3))\n",
        "\n",
        "    return real, pred\n",
        "\n",
        "\n",
        "def get_metrics(real, pred):\n",
        "    metrics = {}\n",
        "    metrics[\"precision\"] = precision_score(real, pred)\n",
        "    metrics[\"recall\"] = recall_score(real, pred)\n",
        "    metrics[\"f1\"] = f1_score(real, pred)\n",
        "    return metrics\n"
      ],
      "execution_count": null,
      "outputs": [
        {
          "output_type": "stream",
          "text": [
            "Drive already mounted at /gdrive; to attempt to forcibly remount, call drive.mount(\"/gdrive\", force_remount=True).\n"
          ],
          "name": "stdout"
        }
      ]
    },
    {
      "cell_type": "code",
      "metadata": {
        "colab": {
          "base_uri": "https://localhost:8080/"
        },
        "id": "gU9BtwD1ZpE2",
        "outputId": "d64b3a5b-6544-4ba1-9c5a-c783dea050ef"
      },
      "source": [
        "print(len(train_ratings))"
      ],
      "execution_count": null,
      "outputs": [
        {
          "output_type": "stream",
          "text": [
            "100\n"
          ],
          "name": "stdout"
        }
      ]
    },
    {
      "cell_type": "markdown",
      "metadata": {
        "id": "mo2iq9XYuaj3"
      },
      "source": [
        "## Έλεγχος λειτουργικότητας"
      ]
    },
    {
      "cell_type": "markdown",
      "metadata": {
        "id": "7Vke9xCc02a9"
      },
      "source": [
        "### Εκπαίδευση με υποσύνολα των δεδομένων"
      ]
    },
    {
      "cell_type": "markdown",
      "metadata": {
        "id": "YGnlYpca0-HC"
      },
      "source": [
        "Αρχικά εκπαιδεύσαμε το μοντέλο βήμα-βήμα, διότι δεν είχαμε λύσει ακόμα το πρόβλημα με όνομα \"too many stacked stings\".Θα αποδείξουμε πως η μέθοδος της εκπαίδευσης με υποσύνολα των συνολικών ταινιών,καθώς και η μέθοδος της εκπαίδευσης κατευθείαν του συνόλου των ταινιών οδηγούν στα ίδια αποτελέσματα."
      ]
    },
    {
      "cell_type": "code",
      "metadata": {
        "id": "GRrCUhJwsHf9",
        "colab": {
          "base_uri": "https://localhost:8080/",
          "height": 324,
          "referenced_widgets": [
            "2148c1b0eb194263bda5e72d5b71f45f",
            "6b2f7643c72d4db3bc4ed31d122e667f",
            "443b1a598db840549ecd936ccbcf2fbc",
            "98d22efde952422bb2b869ce7812a239",
            "f4a166c650ae4e068f797f9462f1b51a",
            "c3e8fe46bfd34f6fb01f94654e82874e",
            "22aac15059354bb899df2a243621db43",
            "03cda00eecaf4fe8a6bd50a862fc8f4b"
          ]
        },
        "outputId": "3cce983a-9cc0-4e8b-91a7-bc06570c13b7"
      },
      "source": [
        "import joblib\r\n",
        "filename1 = 'movie_score.pkl'\r\n",
        "\r\n",
        "movie_score = train_recommender(train_ratings, rating_weights, similarity_weights, 0, 10, movie_score)\r\n",
        "print(movie_score)\r\n",
        "real, pred = predict_example(test_ratings, movie_score)\r\n",
        "print (get_metrics(real, pred))\r\n",
        "\r\n",
        "joblib.dump(movie_score, path + filename1, compress = True)"
      ],
      "execution_count": null,
      "outputs": [
        {
          "output_type": "display_data",
          "data": {
            "application/vnd.jupyter.widget-view+json": {
              "model_id": "2148c1b0eb194263bda5e72d5b71f45f",
              "version_minor": 0,
              "version_major": 2
            },
            "text/plain": [
              "HBox(children=(FloatProgress(value=1.0, bar_style='info', max=1.0), HTML(value='')))"
            ]
          },
          "metadata": {
            "tags": []
          }
        },
        {
          "output_type": "stream",
          "text": [
            "rating: 4.0 , movie: Stand by Me\n",
            "rating: 5.0 , movie: Letters from Iwo Jima\n",
            "rating: 0.5 , movie: Y Tu Mamá También\n",
            "rating: 2.0 , movie: Moulin Rouge!\n",
            "rating: 4.0 , movie: Horrible Bosses\n",
            "rating: 5.0 , movie: Dances with Wolves\n",
            "rating: 3.5 , movie: Along Came a Spider\n",
            "rating: 2.0 , movie: The Sixth Sense\n",
            "rating: 5.0 , movie: The Forbidden Kingdom\n",
            "rating: 1.0 , movie: Notting Hill\n",
            "\n",
            "{'Courageous': -45, 'Mozarts Sister': -45, 'The Frozen Ground': 15, 'Naturally Native': -45, 'Blue Car': -45, 'The Pink Panther': 30, 'Flyboys': 0, 'The Holy Girl': -45, 'Journey from the Fall': -45, 'Bodyguards and Assassins': -45, 'Victor Frankenstein': -30, 'Knocked Up': 45, 'Faith Like Potatoes': -45, 'Rust': -45, 'To Save A Life': -45, '#Horror': -45, 'Eddie the Eagle': 0, 'The Best Years of Our Lives': 60, 'Bloody Sunday': -75, 'La Bamba': -30, 'The Quiet': -30, 'Without Limits': -45, 'Martha Marcy May Marlene': -30, 'Georgia Rule': 45, 'Valley of the Wolves: Iraq': -75, 'The Hundred-Foot Journey': -45, 'Margaret': -45, 'Real Women Have Curves': 0, 'The Right Stuff': -45, 'The Life Before Her Eyes': -45, 'Life of Pi': -75, 'The Big Parade': 30, 'The Wicked Lady': -75, 'Thank You for Smoking': 0, 'A Shine of Rainbows': -45, 'Clueless': 45, 'The House of Mirth': 60, 'The Mortal Instruments: City of Bones': 75, 'Mr. Smith Goes to Washington': 0, 'All the Real Girls': 60, 'Snake Eyes': 15, 'Camping Sauvage': 60, 'Blue Like Jazz': 0, 'Cant Hardly Wait': 45, 'Bottle Shock': 0, 'I Hope They Serve Beer in Hell': 0, 'A Fine Step': -45, 'The Family Man': 75, '54': -30, 'Waterloo': -45, 'City of Angels': 90, 'The Phantom of the Opera': 75, 'The Perez Family': 45, 'Inside Out': 0, 'Lets Go to Prison': -15, 'And So It Goes': 95, 'RockNRolla': 75, 'Shattered Glass': -45, 'Cecil B. Demented': -30, 'The Color Purple': -45, 'Loves Abiding Joy': -45, 'Pay It Forward': 60, 'The Geographer Drank His Globe Away': -45, 'Apollo 13': -45, 'Darling Companion': 60, 'From Dusk Till Dawn': 75, 'Pollock': 60, 'Les Misérables': 45, '(500) Days of Summer': 45, 'Frost/Nixon': -45, 'Thirteen Days': -30, 'Thomas and the Magic Railroad': -45, 'A Streetcar Named Desire': -45, 'True Grit': -45, 'Last Orders': 0, 'March or Die': -105, 'Aloha': 45, 'Nurse Betty': -30, 'There Be Dragons': -45, 'The Immigrant': 60, 'Sahara': -15, 'Richard III': -75, 'Bang Bang Baby': -30, 'Point Break': 75, 'Listening': -30, 'Up in the Air': 60, 'The Adventures of Ford Fairlane': 45, 'The Remains of the Day': 60, 'Stone Cold': 75, 'Tora! Tora! Tora!': -105, 'Free State of Jones': 0, 'Love Actually': 45, 'A Few Good Men': 5, 'Ripleys Game': 15, 'Double Take': 15, 'Outbreak': -30, 'Hope Floats': 60, 'The Beaver': -45, 'The Yellow Handkerchief': 60, 'Solitary Man': 45, 'Come Early Morning': 60, '2 Guns': 45, 'The Help': -45, 'Little Children': 60, 'Taken 2': 75, 'My Sisters Keeper': -45, 'Sparkle': -30, 'Crying with Laughter': 15, 'Hamlet': -45, 'Trade Of Innocents': -30, 'Where the Truth Lies': -45, 'Men of Honor': -45, 'The Book Thief': -45, 'Finding Neverland': -45, 'Letters to Juliet': 45, 'Jeff, Who Lives at Home': 0, 'Proof of Life': 45, 'The Terminal': 0, 'Kabhi Alvida Naa Kehna': 60, 'Hes Just Not That Into You': 45, 'The Four Feathers': 60, 'The Apostle': -45, 'The Last Time I Committed Suicide': -45, 'Savage Grace': -45, 'Child 44': 15, 'Brooklyn': 60, 'Entrapment': 75, 'Man on Wire': 15, 'House of Flying Daggers': 30, 'The Young Unknowns': -45, 'Gettysburg': -75, 'True Romance': -30, 'Family Plot': -30, 'The Statement': -30, 'Valkyrie': -60, 'The Young Messiah': -45, 'Four Rooms': -15, 'If I Stay': -45, 'Blood Diamond': -30, 'JFK': -30, 'Transcendence': -45, 'Half Baked': -15, 'Before Sunset': 60, 'Due Date': 0, 'The Aviator': -45, 'Basic Instinct 2': 30, 'Zipper': -30, 'My Dog Skip': 0, 'Pi': -45, 'Turbulence': 75, 'Bizarre': 60, 'The Rookie': -45, 'Step Up 2: The Streets': 45, 'Get Low': 15, 'House of D': 0, 'Ramanujan': -45, 'Notting Hill': 75, 'Austin Powers: International Man of Mystery': -15, 'The Circle': -45, 'Rabbit-Proof Fence': -75, 'Femme Fatale': -90, 'Samsara': -45, 'Super': 0, 'Ghost': 90, 'The Chambermaid on the Titanic': -45, 'Cyrus': 45, 'Fur: An Imaginary Portrait of Diane Arbus': 75, 'Little Boy': -30, 'Leatherheads': 45, 'Reds': -45, 'The Wood': 45, 'Vanity Fair': 60, 'The Swindle': -30, 'The Glass House': -30, 'The Ladykillers': -30, 'Selma': -45, 'The Last Sin Eater': -45, 'You Will Meet a Tall Dark Stranger': 45, 'Intolerance': -45, 'Rise of the Planet of the Apes': -30, 'Kama Sutra - A Tale of Love': 60, 'Moon': -45, 'Mrs. Winterbourne': 45, 'Gone with the Wind': 30, 'The Mexican': 0, 'Soul Surfer': -45, 'The Count of Monte Cristo': -60, 'Charlie Bartlett': 0, 'Transporter 2': 75, 'Blue Valentine': 60, 'Lovely & Amazing': 45, 'Step Up Revolution': 45, 'The Martian': -75, 'Max': -75, 'Checkmate': 75, 'The Object of My Affection': 45, 'Becoming Jane': 60, 'Misconduct': -30, 'Return to the Blue Lagoon': 30, 'When the Game Stands Tall': -45, 'L.I.E.': -45, 'The Canyons': -30, 'Extremely Loud & Incredibly Close': -45, 'Bright Lights, Big City': -45, 'Brokedown Palace': -30, 'Proud': -45, 'Pride & Prejudice': 60, 'The Princess Bride': 50, 'Gone in Sixty Seconds': 75, 'Undisputed': -60, 'The Last King of Scotland': -45, 'Secretariat': -45, 'The Manchurian Candidate': -45, 'The Merchant of Venice': 60, 'The Horseman on the Roof': 60, 'Trouble with the Curve': 60, 'Running with Scissors': 0, 'The Hunt': -45, 'Cloud Atlas': -45, 'The Upside of Anger': 0, 'Straight Out of Brooklyn': -45, 'The Players Club': -45, 'This Christmas': 0, 'Trapeze': -45, 'Burn After Reading': 0, 'Edward Scissorhands': 90, 'We Are Your Friends': 45, 'Death at a Funeral': 0, '20,000 Leagues Under the Sea': -75, 'Love Me Tender': 15, 'Ex Machina': -45, 'Choke': 0, 'First Knight': 30, 'Forsaken': -75, 'The Perfect Storm': -45, '8MM': 30, 'Hands of Stone': -45, 'Rocket Singh: Salesman of the Year': 45, 'Another Year': 0, 'Stomp the Yard': -30, Variable(70): 0, 'Babe: Pig in the City': -60, 'The Kings Speech': -45, 'Exit Wounds': 75, 'Promised Land': -45, 'Monsoon Wedding': 45, 'Whats Eating Gilbert Grape': 60, 'Redbelt': -45, 'The Wendell Baker Story': 45, 'Chiamatemi Francesco - Il Papa della gente': -45, 'Freeheld': 60, 'Room': -30, 'Beasts of the Southern Wild': -15, 'Shade': 75, 'Derailed': -30, 'Human Traffic': 0, 'The Runaways': -30, 'Arthur Christmas': 0, 'A Very Long Engagement': -45, 'Home Alone 2: Lost in New York': 75, 'My Life Without Me': 60, 'Palo Alto': -45, 'Stoker': -30, 'Swing Vote': 0, 'Cat on a Hot Tin Roof': 60, 'Everybodys Fine': -45, 'The Cooler': 60, 'Dangerous Liaisons': 60, 'Nerve': 105, 'In Good Company': 45, 'The Second Mother': -45, 'Sound of My Voice': -30, 'Machete Kills': 75, 'The History Boys': 0, 'The Ultimate Gift': 60, 'Water for Elephants': 60, 'Teachers Pet': -30, 'The Importance of Being Earnest': 45, 'Body Double': 30, 'My Fair Lady': 45, 'Tales from the Hood': 15, 'What Planet Are You From?': 45, 'Arn: The Knight Templar': 30, 'Saw V': 15, 'Limbo': -60, 'The Bodyguard': 60, 'Salvador': -45, 'Get Rich or Die Tryin': -45, 'The Mighty': 0, 'Cure': 30, 'The Sisterhood of the Traveling Pants': 0, 'Apocalypto': -60, 'Pompeii': 30, 'The Debt': -30, 'After.Life': -45, 'Atlas Shrugged Part III: Who is John Galt?': -30, 'Chuck & Buck': 0, 'Lost in Translation': -45, 'Locker 13': -30, 'The Egyptian': -45, 'Biutiful': -45, 'Crank': 75, 'Passchendaele': 30, 'A Thousand Words': 0, 'We Need to Talk About Kevin': -30, 'Fight Club': -45, 'Unfaithful': -30, 'Shame': -45, 'Deconstructing Harry': 0, 'The Bridge on the River Kwai': -75, 'Guten Tag, Ramón': -45, '8 Mile': -45, 'The Haunting in Connecticut 2: Ghosts of Georgia': -30, 'Shadowlands': 60, 'Radio Flyer': -45, 'Pocketful of Miracles': 0, 'Snakes on a Plane': 75, 'Larry Crowne': 45, 'Primer': -30, 'San Andreas': -30, 'Behind Enemy Lines': 0, 'Kung Fu Hustle': 15, 'Labor Day': -45, 'Just My Luck': 75, 'The Curious Case of Benjamin Button': 90, 'Mulholland Drive': -45, 'Boogeyman': -45, '12 Angry Men': -45, 'Bobby': -45, 'Mirror Mirror': -60, 'Slam': -45, 'Congo': -75, 'Primary Colors': 0, 'One Night with the King': -45, 'The Guard': 30, 'Eastern Promises': 30, 'Dr. Strangelove or: How I Learned to Stop Worrying and Love the Bomb': -30, 'The Giver': -45, 'Angel Eyes': 75, 'The Sentinel': 75, 'P.S. I Love You': 60, 'Sweet Charity': 30, 'Shortbus': 45, 'Very Bad Things': -30, 'Glory Road': -45, 'Imagine Me & You': 45, 'To Write Love on Her Arms': -30, 'The Art of Getting By': 60, 'A Room for Romeo Brass': 0, 'Clear and Present Danger': -30, 'Barbershop 2:  Back in Business': 0, 'Lone Star': 75, 'The Bucket List': 50, 'Southpaw': -45, 'Incendies': -60, 'The Legend of Bagger Vance': -15, 'Batman': 45, 'Into the Wild': -75, 'Big Mommas House': -15, 'Footloose': 45, 'Warrior': -45, 'The Great Escape': -30, 'RED 2': 30, 'Everest': -75, 'Deliver Us from Evil': 15, 'Frida': 60, 'Mrs Henderson Presents': 0, 'Breakdown': -30, 'Mystic Pizza': 45, 'Character': -45, 'New York Stories': 45, 'The Last of the Mohicans': 0, 'The Age of Adaline': 90, 'Birth': -45, 'The Virgin Suicides': 60, 'Latter Days': 45, 'Walking Tall': -60, 'The Grandmaster': -45, 'Home Fries': 45, 'The Lake House': 75, 'Imaginary Heroes': 0, 'Immortals': -75, 'The Exorcist': -30, 'Diner': 0, 'Alexanders Ragtime Band': 45, 'Nicholas Nickleby': -75, 'Made in Dagenham': 0, 'This Thing of Ours': -30, 'Walk the Line': 45, 'The Cable Guy': 15, '10 Cloverfield Lane': -30, 'The Transporter Refueled': 75, 'Resurrecting the Champ': -45, 'The Blind Side': -45, 'Elmer Gantry': -45, 'Synecdoche, New York': -45, 'The Astronaut Farmer': -30, 'Wah-Wah': -45, 'Little Voice': 0, 'Stone': -45, 'The Four Seasons': 45, 'House of Sand and Fog': -45, 'Tracker': -60, 'The Pursuit of D.B. Cooper': 105, '12 Years a Slave': -45, 'Dragon Wars: D-War': -60, 'Le Havre': 0, 'Copying Beethoven': -45, 'Unleashed': 90, 'Factory Girl': -45, 'Crooklyn': 0, 'Contagion': -30, 'All Is Lost': -75, 'Disturbia': -45, 'Midnight Special': -75, 'Queen of the Mountains': -45, 'The Emperors Club': 60, 'The Hoax': 0, 'The Monuments Men': -15, 'Quest for Fire': -75, 'Rebecca': -30, 'The Homesman': -75, 'All Hat': -30, 'The Judge': -45, 'First Love, Last Rites': -45, 'Any Given Sunday': -45, 'Seven Pounds': -45, 'Carnage': 0, 'Exodus: Gods and Kings': -75, 'The Boat That Rocked': 0, 'Moliere': 45, 'Rush Hour 2': 30, 'The Slaughter Rule': -45, 'Stepmom': 60, 'The Jacket': -15, 'Cheri': 45, 'Blades of Glory': 0, 'Dancer, Texas Pop. 81': 0, 'Last Holiday': -30, 'The Wave': -30, 'The Christmas Candle': -45, 'Sympathy for Lady Vengeance': -30, 'The Theory of Everything': 60, 'Project X': -15, 'Steve Jobs': -45, 'The Rocket: The Legend of Rocket Richard': -45, 'The Firm': -45, 'Broken Vessels': -45, 'High School Musical 3: Senior Year': 30, 'Hachi: A Dogs Tale': -45, 'The Children of Huang Shi': -75, 'Youth in Revolt': 45, 'The Quiet American': 75, 'Welcome Home Roscoe Jenkins': 0, 'Diary of a Mad Black Woman': 45, 'You Got Served': -45, 'Green Zone': -90, 'Let Me In': -30, 'The Cavemans Valentine': -45, 'Fish Tank': -45, 'Grace Unplugged': -30, 'The Horse Whisperer': 60, 'The Bubble': 60, 'An Everlasting Piece': -15, 'Animals': -45, 'Hidden Away': 60, 'Unbroken': -75, 'Rent': 60, '28 Days': 0, 'A Home at the End of the World': 60, '10 Things I Hate About You': 45, 'The Crime of Padre Amaro': 60, 'Fight Valley': -45, 'The Italian Job': 90, '15 Minutes': 75, 'The Other Guys': 45, 'Beyond Borders': 60, 'Eves Bayou': -45, 'When Did You Last See Your Father?': -45, 'Slums of Beverly Hills': 0, 'Thirteen Conversations About One Thing': -45, 'The Contender': -30, 'Heartbreakers': -60, 'The Hotel New Hampshire': 0, 'A Low Down Dirty Shame': 45, 'The Thin Red Line': -75, 'A Farewell to Arms': 30, 'Fiddler on the Roof': 60, 'While Were Young': 15, 'How She Move': -45, 'Woman in Gold': -45, 'Interview with the Assassin': -30, 'Sunshine State': -45, 'Ip Man 3': -45, 'The Man from Snowy River': 30, 'The Clan of the Cave Bear': -75, 'Charly': 60, 'Desperado': 75, 'Gabriela': 60, 'American Ninja 2: The Confrontation': -75, 'Our Idiot Brother': 0, 'Transsiberian': 30, 'This Is Where I Leave You': 0, 'Velvet Goldmine': -30, 'Jack Ryan: Shadow Recruit': -30, 'Trade': -30, 'In the Land of Women': 45, 'The Duchess': 60, '50/50': 0, 'What Lies Beneath': -45, 'The Hustler': -45, 'Last I Heard': 0, 'High Heels and Low Lifes': 45, 'Bangkok Dangerous': 75, '42': -45, 'Kung Fu Jungle': 75, 'RED': 0, 'Three': 45, 'Knockaround Guys': 15, 'Flightplan': -45, 'Julia': -45, 'K-19: The Widowmaker': -30, 'Namastey London': 60, 'Light It Up': -30, 'The End of the Affair': -45, 'The Boondock Saints': 75, 'Wonder Boys': 0, 'A Madea Christmas': 0, 'Se7en': 30, 'The Scarlet Letter': 60, 'The Wind That Shakes the Barley': -75, 'Moneyball': -45, 'The Last Samurai': -15, 'Tiny Furniture': 45, 'The Skeleton Key': -45, 'Sherrybaby': -45, 'Intolerable Cruelty': -60, 'Dreamgirls': -45, 'Meeks Cutoff': -75, 'A Good Year': 45, 'Not Easily Broken': 60, 'Big Daddy': 0, 'The Artist': 45, 'The Sessions': 45, 'The Oh in Ohio': 45, 'Bamboozled': 0, 'Crouching Tiger, Hidden Dragon': 30, 'Ida': -45, 'Crossover': -75, 'Dolphin Tale': -45, 'How Green Was My Valley': -45, 'Love Jones': 45, 'World War Z': -30, 'Futuro Beach': -45, 'The Misfits': 60, 'That Thing You Do!': 0, 'The Heart of Me': 60, 'Madeas Family Reunion': 45, 'Vanilla Sky': 60, 'Stealing Harvard': 0, 'The English Patient': 30, 'Song One': -45, 'Closer to the Moon': 0, 'Safety Not Guaranteed': 45, 'Freedom': -45, 'Wanted': 75, 'Filly Brown': -45, 'Boom Town': 30, 'Trust the Man': 45, 'Life as a House': -45, 'Submarine': 45, 'At First Sight': 60, 'Shooting Fish': -60, 'The Assassination of Jesse James by the Coward Robert Ford': -75, 'Molly': 45, 'Evita': -30, 'Bobby Jones: Stroke of Genius': -45, 'Tarnation': -45, 'Seabiscuit': -45, 'The Santa Clause': 30, 'The Truman Show': 0, 'Moonrise Kingdom': 45, 'Fuel': -45, 'Amour': 60, 'Johnny English Reborn': 0, 'The Last Emperor': -45, 'American Graffiti': 0, 'Everything Must Go': 45, 'The Man from Earth': -45, 'Full Frontal': 45, 'Like Crazy': 60, 'Dream House': -45, 'The Good Girl': 45, 'The Imitation Game': -60, 'Lucky You': 60, 'The Company': -45, 'Gunless': -30, 'Carriers': -30, 'Wasabi': 0, 'Babel': -45, 'A Lonely Place to Die': 45, 'Hits': 0, 'Vicky Cristina Barcelona': 60, 'Love Ranch': -45, 'Ride with the Devil': 0, 'On The Downlow': -45, 'Frances Ha': 0, 'Little Black Book': 45, 'Kiss of the Dragon': 75, 'Ready to Rumble': 0, 'Office Space': -15, 'Quo Vadis': 60, 'Red Tails': -105, 'Ghost World': 0, 'Adore': -45, 'Nowhere in Africa': -45, 'Chain Reaction': -30, 'The Great Debaters': -45, 'Quills': -45, 'The Constant Gardener': -45, 'The Women': 45, 'The Finest Hours': -30, 'Premium Rush': 75, 'Two Lovers and a Bear': 60, 'Pulp Fiction': 15, 'Extraordinary Measures': -45, 'Because of Winn-Dixie': 0, 'Beat the World': -30, 'School Daze': 0, 'My Beautiful Laundrette': 45, 'How Do You Know': 45, 'American Beauty': -45, 'All the Pretty Horses': 30, 'Catch a Fire': -30, 'Timecop': 75, 'Home for the Holidays': 45, 'Control': -45, 'The Naked Gun 33⅓: The Final Insult': -15, 'Interstellar': -75, 'Quest for Camelot': 90, 'Life During Wartime': 0, 'Bad Boys II': 0, 'Phone Booth': -30, 'Treachery': -45, 'The Secret Life of Walter Mitty': -60, 'Trucker': -45, 'Osama': -45, 'Divine Secrets of the Ya-Ya Sisterhood': 45, 'Eraserhead': -15, 'Shotgun Stories': -30, 'Our Brand Is Crisis': 0, 'Echo Dr.': -30, 'Saw: The Final Chapter': 30, 'Opal Dream': -45, 'Super Size Me': 0, 'W.': -45, 'The Sleepwalker': -45, 'Out of Africa': -45, 'Salvation Boulevard': 15, 'Coco Before Chanel': -45, 'Frozen River': -45, 'Showgirls': -45, 'The Flower of Evil': -45, 'Oceans Eleven': 15, 'The Wolfman': -30, 'Arbitrage': -30, 'Andersons Cross': 45, 'The Good Heart': 45, 'The Way Way Back': 0, 'Paper Towns': 75, 'Troy': -45, 'Dallas Buyers Club': -45, 'Split Second': 75, 'Exotica': -30, 'CJ7': 30, 'Madadayo': -45, 'The Missing Person': 0, 'Two Brothers': -75, 'Clockwatchers': 0, 'The Masked Saint': 90, 'Quartet': 45, 'Good Morning, Vietnam': -30, 'Ararat': -75, 'Judgment at Nuremberg': -45, 'Jackie Brown': -60, 'El Mariachi': 75, 'The Passion of the Christ': -45, 'Saving Silverman': -60, 'Sex, Lies, and Videotape': -45, 'Chicago Overcoat': 75, 'The Big Short': 0, 'The Tree of Life': -15, 'The Boys from Brazil': -30, 'American Desi': 45, 'Days of Heaven': 60, 'The Green Hornet': 45, 'The Mask': -30, 'Somethings Gotta Give': 45, 'Stop-Loss': -75, 'Saw IV': 15, 'Ladyhawke': 0, 'An Education': 60, 'The Business of Fancydancing': -30, 'Snow Angels': 60, 'Mommie Dearest': -45, 'Conspiracy Theory': -45, 'RoboCop 3': 45, 'Revolutionary Road': 60, 'The Broken Hearts Club: A Romantic Comedy': 45, 'Nine': 45, 'Big': 75, 'The Adventures of Huck Finn': -75, 'Maos Last Dancer': 60, 'Silver Linings Playbook': 45, 'The Brown Bunny': -45, 'The Other Boleyn Girl': -45, 'Black Rain': 75, 'Fugly': 15, 'Extreme Ops': -60, 'Lovely, Still': 60, 'Boogie Nights': -45, 'Hollywood Ending': 0, 'The Pianist': -75, '10 Days in a Madhouse': -45, 'The Last Station': 60, 'The Wraith': -15, 'The Work and the Glory': 60, 'The Jimmy Show': 0, 'The Life Aquatic with Steve Zissou': -30, 'Beverly Hills Cop': 45, 'The Juror': -30, 'The Black Dahlia': -45, 'The Dress': 0, 'Iris': 60, 'Lage Raho Munna Bhai': 45, 'Ladder 49': -30, 'The Visual Bible: The Gospel of John': -45, 'Florence Foster Jenkins': 0, 'Little Women': 60, 'Ronin': 45, 'Pathology': 15, 'The Shallows': -30, 'Flywheel': -45, 'Magnolia': -45, 'The Wackness': -45, 'Elizabeth': -45, 'Away We Go': 45, 'Bulworth': 0, 'The Game of Their Lives': -45, 'The Descendants': 0, 'The Last Exorcism': -30, 'Malcolm X': -45, 'I Love Your Work': -30, 'Sex and the City 2': 45, 'Snowpiercer': -45, 'The Deep End of the Ocean': -30, 'Crash': -45, 'The Longshots': -45, 'The Bourne Ultimatum': -45, 'Wendy and Lucy': -45, 'Fatal Attraction': 75, 'Philomena': -45, 'The Blade of Don Juan': 0, '21 Jump Street': 45, 'Down Terrace': 0, 'Eight Below': -75, 'Hearts in Atlantis': -30, 'All That Jazz': -30, 'Rock Star': 15, 'Mad City': -30, 'The Skeleton Twins': -45, 'The Savages': -45, 'Don McKay': 30, 'Blade Runner': -30, 'Faith Connections': -45, 'Alexander': 0, 'Brave New Girl': -30, 'Signs': -95, 'Lies in Plain Sight': -45, 'The Face of an Angel': -30, 'Where the Heart Is': 45, 'Malibus Most Wanted': -15, 'Tin Cup': 45, 'Chloe': -45, 'Kites': 60, 'Mr. Hollands Opus': -30, 'Flicka': -45, 'I Come with the Rain': -30, 'Letters to God': -30, 'Pans Labyrinth': -45, 'Sands of Iwo Jima': -15, 'A Mighty Heart': -30, 'Copycat': -30, 'Psycho': -30, 'The Birth of a Nation': -45, 'For Love of the Game': 60, 'The Open Road': 45, 'The Velocity of Gary': 60, 'Three Kingdoms: Resurrection of the Dragon': -45, 'Save the Last Dance': 45, 'Soul Food': 0, 'Tanner Hall': -45, 'Things We Lost in the Fire': -45, 'Treading Water': 0, 'Its All Gone Pete Tong': 15, 'Penitentiary': -45, 'The Other Side of Heaven': -75, 'Poetic Justice': 60, 'Birdman': 0, 'Cries and Whispers': -45, 'Samantha: An American Girl Holiday': -45, 'The Walk': -60, 'Burnt': -45, '5 Days of War': -75, 'Alive': -60, 'The Cottage': -30, 'Flight of the Intruder': -60, 'The Exploding Girl': 60, 'Bandslam': 15, 'Dark Water': -30, 'The Kingdom': -30, 'A Woman, a Gun and a Noodle Shop': 15, 'Seeking a Friend for the End of the World': 45, 'Be Cool': -15, '200 Cigarettes': 45, 'Four Christmases': 95, 'The Nativity Story': -45, 'Boynton Beach Club': 45, 'Being John Malkovich': 30, 'The Best Exotic Marigold Hotel': 0, 'Winter in Wartime': -75, 'Flawless': 0, 'Instinct': -45, 'A.I. Artificial Intelligence': -75, 'The Lion King': -45, 'Bon Cop Bad Cop': 45, 'The Second Best Exotic Marigold Hotel': 0, 'The Hurt Locker': -60, 'From Paris with Love': 75, 'Mean Machine': 0, 'The Last Big Thing': 0, 'The Joneses': 0, 'The House of Sand': -45, 'The Hudsucker Proxy': 0, '1911': -105, 'Atlas Shrugged Part II': -30, 'The Story of Us': 95, 'Heavens Gate': -75, 'Pet Sematary': -45, 'Step Up 3D': 60, 'Far from Men': -75, 'The Wrestler': 60, 'Godsend': -30, 'Shopgirl': 45, 'Girl with a Pearl Earring': 60, 'Gerry': -60, 'Radio Days': 0, 'Gosford Park': -45, 'Facing the Giants': -45, 'The Young Victoria': 60, 'Twister': -75, 'Gran Torino': 55, 'Spy Game': 75, 'Lions for Lambs': -75, 'The Hunchback of Notre Dame': -45, 'The Master': -45, 'Songcatcher': -30, 'Gods Not Dead 2': -45, 'Felicias Journey': -45, 'Margin Call': -30, 'The Apartment': 45, 'Speed': 60, 'Redacted': -75, 'Masked and Anonymous': -30, 'The Eye': -30, 'Collateral Damage': -30, 'The Kite Runner': -45, 'The Notebook': 60, 'Coach Carter': -45, 'One Mans Hero': -75, 'Signed, Sealed, Delivered': 45, 'The Sum of All Fears': -30, 'The Names of Love': 45, 'A Walk on the Moon': 60, 'Madison': -75, 'Prom Night': 30, 'Sugar Hill': -30, 'Mud': -45, 'The Jerky Boys': -15, '1776': 15, 'The Partys Over': -45, 'Novocaine': -30, 'The Road': -75, 'Summer Catch': 45, 'Heroes of Dirt': -45, 'Open Secret': 30, 'Taxman': 30, 'Up Close & Personal': 60, 'Flipped': 110, 'Schindlers List': -75, 'Stranded': -45, 'Smokin Aces': 30, 'Stake Land': -30, 'Evolution': -30, 'Elysium': -30, 'The Ides of March': -45, 'Funny Ha Ha': 0, 'High School Musical': 15, 'Griff the Invisible': 45, 'Theresa Is a Mother': 15, 'Glitter': 60, 'Isnt She Great': 0, 'The East': -30, 'Nine 1/2 Weeks': 60, 'Blue Streak': 45, 'My Blueberry Nights': 60, 'Insomnia': 30, 'Brick Lane': -45, 'Paint Your Wagon': -15, 'Sense and Sensibility': 60, 'The Village': -95, 'Before Midnight': 60, 'Cradle Will Rock': -45, 'Desert Dancer': -45, 'Syriana': -30, 'Desert Blue': 0, 'Flash of Genius': -45, 'Holy Man': 0, 'The Hours': -45, 'Her': 60, 'Maurice': 60, 'Bon voyage': 0, 'Ulees Gold': -45, 'Hannah Montana: The Movie': 30, 'The Impossible': -30, 'Cast Away': -75, 'Antarctica: A Year on Ice': -75, 'The Red Violin': 45, 'The Muppet Christmas Carol': 30, 'Anonymous': -30, 'Centurion': -75, 'Happiness': 0, 'Thumbsucker': 0, 'Miss Congeniality': 45, 'Sunshine Cleaning': 0, 'Mutual Appreciation': 0, 'Marvins Room': -45, 'Goal!: The Dream Begins': -45, 'Morvern Callar': -45, 'Mr. Nice Guy': 45, 'Smoke Signals': 0, 'The Soloist': -45, 'The World Is Mine': -45, 'Changing Lanes': -55, 'Fort McCoy': -75, 'I Am Sam': -45, 'Critical Care': 0, 'Duplicity': -60, 'The Host': 45, 'Domino': 90, 'The Blues Brothers': 30, 'Celebrity': 0, '4 Months, 3 Weeks and 2 Days': -45, 'Seven Samurai': -45, 'Reign Over Me': -45, 'Swimming Pool': 15, 'Tombstone': -45, 'Adam': 60, 'Man on the Moon': 45, 'Riding in Cars with Boys': 45, 'Martian Child': -45, 'Hard to Be a God': -45, 'Blue Ruin': 15, 'Abandon': -45, 'The Train': 0, 'Hoffa': 30, 'The Night Visitor': 30, 'The Mighty Macs': -45, 'Invictus': 55, 'Pandaemonium': -45, 'Go for It!': -45, 'Admission': 45, 'Small Apartments': -15, 'Salton Sea': -45, 'I Dreamed of Africa': 30, 'My Summer of Love': 75, 'Curse of the Golden Flower': -75, 'The Other Conquest': -45, 'The Believer': -45, 'The Singing Detective': -45, 'My Name Is Khan': 60, 'The Fugitive': 60, 'A Christmas Carol': -45, 'The Ring Two': -30, 'The Craft': 0, 'Hail, Caesar!': 15, 'Of Horses and Men': 45, 'Amen.': -45, 'Analyze This': -15, 'Cat People': 0, 'Central Station': -45, 'In the Bedroom': -30, 'Coal Miners Daughter': -30, 'Repo Men': 75, 'A Serious Man': 0, 'School for Scoundrels': 45, 'The Pursuit of Happyness': -45, 'Rush Hour 3': 30, 'Rain Man': -45, 'Sherlock Holmes': 45, 'Executive Decision': -60, 'Cellular': 45, 'Drumline': 30, 'Half Nelson': -45, 'September Dawn': 30, 'Seven Psychopaths': -15, 'The Spirit': 30, 'Growing Up Smith': 0, 'Beginners': 45, 'Safe Men': -15, 'The Tempest': -15, 'Friends with Money': 45, 'Happy, Texas': -15, 'Hereafter': 85, 'Children of Men': -230, 'Dick Tracy': 0, 'Broken Arrow': -60, 'Concussion': -45, 'The Business of Strangers': -30, 'Queen of the Damned': -15, 'A Knights Tale': 30, 'Return to Me': 45, 'The Prisoner of Zenda': 30, 'Against the Ropes': 60, 'Morning Glory': -55, 'Noah': -75, 'Legends of the Fall': 60, 'Bridget Joness Diary': 45, 'My Dog Tulip': 0, 'Juliet and Alfa Romeo': 0, 'Welcome to the Rileys': -45, '8 Heads in a Duffel Bag': -15, 'Were the Millers': -15, 'Addicted': -30, 'Guiana 1838': -45, 'The Reader': 60, 'Jesus Son': 45, 'Black Swan': -30, 'Black Nativity': -30, 'The Devils Advocate': -45, 'The Bourne Identity': -45, 'A Dog Of Flanders': -45, 'No Good Deed': 15, 'Drive Angry': 45, 'What Dreams May Come': 90, 'Walking and Talking': 45, 'Adam Resurrected': -75, 'Insidious: Chapter 3': -30, 'The Jungle Book': -105, 'The Sisterhood of Night': -45, 'Next Stop Wonderland': 45, 'I Spit on Your Grave': 15, 'The Grey': -30, 'The Mirror Has Two Faces': 45, 'Topaz': -45, 'Rockaway': -75, 'The Sea Inside': -45, 'Contact': -30, 'ATL': -45, 'Cinderella Man': 60, 'Good Dick': 45, 'The Cookout': 0, 'In the Company of Men': 0, 'Northfork': -15, 'Endless Love': 60, 'Scrooged': 30, 'Perfect Cowboy': -45, 'The Odd Life of Timothy Green': 30, '2 Fast 2 Furious': 75, 'Déjà Vu': 60, 'All the Kings Men': -30, 'Joy Ride': -45, 'The November Man': 75, 'Tidal Wave': -60, 'Confidence': 30, 'Duma': -75, 'Practical Magic': 30, 'Nighthawks': 75, 'Battle of the Year': -30, 'Charlie Wilsons War': 0, 'Big Mommas: Like Father, Like Son': 45, 'Everything Put Together': -45, 'My Big Fat Greek Wedding': 45, 'The Longest Day': -15, 'The Spanish Apartment': 45, 'Agora': -75, 'The Tailor of Panama': -30, 'The Dog Lover': -45, 'Forty Shades of Blue': 60, 'Wont Back Down': -45, 'Eat Pray Love': -45, 'Airlift': -30, 'The Land Girls': 30, 'Anna and the King': 60, 'Just Wright': 45, 'Be Kind Rewind': 0, 'Julie & Julia': 60, 'The Legend of Suriyothai': -75, 'The Basket': -45, 'Kangaroo Jack': 75, 'Henry V': 90, 'Inchon': -75, 'Big Fish': -105, 'Precious': -45, 'Krush Groove': 45, 'Now You See Me 2': 15, 'Roll Bounce': 0, 'Wuthering Heights': -45, 'White Fang': -75, 'Moonlight Mile': 60, 'The R.M.': -15, 'Hustle & Flow': -45, 'Earth': -45, 'Brothers': -60, 'Money Train': 45, 'Red Dog': 0, 'Beverly Hills Cop II': 45, 'Miracle at St. Anna': -75, 'Million Dollar Arm': -45, 'The American President': 95, 'Bridge to Terabithia': -75, 'In the Name of the King III': -45, 'Country Strong': 60, 'Kundun': -45, 'New York, New York': 45, 'Mary Reilly': 75, 'Hesher': -45, 'Sherlock Holmes: A Game of Shadows': 45, 'Getaway': 90, 'Carrie': -45, 'Analyze That': -15, 'A Single Man': 60, 'Vampires': -60, 'A Walk to Remember': 60, 'Bright Star': 60, 'Nixon': -45, 'The Banger Sisters': 0, 'About Schmidt': 0, 'Far from Heaven': 60, 'Bella': 60, 'Quantum of Solace': 45, 'Aberdeen': 0, 'Enough Said': 45, 'K-PAX': -45, 'Platoon': -15, 'Don Juan DeMarco': 45, 'Mindhunters': 30, 'Good Night, and Good Luck.': -45, 'Outside Providence': 45, '13 Hours: The Secret Soldiers of Benghazi': 0, 'Con Air': 75, 'Crimson Tide': -30, 'The 51st State': 30, 'Shadow of the Vampire': -45, 'The Greatest Story Ever Told': -45, 'The Motel': 0, 'Instructions Not Included': 0, 'Magic Mike XXL': 15, 'Lucky Numbers': -45, 'Dreamer: Inspired By a True Story': -45, 'Urbania': 60, 'Exiled': 75, 'Yours, Mine and Ours': 0, 'Spellbound': -45, 'Solaris': -60, 'Pieces of April': 0, '8 Women': -30, 'The Family Stone': 45, 'When Harry Met Sally...': 95, 'Police Academy': -15, 'Pushing Tin': 0, 'Fast Five': 75, 'The Social Network': -45, 'The Warlords': -45, 'The Man in the Iron Mask': -75, 'Alex Cross': 90, 'Drowning Mona': -30, 'Whats Love Got to Do with It': -30, 'Indignation': -45, 'Sweet Sweetbacks Baadasssss Song': 60, 'Saints and Soldiers': -105, 'R.I.P.D.': 15, 'Billy Elliot': 15, 'Get on the Bus': -45, 'Ray': -30, 'Extreme Measures': -30, '2046': 90, 'Bran Nue Dae': 45, 'The River Wild': 45, 'Its Kind of a Funny Story': 0, 'Shes the Man': 45, 'Mr. 3000': 0, 'Race': -45, 'Barry Lyndon': 30, 'Wicked Blood': -30, 'Whatever It Takes': 45, 'Austin Powers: The Spy Who Shagged Me': 75, 'Dead Man Walking': -45, 'Shutter Island': -45, 'Monsters Ball': 60, 'Funny People': 0, 'Never Back Down 2: The Beatdown': -45, 'Supporting Characters': 0, 'Love & Basketball': 45, 'Welcome to the Dollhouse': 0, 'Pierrot le Fou': -30, 'Flight': -45, 'Hardflip': -45, 'The Dilemma': 0, 'Crazy in Alabama': 0, 'Driving Miss Daisy': 0, 'Anywhere But Here': 45, 'Saving Mr. Banks': 0, 'The Brothers': 45, 'Don Jon': 45, 'Crank: High Voltage': 75, 'My All American': -45, 'Inglourious Basterds': 0, 'O': 75, 'American Dreamz': 0, 'Deterrence': -45, 'Sleep Dealer': -30, 'The Woman in Black': -30, 'The Curse of Downers Grove': -45, 'Love Happens': 60, 'White Squall': -45, 'The Magic Flute': 15, 'Under the Same Moon': -45, 'Winters Bone': -45, 'Much Ado About Nothing': 45, 'The X Files: I Want to Believe': -45, 'Sliding Doors': 75, 'Straw Dogs': -30, 'Flags of Our Fathers': 25, 'Gracie': -45, 'Shin Godzilla': -75, 'Woman Thou Art Loosed': -45, 'Cry Freedom': -45, 'Barry Munday': 45, 'The Fall of the Roman Empire': -45, 'Volver': 45, 'Dead Like Me: Life After Death': 30, 'The Twilight Saga: Breaking Dawn - Part 2': 0, 'The Age of Innocence': 60, 'The Perfect Man': 45, 'Erin Brockovich': -45, 'Fido': 45, 'Notes on a Scandal': 60, 'Bambi': -45, 'Drinking Buddies': 60, 'Little Miss Sunshine': 0, 'Scream': 15, 'Mrs. Doubtfire': 0, 'Code Name: The Cleaner': 45, 'Chasing Amy': 45, 'Casablanca': 60, 'Two Girls and a Guy': 60, 'This Is Martin Bonner': -45, 'Legend': 15, 'Crazy Heart': 45, 'Jerry Maguire': 45, 'Miss Julie': -45, 'Joe Dirt': 30, 'Rendition': -30, 'Shaft': 45, 'Rushmore': 0, 'The Mothman Prophecies': -30, 'The Score': 75, 'A Man Apart': -45, 'The Verdict': -45, 'Run Lola Run': -30, 'Conversations with Other Women': 60, 'Go': -30, 'About a Boy': 45, 'Born on the Fourth of July': -75, 'Its a Mad, Mad, Mad, Mad World': 15, 'Prefontaine': 60, 'Nancy Drew': 60, 'Yes': 60, 'Amistad': -30, 'Hero': -75, 'Twilight': 0, 'The Ice Storm': -45, 'The Equalizer': 75, 'The NeverEnding Story': -105, 'Jersey Boys': 70, 'For Colored Girls': -45, 'Young Adult': 0, 'Akeelah and the Bee': -45, 'Windtalkers': -15, 'Knowing': -75, 'The Californians': 0, 'Ghosts of Mississippi': 5, 'Downfall': -75, 'Beautiful Creatures': 90, 'I Origins': -45, 'Space Jam': 30, 'Weekend': 60, 'Home Run': -45, 'Rudderless': 15, 'The Molly Maguires': -45, 'A Man for All Seasons': -45, 'For Greater Glory - The True Story of Cristiada': -45, 'Something Borrowed': 45, '3 Backyards': -45, 'Close Range': 90, 'Oceans Twelve': 15, 'The Flowers of War': -75, 'Wyatt Earp': -75, 'The Painted Veil': 60, 'Eraser': -45, 'The Prestige': -45, 'Pocahontas': -75, 'Mooz-lum': -45, 'Dying of the Light': -30, 'Children of Heaven': 0, 'City Hall': -30, 'Eye of the Beholder': -45, 'The Ballad of Jack and Rose': -45, 'Free Style': -45, 'Gods and Generals': -75, 'Mickey Blue Eyes': -60, 'The Hurricane': -45, 'Chasing Mavericks': -45, 'Catwoman': 90, 'Volcano': -30, 'Grace of Monaco': 60, 'Gossip': -45, 'The Poker House': -45, 'Blood and Chocolate': 90, 'From Here to Eternity': 30, 'Sideways': 45, 'Bringing Out the Dead': -45, 'Green Room': 15, 'Letters from Iwo Jima': -105, 'Loose Cannons': 45, 'Saw III': 15, 'Argo': -30, 'Higher Ground': -30, 'Melancholia': -45, 'The City of Your Final Destination': -45, 'Dear John': 30, 'The Boy in the Striped Pyjamas': -75, 'The Marine': -60, 'Fury': -15, 'A Passage to India': -75, 'Wild Grass': 60, 'My Last Day Without You': 45, 'The Charge of the Light Brigade': -105, 'The Greatest Game Ever Played': -45, 'The Straight Story': -45, 'Motherhood': 0, 'Good Kill': -30, 'Gone Girl': -45, 'Rubber': 45, 'Simon Birch': 0, 'Hulk': -45, 'Fever Pitch': 45, 'The Boondock Saints II: All Saints Day': 75, 'The Lucky Ones': 0, 'Maid in Manhattan': 45, 'Albert Nobbs': -45, 'The Front Page': 45, 'Never Let Me Go': 60, 'Snow Falling on Cedars': 60, 'The Diary of a Teenage Girl': 60, 'The Work and the Glory II: American Zion': -45, 'Top Five': 0, 'Mad Money': 45, 'McFarland, USA': -45, 'The Lives of Others': -30, 'The Reef': -30, 'Little Man': -15, 'Bandidas': 75, 'Ice Princess': 0, 'Tycoon': 60, 'Zero Dark Thirty': -30, 'In Dreams': -30, 'Magic Mike': 0, 'The Mechanic': 75, 'The Best Man': 0, 'Reno 911!: Miami': 15, 'Still Alice': -45, 'The Broadway Melody': 45, 'Stranger Than Fiction': 75, 'Harvard Man': -45, 'Chappie': 90, 'The New World': 60, 'For Your Consideration': 0, 'The Married Woman': 60, 'Big Eyes': -45, 'Django Unchained': -75, 'Saved!': 0, 'Ben-Hur': -45, 'Eternal Sunshine of the Spotless Mind': 60, 'The Assassin': -45, 'The Order': 90, 'My Girl': 0, 'Police Academy: Mission to Moscow': -15, 'Silmido': -45, 'Mr. Turner': -45, 'Assassins': 45, 'The Claim': 30, 'The Diving Bell and the Butterfly': -45, 'Almost Famous': -30, 'The Perks of Being a Wallflower': 60, 'Four Brothers': 90, 'Rocky': -45, 'Ca$h': -30, 'The Kids Are All Right': 0, 'World Trade Center': -30, 'Special': -15, 'Somewhere in Time': 90, 'Why Did I Get Married?': 0, '24 7: Twenty Four Seven': 45, 'My Soul to Take': -45, 'The Brothers Bloom': 15, 'The Curse of the Jade Scorpion': -60, 'The Fault in Our Stars': 60, 'Small Time Crooks': 45, 'Sarahs Key': -75, 'A Room with a View': 60, 'Me and You and Everyone We Know': 0, 'Creed': -45, 'Its a Wonderful Life': -15, 'Enter the Void': -15, 'The Lovely Bones': -15, 'Good Deeds': 45, 'Girl, Interrupted': -45, 'Eden': -30, 'Radio': -45, 'Wristcutters: A Love Story': 75, 'Black or White': -45, 'The Messenger: The Story of Joan of Arc': -105, 'Poseidon': -60, 'Saving Private Ryan': -75, 'Edmond': -30, 'Chronicle': -30, 'The Switch': 45, 'Jarhead': -75, 'City Island': 0, 'As It Is in Heaven': 30, 'Good Will Hunting': -45, 'Ondine': 60, 'The Country Doctor': 0, 'Beastly': 90, 'Before Sunrise': 60, '16 Blocks': 45, 'Good bye, Lenin!': 45, 'The Fountain': 30, 'There Goes My Baby': 0, 'Starsky & Hutch': -15, 'Highway': -75, 'Joyeux Noël': 15, 'Silent Running': -75, 'Beloved': -30, 'The Greatest Show on Earth': 60, 'Coming Home': -45, 'Tumbleweeds': 0, 'Manderlay': -45, 'Aimee & Jaguar': 60, 'The Valley of Decision': -45, 'Four Weddings and a Funeral': 45, 'Arlington Road': -45, 'Dreaming of Joseph Lees': 60, 'Snow White and the Huntsman': -105, 'The Bélier Family': 15, 'Kingdom of Heaven': -105, 'October Baby': -45, 'The Interpreter': 15, 'The Dangerous Lives of Altar Boys': 0, 'Moulin Rouge!': 60, 'Live-In Maid': -45, 'Fetching Cody': 75, 'Mumford': 45, 'The Man': 45, 'Hells Angels': -45, 'Basquiat': -45, 'Snow Flower and the Secret Fan': -45, 'Kings Ransom': -15, 'A Thin Line Between Love and Hate': -75, 'The Bourne Supremacy': -30, 'Random Hearts': 60, 'The Hunting Party': -60, 'A Better Life': -45, 'Bride & Prejudice': 30, 'Raging Bull': -45, 'Woman on Top': 45, 'Mona Lisa Smile': 60, 'How to Deal': 45, 'People I Know': -30, 'Loser': 45, 'Miracle': -45, 'Two Lovers': 60, 'Good': -45, 'Me Before You': 60, 'Elizabethtown': 45, 'Remember Me': 60, 'Black Snake Moan': -45, 'The Informers': -45, 'Driving Lessons': 0, 'Pandoras Box': 75, 'The Transporter': 75, 'The Sound of Music': 45, 'The Corruptor': 90, 'The Incredibly True Adventure of Two Girls In Love': 45, 'Brokeback Mountain': 60, 'Blow Out': -45, 'The Sticky Fingers of Time': -45, 'Rang De Basanti': -45, 'The Love Letter': 75, 'Inside Llewyn Davis': -30, 'Princess Kaiulani': -45, 'Clean': -45, 'Awake': 30, 'Across the Universe': 15, 'Dear Frankie': -45, 'Lethal Weapon 3': 0, 'Open Road': -30, 'Miss Potter': 60, 'Moby Dick': -75, 'Four Single Fathers': 0, 'Igby Goes Down': 0, 'Aloft': -45, 'Annie Hall': 45, 'Secondhand Lions': 0, 'De-Lovely': -30, 'The Worlds Fastest Indian': -45, 'A Civil Action': -45, 'Love in the Time of Cholera': 60, 'The Brothers McMullen': 45, 'Nowhere to Run': -60, 'Going the Distance': 45, 'The Elephant Man': -45, 'The Weather Man': 0, 'Saint Ralph': 0, 'The Color of Money': -45, 'Code 46': 75, 'Purple Violets': 45, 'Supercross': 30, 'The French Connection': 75, 'Love Letters': -30, 'The Longest Ride': 60, 'Code of Honor': 75, 'Man of the Year': 60, 'The White Countess': 60, 'Solomon and Sheba': 30, 'The Machinist': -30, 'Mr. Church': -45, 'Now You See Me': 15, 'Close Encounters of the Third Kind': -45, 'The Sweet Hereafter': -45, 'Caravans': 30, 'Hope Springs': 45, 'We Are Marshall': -45, 'Peaceful Warrior': 60, 'Lonesome Jim': 45, 'The Grand Budapest Hotel': 0, 'Tea with Mussolini': -30, 'The Return': -45, 'Autumn in New York': 60, 'Gladiator': -75, 'End of the Spear': -75, 'Real Steel': -45, 'Kick-Ass': 90, 'Rumble in the Bronx': 30, 'The Big Bounce': -15, 'Antwone Fisher': 60, 'The Howling': -45, '3000 Miles to Graceland': 0, 'Life or Something Like It': 45, 'Anomalisa': 45, 'Remember Me, My Love': 45, 'The Blue Butterfly': -75, 'Beyond the Valley of the Dolls': 15, 'Titanic': 75, 'The Patriot': -15, 'Midnight Run': 75, 'Dracula Untold': -45, 'The Haunting of Molly Hartley': -45, 'Waltz with Bashir': -75, 'Face/Off': 75, 'The Longest Yard': 0, 'Patch Adams': 0, '90 Minutes in Heaven': -45, 'Hoot': -45, 'Under the Tuscan Sun': 45, 'Boyhood': -45, 'Kickboxer: Vengeance': -45, 'To Die For': 45, 'Good Luck Chuck': 45, 'Romeo Must Die': 75, 'Bad Boys': 30, 'Garden State': 45, 'Summer Storm': 0, 'Baghead': 0, 'The Illusionist': 105, 'The Number 23': -45, 'How Stella Got Her Groove Back': 45, 'Quinceañera': -45, 'Pain & Gain': 75, 'A Tale of Three Cities': 60, 'Joe': -45, 'In Her Line of Fire': -30, 'Oscar and Lucinda': 60, 'The Lost Weekend': -45, 'Brotherly Love': -45, 'Just Looking': 0, 'Nebraska': -75, 'Your Sisters Sister': 0, 'Heavenly Creatures': -15, 'Forget Me Not': 60, 'Mercy Streets': -75, 'My Week with Marilyn': -45, 'Dinner Rush': -30, 'Monsters': -30, 'Rocky Balboa': -45, 'Veronika Decides to Die': 60, 'What to Expect When Youre Expecting': 45, 'Duets': 15, 'Black Book': -60, 'North Country': -45, 'Firestarter': -60, 'On the Road': -75, 'The Nuns Story': -45, 'The Game': -45, 'Finding Forrester': -45, 'Network': -45, 'The Musketeer': -75, 'Braveheart': -15, 'The Grace Card': -45, 'The Mudge Boy': -45, 'Captain Corellis Mandolin': 60, 'The Twilight Saga: New Moon': 0, 'The Vow': 60, 'What Just Happened': 0, 'London Has Fallen': 75, 'Lethal Weapon 4': 0, 'The Woman Chaser': -45, 'United Passions': -45, 'Headhunters': 15, 'The Express': -45, '12 Rounds': -60, 'ABCD (Any Body Can Dance)': -30, 'The Long Kiss Goodnight': 90, 'Forrest Gump': 45, 'Rabbit Hole': -45, 'Shine': -45, 'He Got Game': -45, 'Lolita': 60, 'Half Past Dead': 75, 'In the Land of Blood and Honey': 30, 'King Kong': -75, 'Holes': -30, 'Sin City': 75, 'Zero Effect': -15, 'Stories of Our Lives': -45, 'Lords of London': 30, 'My Fellow Americans': 0, 'Paparazzi': -30, 'Groove': 45, 'Straight Outta Compton': -30, 'Out of the Blue': -45, 'The Edge': -75, 'Take Me Home Tonight': 45, 'Time Changer': 0, 'Strangerland': -30, 'Rush': -45, 'Rock of Ages': 30, 'Fateless': -75, 'The Spectacular Now': 45, 'Hanging Up': 0, 'The Shipping News': 60, 'Manito': -45, 'Alex & Emma': -10, 'Celeste & Jesse Forever': 45, 'Punisher: War Zone': 90, 'The Fifth Estate': -30, 'Draft Day': -45, 'Michael Collins': -30, 'Green Street Hooligans: Underground': -45, 'The Battle of Shaker Heights': 45, 'Kinsey': -45, 'War Horse': -75, 'Dolphin Tale 2': -45, 'The Namesake': -45, 'Apocalypse Now': -75, 'Enemy of the State': -30, 'Metropolis': -45, 'The Damned United': -45, 'The Devil Wears Prada': 45, 'The Lost City': 60, 'Brooklyn Rules': -30, 'Raising Helen': 45, 'Goddess of Love': -45, 'Whiteout': 90, 'Air Bud': 0, 'Three Men and a Baby': 0, '55 Days at Peking': -45, 'Metropolitan': 0, 'The Naked Gun 2½: The Smell of Fear': -15, 'Seven Years in Tibet': -75, 'Happy Christmas': 0, 'Slumdog Millionaire': 60, 'The 5th Quarter': -45, 'Ernest & Celestine': 0, 'Heist': 75, 'Restless': 60, 'August: Osage County': 0, 'Memoirs of a Geisha': 60, 'The Conformist': -45, 'The Beach': 45, 'Machine Gun Preacher': 75, 'The Last Castle': -30, 'Wicker Park': 60, 'The Blue Bird': -15, 'You Can Count on Me': 60, 'R100': 0, 'The Widow of Saint-Pierre': 60, 'Oliver!': -30, 'The Jackal': 45, 'The Oxford Murders': 30, 'The Perfect Game': -45, 'Freeway': 15, 'Red Cliff': -75, 'Romeo + Juliet': 10, 'The Naked Ape': 0, 'The Perfect Wave': 30, 'Tadpole': 45, 'Identity Thief': 35, 'Shouldve Been Romeo': 0, 'Holy Motors': -15, 'The Royal Tenenbaums': 0, 'The Night Listener': -30, 'Dawn of the Crescent Moon': -30, 'Bang': -45, 'Munich': -30, 'About Time': 0, 'Begin Again': 30, 'Shall We Dance?': 45, 'Angelas Ashes': -45, 'Midnight Cowboy': -45, 'Rachel Getting Married': -45, 'Poolhall Junkies': 15, 'Kiss Kiss Bang Bang': 30, 'The Majestic': 60, 'The Greatest': -45, 'A Dangerous Method': -30, 'Dazed and Confused': 0, 'May': 75, 'The Big Lebowski': -15, 'Flight of the Phoenix': -60, 'London': 60, 'Get on Up': -30, 'The Last Five Years': 30, 'Rosewater': -45, 'Courage Under Fire': -75, 'Flatliners': -30, 'Like Mike': 30, 'Marie Antoinette': -45, 'Fabled': -45, 'LOL': 45, '47 Ronin': -45, 'Amores perros': -30, 'American Splendor': 0, 'Ed Wood': 0, 'Gentlemans Agreement': 60, 'Operation Chromite': -15, 'Firestorm': 90, 'Once': 45, 'Pink Narcissus': 60, 'A Beautiful Mind': 60, 'Peggy Sue Got Married': 75, 'Raising Victor Vargas': 60, 'The Losers': 60, 'Man on a Ledge': 75, 'Parker': 90, 'Closer': 60, 'Horrible Bosses': -15, 'The Lucky One': 60, 'The Fighter': -45, 'Creative Control': -45, 'Fifty Shades of Grey': 75, 'Lady in the Water': -65, 'The Princess Diaries 2: Royal Engagement': 45, 'The Prince of Tides': 60, 'Fear and Loathing in Las Vegas': -30, 'The Postman': 25, 'Jonah Hex': -90, 'Silver Medalist': -30, 'Harriet the Spy': 0, 'Varsity Blues': 45, 'Transamerica': -45, 'City of Life and Death': -75, 'Cape Fear': 15, 'Gandhi': -45, 'Whale Rider': -45, 'Miracles from Heaven': -45, 'Silent Trigger': -30, 'Beyond the Lights': 60, 'Abandoned': -30, '22 Jump Street': 45, 'Ninja Assassin': 75, 'U-571': 0, 'Punch-Drunk Love': 45, 'The Singles Ward': 45, 'Sin City: A Dame to Kill For': 15, 'Muppets Most Wanted': 75, 'The Sisterhood of the Traveling Pants 2': -30, 'Howards End': 60, 'Please Give': 0, 'Juno': 45, 'Hugo': -75, 'A Prairie Home Companion': 15, 'Flashdance': 45, 'Open Water': -30, 'One Day': 60, 'Enough': -30, 'Eulogy': 0, 'Oldboy': -45, 'G.I. Jane': -45, 'S.W.A.T.': 75, 'The Queen': -45, 'The Heat': 45, 'Nothing But a Man': -45, 'All or Nothing': 0, 'The Bridges of Madison County': 160, 'Play It to the Bone': 0, 'Love and Death on Long Island': 60, 'August Rush': -45, 'Living Out Loud': 45, 'Witless Protection': 15, 'Joy': 0, 'Illuminata': -45, 'Me You and Five Bucks': 45, 'Wish I Was Here': 0, 'A Separation': -45, 'Buried': -45, 'Whip It': -45, 'Lincoln': -45, 'August': -45, 'The Revenant': -30, 'High School Musical 2': 15, 'Big Miracle': 30, 'The Insider': -30, 'Saw': 15, 'Dogtooth': -45, 'Whiplash': -45, 'The Last Stand': 75, 'Dancin Its On': 60, 'Take Shelter': -30, 'Domestic Disturbance': 30, 'The Perfect Host': -30, 'Dragon Blade': -75, 'The Butler': -45, 'Fruitvale Station': -45, 'Beneath Hill 60': -75, 'The Celebration': -45, 'One for the Money': 45, 'Original Sin': 60, 'White Noise': -30, 'Phenomenon': 90, 'Yesterday Was a Lie': -45, 'A Cock and Bull Story': 0, 'Jane Got a Gun': -75, 'The Secret': -45, 'The Call': 15, 'An Ideal Husband': 45, 'Southland Tales': -15, 'Annie': 0, 'When the Lights Went Out': -30, 'Burlesque': 60, 'Roadside': -45, 'The Great Beauty': 0, 'The Water Diviner': -75, 'Infamous': -45, 'Mother and Child': 60, 'Amigo': -75, 'Spotlight': -30, 'Babe': 30, 'Cinco de Mayo: La Batalla': -75, 'The Art of War': 60, 'The Good Night': 60, 'Under the Skin': -30, 'Crazy, Stupid, Love.': 45, 'The Last Song': 60, 'Hud': -75, 'Fame': 30, 'Topsy-Turvy': 15, 'The Cry of the Owl': -45, 'I Love You Phillip Morris': 45, 'George Washington': -45, 'Anne of Green Gables': -45, 'The Pacifier': 15, 'Spice World': -45, 'Son of God': -45, 'War': 75, 'Chariots of Fire': -45, 'Circumstance': -45, 'We Bought a Zoo': 0, 'High Fidelity': 30, 'Hard Candy': -30, 'Y Tu Mamá También': 60, 'November': -45, 'I Served the King of England': 0, 'F.I.S.T.': -45, 'The Whole Ten Yards': -30, 'Philadelphia': -45, 'Jab Tak Hai Jaan': 60, 'The Inkwell': 45, 'Winnie Mandela': -45, 'Sling Blade': -45, 'The Deer Hunter': -75, 'Barbershop': 0, 'Darling Lili': 45, 'The Railway Man': -45, 'Amadeus': -30, 'The Astronauts Wife': -30, 'Donnie Darko': 0, 'A Bridge Too Far': -75, 'The Others': -45, 'Tae Guk Gi: The Brotherhood of War': -105, 'Quigley Down Under': 60, 'The 33': -45, 'The Sorcerers Apprentice': 0, 'The Fast and the Furious': 75, 'Untraceable': -45, 'All Is Bright': 0, 'Trees Lounge': 0, 'Raise the Titanic': -30, 'Taking Woodstock': 15, 'Mandela: Long Walk to Freedom': -45, 'White Noise 2: The Light': 0, 'Gravity': -230, 'Milk': -45, 'Polisse': -45, 'Foolish': 0, 'H.': -30, 'Caramel': 45, 'Kill Bill: Vol. 1': 90, 'Wag the Dog': 0, 'The Iron Lady': -45, 'Fair Game': -30, 'The Time Travelers Wife': 90, 'The Rules of Attraction': 45, 'Malevolence': 15, 'The Doors': -30, 'Bathory: Countess of Blood': -15, 'Crossroads': 0, 'Down in the Valley': 60, 'Lone Survivor': 0, 'I Am Love': 60, 'White Oleander': -45, 'The Huntsman: Winters War': -75, 'Archaeology of a Woman': -45, 'Suicide Squad': 90, 'Red Dragon': 15, 'The Man Who Knew Too Little': 30, 'Another Earth': -45, 'Oceans Thirteen': 15, 'Amnesiac': -45, 'Body of Lies': -30, 'Down to You': 45, 'The Station Agent': 0, 'Paris, je taime': 60, '88 Minutes': 30, 'Hitch': 45, 'Swimfan': -30, 'Never Back Down': -45, 'Gandhi, My Father': -45, 'Cadillac Records': -30, 'The Girl on the Train': 60, 'How to Lose Friends & Alienate People': 45, 'Hotel Rwanda': -75, 'Spider': -45, 'Meet Joe Black': 0, 'Charlie St. Cloud': -45, 'Lock, Stock and Two Smoking Barrels': -15, 'You Kill Me': -75, 'The Fan': -45, 'Mo Better Blues': 60, 'Ordet': -45, 'Australia': -95, 'The Best of Me': 60, 'Desire': 60, 'The Roommate': -30, 'Funny Games': 15, 'Reservoir Dogs': 15, 'Atonement': 60, 'American History X': -45, 'Rosemarys Baby': -30, 'Click': 75, 'Show Me': -30, 'The Eclipse': 60, 'The Lunchbox': 60, 'Boys and Girls': 45, 'Captain Phillips': -30, 'Tuck Everlasting': 90, 'Eye of the Dolphin': -45, 'Austin Powers in Goldmember': -15, 'Elizabeth: The Golden Age': 60, '8 Days': -30, 'The Prince of Egypt': -60, 'Tiger Orange': -45, 'Talk Radio': -45, 'Bandits': 0, 'Elling': 0, 'Childs Play 2': -45, 'Redemption Road': -45, 'The Dirties': -45, 'Walter': 0, 'Next Day Air': 45, 'All The Queens Men': 0, 'Another Happy Day': 0, 'Cop Out': 45, 'Wild': -45, 'The Last Temptation of Christ': -45, 'Tears of the Sun': -15, 'The Raid': 75, 'Snitch': -30, 'Batman Forever': 60, 'Bubble Boy': 15, 'Thr3e': -30, 'Cruel Intentions': 75, 'Coriolanus': -30, 'Kiss the Bride': 45, 'The Robe': -45, 'Horse Camp': -45, 'Heaven is for Real': -45, 'Soul Kitchen': 0, 'Secretary': 45, 'Me and Orson Welles': 45, 'Bridge of Spies': -30, 'Veer-Zaara': 60, 'Cleopatra': 60, 'Repo Man': -30, 'The Class': -45, 'The Loss of Sexual Innocence': -45, 'Hot Pursuit': 45, 'Jefferson in Paris': 60, 'Killing Them Softly': 15, 'Deep Impact': 60, 'Eye for an Eye': -30, 'Gigli': -45, 'Do You Believe?': -15, 'The Day the Earth Stood Still': -30, 'Fat Albert': 0, 'Charlies Angels': 0, 'Kill List': 15, 'Twin Falls Idaho': 60, 'Skin Trade': -30, 'Somewhere': 0, 'Departure': 60, 'Mr. & Mrs. Smith': 15, 'Stolen Summer': 0, 'The Amazing Catfish': 0, 'The Amityville Horror': -30, 'The Great Gatsby': 10, 'Virtuosity': 75, 'The Whole Nine Yards': -15, 'Center Stage': -30, 'Ruby in Paradise': 60, 'One to Another': -45, 'Yentl': 45, 'Being Julia': 45, 'Forgetting Sarah Marshall': 45, 'Z Storm': 15, 'Modern Times': 0, 'The Chorus': -45, 'The Squid and the Whale': 0, 'Premonition': -45, 'On the Outs': -45, 'Of Gods and Men': -45, 'Winters Tale': 105, 'Spectre': 60, 'My Favorite Martian': 0, 'Sweet November': 60, 'The Proposal': 45, 'Groundhog Day': 75, 'Robin and Marian': 30, 'Love & Other Drugs': 45, 'By the Sea': 60, 'Kit Kittredge: An American Girl': 0, 'Bullet to the Head': 75, 'Million Dollar Baby': 55, 'Blindness': -45, 'Travellers and Magicians': -75, 'I Can Do Bad All By Myself': 0, 'Cold Mountain': -45, 'Remember the Titans': -45, 'The Rise of the Krays': 30, 'Do the Right Thing': -45, 'The Square': -45, 'Dragonfly': -45, 'Tango': 60, 'Fighting Tommy Riley': -75, 'The Raven': 30, 'Birthday Girl': -30, 'The Bounty': -45, 'Unbreakable': -80, 'One True Thing': 60, 'Das Boot': -105, 'The Twilight Saga: Eclipse': 0, 'Dreamcatcher': -30, 'My Cousin Vinny': 0, 'Drive Me Crazy': 45, 'Leaving Las Vegas': 60, 'Cinderella': 90, 'The Words': -30, 'The Triplets of Belleville': -30, 'Little White Lies': 0, 'The Promise': 45, 'Ali': -45, 'Get Shorty': -30, 'Pink Flamingos': -15, 'Catch-22': -30, 'Micmacs': 45, 'The Karate Kid': -45, 'Mystery, Alaska': 0, 'The Bridge of San Luis Rey': 60, 'Rescue Dawn': -45, 'Mondays in the Sun': -45, 'In the Name of the King: A Dungeon Siege Tale': -45, 'Ordinary People': -45, 'The Fisher King': 0, 'Winter Passing': 0, 'The Piano': 60, 'Elza': -45, 'Persepolis': -45, 'A Guy Named Joe': 30, 'Hot Fuzz': 45, 'Seed of Chucky': 0, 'Swelter': -30, 'Im Not There.': -30, '1982': -45, 'Chocolat': 45, 'Lawrence of Arabia': -45, 'Flying By': -45, 'The Sixth Sense': -30, 'The Timber': -45, 'The Blue Lagoon': 30, 'Beyond the Sea': -30, 'The Pet': -30, 'The Chumscrubber': 0, 'Big Mommas House 2': -15, 'Emma': 45, 'Jakob the Liar': 0, 'Serial Mom': -30, 'Corky Romano': 45, 'Capricorn One': -30, 'The Ruins': -45, 'Into the Blue': 45, 'Kick-Ass 2': 60, 'Twilight Zone: The Movie': 0, 'Barneys Version': 0, 'Swordfish': 75, 'Straight As': 0, 'Middle of Nowhere': -45, 'Fireproof': -45, 'Dead Poets Society': -45, 'The Orphanage': -30, 'Partition': 60, 'Fiza': 60, 'Selena': -45, 'Nowhere Boy': -45, 'The Rite': -30, 'Along Came a Spider': 90, 'One Flew Over the Cuckoos Nest': -45, 'Juwanna Mann': 0, 'Danny Collins': 15, 'Valley of the Hearts Delight': -45, '127 Hours': -60, 'Paa': -45, 'Safe': 75, 'Dawn of the Planet of the Apes': -30, 'Harts War': -75, 'There Will Be Blood': -45, 'Bend It Like Beckham': 45, 'Snatch': 15, 'Lars and the Real Girl': 45, 'Doctor Zhivago': 30, 'The Messenger': -45, 'I Married a Strange Person!': 0, 'Water': 60, 'Drive Hard': 45, 'The Christmas Bunny': -45, 'Loving Annabelle': 60, 'Crazy/Beautiful': 60, 'Housefull': 45, 'Doubt': -30, 'Ever After: A Cinderella Story': 45, 'I Am Legend': -30, 'Stonewall': -45, 'Beverly Hills Cop III': 45, 'The Puffy Chair': 45, 'Ace Ventura: When Nature Calls': 75, 'Kill Bill: Vol. 2': 75, 'In the Heart of the Sea': -60, 'The Libertine': 60, 'Out of Sight': -60, 'Dances with Wolves': -75, 'White House Down': -30, 'Goodbye Bafana': -45, 'An Unfinished Life': -45, 'Blue Jasmine': 0, 'The Young and Prodigious T.S. Spivet': -75, 'Stick It': 0, 'Old Joy': -45, 'Now Is Good': 60, 'Raise Your Voice': 45, 'Patton': -75, 'Tinker Tailor Soldier Spy': -45, 'Anna Karenina': 60, 'Lords of Dogtown': -45, 'Gods and Monsters': -45, 'Super Troopers': -30, 'The Rose': 45, 'My Own Private Idaho': 60, 'Ask Me Anything': -45, 'Message in a Bottle': 60, 'Eyes Wide Shut': -30, 'Suspect Zero': 15, 'Batman & Robin': 60, 'Snow Dogs': 75, 'Black Mass': -45, 'Attack the Block': 45, 'The Hebrew Hammer': 45, 'The Informant!': -30, 'Red State': 45, 'The Blue Room': -30, 'The Thomas Crown Affair': 60, 'Planet 51': 75, '21 Grams': -30, 'Unknown': 60, 'Forbidden Kingdom': 60, 'Invasion U.S.A.': 45, 'Frailty': -30, 'Sky High': 75, 'Bulletproof Monk': 15, 'Donnie Brasco': -30, 'Zodiac': -45, 'Ghost Rider: Spirit of Vengeance': 15, 'Niagara': -30, 'Lucky Number Slevin': -45, 'Wild Target': 45, 'Monster': -45, 'Wild Things': -30, 'Cloverfield': 45, 'The Wild Thornberrys Movie': 90, 'Black Water Transit': -45, 'Knight and Day': 45, 'The Dead Undead': 60, 'The Land Before Time': 90, 'The Barbarian Invasions': -30, 'See Spot Run': 45, 'The Chronicles of Riddick': 60, 'The Terminator': 45, 'West Side Story': -30, 'You Dont Mess with the Zohan': 45, 'Lucky Break': 45, 'The Toxic Avenger Part II': 45, 'Seventh Son': 60, 'National Lampoons Vacation': 30, 'Underworld: Awakening': 30, 'Unstoppable': 45, 'The Bourne Legacy': 45, 'The Place Beyond the Pines': -45, 'Central Intelligence': 45, 'Made': 30, 'The Killer Inside Me': -30, 'Machete': 30, 'Harold & Kumar Escape from Guantanamo Bay': 75, 'Killer Joe': -30, 'A Perfect Getaway': 90, 'Brooklyns Finest': -30, 'Die Hard': 45, 'Stripes': 45, 'A Walk Among the Tombstones': -45, 'Summer of Sam': 75, 'Battle: Los Angeles': 60, 'Speedway Junky': 60, 'Underworld: Evolution': 15, 'Compliance': -30, 'Ultraviolet': 45, 'The Peacemaker': 45, 'Tower Heist': 45, 'Heli': -45, 'Killers': -15, 'War of the Worlds': 75, 'Astro Boy': 60, 'Harry Potter and the Prisoner of Azkaban': -140, 'Sexy Beast': -30, 'Mortal Kombat: Annihilation': 30, 'Fight to the Finish': -45, 'Malone': 45, 'Blood Done Sign My Name': -45, 'Incident at Loch Ness': 75, 'Wing Commander': 60, 'Baby Boy': 60, 'The Girl with the Dragon Tattoo': -45, 'The Interview': 45, 'Better Luck Tomorrow': -45, 'The Matrix': 60, 'Underworld': 15, 'Year One': 75, 'Battle for the Planet of the Apes': 60, 'Krrish': 60, 'Fifty Dead Men Walking': 45, 'Fortress': 45, 'Bernie': -30, 'The Pledge': -45, 'The Crazies': 45, 'Bee Movie': 75, 'Nims Island': 45, 'Harry Potter and the Chamber of Secrets': 60, 'Harry Potter and the Order of the Phoenix': 45, 'The Shawshank Redemption': -45, 'Frozen': 90, 'Scooby-Doo': 60, 'The Brave Little Toaster': 30, 'Gridiron Gang': -75, 'Petes Dragon': 60, 'Paul Blart: Mall Cop 2': 45, 'Terminator Salvation': 45, 'Reign of Assassins': 60, 'The Inhabited Island': 15, 'Panic Room': -30, 'Benji': -15, 'Valiant': 90, 'American Hero': 45, 'The Golden Compass': 60, 'Back to the Future Part III': 75, 'The Chronicles of Narnia: Prince Caspian': 60, 'Trust': -30, 'Criminal': 60, 'A History of Violence': -30, 'Action Jackson': -60, 'Madeas Witness Protection': -30, 'City of God': -45, 'The Helix... Loaded': 45, 'Pitch Black': 45, 'Kiss the Girls': -45, 'Hellboy': 30, 'GoodFellas': -45, 'Blood and Wine': -30, 'Man of the House': 45, 'Watchmen': 45, 'The Quick and the Dead': 90, 'The Midnight Meat Train': -45, 'Things to Do in Denver When Youre Dead': -45, 'Risen': 60, 'Spy Hard': 45, 'Megiddo: The Omega Code 2': 45, 'Kids': -45, 'L.A. Confidential': -45, 'Jindabyne': -45, 'Batman: The Dark Knight Returns, Part 2': 60, 'Howls Moving Castle': 60, 'Gun Shy': -15, 'Runner Runner': -30, 'Irreversible': -45, 'Lord of War': -30, 'The Bounty Hunter': 60, 'Elektra': 30, 'Sucker Punch': 15, 'Deadfall': -30, 'The Rainmaker': -30, 'The Polar Express': 60, 'Idlewild': -30, 'Universal Soldier: The Return': 60, 'Fools Gold': 30, 'Alvin and the Chipmunks: The Road Chip': 75, 'Bless the Child': -30, 'The Generals Daughter': -45, 'Focus': 15, 'Nine Queens': -30, 'The Proposition': -30, 'Prometheus': 75, 'Ghostbusters': 15, 'Casino': -45, 'Harry Potter and the Philosophers Stone': 60, 'Hit & Run': 0, 'Dawn of the Dead': 30, 'City By The Sea': -30, 'Terminator 2: Judgment Day': 45, 'Jungle Shuffle': 90, 'Buffalo 66': 15, 'The Adventurer: The Curse of the Midas Box': 60, 'Dom Hemingway': -30, 'Capote': -45, 'Insurgent': 75, 'Taken': 45, 'I Got the Hook Up': 45, 'Water & Power': -45, 'Unnatural': 45, 'Night Watch': 15, 'Auto Focus': -45, 'Wild Card': -30, 'Wrath of the Titans': 90, 'Sea of Love': -30, 'The Talented Mr. Ripley': -30, 'Captive': -30, 'Renaissance Man': 15, 'The Toxic Avenger': 45, 'Public Enemies': -45, 'Young Guns': -45, 'Donovans Reef': 30, 'The Lost Medallion: The Adventures of Billy Stone': 90, 'Only God Forgives': -30, 'Wonderland': -45, 'Red Dawn': 45, 'Boys Dont Cry': -45, 'In Cold Blood': -45, 'Rat Race': 75, 'Aladdin': 0, 'Species': 60, 'Allegiant': 90, 'Inherent Vice': 30, 'Married Life': 60, 'Thirteen': -45, 'The Funeral': -45, 'Royal Kill': 45, 'Dogma': 45, 'A Bugs Life': 75, 'Witness': 75, 'In Time': 45, 'Civil Brand': -30, 'Kill the Messenger': -45, 'Men in Black 3': 45, 'The Stepford Wives': 45, 'Once Upon a Time in America': -45, 'Traffic': -30, 'A Time to Kill': -30, 'Paul': 75, 'A Most Violent Year': -30, 'Compadres': 45, 'We Have Your Husband': -30, 'Hav Plenty': -15, 'The Secret in Their Eyes': 75, 'Khumba': 90, 'The Hitchhikers Guide to the Galaxy': 75, 'Maze Runner: The Scorch Trials': 60, 'Trance': -45, 'Glory': 30, 'Spirit: Stallion of the Cimarron': 45, 'The Sting': -30, 'Dancer in the Dark': -30, 'Step Up': 45, 'Hannibal Rising': -30, 'Aliens': 45, 'Murder by Numbers': -30, 'The SpongeBob Movie: Sponge Out of Water': 75, 'Red Sky': 45, 'Aliens in the Attic': 45, 'Rob Roy': 90, 'Hidalgo': 60, 'The Conspirator': -45, 'No Country for Old Men': -30, 'The Best Offer': 75, 'The Outsiders': -45, 'Open Season': 90, 'xXx: State of the Union': -75, 'The Life of David Gale': -30, 'Dance Flick': 30, 'The Emperors New Groove': 45, 'Beneath the Planet of the Apes': 75, 'The Wolf of Wall Street': -30, 'Underclassman': 45, 'The Secret Life of Bees': 90, 'Agent Cody Banks': 60, 'The Untouchables': -30, 'Renaissance': 60, 'Disclosure': 60, 'Priest': 15, 'Death Race 2000': 45, 'Unforgiven': 130, 'The Man with the Iron Fists': 60, 'Red Riding: In the Year of Our Lord 1974': -45, 'A Monster in Paris': 45, 'Terminator 3: Rise of the Machines': 45, 'Disaster Movie': 45, 'The League of Extraordinary Gentlemen': 15, 'Road to Perdition': -30, 'The Wiz': 45, 'A Simple Wish': 45, 'Taxi Driver': -45, 'Shrek the Third': 45, 'The Hobbit: The Desolation of Smaug': 60, 'The BFG': 60, 'Time Bandits': 45, 'Percy Jackson & the Olympians: The Lightning Thief': 60, 'The Infiltrator': -30, 'The Bad Lieutenant: Port of Call - New Orleans': -45, 'Escape from Planet Earth': 75, 'Side Effects': -30, 'Spun': -30, 'Shadow Conspiracy': 45, 'Confessions of a Dangerous Mind': 30, 'Hansel & Gretel: Witch Hunters': 30, 'Dredd': 60, 'Observe and Report': -30, 'Frenzy': -45, 'J. Edgar': 55, 'Eagle Eye': 60, 'The Thief and the Cobbler': 60, 'Torque': 60, 'Herbie Fully Loaded': 0, 'Bound': 75, 'Independence Daysaster': 60, 'Why I Did (Not) Eat My Father': 75, 'Alice in Wonderland': 60, 'Harley Davidson and the Marlboro Man': 45, 'Enemy at the Gates': 30, 'The Devils Tomb': 45, 'Stealth': 60, 'Death Race': 45, 'The Spy Next Door': 45, 'The Counselor': -30, 'Spring Breakers': -45, 'Ink': 30, 'The Wash': 45, 'Tomorrowland': 75, 'Owning Mahowny': -30, 'The Last House on the Left': -30, 'Mulan': 90, 'Arthur and the Invisibles': 60, 'Dope': -30, 'The Beastmaster': 30, 'Shrek': 45, 'The Barbarians': 60, 'Vera Drake': -45, 'How to Train Your Dragon': 60, 'Into the Storm': 45, 'Duplex': 30, 'The Legend of Gods Gun': 90, 'The Tuxedo': 30, 'Undercover Brother': 45, 'Land of the Lost': 75, 'The Legend of Drunken Master': 45, 'The Little Prince': 60, 'Sphinx': 90, 'George of the Jungle': 30, 'Are We There Yet?': 30, 'The 5th Wave': 90, 'Harry Potter and the Goblet of Fire': 60, 'The Conversation': -30, 'Escape from New York': 60, 'Bully': -45, 'The One': 45, 'Rio 2': 75, 'Brother': -30, 'On Deadly Ground': 45, 'Gamer': 45, 'Penguins of Madagascar': 75, 'Freedom Writers': -45, 'Brighton Rock': -30, 'Wall Street': -45, 'The Book of Eli': 45, 'Treasure Planet': 60, 'Striptease': -30, 'Absolute Power': 70, 'The Running Man': 60, 'Carlos': -30, 'The Wild Bunch': 60, 'Get Smart': 30, 'Donkey Punch': -30, 'Medicine Man': 90, 'Mortdecai': 75, 'Flipper': 90, 'Minority Report': 60, 'Betty Fisher and Other Stories': -30, 'American Outlaws': 90, 'Wolves': 60, 'Dragon Nest: Warriors Dawn': 60, 'Blow': -45, 'Against the Wild': 90, 'Blood Work': 55, 'Jackass Number Two': 45, 'Jaws': 75, 'Max Payne': 60, 'Light Sleeper': -45, 'Mean Creek': -45, 'I, Robot': 60, 'The Last Shot': 45, 'Star Trek: The Motion Picture': 75, 'Party Monster': -30, 'The Tourist': -60, 'Dear Wendy': 15, 'Pride and Glory': -30, 'The Gambler': -30, 'The Medallion': 0, 'Lockout': 45, 'Out of Time': -30, 'Blade II': 15, 'The Darkest Hour': 45, 'Diary of the Dead': 60, 'Earth to Echo': 90, 'Robot & Frank': -30, 'Frequency': -30, 'Master and Commander: The Far Side of the World': 90, 'The Taking of Pelham 1 2 3': -30, 'Jade': -45, 'Under Siege 2: Dark Territory': 45, 'The Hateful Eight': -60, 'Abraham Lincoln: Vampire Hunter': 30, 'Lakeview Terrace': -30, 'Rio': 75, 'The Nutcracker: The Untold Story': 30, 'The Book of Life': 0, 'The Next Three Days': 75, 'Rambo: First Blood Part II': 45, 'Dutch Kills': -30, 'The Croods': 45, 'The Crew': 45, 'Wind Walkers': 45, 'Jack Reacher': -30, 'Bad Santa': -30, 'B-Girl': -30, 'The Hit List': 45, 'First Blood': 45, 'Rapa Nui': 90, 'Monty Python and the Holy Grail': 45, 'The Godfather: Part III': -30, 'Butterfly on a Wheel': -30, 'Subway': 45, 'Double Jeopardy': -45, 'Maria Full of Grace': -30, 'Pootie Tang': 45, 'Cars': 75, 'Predator 2': 45, 'Lost in Space': 90, 'Oz: The Great and Powerful': 60, 'No Escape': 45, 'In the Valley of Elah': -45, 'The Green Mile': -15, 'Stardust': -45, 'Salt': 60, 'High Crimes': -45, 'Bloodsport': 60, 'Live Free or Die Hard': 45, 'Die Hard 2': 45, 'Sausage Party': 45, 'The Maze Runner': 60, 'Layer Cake': -30, 'Hellboy II: The Golden Army': 60, 'Whats the Worst That Could Happen?': 45, 'All Good Things': 60, 'Cheap Thrills': -30, 'Zulu': -30, 'Charlie and the Chocolate Factory': 45, 'Tsotsi': -45, 'Adaptation.': -30, 'Slow Burn': -45, 'Alpha and Omega: The Legend of the Saw Tooth Cave': 75, 'Superhero Movie': 45, 'Veronica Guerin': -30, 'Boiler Room': -30, 'The International': -30, 'Sinbad: Legend of the Seven Seas': 90, 'Bottle Rocket': -30, 'Hollow Man': 45, 'Sex Drive': 30, 'Clockstoppers': 75, 'Fled': 30, 'Jack the Giant Slayer': 30, 'The Godfather': -45, 'The Lion of Judah': 75, 'The White Ribbon': -30, 'The Alamo': 60, 'Dead Mans Shoes': -30, 'End of Days': 15, 'Prisoners': -30, 'American Sniper': 130, 'Ride Along 2': 45, 'Escape Plan': 45, 'The Adventures of Sharkboy and Lavagirl': 90, 'Space Cowboys': 115, 'Olympus Has Fallen': 45, 'Jason Bourne': 45, 'Butterfly': -45, 'Major Dundee': 60, 'Texas Rangers': 90, 'Shaolin Soccer': 45, 'Riddick': 45, 'Escape from the Planet of the Apes': 60, 'Pale Rider': 25, 'Pearl Harbor': -75, 'The Animal': 45, 'The Beast from 20,000 Fathoms': 90, 'Excessive Force': 60, 'Yogi Bear': 75, 'Spider-Man': 30, 'Ice Age: Continental Drift': 75, 'The Glimmer Man': -60, 'True Lies': 45, 'Idiocracy': 75, 'The Postman Always Rings Twice': 60, 'Catch Me If You Can': -45, 'Freeze Frame': -30, 'Up': 75, 'Bolt': 75, 'The Spanish Prisoner': -45, 'The American': -30, 'Crocodile Dundee': 75, 'Four Lions': -30, 'Oliver Twist': -45, 'Ice Age: The Meltdown': 75, 'Alone in the Dark': 15, 'Monte Carlo': 30, 'Highlander: The Final Dimension': 30, 'Stand by Me': -45, 'Return to Oz': 60, 'Resident Evil': 60, 'The Country Bears': 75, 'Mortal Kombat': 30, 'Pandorum': 60, 'Alien³': 60, 'Blade': 60, 'Hot Rod': 45, 'Inkheart': 60, 'Aliens vs Predator: Requiem': 15, 'Ice Age': 75, 'Taken 3': 45, 'The Last Godfather': 30, '21': -45, 'Were No Angels': -30, 'Casino Jack': -30, 'Minions': 75, 'VeggieTales: The Pirates Who Dont Do Anything': 75, '300': 60, 'Rugrats in Paris: The Movie': 75, 'The Exorcism of Emily Rose': -30, 'The Worlds End': 45, 'Days of Thunder': 90, 'RoboCop': 60, 'Alien': 45, 'Grindhouse': 45, 'The Devils Rejects': -45, 'Hurricane Streets': 60, 'Big Trouble': 30, 'Gangs of New York': -45, 'Sanctum': 45, 'The Devils Own': -30, 'Jumper': 60, 'Left Behind': 45, '1941': 45, 'Khiladi 786': 45, 'Broken Horses': -45, 'V for Vendetta': 15, 'Dylan Dog: Dead of Night': 45, 'Adulterers': -30, 'American Hustle': -45, 'Surrogates': 45, 'Ghost Rider': 15, 'Resident Evil: Retribution': 60, 'Deadline - U.S.A.': -45, 'Driven': 60, 'Meteor': 45, 'London to Brighton': -30, 'American Psycho': -30, 'Wreck-It Ralph': 75, 'Subconscious': 60, '2001: A Space Odyssey': 75, 'The Pirates! In an Adventure with Scientists!': 75, 'The Hole': 45, 'We Own the Night': -30, 'Annie Get Your Gun': 45, 'Edge of Tomorrow': 60, 'Non-Stop': 60, 'Jaws: The Revenge': 75, 'Baahubali: The Beginning': 60, 'Crocodile Dundee II': 75, 'The Smurfs': 45, 'The Betrayed': -45, 'Underdogs': -15, 'The Crying Game': 75, 'Laws of Attraction': -15, 'Die Hard: With a Vengeance': 45, 'Gentlemen Broncos': 30, 'Asterix at the Olympic Games': 45, 'Lilya 4-ever': -45, 'Bill & Teds Excellent Adventure': 75, 'Crocodile Dundee in Los Angeles': 75, 'Changeling': 70, 'Nightcrawler': -30, 'Wall Street: Money Never Sleeps': -45, 'American Gangster': -45, 'George and the Dragon': 90, 'The Iceman': -30, 'Legal Eagles': 30, 'Secret in Their Eyes': -30, 'The Black Stallion': 90, 'The Ice Pirates': 45, 'Saving Private Perez': 45, 'Ransom': 45, 'The Pelican Brief': -45, 'Savages': -30, 'The Iron Giant': 60, 'The Road to El Dorado': 75, 'Hancock': 30, 'Jack Brooks: Monster Slayer': 45, 'Death to Smoochy': -15, 'The Crow': 15, 'The Prince': 45, 'Pixels': 45, 'Black Knight': 45, 'Impostor': 45, 'Triple 9': 45, 'Shrek Forever After': 45, 'Resident Evil: Apocalypse': 60, 'Hot Tub Time Machine': 75, 'Ice Age: Dawn of the Dinosaurs': 75, 'The Chronicles of Narnia: The Lion, the Witch and the Wardrobe': 60, 'The Client': -45, 'Force 10 from Navarone': 45, 'Back to the Future': 75, 'Perfume: The Story of a Murderer': -15, 'This Is the End': 45, 'The Jungle Book 2': 90, 'Tom Jones': 30, 'Harold & Kumar Go to White Castle': 75, 'The Skulls': -30, 'The Lincoln Lawyer': -30, 'Zathura: A Space Adventure': 60, 'The Specials': 45, 'Lucy': 60, 'Haywire': 45, 'Crazy Stone': 45, 'Warlock': 45, 'Night at the Museum: Secret of the Tomb': 45, 'The Marine 4: Moving Target': 45, 'Mars Needs Moms': 90, 'The Men Who Stare at Goats': 15, 'Shark Tale': 45, 'Tropic Thunder': 45, 'Lake Placid': 30, 'They Live': 45, 'D-Tox': 45, 'Young Sherlock Holmes': -75, 'Bait': 45, 'Trainspotting': -45, '11:14': -30, 'Jurassic Park': 90, 'The Lego Movie': 45, 'Jackass 3D': 45, 'The Chronicles of Narnia: The Voyage of the Dawn Treader': 60, 'The Nut Job': 75, 'Return to Never Land': 60, '25th Hour': -45, 'Pineapple Express': 45, 'Mississippi Mermaid': 60, 'Anaconda': 75, 'End of Watch': -30, 'Delgo': 45, 'The Ballad of Cable Hogue': 75, 'Air Force One': 45, 'Michael Clayton': -30, 'Faithful': -30, 'Blood Ties': -30, 'Blue Crush': 90, 'Mi America': -45, 'The Last Legion': 90, 'eXistenZ': 45, 'A Good Day to Die Hard': 45, 'Chill Factor': 30, 'This Means War': 0, 'Harry Potter and the Half-Blood Prince': 60, 'Roar': 75, 'Kung Pow: Enter the Fist': 45, 'American Heist': 60, 'Glengarry Glen Ross': -30, 'Resident Evil: Extinction': 60, 'The Curse of the Were-Rabbit': 75, 'Law Abiding Citizen': -30, 'Cars 2': 75, 'Out of the Furnace': -30, 'Ajami': -45, 'The Descent': 90, 'El Rey de Najayo': -45, 'Keanu': 45, 'The Specialist': 45, 'Ride Along': 45, 'Tank Girl': 15, 'Super Mario Bros.': 45, 'Road House': 45, 'Flushed Away': 75, 'Once Upon a Time in Mexico': 60, 'Kicks': 90, 'Showdown in Little Tokyo': 45, 'Epic': 60, 'District B13': 45, 'Butch Cassidy and the Sundance Kid': -75, 'Percy Jackson: Sea of Monsters': 60, 'Daybreakers': 15, 'In Bruges': -30, 'Legend of the Guardians: The Owls of GaHoole': 60, 'Ghost Dog: The Way of the Samurai': -45, 'Boyz n the Hood': -45, 'The Silence of the Lambs': -30, 'Alien: Resurrection': 60, 'Alien Zone': 45, 'The Dead Girl': -45, 'Batman Returns': 30, 'State of Play': 60, 'Meet Dave': 75, 'Son of the Mask': 45, 'The Cotton Club': 45, 'The Spiderwick Chronicles': 60, 'Pound of Flesh': 60, 'The Hunger Games: Mockingjay - Part 1': 75, 'The Muppet Movie': 75, 'TMNT': 75, 'High Plains Drifter': 130, 'Brigham City': -45, 'Walking With Dinosaurs': 90, 'Rounders': -45, 'The Bone Collector': -45, 'The Devils Double': 0, 'Spirited Away': 60, 'The Good Thief': -30, 'Zombie Hunter': 30, 'Warriors of Virtue': 30, 'Megamind': 45, 'Albino Alligator': -30, 'Madea Goes to Jail': -30, 'The Imaginarium of Doctor Parnassus': 45, 'Clay Pigeons': -15, 'The Wizard of Oz': 60, 'Alone With Her': 75, 'The Bank Job': -30, 'Kung Fu Panda': 75, 'Mean Streets': -45, 'Star Trek IV: The Voyage Home': 90, 'The Town': -30, 'Tremors': 60, 'Edge of Darkness': -45, 'The Adventures of Tintin': 75, 'Monsters vs Aliens': 90, 'Screwed': 45, 'The Hunger Games': 60, 'Sleepers': -30, 'The Ghost and the Darkness': 90, 'Rollerball': 45, 'Goosebumps': 75, 'To Kill a Mockingbird': -45, 'Zambezia': 75, 'Midnight in the Garden of Good and Evil': 55, 'E.T. the Extra-Terrestrial': 60, 'Collateral': -30, 'Æon Flux': 60, 'Abduction': 60, 'Rango': 45, 'Curious George': 75, 'Doomsday': 45, 'Looper': 45, 'On the Waterfront': -45, 'Rambo III': 45, 'Dirty Pretty Things': -30, 'Miss Congeniality 2: Armed and Fabulous': 45, 'Hook': 45, 'Equilibrium': 45, 'The Adventures of Pluto Nash': 45, 'Inside Man': -30, 'Bill & Teds Bogus Journey': 45, 'The Tale of Despereaux': 90, 'Requiem for a Dream': -45, 'Road Trip': 75, 'Grosse Pointe Blank': -15, 'Blackhat': -30, 'D.E.B.S.': 60, 'Spy Kids: All the Time in the World': 45, 'Robin Hood: Prince of Thieves': 90, 'Kansas City': -15, 'This Is England': -45, 'The Lady from Shanghai': -30, 'Nine Dead': -30, 'Troop Beverly Hills': 75, 'Match Point': 75, 'Safe House': 45, 'Highlander: Endgame': 30, 'The Cold Light of Day': 45, 'Ghosts of Mars': 60, 'Rivers Edge': -45, 'Unsullied': 45, 'Men of War': 45, 'Easy Money': -30, 'Antz': 75, 'Furious 7': 60, 'Mystic River': 55, 'Shrek 2': 45, 'Alatriste': 60, 'The Negotiator': -75, '3 Strikes': 0, 'The Purge: Election Year': 45, 'The Good Dinosaur': 90, 'The Indian in the Cupboard': 60, 'Shipwrecked': 90, 'The Son of No One': -30, 'The Godfather: Part II': -45, 'Broken City': -30, 'Feast': 45, 'Mr. Peabody & Sherman': 190, 'Firefox': 115, 'Conquest of the Planet of the Apes': 60, 'Beverly Hills Chihuahua': 75, 'Escape from Alcatraz': -45, 'Hostage': -45, 'Foodfight!': 45, 'Phantasm II': 45, 'The True Story of Puss n Boots': 90, 'Homefront': 45, 'Eight Legged Freaks': 30, 'Into the Grizzly Maze': 45, 'A Simple Plan': -30, 'Red Planet': 45, 'Only the Strong': 60, 'City of Ember': 60, 'The Usual Suspects': -30, 'Navy Seals vs. Zombies': 60, 'N-Secure': -30, 'Atlantis: The Lost Empire': 90, 'Prison': -30, 'Pan': 60, 'Stargate: The Ark of Truth': 90, 'John Q': -30, 'Scooby-Doo 2: Monsters Unleashed': 30, 'Thunder and the House of Magic': 60, 'Appaloosa': -75, 'Bullets Over Broadway': 30, 'Shanghai Surprise': 90, 'Deep Blue Sea': 45, 'Hobo with a Shotgun': 30, 'Back to the Future Part II': 75, 'Savva. Heart of the Warrior': 60, 'ParaNorman': 75, 'The Departed': -30, 'Fantastic Mr. Fox': 75, 'Out of Inferno': 60, 'Speed Racer': 60, 'Princess Mononoke': 60, 'The Ant Bully': 45, 'Criminal Activities': -30, 'Stuart Little 2': 175, 'Raising Cain': -30, 'The 40 Year Old Virgin': -60, 'Dead Man Down': -30, 'The Good Guy': -60, 'The Other End of the Line': -60, '16 to Life': -60, 'Run All Night': -45, 'Takers': -30, 'Aquamarine': -30, 'Need for Speed': -30, 'Steppin: The Movie': -60, 'Breaking Upwards': -60, 'Think Like a Man': -60, 'Corpse Bride': -60, 'Beauty Shop': -60, 'Dum Maaro Dum': -45, 'The House Bunny': -60, 'Street Kings': -30, 'Pretty Woman': -60, 'My Bosss Daughter': -60, 'Heartbeeps': -60, 'Top Hat': -45, 'The Invention of Lying': -30, 'Bridesmaids': -60, 'Jonah: A VeggieTales Movie': 0, 'My Best Friends Wedding': -60, 'Elite Squad': -45, 'Batman Begins': -45, 'Whats Your Number?': -60, 'Waking Ned': -60, 'Top Gun': -75, 'Rampage': -30, 'Runaway Bride': -60, 'The Pirate': -90, 'Womb': -105, 'Someone Like You...': -60, 'Training Day': -30, 'Escobar: Paradise Lost': -120, 'Shes Out of My League': -60, 'Soul Plane': -60, 'Shallow Hal': -60, 'Narc': -30, 'In & Out': -60, 'Vantage Point': -30, 'Shes the One': -60, 'The Adjustment Bureau': -120, 'Mallrats': -60, 'I Think I Love My Wife': -60, 'I Love You, Dont Touch Me!': -60, 'Gangster Squad': -30, 'The Flintstones in Viva Rock Vegas': -60, 'Righteous Kill': -30, 'Mamma Mia!': -60, '40 Days and 40 Nights': -60, 'Trippin': -60, 'I Want Someone to Eat Cheese With': -60, 'The Guru': -60, 'Flirting with Disaster': -60, 'Scarface': -30, 'Midnight in Paris': -30, 'Dysfunctional Friends': -60, 'Smiling Fish & Goat On Fire': -60, 'Find Me Guilty': -30, 'Da Sweet Blood of Jesus': -75, 'Everyone Says I Love You': -45, 'Hairspray': -45, 'Cradle 2 the Grave': -45, 'Mercury Rising': -30, 'Drive': -30, 'Easy Virtue': -60, 'Black November': -45, 'Mr. Deeds': -60, 'Tootsie': -60, 'Six Days Seven Nights': -30, 'Wimbledon': -60, 'Nick and Norahs Infinite Playlist': -45, 'Think Like a Man Too': -60, 'Miss March': -60, 'Flame & Citron': -75, 'Christmas Eve': -60, 'You Again': -60, 'Dil Jo Bhi Kahey...': -105, 'My Super Ex-Girlfriend': -60, 'A Guy Thing': -60, 'Youve Got Mail': -60, 'Antitrust': -45, 'Bedazzled': -30, 'Mambo Italiano': -60, 'Patriot Games': -30, 'Sleeper': -60, 'Harper': -45, 'Friends with Benefits': -60, 'Worlds Greatest Dad': -60, 'Faster': -30, 'Sabotage': -30, 'Man on Fire': -30, 'The First Great Train Robbery': -60, 'My Life in Ruins': -60, 'No Strings Attached': -60, 'You Cant Take It With You': -60, 'The Net': -45, 'The Fast and the Furious: Tokyo Drift': -30, 'Splash': -30, 'The Punisher': -45, 'Gangsters Paradise: Jerusalema': -45, 'Never Again': -60, 'Hitman': -30, 'Must Love Dogs': -60, 'The Break-Up': -60, 'As Good as It Gets': -60, 'Serving Sara': -60, 'Its Complicated': -60, 'The Nutty Professor': -30, 'Point Blank': -30, 'The Lovers': -75, 'Its a Wonderful Afterlife': -60, 'Jersey Girl': -60, 'Little Fockers': -60, 'Bound by Honor': -30, 'That Awkward Moment': -60, 'United 93': -30, 'Some Like It Hot': -60, 'Woo': -60, 'Monster-in-Law': -60, 'Safe Haven': -105, 'Kicking & Screaming': -60, 'Damsels in Distress': -60, 'My Best Friends Girl': -60, 'Basic': -45, '20 Dates': -60, 'The Princess Diaries': -60, 'Return of the Living Dead 3': -60, 'Three to Tango': -60, 'Virgin Territory': -30, 'I Love You, Beth Cooper': -60, 'The Pallbearer': -60, 'What Happens in Vegas': -60, 'Without Men': -60, 'Playing for Keeps': -60, 'From Justin to Kelly': -60, 'Dracula': -105, 'Dry Spell': -60, 'Meet the Fockers': -60, 'Breakin All the Rules': -60, 'Bronson': -45, 'Dark Blue': -30, 'The Replacement Killers': -30, 'Ta Ra Rum Pum': -60, 'The Prince & Me': -60, 'Why Did I Get Married Too?': -60, 'Hardball': -60, 'Class of 1984': -30, 'Whipped': -60, 'Undiscovered': -60, 'Plastic': -30, 'Def Jams How to Be a Player': -60, 'What Women Want': -60, 'Jimmy and Judy': -30, 'New Years Eve': -60, 'The Back-Up Plan': -60, 'The Sweetest Thing': -60, 'Here On Earth': -105, 'Smillas Sense of Snow': -45, 'Ghost Town': -30, 'I Heart Huckabees': -60, 'Love Stinks': -60, 'American Wedding': -60, 'Slow West': -90, 'Among Giants': -60, 'Definitely, Maybe': -60, 'How to Lose a Guy in 10 Days': -60, '3 Days to Kill': -30, 'Shinjuku Incident': -30, 'Newlyweds': -60, 'Obvious Child': -60, 'How to Be Single': -60, 'State Fair': -90, 'It Happened One Night': -60, 'Get Carter': -30, 'Employee of the Month': -60, 'The DUFF': -60, 'Killing Zoe': -30, 'The Perfect Match': -60, 'The Legend of the Lone Ranger': -105, 'Harsh Times': -30, 'My Big Fat Greek Wedding 2': -60, 'Shooter': -45, 'The Love Guru': -60, 'Amidst the Devils Wings': -45, 'Singin in the Rain': -45, 'Dr. Dolittle 2': -30, 'Perrier’s Bounty': -30, 'Music and Lyrics': -45, 'Ira & Abby': -60, 'Vampire in Brooklyn': -60, 'Logans Run': -75, 'Vamps': -60, 'Running Scared': -30, 'Grand Theft Parsons': -60, 'The Holiday': -60, 'I Am Wrath': -30, 'Head Over Heels': -60, 'Neal n Nikki': -60, 'My Lucky Star': -60, 'Maleficent': -45, 'The To Do List': -60, 'Chasing Liberty': -60, 'Sicario': -45, 'Pitch Perfect': -45, 'Town & Country': -60, 'Swingers': -60, 'Prince of Persia: The Sands of Time': -45, 'Just Like Heaven': -30, 'Vaalu': -60, 'Harry Brown': -30, 'Romeo Is Bleeding': -30, 'Buffalo Soldiers': -45, 'The Saint': -90, 'Brick Mansions': -45, 'Trash': -60, 'Johnny Suede': -60, 'The Siege': -30, 'Serendipity': -60, 'The Sweeney': -45, 'Zookeeper': -60, '10th & Wolf': -45, 'You, Me and Dupree': -60, 'Colombiana': -30, 'The Newton Boys': -45, 'Run, Fatboy, Run': -60, 'The Ugly Truth': -60, 'Menace II Society': -45, 'The Limey': -45, 'The Death and Life of Bobby Z': -30, 'Double Impact': -30, 'Bachelorette': -60, 'Shakespeare in Love': -105, 'National Lampoon’s Van Wilder': -60, 'Pride and Prejudice and Zombies': -75, 'Boomerang': -60, 'Show Boat': -90, 'Enchanted': -30, 'The Dark Knight': -30, 'Accidental Love': -60, 'About Last Night': -60, 'How to Fall in Love': -60, 'Say It Isnt So': -60, 'Yeh Jawaani Hai Deewani': -105, 'Romance & Cigarettes': -45, 'Two Can Play That Game': -60, 'The Matador': -15, '13 Going on 30': -30, 'The Protector': -30, 'The Three Burials of Melquiades Estrada': -30, 'Gattaca': -105, 'Swept Away': -60, 'Kate & Leopold': -30, 'Hackers': -30, 'Silverado': -75, 'Interview with the Vampire': -105, 'I Dont Know How She Does It': -60, 'Amélie': -60, 'Fifty Shades of Black': -60, 'Blonde Ambition': -60, 'Inescapable': -120, 'Bedtime Stories': -30, 'Nutty Professor II: The Klumps': -30, 'The Dark Knight Rises': -30, 'Fly Me to the Moon': -60, 'American Pie': -60, 'Americas Sweethearts': -60, 'Guess Who': -60, 'Saving Face': -60, '42nd Street': -45, 'Along Came Polly': -60, 'Fascination': -120, 'The Princess and the Frog': -90, '50 First Dates': -60, 'Theres Always Woodstock': -45, 'Down to Earth': -30, 'Payback': -30, '27 Dresses': -60, 'Along the Roadside': -45, 'Elsa & Fred': -60, 'In Too Deep': -30, 'Love and Other Catastrophes': -60, 'The Way of the Gun': -30, 'The Wedding Date': -60, 'Shes All That': -60, 'Armored': -30, 'Set It Off': -45, 'Death Sentence': -30, 'Defendor': -30, 'Whatever Works': -60, 'Leap Year': -60, 'Kiss of Death': -30, 'American Pie 2': -60, 'Machine Gun McCain': -30, 'Cop Land': -45, 'Bridget Jones: The Edge of Reason': -60, 'Anything Else': -60, 'Honey': -90, 'Phat Girlz': -60, 'Just Go with It': -60, 'Brown Sugar': -60, 'To Rome with Love': -60, 'After the Sunset': -30, 'Couples Retreat': -60, 'On the Line': -60, 'Valentines Day': -60, 'Meet the Parents': -60, 'Two Weeks Notice': -60, 'Warm Bodies': -60, 'The Gunman': -45, 'Chasing Papi': -60, 'Shes Gotta Have It': -60, 'Contraband': -30, 'The Hunted': -30, 'Grease': -105, 'Win a Date with Tad Hamilton!': -60, 'Impact Point': -120, 'Chicken Tikka Masala': -60, 'Made of Honor': -60, 'The Yards': -30, 'Theres Something About Mary': -60, 'Chicago': -15, 'Get Over It': -60, 'Slackers': -60, 'Little Nicky': -30, 'The Other Woman': -60, 'Sweet Home Alabama': -60, 'Dudley Do-Right': -60, 'The Baader Meinhof Complex': -30, 'Stolen': -30, 'And Then Came Love': -60, 'Blast from the Past': -60, 'Ironclad': -75, 'Tomcats': -60, 'Frat Party': -60, 'School of Rock': -30, 'A Mighty Wind': -30, 'Team America: World Police': 0, 'Tupac: Resurrection': -15, 'Little Shop of Horrors': -30, 'Katy Perry: Part of Me': -15, 'Joyful Noise': -30, 'A Hard Days Night': -30, 'Alvin and the Chipmunks': 0, 'Hedwig and the Angry Inch': -30, 'Detroit Rock City': -30, 'The Last Waltz': -15, 'The Producers': -30, 'Down & Out With The Dolls': -30, '20 Feet from Stardom': -15, 'The Nutcracker': 15, 'Repo! The Genetic Opera': -30, 'Fantasia 2000': -15, 'Glee: The Concert Movie': -15, 'Woodstock': -15, 'Cats Dont Dance': -30, 'Cant Stop the Music': -30, 'Fantasia': -15, 'Alvin and the Chipmunks: Chipwrecked': 0, 'Hamlet 2': -30, 'South Park: Bigger, Longer & Uncut': -30, 'Into the Woods': 0, 'Walk Hard: The Dewey Cox Story': -30, 'Waiting for Guffman': -30, 'Shine a Light': -15, 'Scott Walker: 30 Century Man': -15, 'They Will Have to Kill Us First': -15, 'Dave Chappelles Block Party': -30, 'This Is It': -15, 'Metallica: Through the Never': -15, 'One Direction: This Is Us': -15, 'Soul Men': -30, 'The Past Is a Grotesque Animal': -15, 'High Anxiety': -30, 'Sunday School Musical': -15, 'The Rocker': -30, 'U2 3D': -15, 'Standing Ovation': -30, 'Bathing Beauty': -30, 'Take the Lead': -15, 'Justin Bieber: Never Say Never': -15, 'The Ghastly Love of Johnny X': 0, 'Alvin and the Chipmunks: The Squeakquel': 0, 'Legends of Oz: Dorothys Return': -15, 'Alleluia! The Devils Carnival': -15, 'Pitch Perfect 2': -30, 'Josie and the Pussycats': -30, 'The Muppets': -30, 'A Funny Thing Happened on the Way to the Forum': -30, 'Waynes World': -30, 'Little Big Top': -15, 'The Man from U.N.C.L.E.': 15, 'The Big Wedding': -15, 'Stuck on You': -15, 'Did You Hear About the Morgans?': -15, 'Spaced Invaders': -15, 'Nanny McPhee and the Big Bang': 15, 'Dumb and Dumber': -15, 'Housebound': -30, 'The Return of the Pink Panther': -15, 'Joe Somebody': -15, 'Farce of the Penguins': -15, 'Date Movie': -15, 'No Reservations': -15, 'Welcome to Collinwood': -15, 'Finishing The Game': -15, 'Without a Paddle': 0, 'Post Grad': -15, 'Step Brothers': -15, '3 Ninjas Kick Back': 15, 'Osmosis Jones': 15, 'Parental Guidance': -15, 'Deuces Wild': 60, 'The Campaign': -15, '17 Again': -15, 'Scary Movie 2': -15, 'Grown Ups': -15, 'Kissing Jessica Stein': -15, 'Free Birds': -15, 'Because I Said So': -15, 'The Adventures of Rocky & Bullwinkle': 15, 'Neighbors 2: Sorority Rising': -15, 'Cheaper by the Dozen': -15, 'East Is East': -15, 'Coyote Ugly': -15, 'Small Soldiers': 45, 'The Big Tease': -15, 'This Is 40': -15, 'Ed and His Dead Mother': -15, 'Mystery Men': 45, 'Hot Tub Time Machine 2': -15, 'Superbad': -15, 'The Mighty Ducks': -15, 'A Haunted House': -15, 'Freddys Dead: The Final Nightmare': -30, 'Furry Vengeance': -15, 'Superman III': 45, 'Hoodwinked!': -15, 'Frankenweenie': -15, 'Zack and Miri Make a Porno': -15, 'Bride Wars': -15, 'Religulous': -15, 'The Smurfs 2': 15, 'Best in Show': -15, 'Multiplicity': 15, 'Animal House': -15, 'Marci X': -15, 'What a Girl Wants': -15, 'I Spy': 0, 'An American Carol': 15, 'Private Benjamin': -15, 'Connie and Carla': -15, 'Shaun of the Dead': -15, 'They Came Together': -15, 'Drillbit Taylor': -15, 'Bad Grandpa': -15, 'Detention': -15, 'The Addams Family': 15, 'The Return of the Living Dead': -15, 'The Full Monty': -15, 'Meet the Spartans': -15, 'Bruce Almighty': 15, 'The Brothers Solomon': -15, 'The Best Man Holiday': -15, 'White Chicks': -15, 'Deuce Bigalow: European Gigolo': -15, 'Kevin Hart: Let Me Explain': -15, 'Delivery Man': -15, 'Mary Poppins': 15, 'Fun Size': -15, 'Marmaduke': -15, 'Cool Runnings': -15, 'Vacation': -15, 'Bad Words': -15, 'Porkys': -15, 'An Alan Smithee Film: Burn, Hollywood, Burn': -15, 'Outside Bet': -15, 'Alexander and the Terrible, Horrible, No Good, Very Bad Day': -15, 'Hotel Transylvania': 15, 'Inspector Gadget': 15, 'Extreme Movie': -15, 'Failure to Launch': -15, 'The Big Hit': 0, 'Grandmas Boy': -15, 'My Name Is Bruce': -15, 'St. Trinians': -15, 'Max Keebles Big Move': 15, 'How the Grinch Stole Christmas': 15, 'Dougs 1st Movie': -15, 'Despicable Me 2': -15, 'High Road': -15, 'The First Wives Club': -15, 'Young Frankenstein': -15, 'Welcome to the Sticks': -15, 'A True Story': -15, 'Jennifers Body': -15, 'The Walking Deceased': -15, 'The Dictator': -15, 'Stan Helsing': -15, 'Cloudy with a Chance of Meatballs 2': -15, 'Spaceballs': -15, 'Lottery Ticket': -15, 'Keeping Up with the Steins': -15, 'Thats My Boy': -15, 'Movie 43': -15, 'Dead Snow': -15, 'Aqua Teen Hunger Force Colon Movie Film for Theaters': -15, 'Road Hard': -15, 'EuroTrip': -15, 'Karachi se Lahore': -15, 'The Deported': -15, 'Charlottes Web': 15, 'UHF': -15, 'The Flintstones': 15, 'Mars Attacks!': 15, 'Gremlins': 15, 'Meet the Deedles': -15, 'Brüno': -15, 'The Hangover Part II': -15, 'All About Steve': -15, 'Howard the Duck': 15, 'Shanghai Noon': -15, 'DysFunktional Family': -15, 'Galaxy Quest': -15, 'Hop': -15, 'Held Up': -15, 'The Kentucky Fried Movie': -15, 'Vampires Suck': -15, 'Unaccompanied Minors': -15, 'Diary of a Wimpy Kid: Dog Days': -15, 'The Living Wake': -15, 'Wild Wild West': -15, 'Arachnophobia': -15, 'Teen Wolf Too': 15, 'Boat Trip': -15, 'Napoleon Dynamite': -15, 'The Five-Year Engagement': -15, 'Yoga Hosers': 0, 'Kung Fu Panda 3': 15, 'Tango & Cash': 15, 'Clerks II': -15, 'Confessions of a Teenage Drama Queen': -15, 'Blended': -15, 'Idle Hands': -30, 'Deuce Bigalow: Male Gigolo': -15, 'Date Night': -15, 'A Very Harold & Kumar Christmas': -15, 'Hollywood Homicide': 0, 'Club Dread': -15, 'Sex Tape': -15, 'All About the Benjamins': 15, 'DodgeBall: A True Underdog Story': -15, 'Major League': -15, 'The Lost Skeleton of Cadavra': -15, 'Cats & Dogs 2 : The Revenge of Kitty Galore': -15, 'Ella Enchanted': 15, 'Brazil': -15, 'Good Intentions': -15, 'Snow Day': -15, 'Old Dogs': -15, 'Home': 15, 'Evil Dead II': 15, 'Old School': -15, 'The Waterboy': -15, 'Hollywood Shuffle': -15, 'Men in Black': 15, 'Saint John of Las Vegas': -15, 'Gullivers Travels': -15, 'Toy Story 2': -15, 'Baggage Claim': -15, 'Stiff Upper Lips': -15, 'The Good, The Bad, The Weird': -15, 'Paul Blart: Mall Cop': 15, 'Bananas': -15, 'Hatchet': -15, 'Jumping the Broom': -15, 'Hoodwinked Too! Hood VS. Evil': -15, 'Stung': -15, 'Happy Feet Two': -15, 'A Christmas Story': -15, 'The Rundown': 0, 'Unfinished Business': -15, 'A Charlie Brown Christmas': -15, 'Get Him to the Greek': -15, 'Simply Irresistible': -15, 'How to Train Your Dragon 2': 45, 'Paddington': -15, 'Sugar Town': -15, 'Ted': 15, 'Next Friday': -15, 'Hotel Transylvania 2': -15, 'The Guilt Trip': -15, '30 Nights of Paranormal Activity With the Devil Inside the Girl With the Dragon Tattoo': -15, 'Anchorman: The Legend of Ron Burgundy': -15, 'Eddie: The Sleepwalking Cannibal': -15, 'Sheena': 45, 'Zombieland': -15, 'Hall Pass': -15, 'Nothing': 15, 'Sleepover': -15, 'Bucky Larson: Born to Be a Star': -15, 'Airborne': 15, 'New York Minute': -15, '21 & Over': -15, 'Happy Feet': -15, 'MacGruber': 15, 'Orgazmo': -15, 'The Best Little Whorehouse in Texas': -15, 'Happy Gilmore': -15, 'Coffee Town': -15, 'The Hammer': -15, 'Last Vegas': -15, 'Kindergarten Cop': -15, 'Scoop': -30, 'The Brass Teapot': 0, 'Dream with the Fishes': -15, 'Baby Mama': -15, 'Tusk': -15, 'Yes Man': -15, 'The Intern': -15, '102 Dalmatians': -15, 'Election': -15, 'Evan Almighty': 15, 'Johnson Family Vacation': -15, 'Sydney White': -15, 'Men in Black II': 15, 'Friday': -15, 'Marley & Me': -15, 'Certifiably Jonathan': -15, 'Cursed': -15, 'Teenage Mutant Ninja Turtles II: The Secret of the Ooze': 15, 'The Salon': -15, 'Toy Story': -15, 'My Stepmother is an Alien': -15, 'Top Cat Begins': -15, 'Moms Night Out': -15, 'Janky Promoters': -15, 'PCU': -15, 'Scott Pilgrim vs. the World': 15, 'Head of State': -15, 'Scary Movie 3': -15, 'The Original Kings of Comedy': -15, 'Piranha 3D': -15, 'Three Kings': 15, 'Daddys Home': -15, 'The Kid': 15, 'Journey to the Center of the Earth': 15, 'Legend of a Rabbit': 15, 'Caddyshack': -15, 'Twins': -15, 'Imagine That': -15, 'The New Guy': -15, 'R.L. Stines Monsterville: The Cabinet of Souls': -15, 'Grabbers': -30, 'The Boxtrolls': 15, 'License to Wed': -15, 'Just Married': -15, 'Just Visiting': 15, 'Teenage Mutant Ninja Turtles III': 45, 'Night at the Museum': 45, 'The Virginity Hit': -15, 'Blazing Saddles': 15, 'Nacho Libre': -15, 'Barbecue': -15, 'Kevin Hart: Laugh at My Pain': -15, 'Freddy Got Fingered': -15, 'Role Models': -15, 'The Ridiculous 6': 15, 'Christmas Mail': -15, 'Tammy': -15, 'The Game Plan': -15, 'Freaky Deaky': -15, 'Legally Blonde': -15, 'Modern Problems': -15, 'Dick': -15, 'Baby Geniuses': -15, 'Freaky Friday': -15, 'Anchorman 2: The Legend Continues': -15, 'Silent Movie': -15, 'The Trouble with Harry': -15, 'Zoolander': -15, 'Beetlejuice': 15, 'The Ladies Man': -15, 'Dickie Roberts: Former Child Star': -15, 'Tucker and Dale vs Evil': -15, 'Our Family Wedding': -15, 'Envy': -15, 'Fun with Dick and Jane': -15, 'Tim and Erics Billion Dollar Movie': -15, 'Prom': -15, 'Jingle All the Way': -15, 'Ishtar': 15, 'A Lot Like Love': -15, 'Shorts': -15, 'A League of Their Own': -15, 'The Good German': 30, 'Dirty Work': -15, 'Christmas with the Kranks': -15, 'Charlies Angels: Full Throttle': 15, 'Stuart Little': 115, 'The Goods: Live Hard, Sell Hard': -15, 'The Master of Disguise': -15, 'Epic Movie': 15, 'Men with Brooms': -15, 'Grown Ups 2': -15, 'Animals United': -15, 'Daddy Day Care': -15, 'Elf': 15, 'The FP': -15, 'Last Action Hero': 45, 'Teenage Mutant Ninja Turtles': 45, 'G-Force': 45, 'The Watch': -15, 'My Babys Daddy': -15, 'The Big Year': -15, 'Under the Rainbow': -15, 'The Muse': 15, 'Jay and Silent Bob Strike Back': -15, 'When the Cats Away': -15, 'My Big Fat Independent Movie': -15, 'Here Comes the Boom': -15, 'Bogus': 15, 'A Night at the Roxbury': -15, 'Lets Be Cops': -15, 'A Cinderella Story': -15, 'American Reunion': -15, 'Casa De Mi Padre': 15, 'Thunderbirds': 45, 'Bad Moms': -15, 'The Shaggy Dog': -15, 'The Work and The Story': -15, 'Bad Teacher': -15, 'The Simpsons Movie': -15, 'Army of Darkness': 15, 'Shanghai Knights': -15, 'Sorority Boys': -15, 'Monster House': 15, 'Cedar Rapids': -15, 'A Dogs Breakfast': -15, 'Jawbreaker': -15, 'Ri¢hie Ri¢h': -15, 'St. Vincent': -15, 'Get Hard': -15, 'Spy Kids 3-D: Game Over': 15, 'Tales from the Crypt: Demon Knight': -30, 'Strange Wilderness': -15, 'Grudge Match': -15, 'National Lampoons Loaded Weapon 1': -15, 'Mr. Poppers Penguins': -15, 'Wanderlust': -15, 'Lesbian Vampire Killers': -15, 'Racing Stripes': -15, 'Gremlins 2: The New Batch': 15, 'Deck the Halls': -15, 'House Party 2': -15, 'Martin Lawrence Live: Runteldat': -15, 'Money Talks': 15, 'Chairman of the Board': -15, 'The Dukes of Hazzard': 15, 'Bride of Chucky': -15, 'Jekyll and Hyde ... Together Again': -15, 'Bringing Down the House': -15, 'Spy Kids': 15, 'Liar Liar': -15, 'Dinner for Schmucks': -15, 'The Internship': -15, 'The Next Best Thing': -15, 'The Replacements': -15, 'Spanglish': -15, 'Horrible Bosses 2': -15, 'Girl 6': -15, 'Legally Blonde 2: Red, White & Blonde': -15, 'The Incredible Burt Wonderstone': -15, 'The Stewardesses': -15, 'The Girl Next Door': -15, 'I Love You, Man': -15, 'Mean Girls': -15, 'Garfield': -15, 'L!fe Happens': -15, '30 Minutes or Less': 15, 'Edtv': -15, 'Breakfast of Champions': -15, 'Dumb and Dumberer: When Harry Met Lloyd': -15, 'Mr. Beans Holiday': -15, 'Neighbors': -15, 'The Visitors': 15, 'Beerfest': -15, 'The Boss': -15, 'Flubber': -15, 'Trainwreck': -15, 'A Haunted House 2': -15, 'Kingpin': -15, 'Teenage Mutant Ninja Turtles: Out of the Shadows': 45, 'Jack and Jill': -15, 'Robots': -15, 'Brave': 45, 'Borat: Cultural Learnings of America for Make Benefit Glorious Nation of Kazakhstan': -15, 'Cheaper by the Dozen 2': -15, 'Zoolander 2': -15, 'Scary Movie 4': -15, 'Lets Kill Wards Wife': -15, 'Whos Your Caddy?': -15, 'Ace Ventura: Pet Detective': -30, 'Diary of a Wimpy Kid': -15, 'The Greatest Movie Ever Sold': -15, 'Surfer, Dude': -15, 'The Three Stooges': -15, 'Dark Shadows': 15, 'Daddy Day Camp': -15, 'Babys Day Out': 15, 'New in Town': -15, 'Jimmy Neutron: Boy Genius': 45, 'For a Good Time, Call...': -15, 'The Visitors II: The Corridors of Time': 15, 'Hocus Pocus': 15, 'Fright Night': -15, 'Slacker': -15, 'Hudson Hawk': 15, 'Death Becomes Her': 15, 'Some Guy Who Kills People': -30, 'Talladega Nights: The Ballad of Ricky Bobby': -15, 'Losin It': -15, 'The SpongeBob SquarePants Movie': -15, 'Journey to Saturn': 15, 'Detention of the Dead': -15, 'Night at the Museum: Battle of the Smithsonian': 45, 'Extract': -15, 'Your Highness': -15, 'Beavis and Butt-Head Do America': -15, 'Fast Times at Ridgemont High': -15, 'The Haunted Mansion': 115, 'The Golden Child': 15, 'Happily NEver After': 15, 'Krampus': 15, 'Johnny English': 15, 'The Ten': -15, 'Monkeybone': 45, 'Waitress': -15, 'Airplane!': -15, 'Surfs Up': -15, 'Drop Dead Gorgeous': -15, 'The Santa Clause 2': 15, 'Memoirs of an Invisible Man': 15, 'Recess: Schools Out': -15, 'Bad Company': 0, 'Everything You Always Wanted to Know About Sex *But Were Afraid to Ask': -15, 'O Brother, Where Art Thou?': 15, 'Jackass: The Movie': -15, 'Easy A': -15, 'From a Whisper to a Scream': -15, 'Ravenous': 0, 'The Last Dragon': 15, 'The Sitter': -15, 'Home Alone': -15, 'Bowfinger': -15, 'Dude, Where’s My Car?': -15, 'Love the Coopers': -15, 'The Lizzie McGuire Movie': -15, 'War, Inc.': 0, 'The Sound and the Shadow': -15, 'The Change-Up': -15, 'Zoom': 15, 'Chicken Run': -15, 'Dirty Grandpa': -15, 'Girls Gone Dead': -15, 'History of the World: Part I': -15, 'Over the Hedge': -15, 'Cloudy with a Chance of Meatballs': -15, 'Poultrygeist: Night of the Chicken Dead': -15, 'The Out-of-Towners': -15, 'Alfie': -15, 'Nothing to Lose': 15, 'Dumb and Dumber To': -15, 'Severance': -30, 'Doctor Dolittle': 15, 'Friday After Next': -15, 'Monsters, Inc.': -15, 'Sgt. Bilko': -15, 'Bicentennial Man': -15, 'Larry the Cable Guy: Health Inspector': -15, 'Adventureland': -15, 'A Million Ways to Die in the West': 15, 'College': -15, 'The Borrowers': 45, 'Ratatouille': 15, 'Scary Movie 5': -15, 'Good Boy!': -15, 'Not Cool': -15, 'Superbabies: Baby Geniuses 2': -15, 'Sanctuary: Quite a Conundrum': -30, 'Toy Story 3': -15, 'The Hangover': -15, 'Trading Places': -15, 'Clerks': -15, 'Diary of a Wimpy Kid: Rodrick Rules': -15, 'Chicken Little': -15, 'Looney Tunes: Back in Action': -15, 'She Done Him Wrong': -15, 'Ramona and Beezus': -15, 'Keeping the Faith': -15, 'Over Her Dead Body': -15, 'Ted 2': -15, 'Barnyard': -15, 'Cats & Dogs': -15, 'Dead Man on Campus': -15, 'Big Fat Liar': -15, 'Big Hero 6': 15, 'The Cat in the Hat': 15, 'The Lost Boys': -15, 'Around the World in 80 Days': 15, 'Little Nicholas': -15, 'Not Another Teen Movie': -15, 'Galaxina': -15, 'The Opposite Sex': -15, 'A Beginners Guide to Snuff': -30, 'Beer League': -15, 'Hansel and Gretel Get Baked': -15, 'Superstar': -15, 'Bring It On': -15, 'But Im a Cheerleader': -15, 'The Benchwarmers': -15, 'Welcome to Mooseport': -15, 'Love in the Time of Monsters': -15, 'Muppets from Space': 15, 'The Wedding Planner': -15, 'Casper': 15, 'Agent Cody Banks 2: Destination London': -15, 'Me, Myself & Irene': -15, 'Wild Hogs': 15, 'Semi-Pro': -15, 'Out Cold': -15, 'Waiting...': -15, 'Big Trouble in Little China': 45, 'Deadpool': 15, 'Creepshow': 15, 'Hotel for Dogs': -15, 'How High': -15, 'Slither': -15, 'The Extra Man': -15, 'Teeth': -15, 'The Brothers Grimm': 30, 'Psycho Beach Party': -15, 'Bubba Ho-tep': 15, 'Garfield: A Tail of Two Kitties': -15, 'Peeples': -15, 'The Bad News Bears': -15, 'Nanny McPhee': 15, 'The 41–Year–Old Virgin Who Knocked Up Sarah Marshall and Felt Superbad About It': -15, 'Lone Wolf McQuade': 45, 'The Forsaken': 15, 'The Monkey King 2': 60, 'Total Recall': 30, 'Jupiter Ascending': 60, 'The Legend of Hercules': 30, 'The Good, the Bad and the Ugly': 30, 'Raiders of the Lost Ark': 30, 'Conan the Barbarian': 60, 'Return of the Jedi': 30, 'Vertical Limit': 15, 'Pirates of the Caribbean: The Curse of the Black Pearl': 60, 'Independence Day': 30, '2012': 30, 'Mission: Impossible III': 15, 'The Scorpion King': 60, 'The Phantom': 30, '9': 15, 'The Core': 15, 'The Living Daylights': 15, 'Spider-Man 3': 60, 'Live and Let Die': 15, 'Star Trek: Generations': 15, 'Star Trek Into Darkness': 30, 'Mad Max Beyond Thunderdome': 30, 'Dragonball Evolution': 45, 'The Expendables 2': 15, 'Superman': 60, 'Serenity': 15, 'Transformers: Revenge of the Fallen': 30, 'The Avengers': 30, 'Mighty Joe Young': 60, 'Pat Garrett & Billy the Kid': 30, 'Superman IV: The Quest for Peace': 30, 'Predator': 15, 'The Last Witch Hunter': 60, 'Mad Max 2: The Road Warrior': 15, 'Once Upon a Time in the West': 30, 'The Fifth Element': 45, 'Spy Kids 2: The Island of Lost Dreams': 30, 'Mission: Impossible - Ghost Protocol': 15, 'Thor: The Dark World': 60, 'Six-String Samurai': 30, 'Never Say Never Again': 15, 'John Carter': 30, 'The Lost World: Jurassic Park': 30, 'Steel': 30, 'Transformers: Age of Extinction': 30, 'The Man with the Golden Gun': 15, 'Waterworld': 30, 'Star Trek: Nemesis': 15, 'Cutthroat Island': 30, 'Star Trek VI: The Undiscovered Country': 15, 'Conan the Destroyer': 60, 'Godzilla 2000': 30, 'Guardians of the Galaxy': 30, 'The Wolverine': 60, 'The Incredibles': 30, 'Anacondas: The Hunt for the Blood Orchid': 15, 'The Lord of the Rings: The Return of the King': 60, 'Hercules': 30, 'Skyfall': 15, 'Star Wars: Episode I - The Phantom Menace': 30, 'The World Is Not Enough': 15, 'Maximum Risk': 15, 'Underworld: Rise of the Lycans': 45, 'Ballistic: Ecks vs. Sever': 15, 'Cirque du Freak: The Vampires Assistant': 45, 'DOA: Dead or Alive': 15, 'The Crocodile Hunter: Collision Course': 30, 'Inception': 30, 'Pirates of the Caribbean: On Stranger Tides': 60, 'X-Men Origins: Wolverine': 15, 'The Shadow': 45, 'Pirates of the Caribbean: At Worlds End': 60, 'The Green Inferno': 15, 'Western Religion': 30, 'Street Fighter': 15, 'The Hunger Games: Mockingjay - Part 2': 30, 'Mission: Impossible': 15, 'From Russia with Love': 15, 'Resident Evil: Afterlife': 30, 'Tomorrow Never Dies': 15, 'Beowulf': 30, 'Spawn': 45, 'Mad Max': 15, 'Cliffhanger': 15, 'The Blood of Heroes': 30, 'The Matrix Revolutions': 15, 'Highlander': 60, 'Planet of the Apes': 15, 'X2': 15, 'Lara Croft: Tomb Raider': 45, 'U.F.O.': 30, 'Iron Man 2': 30, 'TRON: Legacy': 30, 'Hanna': 15, 'Indiana Jones and the Kingdom of the Crystal Skull': 30, 'Predators': 15, 'Star Trek Beyond': 30, 'Ant-Man': 30, 'The Expendables 3': 15, 'Blade: Trinity': 45, 'Clash of the Titans': 60, 'The Spy Who Loved Me': 15, 'BloodRayne': 60, 'The Expendables': 15, 'G.I. Joe: The Rise of Cobra': 15, 'Thunderball': 15, 'Goldfinger': 15, 'Commando': 15, 'Sorcerer': 15, 'Superman II': 60, 'Krull': 60, 'Transformers: Dark of the Moon': 30, 'Star Trek III: The Search for Spock': 15, 'Touching the Void': 30, 'Killer Elite': 15, 'Star Trek: First Contact': 15, 'Star Trek V: The Final Frontier': 15, 'Street Fighter: The Legend of Chun-Li': 15, 'Damnation Alley': 30, 'Final Fantasy: The Spirits Within': 45, 'Escape from L.A.': 15, 'Avengers: Age of Ultron': 30, 'The Lord of the Rings: The Two Towers': 60, 'Star Wars': 30, 'Open Range': 130, 'A Fistful of Dollars': 30, 'Mad Max: Fury Road': 15, 'Avatar': 60, 'Knock Off': 15, 'AVP: Alien vs. Predator': 30, 'Dungeons & Dragons: Wrath of the Dragon God': 60, 'The Lord of the Rings: The Fellowship of the Ring': 60, 'Warcraft': 60, 'Indiana Jones and the Temple of Doom': 30, 'The Day After Tomorrow': 15, 'Timeline': 30, 'The Forbidden Kingdom': 30, 'The Black Hole': 30, 'Race to Witch Mountain': 45, 'The Incredible Hulk': 30, 'GoldenEye': 15, 'Sky Captain and the World of Tomorrow': 30, 'Starship Troopers': 15, 'Star Wars: Clone Wars: Volume 1': 60, 'The Mummy: Tomb of the Dragon Emperor': 60, 'Dune': 30, 'Fantastic Four': 30, 'Paycheck': 30, 'Captain America: The First Avenger': 30, 'Enders Game': 30, 'Eragon': 60, 'Switchback': 30, 'The Hobbit: The Battle of the Five Armies': 60, 'The Long Riders': 30, 'Robin Hood': 30, 'The Three Musketeers': 15, 'Hang em High': 30, 'The Amazing Spider-Man 2': 60, 'Titan A.E.': 30, 'Doc Hollidays Revenge': 30, 'The Legend of Tarzan': 30, 'Pirates of the Caribbean: Dead Mans Chest': 60, 'The Matrix Reloaded': 15, 'The Legend of Zorro': 30, 'A Sound of Thunder': 15, 'Moonraker': 15, 'Chain of Command': 15, 'You Only Live Twice': 15, 'Armageddon': 15, 'Puss in Boots': 60, 'X-Men': 30, 'Oblivion': 15, 'X-Men: The Last Stand': 15, 'Stormbreaker': 30, 'Beastmaster 2: Through the Portal of Time': 60, 'Babylon A.D.': 15, 'Pacific Rim': 30, 'After Earth': -20, 'Lara Croft Tomb Raider: The Cradle of Life': 45, 'Captain America: The Winter Soldier': 30, 'Green Lantern': 15, 'Casino Royale': 15, 'Cotton Comes to Harlem': 30, 'Dantes Peak': 15, 'Duel in the Sun': 30, 'X-Men: First Class': 30, 'The Mummy Returns': 60, 'Jurassic World': 15, 'Star Trek: Insurrection': 15, 'Divergent': 30, 'The Rock': 15, 'Die Another Day': 15, 'Red River': 30, 'Mission: Impossible II': 15, 'The Last Airbender': 10, 'National Treasure': 30, 'Speed 2: Cruise Control': 15, 'Terminator Genisys': 15, 'Megaforce': 30, 'The Amazing Spider-Man': 60, 'Dr. No': 15, 'Indiana Jones and the Last Crusade': 30, 'Reign of Fire': 60, 'Catch That Kid': 30, 'Ong Bak 2': 15, 'Diamonds Are Forever': 15, 'Shalako': 30, 'Battleship': 15, 'Journey 2: The Mysterious Island': 30, 'A View to a Kill': 15, 'Deep Rising': 30, 'Star Trek': 30, 'Transformers': 30, 'Fantastic 4: Rise of the Silver Surfer': 45, 'Superman Returns': 60, 'Jurassic Park III': 15, 'xXx': 15, 'Red Sonja': 60, 'Star Wars: Episode III - Revenge of the Sith': 30, 'X-Men: Days of Future Past': 60, 'Man of Steel': 60, 'Daylight': 15, 'Pokémon: Spell of the Unknown': 60, 'Octopussy': 15, 'Falcon Rising': 30, 'The Man Who Shot Liberty Valance': 30, 'Independence Day: Resurgence': 30, 'High Noon': 30, 'On Her Majestys Secret Service': 15, 'For Your Eyes Only': 15, 'I Am Number Four': 15, 'The Island': 15, '3:10 to Yuma': 30, 'The Hobbit: An Unexpected Journey': 60, 'The Abyss': 15, 'The 13th Warrior': 60, 'The Covenant': 45, 'The Hunger Games: Catching Fire': 30, 'The Time Machine': 30, 'Star Wars: Episode II - Attack of the Clones': 30, 'The Ballad of Gregorio Cortez': 30, 'The Hunt for Red October': 15, 'Thor': 60, 'Spider-Man 2': 60, 'The Empire Strikes Back': 30, 'Doom': 30, 'Iron Man 3': 30, 'The Mask of Zorro': 30, 'Iron Man': 30, 'Mission: Impossible - Rogue Nation': 15, 'Licence to Kill': 15, 'Star Trek II: The Wrath of Khan': 15, 'Batman v Superman: Dawn of Justice': 60, 'G.I. Joe: Retaliation': 15, 'She Wore a Yellow Ribbon': 30, 'The Cave': 15, 'Captain America: Civil War': 30, 'A Nightmare on Elm Street 5: The Dream Child': -15, 'Straightheads': -15, 'House at the End of the Drive': -15, 'Our Kind of Traitor': -15, 'The Neon Demon': -15, 'Banshee Chapter': -15, 'The Lawnmower Man': -15, 'Supercapitalist': -15, '28 Days Later': -15, 'Area 51': -15, 'The Cell': -15, 'Firewall': -15, 'The Legend of Hells Gate: An American Conspiracy': 0, 'Bats': -15, 'The Witch': -15, 'Halloween 5: The Revenge of Michael Myers': -15, 'The Maids Room': -15, 'Twixt': -15, 'The In Crowd': -15, 'Survivor': -15, 'Halloween': -15, 'The Innkeepers': -15, 'The Lazarus Effect': -15, 'Halloween 4: The Return of Michael Myers': -15, 'Lifeforce': 15, 'A Nightmare on Elm Street 4: The Dream Master': -15, 'Thir13en Ghosts': -15, 'Darkness Falls': -15, 'Dracula 2000': -15, '[REC]': -15, 'Decoys': -15, 'Nurse 3-D': -15, 'Urban Legend': -15, 'Chain Letter': -15, 'Creature': -15, 'Train': -15, 'Final Destination 2': -15, 'Black Hawk Down': 30, 'Final Destination 5': -15, 'Dont Be Afraid of the Dark': 15, 'Stay Alive': -15, 'Money Monster': -15, '30 Days of Night': -15, 'Shark Night': -15, 'Paranormal Activity 2': -15, 'FearDotCom': -15, 'Jaws 2': -15, 'Red Lights': -15, 'The Faculty': -15, 'My Bloody Valentine': -15, 'Chocolate: Deep Dark Secrets': -15, 'The Blair Witch Project': -15, 'Anatomy': -15, 'The Omen': -15, 'Blackthorn': 0, 'Chernobyl Diaries': -15, 'Below Zero': -15, 'Project Almanac': -15, 'Backmask': -15, 'Childs Play': -15, 'The Lone Ranger': 0, 'Battlefield Earth': 30, 'Lake Mungo': -15, 'The Call of Cthulhu': 15, 'GirlHouse': -15, 'Friday the 13th: The Final Chapter': -15, 'The Frozen': -15, 'The Gallows': -15, 'Session 9': -15, 'The Lords of Salem': -15, 'Run, Hide, Die': -15, 'Jason Goes to Hell: The Final Friday': 15, 'Silent Hill': -15, 'Drag Me to Hell': -15, 'The Great Raid': 30, 'Plush': -15, 'Event Horizon': -15, 'Demonic': -15, 'Scream 3': -15, 'Containment': -15, '1408': -15, 'Lights Out': -15, 'The Happening': -65, 'The Possession': -15, 'Jeepers Creepers': -15, 'Silent House': -15, 'The Omega Code': -15, 'Insidious': -15, 'Halloween III: Season of the Witch': -15, '[REC]²': -15, 'The Conjuring': -15, 'Hayride': -15, 'Disturbing Behavior': -15, 'Exorcist II: The Heretic': 15, 'The Visit': -65, 'Out of the Dark': -15, 'Sublime': -15, 'Friday the 13th Part VIII: Jason Takes Manhattan': -15, 'Unfriended': -15, 'A Scanner Darkly': -15, 'Quarantine': -15, 'Wrong Turn': -15, 'It Follows': -15, 'The Final Destination': -15, 'Sunshine': -15, 'Red Eye': -15, 'The Wailing': -15, 'Red Riding Hood': 15, 'No Mans Land: The Rise of Reeker': -15, 'Scream 4': -15, 'We Were Soldiers': 30, 'Paranormal Activity: The Marked Ones': -15, 'Timber Falls': -15, 'Reindeer Games': -15, 'Saw VI': -15, 'The Boy Next Door': -15, 'Halloween: Resurrection': -15, 'The Cabin in the Woods': -15, 'The Torture Chamber of Dr. Sadism': -15, 'Black Christmas': -15, 'Friday the 13th Part 2': -15, 'All Superheroes Must Die': -15, 'Nomad: The Warrior': 30, 'The Apparition': -15, 'The Rage: Carrie 2': -15, 'Eden Lake': -15, 'Shark Lake': -15, 'Halloween: The Curse of Michael Myers': -15, 'The Purge: Anarchy': -15, 'Dark City': -15, 'Enter the Dangerous Mind': -15, 'Lion of the Desert': 30, 'The Forest': -15, 'The Mist': -15, 'Black Rock': -15, 'The Andromeda Strain': -15, 'The Hills Have Eyes': -15, 'The Dark Hours': -15, 'The Box': -15, 'A Most Wanted Man': -15, 'Friday the 13th Part III': -15, 'Assault on Precinct 13': -15, 'The Signal': -15, 'Friday the 13th: A New Beginning': -15, 'The Last Days on Mars': -15, 'Jeepers Creepers 2': -15, 'AWOL-72': -15, 'Apollo 18': -15, 'I, Frankenstein': -15, 'The Devil Inside': -15, 'April Fools Day': -15, 'The Vatican Exorcisms': -15, 'The Butterfly Effect': -15, 'Cry_Wolf': -15, 'Dont Say a Word': -15, 'Poltergeist III': -15, 'Supernova': -15, 'Timecrimes': -15, 'The House of the Devil': -15, 'Snow White: A Deadly Summer': -15, 'Sleep Tight': -15, 'Final Destination 3': -15, 'Gothika': -15, 'They': -15, 'City of Ghosts': -15, 'Pulse': -15, 'An American Haunting': -15, 'The Purge': -15, 'Insidious: Chapter 2': -15, 'Lost Souls': -15, 'Lady in White': -15, 'The Thing': -15, 'The Awakening': -15, 'When a Stranger Calls': -15, 'The Invasion': -15, 'A Nightmare on Elm Street 3: Dream Warriors': -15, 'As Above, So Below': -15, 'Valentine': -15, 'The Calling': -15, 'Pontypool': -15, '28 Weeks Later': -15, 'The Shining': -15, 'Texas Chainsaw 3D': -15, 'One Hour Photo': -15, 'Paranormal Activity': -15, 'Thinner': -15, 'House at the End of the Street': -15, 'Friday the 13th Part VII: The New Blood': -15, 'Hard Rain': -15, 'The Vatican Tapes': -15, 'WarGames': -15, 'The Grudge 2': -15, 'The Last Exorcism Part II': -15, 'Two Evil Eyes': -15, 'Videodrome': -15, 'Splice': -15, 'The Hills Have Eyes 2': -15, 'The Dead Zone': -15, 'Soldier': 30, 'The Prophecy': 15, 'Scream 2': -15, 'Grave Encounters': -15, 'Automata': -15, 'Cavite': -15, '300: Rise of an Empire': 30, 'The Collection': -15, 'Act of Valor': 15, 'Born Of War': 15, 'The Warriors Way': 15, 'The Island of Dr. Moreau': 30, 'Where the Wild Things Are': 30, 'Wolf': 30, 'DragonHeart': 30, 'The Adventures of Pinocchio': 30, 'The Secret of Kells': 30, 'Gods of Egypt': 30, 'Dragonslayer': 30, 'New Nightmare': 30, 'Steamboy': 30, 'Digimon: The Movie': 30, 'Snow White: A Tale of Terror': 30, 'Snow White and the Seven Dwarfs': 30, 'Willy Wonka & the Chocolate Factory': 30, 'Rise of the Guardians': 30, 'The Snow Queen': 30, 'Alice Through the Looking Glass': 30, 'Troll Hunter': 30, 'Warlock: The Armageddon': 30, 'Beyond the Black Rainbow': 30, 'Mirrormask': 30, 'Cirque du Soleil: Worlds Away': 30, 'Escape from Tomorrow': 30, 'The Haunting': 30}\n",
            "{'precision': 0.4166666666666667, 'recall': 0.3472222222222222, 'f1': 0.37878787878787884}\n"
          ],
          "name": "stdout"
        },
        {
          "output_type": "execute_result",
          "data": {
            "text/plain": [
              "['/gdrive/My Drive/tn2/movie_score.pkl']"
            ]
          },
          "metadata": {
            "tags": []
          },
          "execution_count": 2
        }
      ]
    },
    {
      "cell_type": "code",
      "metadata": {
        "id": "xCNY4yFN4rUe",
        "colab": {
          "base_uri": "https://localhost:8080/",
          "height": 285,
          "referenced_widgets": [
            "f59945f04d5f46a2945e625c314fc46e",
            "8c57c31a3db0444689f8cdd170d4ad2e",
            "6774fe8b96cf41188a62527bb0e7802b",
            "950782ef5d654717b5279b5656a14584",
            "f6774c7ea453491cabd312fc9948cdd9",
            "b3b8c4ac87d648cb9ff98031d2ff8d9d",
            "bbc6f84a3c1345c2b1e160f8f13d3723",
            "6703f7eee4f246a8b5bc81381435c629"
          ]
        },
        "outputId": "30b171b0-a910-40c1-bafe-1fe9ae65522f"
      },
      "source": [
        "my_object = joblib.load(path + 'movie_score.pkl')\n",
        "\n",
        "movie_score = train_recommender(train_ratings, rating_weights, similarity_weights, 10, 20, movie_score= my_object)\n",
        "real, pred = predict_example(test_ratings, movie_score)\n",
        "print (get_metrics(real, pred))\n",
        "\n",
        "joblib.dump(movie_score, path + 'movie_score_10_20.pkl', compress = True)"
      ],
      "execution_count": null,
      "outputs": [
        {
          "output_type": "display_data",
          "data": {
            "application/vnd.jupyter.widget-view+json": {
              "model_id": "f59945f04d5f46a2945e625c314fc46e",
              "version_minor": 0,
              "version_major": 2
            },
            "text/plain": [
              "HBox(children=(FloatProgress(value=1.0, bar_style='info', max=1.0), HTML(value='')))"
            ]
          },
          "metadata": {
            "tags": []
          }
        },
        {
          "output_type": "stream",
          "text": [
            "rating: 2.5 , movie: Transformers: Revenge of the Fallen\n",
            "rating: 3.0 , movie: Mr. Beans Holiday\n",
            "rating: 4.5 , movie: Match Point\n",
            "rating: 4.5 , movie: The Island\n",
            "rating: 4.5 , movie: Team America: World Police\n",
            "rating: 2.0 , movie: Dragonslayer\n",
            "rating: 3.5 , movie: Somethings Gotta Give\n",
            "rating: 1.0 , movie: Rocky Balboa\n",
            "rating: 3.5 , movie: X-Men Origins: Wolverine\n",
            "rating: 4.0 , movie: Cinderella Man\n",
            "\n",
            "{'precision': 0.44776119402985076, 'recall': 0.4166666666666667, 'f1': 0.43165467625899284}\n"
          ],
          "name": "stdout"
        },
        {
          "output_type": "execute_result",
          "data": {
            "text/plain": [
              "['/gdrive/My Drive/tn2/movie_score_10_20.pkl']"
            ]
          },
          "metadata": {
            "tags": []
          },
          "execution_count": 3
        }
      ]
    },
    {
      "cell_type": "code",
      "metadata": {
        "colab": {
          "base_uri": "https://localhost:8080/",
          "height": 285,
          "referenced_widgets": [
            "17ce11d7a5df441791ff6496cdd77822",
            "49420b278c7f48d788a8bf6a9463c005",
            "d4290e65ebf14e9bbf841550301fc050",
            "461dc714ba9a481fbf3835d3e484e389",
            "198fe71625a14356b9005d641b49d53b",
            "f1b7335e79ef49eabf390e77f3d401a1",
            "f48ffd69e8e14b52bdec045b3490232a",
            "1691ecee6e7e42f1bbec3ce6f46f8e09"
          ]
        },
        "id": "c3mYQ9Hr930M",
        "outputId": "41f74959-905d-45db-e262-b3d932b656e9"
      },
      "source": [
        "my_object = joblib.load(path + 'movie_score_10_20.pkl')\n",
        "\n",
        "movie_score = train_recommender(train_ratings, rating_weights, similarity_weights, 20, 30, movie_score = my_object)\n",
        "real, pred = predict_example(test_ratings, movie_score)\n",
        "print (get_metrics(real, pred))\n",
        "\n",
        "joblib.dump(movie_score, path + 'movie_score_20_30.pkl', compress = True)"
      ],
      "execution_count": null,
      "outputs": [
        {
          "output_type": "display_data",
          "data": {
            "application/vnd.jupyter.widget-view+json": {
              "model_id": "17ce11d7a5df441791ff6496cdd77822",
              "version_minor": 0,
              "version_major": 2
            },
            "text/plain": [
              "HBox(children=(FloatProgress(value=1.0, bar_style='info', max=1.0), HTML(value='')))"
            ]
          },
          "metadata": {
            "tags": []
          }
        },
        {
          "output_type": "stream",
          "text": [
            "rating: 3.0 , movie: Army of Darkness\n",
            "rating: 2.0 , movie: Notes on a Scandal\n",
            "rating: 2.0 , movie: My Super Ex-Girlfriend\n",
            "rating: 4.0 , movie: Superman\n",
            "rating: 3.0 , movie: Jekyll and Hyde ... Together Again\n",
            "rating: 3.0 , movie: Psycho\n",
            "rating: 4.5 , movie: Confessions of a Dangerous Mind\n",
            "rating: 3.0 , movie: Lawrence of Arabia\n",
            "rating: 3.0 , movie: The Curse of the Jade Scorpion\n",
            "rating: 2.0 , movie: Payback\n",
            "\n",
            "{'precision': 0.4074074074074074, 'recall': 0.3055555555555556, 'f1': 0.3492063492063492}\n"
          ],
          "name": "stdout"
        },
        {
          "output_type": "execute_result",
          "data": {
            "text/plain": [
              "['/gdrive/My Drive/tn2/movie_score_20_30.pkl']"
            ]
          },
          "metadata": {
            "tags": []
          },
          "execution_count": 3
        }
      ]
    },
    {
      "cell_type": "code",
      "metadata": {
        "colab": {
          "base_uri": "https://localhost:8080/",
          "height": 285,
          "referenced_widgets": [
            "c0a6a04eecbc4f97b9e1088d72052521",
            "e262f16e04c44707933f34b03b0cd057",
            "60c99a3ad75b44b39d722298d7387bd4",
            "05a50a499dc04d038f4f68e8f0369143",
            "e909a6ba9a20445d9d68ab28ea129dd6",
            "ad4f33bf5b1c4beca1783efe838b713e",
            "784ba9e5940a49f8923bb9c48ebc4c39",
            "64162edfb51f41ce93aee05094227413"
          ]
        },
        "id": "_aD79TZ298no",
        "outputId": "25272183-9a9f-4056-836f-02112ea745e6"
      },
      "source": [
        "my_object = joblib.load(path + 'movie_score_20_30.pkl')\n",
        "\n",
        "movie_score = train_recommender(train_ratings, rating_weights, similarity_weights, 30, 40)\n",
        "real, pred = predict_example(test_ratings, movie_score)\n",
        "print (get_metrics(real, pred))\n",
        "\n",
        "joblib.dump(movie_score, path + 'movie_score_30_40.pkl', compress = True)"
      ],
      "execution_count": null,
      "outputs": [
        {
          "output_type": "display_data",
          "data": {
            "application/vnd.jupyter.widget-view+json": {
              "model_id": "c0a6a04eecbc4f97b9e1088d72052521",
              "version_minor": 0,
              "version_major": 2
            },
            "text/plain": [
              "HBox(children=(FloatProgress(value=1.0, bar_style='info', max=1.0), HTML(value='')))"
            ]
          },
          "metadata": {
            "tags": []
          }
        },
        {
          "output_type": "stream",
          "text": [
            "rating: 5.0 , movie: Hannibal Rising\n",
            "rating: 5.0 , movie: Amélie\n",
            "rating: 4.0 , movie: Deconstructing Harry\n",
            "rating: 4.0 , movie: The French Connection\n",
            "rating: 3.5 , movie: Alvin and the Chipmunks\n",
            "rating: 4.0 , movie: Harry Potter and the Philosophers Stone\n",
            "rating: 3.0 , movie: Spellbound\n",
            "rating: 3.0 , movie: Friends with Money\n",
            "rating: 1.0 , movie: 54\n",
            "rating: 5.0 , movie: Terminator 3: Rise of the Machines\n",
            "\n",
            "{'precision': 0.5327868852459017, 'recall': 0.9027777777777778, 'f1': 0.6701030927835052}\n"
          ],
          "name": "stdout"
        },
        {
          "output_type": "execute_result",
          "data": {
            "text/plain": [
              "['/gdrive/My Drive/tn2/movie_score_30_40.pkl']"
            ]
          },
          "metadata": {
            "tags": []
          },
          "execution_count": 5
        }
      ]
    },
    {
      "cell_type": "code",
      "metadata": {
        "colab": {
          "base_uri": "https://localhost:8080/",
          "height": 285,
          "referenced_widgets": [
            "662bce02f09d448eb4301ba44adf1385",
            "e9b31ef105544e1eb1313709512ac707",
            "77dbaccc80c84c7c845018547d11a62a",
            "2a0e02b7e7834415876a6b915d0f0297",
            "0e9bce852dea4d5f9cbbe31e7e47ab5d",
            "723d9f35d4cc499a81dd58910e38d2e6",
            "2a322e696dbd4c49a2e8e87898a73d5f",
            "9ae28585409e4e8aa85e4f1aa70a6a5d"
          ]
        },
        "id": "UTZ41v9O-IFE",
        "outputId": "e3e737f1-25a8-4f99-c6b6-553da577e6fb"
      },
      "source": [
        "val = 40\n",
        "my_object = joblib.load(path + 'movie_score_'+str(val-10)+'_'+str(val)+'.pkl')\n",
        "\n",
        "movie_score = train_recommender(train_ratings, rating_weights, similarity_weights, val, val+10, movie_score= my_object)\n",
        "real, pred = predict_example(test_ratings, movie_score)\n",
        "print (get_metrics(real, pred))\n",
        "\n",
        "joblib.dump(movie_score, path + 'movie_score_'+str(val)+'_'+str(val+10)+'.pkl', compress = True)"
      ],
      "execution_count": null,
      "outputs": [
        {
          "output_type": "display_data",
          "data": {
            "application/vnd.jupyter.widget-view+json": {
              "model_id": "662bce02f09d448eb4301ba44adf1385",
              "version_minor": 0,
              "version_major": 2
            },
            "text/plain": [
              "HBox(children=(FloatProgress(value=1.0, bar_style='info', max=1.0), HTML(value='')))"
            ]
          },
          "metadata": {
            "tags": []
          }
        },
        {
          "output_type": "stream",
          "text": [
            "rating: 2.0 , movie: About Schmidt\n",
            "rating: 5.0 , movie: Solaris\n",
            "rating: 5.0 , movie: Madagascar\n",
            "rating: 3.5 , movie: Open Season\n",
            "rating: 4.0 , movie: Flash Gordon\n",
            "rating: 4.0 , movie: Interview with the Vampire\n",
            "rating: 4.0 , movie: Dear Frankie\n",
            "rating: 2.5 , movie: Freddy vs. Jason\n",
            "rating: 3.0 , movie: Bill & Teds Bogus Journey\n",
            "rating: 5.0 , movie: Escape from New York\n",
            "\n",
            "{'precision': 0.5112781954887218, 'recall': 0.9444444444444444, 'f1': 0.6634146341463415}\n"
          ],
          "name": "stdout"
        },
        {
          "output_type": "execute_result",
          "data": {
            "text/plain": [
              "['/gdrive/My Drive/tn2/movie_score_40_50.pkl']"
            ]
          },
          "metadata": {
            "tags": []
          },
          "execution_count": 6
        }
      ]
    },
    {
      "cell_type": "code",
      "metadata": {
        "colab": {
          "base_uri": "https://localhost:8080/",
          "height": 285,
          "referenced_widgets": [
            "314ac337a5f74201ae88fefd374875ca",
            "644dd45302c64c5d88925c5c7449d808",
            "0081f3387a794f0986a4bd40a938e347",
            "8419a67229ad446a966363fed6f44ef5",
            "87d91158d18f405e8cf5e4d74513b7ac",
            "70f17599eece42a1a37cb0b338ee269b",
            "5cde77b6c80849c0b3e471ce1f6af022",
            "034a7f0e408e40ff82a6b23cb125774f"
          ]
        },
        "id": "dMM9zFBC-oQa",
        "outputId": "b258177c-4f03-41da-e090-3b166b248d80"
      },
      "source": [
        "val = 50\n",
        "my_object = joblib.load(path + 'movie_score_'+str(val-10)+'_'+str(val)+'.pkl')\n",
        "\n",
        "movie_score = train_recommender(train_ratings, rating_weights, similarity_weights, val, val+10, movie_score= my_object)\n",
        "real, pred = predict_example(test_ratings, movie_score)\n",
        "print (get_metrics(real, pred))\n",
        "\n",
        "joblib.dump(movie_score, path + 'movie_score_'+str(val)+'_'+str(val+10)+'.pkl', compress = True)"
      ],
      "execution_count": null,
      "outputs": [
        {
          "output_type": "display_data",
          "data": {
            "application/vnd.jupyter.widget-view+json": {
              "model_id": "314ac337a5f74201ae88fefd374875ca",
              "version_minor": 0,
              "version_major": 2
            },
            "text/plain": [
              "HBox(children=(FloatProgress(value=1.0, bar_style='info', max=1.0), HTML(value='')))"
            ]
          },
          "metadata": {
            "tags": []
          }
        },
        {
          "output_type": "stream",
          "text": [
            "rating: 3.0 , movie: Lions for Lambs\n",
            "rating: 3.0 , movie: Seven Samurai\n",
            "rating: 4.0 , movie: Shopgirl\n",
            "rating: 2.5 , movie: Maurice\n",
            "rating: 4.0 , movie: The Legend of Suriyothai\n",
            "rating: 2.0 , movie: Being John Malkovich\n",
            "rating: 5.0 , movie: A Woman, a Gun and a Noodle Shop\n",
            "rating: 4.5 , movie: The Karate Kid\n",
            "rating: 1.5 , movie: Mean Streets\n",
            "rating: 3.5 , movie: Titanic\n",
            "\n",
            "{'precision': 0.5112781954887218, 'recall': 0.9444444444444444, 'f1': 0.6634146341463415}\n"
          ],
          "name": "stdout"
        },
        {
          "output_type": "execute_result",
          "data": {
            "text/plain": [
              "['/gdrive/My Drive/tn2/movie_score_50_60.pkl']"
            ]
          },
          "metadata": {
            "tags": []
          },
          "execution_count": 7
        }
      ]
    },
    {
      "cell_type": "code",
      "metadata": {
        "colab": {
          "base_uri": "https://localhost:8080/",
          "height": 267,
          "referenced_widgets": [
            "2b0ca5126dab436eb704b6a4d893862e",
            "87cde21fabd14096b817ee56c768a08e",
            "ed0e7d19906b4299b732405f42061e21",
            "8bd6db0d47064a7e83c2bc35c47a1703",
            "46dc43ae82e2466188683fc92d32fb27",
            "f7930afd597345a0a917f4f70e052eaa",
            "e30eaf1461484ad687ad05eaa7d406b6",
            "8f9a3dbb23d44a24b0e35fb894264c75"
          ]
        },
        "id": "lcRt9Mr5-pio",
        "outputId": "c93c3518-8e48-4a8b-97a9-32e41ccae576"
      },
      "source": [
        "val = 60\n",
        "my_object = joblib.load(path + 'movie_score_'+str(val-10)+'_'+str(val)+'.pkl')\n",
        "\n",
        "movie_score = train_recommender(train_ratings, rating_weights, similarity_weights, val, val+9, movie_score= my_object)\n",
        "real, pred = predict_example(test_ratings, movie_score)\n",
        "print (get_metrics(real, pred))\n",
        "\n",
        "joblib.dump(movie_score, path + 'movie_score_'+str(val)+'_'+str(val+9)+'.pkl', compress = True)"
      ],
      "execution_count": null,
      "outputs": [
        {
          "output_type": "display_data",
          "data": {
            "application/vnd.jupyter.widget-view+json": {
              "model_id": "2b0ca5126dab436eb704b6a4d893862e",
              "version_minor": 0,
              "version_major": 2
            },
            "text/plain": [
              "HBox(children=(FloatProgress(value=1.0, bar_style='info', max=1.0), HTML(value='')))"
            ]
          },
          "metadata": {
            "tags": []
          }
        },
        {
          "output_type": "stream",
          "text": [
            "rating: 3.0 , movie: Manderlay\n",
            "rating: 3.0 , movie: Raiders of the Lost Ark\n",
            "rating: 4.0 , movie: Highlander: The Final Dimension\n",
            "rating: 4.0 , movie: This Is 40\n",
            "rating: 2.0 , movie: Wasabi\n",
            "rating: 4.0 , movie: Pandoras Box\n",
            "rating: 4.0 , movie: Barry Lyndon\n",
            "rating: 0.5 , movie: Rebecca\n",
            "rating: 3.5 , movie: To Kill a Mockingbird\n",
            "\n",
            "{'precision': 0.5, 'recall': 0.8194444444444444, 'f1': 0.6210526315789474}\n"
          ],
          "name": "stdout"
        },
        {
          "output_type": "execute_result",
          "data": {
            "text/plain": [
              "['/gdrive/My Drive/tn2/movie_score_60_69.pkl']"
            ]
          },
          "metadata": {
            "tags": []
          },
          "execution_count": 8
        }
      ]
    },
    {
      "cell_type": "code",
      "metadata": {
        "colab": {
          "base_uri": "https://localhost:8080/",
          "height": 285,
          "referenced_widgets": [
            "5511f62ffbcb45e58d072072b38b90e6",
            "8ed2eb4562994e85ae5a29d669f433b3",
            "1f5baf46331841f59a8064f344e666e4",
            "d748901c7f33482e9ea578b274601dcb",
            "feab2b243e7d4972848bede8a9b47563",
            "dc31db5551db4fbca99f645ab03e1801",
            "cba26d8d48e94977a8160fa82d995802",
            "17fb94c5853e45fb81bbde57bcebf437"
          ]
        },
        "id": "5H6HAPDh-q83",
        "outputId": "afb01c46-0433-4000-8fa5-815d82108bf2"
      },
      "source": [
        "val = 70\n",
        "my_object = joblib.load(path + 'movie_score_'+str(val-10)+'_'+str(val-1)+'.pkl')\n",
        "\n",
        "movie_score = train_recommender(train_ratings, rating_weights, similarity_weights, val, val+10, movie_score= my_object)\n",
        "real, pred = predict_example(test_ratings, movie_score)\n",
        "print (get_metrics(real, pred))\n",
        "\n",
        "joblib.dump(movie_score, path + 'movie_score_'+str(val)+'_'+str(val+10)+'.pkl', compress = True)"
      ],
      "execution_count": null,
      "outputs": [
        {
          "output_type": "display_data",
          "data": {
            "application/vnd.jupyter.widget-view+json": {
              "model_id": "5511f62ffbcb45e58d072072b38b90e6",
              "version_minor": 0,
              "version_major": 2
            },
            "text/plain": [
              "HBox(children=(FloatProgress(value=1.0, bar_style='info', max=1.0), HTML(value='')))"
            ]
          },
          "metadata": {
            "tags": []
          }
        },
        {
          "output_type": "stream",
          "text": [
            "rating: 5.0 , movie: Space Jam\n",
            "rating: 3.5 , movie: License to Wed\n",
            "rating: 2.5 , movie: My Best Friends Wedding\n",
            "rating: 5.0 , movie: The Talented Mr. Ripley\n",
            "rating: 4.0 , movie: Shine a Light\n",
            "rating: 1.0 , movie: Alexander\n",
            "rating: 1.0 , movie: Under Siege 2: Dark Territory\n",
            "rating: 4.5 , movie: U-571\n",
            "rating: 3.0 , movie: Kindergarten Cop\n",
            "rating: 4.0 , movie: The Transporter\n",
            "\n",
            "{'precision': 0.5307692307692308, 'recall': 0.9583333333333334, 'f1': 0.6831683168316831}\n"
          ],
          "name": "stdout"
        },
        {
          "output_type": "execute_result",
          "data": {
            "text/plain": [
              "['/gdrive/My Drive/tn2/movie_score_70_80.pkl']"
            ]
          },
          "metadata": {
            "tags": []
          },
          "execution_count": 9
        }
      ]
    },
    {
      "cell_type": "code",
      "metadata": {
        "colab": {
          "base_uri": "https://localhost:8080/",
          "height": 285,
          "referenced_widgets": [
            "9c6a3ce7fbc24694b3fd7055d975c7d4",
            "1959ad10858d42f0a74ea7e59e4675d0",
            "6f5434e2b9f04215814da17445cbfdf4",
            "d8d74c22b204421fa4e0d5e0ed083dd6",
            "aa44ec2bfc874311be191e40d62cd578",
            "49d2da5741c3471aa3ac327703847a17",
            "dc032d37b4124435820a28a6b93e031d",
            "897db59a88b94f9cb694ef91d8061469"
          ]
        },
        "id": "w05X1Ox3-rzH",
        "outputId": "3de8c60a-e7c4-4742-e2d7-7d9d1ef58986"
      },
      "source": [
        "val = 80\n",
        "my_object = joblib.load(path + 'movie_score_'+str(val-10)+'_'+str(val)+'.pkl')\n",
        "\n",
        "movie_score = train_recommender(train_ratings, rating_weights, similarity_weights, val, val+10, movie_score= my_object)\n",
        "real, pred = predict_example(test_ratings, movie_score)\n",
        "print (get_metrics(real, pred))\n",
        "\n",
        "joblib.dump(movie_score, path + 'movie_score_'+str(val)+'_'+str(val+10)+'.pkl', compress = True)"
      ],
      "execution_count": null,
      "outputs": [
        {
          "output_type": "display_data",
          "data": {
            "application/vnd.jupyter.widget-view+json": {
              "model_id": "9c6a3ce7fbc24694b3fd7055d975c7d4",
              "version_minor": 0,
              "version_major": 2
            },
            "text/plain": [
              "HBox(children=(FloatProgress(value=1.0, bar_style='info', max=1.0), HTML(value='')))"
            ]
          },
          "metadata": {
            "tags": []
          }
        },
        {
          "output_type": "stream",
          "text": [
            "rating: 0.5 , movie: Live and Let Die\n",
            "rating: 0.5 , movie: Amadeus\n",
            "rating: 1.5 , movie: The Butterfly Effect\n",
            "rating: 2.0 , movie: The Last Emperor\n",
            "rating: 3.5 , movie: In Time\n",
            "rating: 2.5 , movie: Rosemarys Baby\n",
            "rating: 4.5 , movie: Mission: Impossible\n",
            "rating: 3.0 , movie: Flashdance\n",
            "rating: 3.0 , movie: Wag the Dog\n",
            "rating: 5.0 , movie: The First Wives Club\n",
            "\n",
            "{'precision': 0.527027027027027, 'recall': 0.5416666666666666, 'f1': 0.5342465753424657}\n"
          ],
          "name": "stdout"
        },
        {
          "output_type": "execute_result",
          "data": {
            "text/plain": [
              "['/gdrive/My Drive/tn2/movie_score_80_90.pkl']"
            ]
          },
          "metadata": {
            "tags": []
          },
          "execution_count": 10
        }
      ]
    },
    {
      "cell_type": "code",
      "metadata": {
        "colab": {
          "base_uri": "https://localhost:8080/",
          "height": 285,
          "referenced_widgets": [
            "ee08ddbd0f2849518c9fa76d08c0fb2d",
            "d8b81ff4cde2417ba398a2cb39ea4c8f",
            "4c84701cba094671b41655449229169a",
            "521a060b8f814c26babb6b20df310765",
            "7dad7c907725481fa4db4654d8e2169d",
            "7dae85a1391a4db4af9848d4f2724edd",
            "c6548bf34db342e592dd970d2d4305e3",
            "90e311b6b8d74fc1888a6d6f9ac4ec4e"
          ]
        },
        "id": "9BGjTRM6-s5H",
        "outputId": "1f709a07-89b3-4674-9b88-226d060825e9"
      },
      "source": [
        "val = 90\n",
        "my_object = joblib.load(path + 'movie_score_'+str(val-10)+'_'+str(val)+'.pkl')\n",
        "\n",
        "movie_score = train_recommender(train_ratings, rating_weights, similarity_weights, val, val+10, movie_score= my_object)\n",
        "real, pred = predict_example(test_ratings, movie_score)\n",
        "print (get_metrics(real, pred))\n",
        "\n",
        "joblib.dump(movie_score, path + 'movie_score_'+str(val)+'_'+str(val+10)+'.pkl', compress = True)"
      ],
      "execution_count": null,
      "outputs": [
        {
          "output_type": "display_data",
          "data": {
            "application/vnd.jupyter.widget-view+json": {
              "model_id": "ee08ddbd0f2849518c9fa76d08c0fb2d",
              "version_minor": 0,
              "version_major": 2
            },
            "text/plain": [
              "HBox(children=(FloatProgress(value=1.0, bar_style='info', max=1.0), HTML(value='')))"
            ]
          },
          "metadata": {
            "tags": []
          }
        },
        {
          "output_type": "stream",
          "text": [
            "rating: 4.5 , movie: Charlie Wilsons War\n",
            "rating: 2.5 , movie: Along Came Polly\n",
            "rating: 5.0 , movie: The Wedding Planner\n",
            "rating: 5.0 , movie: Mission to Mars\n",
            "rating: 4.0 , movie: The Kite Runner\n",
            "rating: 3.5 , movie: Aliens vs Predator: Requiem\n",
            "rating: 2.5 , movie: Romeo + Juliet\n",
            "rating: 3.5 , movie: Star Trek: Generations\n",
            "rating: 4.0 , movie: Rambo III\n",
            "rating: 3.0 , movie: Gothika\n",
            "\n",
            "{'precision': 0.5113636363636364, 'recall': 0.625, 'f1': 0.5625}\n"
          ],
          "name": "stdout"
        },
        {
          "output_type": "execute_result",
          "data": {
            "text/plain": [
              "['/gdrive/My Drive/tn2/movie_score_90_100.pkl']"
            ]
          },
          "metadata": {
            "tags": []
          },
          "execution_count": 11
        }
      ]
    },
    {
      "cell_type": "markdown",
      "metadata": {
        "id": "q6FcDWus0sDs"
      },
      "source": [
        "### Εκπαίδευση στο σύνολο των δεδομένων"
      ]
    },
    {
      "cell_type": "markdown",
      "metadata": {
        "id": "oLE5UAQP1gld"
      },
      "source": [
        "Εκπαιδεύουμε το μοντέλο με training data όλες τις ταινίες."
      ]
    },
    {
      "cell_type": "code",
      "metadata": {
        "colab": {
          "base_uri": "https://localhost:8080/",
          "height": 1000,
          "referenced_widgets": [
            "1df09298192d43e0b04d24843efee370",
            "ae2f091d1b19462781757d9cc766215c",
            "1107d96fa2664eccb36ec2c342bbe1f5",
            "4700388ae2374cb6a05ed991dbd1e26b",
            "2ba214b3837445fc8ee0d2adf54b27c8",
            "80f744c495964698b9ed14e754146d3f",
            "d8d77fa08e874a649b264fb3c0510417",
            "e38abd543a29421588676bb60c9853a9"
          ]
        },
        "id": "fAiDCRj50Ak1",
        "outputId": "0de3ff9f-0581-49d2-96ae-bd7237679910"
      },
      "source": [
        "movie_score = train_recommender(train_ratings, rating_weights, similarity_weights)\r\n",
        "real, pred = predict_example(test_ratings, movie_score)\r\n",
        "print (get_metrics(real, pred))\r\n"
      ],
      "execution_count": null,
      "outputs": [
        {
          "output_type": "display_data",
          "data": {
            "application/vnd.jupyter.widget-view+json": {
              "model_id": "1df09298192d43e0b04d24843efee370",
              "version_minor": 0,
              "version_major": 2
            },
            "text/plain": [
              "HBox(children=(FloatProgress(value=1.0, bar_style='info', max=1.0), HTML(value='')))"
            ]
          },
          "metadata": {
            "tags": []
          }
        },
        {
          "output_type": "stream",
          "text": [
            "rating: 4.0 , movie: Stand by Me\n",
            "rating: 5.0 , movie: Letters from Iwo Jima\n",
            "rating: 0.5 , movie: Y Tu Mamá También\n",
            "rating: 2.0 , movie: Moulin Rouge!\n",
            "rating: 4.0 , movie: Horrible Bosses\n",
            "rating: 5.0 , movie: Dances with Wolves\n",
            "rating: 3.5 , movie: Along Came a Spider\n",
            "rating: 2.0 , movie: The Sixth Sense\n",
            "rating: 5.0 , movie: The Forbidden Kingdom\n",
            "rating: 1.0 , movie: Notting Hill\n",
            "rating: 2.5 , movie: Transformers: Revenge of the Fallen\n",
            "rating: 3.0 , movie: Mr. Beans Holiday\n",
            "rating: 4.5 , movie: Match Point\n",
            "rating: 4.5 , movie: The Island\n",
            "rating: 4.5 , movie: Team America: World Police\n",
            "rating: 2.0 , movie: Dragonslayer\n",
            "rating: 3.5 , movie: Somethings Gotta Give\n",
            "rating: 1.0 , movie: Rocky Balboa\n",
            "rating: 3.5 , movie: X-Men Origins: Wolverine\n",
            "rating: 4.0 , movie: Cinderella Man\n",
            "rating: 3.0 , movie: Army of Darkness\n",
            "rating: 2.0 , movie: Notes on a Scandal\n",
            "rating: 2.0 , movie: My Super Ex-Girlfriend\n",
            "rating: 4.0 , movie: Superman\n",
            "rating: 3.0 , movie: Jekyll and Hyde ... Together Again\n",
            "rating: 3.0 , movie: Psycho\n",
            "rating: 4.5 , movie: Confessions of a Dangerous Mind\n",
            "rating: 3.0 , movie: Lawrence of Arabia\n",
            "rating: 3.0 , movie: The Curse of the Jade Scorpion\n",
            "rating: 2.0 , movie: Payback\n",
            "rating: 5.0 , movie: Hannibal Rising\n",
            "rating: 5.0 , movie: Amélie\n",
            "rating: 4.0 , movie: Deconstructing Harry\n",
            "rating: 4.0 , movie: The French Connection\n",
            "rating: 3.5 , movie: Alvin and the Chipmunks\n",
            "rating: 4.0 , movie: Harry Potter and the Philosophers Stone\n",
            "rating: 3.0 , movie: Spellbound\n",
            "rating: 3.0 , movie: Friends with Money\n",
            "rating: 1.0 , movie: 54\n",
            "rating: 5.0 , movie: Terminator 3: Rise of the Machines\n",
            "rating: 2.0 , movie: About Schmidt\n",
            "rating: 5.0 , movie: Solaris\n",
            "rating: 5.0 , movie: Madagascar\n",
            "rating: 3.5 , movie: Open Season\n",
            "rating: 4.0 , movie: Flash Gordon\n",
            "rating: 4.0 , movie: Interview with the Vampire\n",
            "rating: 4.0 , movie: Dear Frankie\n",
            "rating: 2.5 , movie: Freddy vs. Jason\n",
            "rating: 3.0 , movie: Bill & Teds Bogus Journey\n",
            "rating: 5.0 , movie: Escape from New York\n",
            "rating: 3.0 , movie: Lions for Lambs\n",
            "rating: 3.0 , movie: Seven Samurai\n",
            "rating: 4.0 , movie: Shopgirl\n",
            "rating: 2.5 , movie: Maurice\n",
            "rating: 4.0 , movie: The Legend of Suriyothai\n",
            "rating: 2.0 , movie: Being John Malkovich\n",
            "rating: 5.0 , movie: A Woman, a Gun and a Noodle Shop\n",
            "rating: 4.5 , movie: The Karate Kid\n",
            "rating: 1.5 , movie: Mean Streets\n",
            "rating: 3.5 , movie: Titanic\n",
            "rating: 3.0 , movie: Manderlay\n",
            "rating: 3.0 , movie: Raiders of the Lost Ark\n",
            "rating: 4.0 , movie: Highlander: The Final Dimension\n",
            "rating: 4.0 , movie: This Is 40\n",
            "rating: 2.0 , movie: Wasabi\n",
            "rating: 4.0 , movie: Pandoras Box\n",
            "rating: 4.0 , movie: Barry Lyndon\n",
            "rating: 0.5 , movie: Rebecca\n",
            "rating: 3.5 , movie: To Kill a Mockingbird\n",
            "rating: 5.0 , movie: Men in Black II\n",
            "rating: 5.0 , movie: Space Jam\n",
            "rating: 3.5 , movie: License to Wed\n",
            "rating: 2.5 , movie: My Best Friends Wedding\n",
            "rating: 5.0 , movie: The Talented Mr. Ripley\n",
            "rating: 4.0 , movie: Shine a Light\n",
            "rating: 1.0 , movie: Alexander\n",
            "rating: 1.0 , movie: Under Siege 2: Dark Territory\n",
            "rating: 4.5 , movie: U-571\n",
            "rating: 3.0 , movie: Kindergarten Cop\n",
            "rating: 4.0 , movie: The Transporter\n",
            "rating: 0.5 , movie: Live and Let Die\n",
            "rating: 0.5 , movie: Amadeus\n",
            "rating: 1.5 , movie: The Butterfly Effect\n",
            "rating: 2.0 , movie: The Last Emperor\n",
            "rating: 3.5 , movie: In Time\n",
            "rating: 2.5 , movie: Rosemarys Baby\n",
            "rating: 4.5 , movie: Mission: Impossible\n",
            "rating: 3.0 , movie: Flashdance\n",
            "rating: 3.0 , movie: Wag the Dog\n",
            "rating: 5.0 , movie: The First Wives Club\n",
            "rating: 4.5 , movie: Charlie Wilsons War\n",
            "rating: 2.5 , movie: Along Came Polly\n",
            "rating: 5.0 , movie: The Wedding Planner\n",
            "rating: 5.0 , movie: Mission to Mars\n",
            "rating: 4.0 , movie: The Kite Runner\n",
            "rating: 3.5 , movie: Aliens vs Predator: Requiem\n",
            "rating: 2.5 , movie: Romeo + Juliet\n",
            "rating: 3.5 , movie: Star Trek: Generations\n",
            "rating: 4.0 , movie: Rambo III\n",
            "rating: 3.0 , movie: Gothika\n",
            "\n",
            "{'precision': 0.5217391304347826, 'recall': 0.6666666666666666, 'f1': 0.5853658536585366}\n"
          ],
          "name": "stdout"
        }
      ]
    },
    {
      "cell_type": "markdown",
      "metadata": {
        "id": "Ij1uVN9g1vuf"
      },
      "source": [
        "Καταλήγουμε στο ίδιο αποτέλεσμα με την σταδιακή εκπαίδευση του μοντέλου μας.\r\n"
      ]
    },
    {
      "cell_type": "markdown",
      "metadata": {
        "id": "MnKNpExI4Yrp"
      },
      "source": [
        "### Αποτελέσματα\r\n",
        "\r\n",
        "\r\n",
        "Καθώς το precision είναι περίπου 50% ,ενώ το recall 0,66 βλέπουμε πως το μοντέλο προτείνει ταινίες εκ των οποίων περισσότερες από τις μισές προτείνονται ορθώς.Σίγουρα το γεγονός πως το recall ειναι 0.66 σημαίνει πως υπάρχουν περιθώρια για βελτίωση, καθώς γίνεται missclasify 1 στις 3 ταινίες.Δηλαδή ταξινομούνται ως μη-προτεινόμενες ενώ θα έπρεπε να συμβαίνει το ανάποδο.Το γεγονός όμως πως έχουμε δεδομένα μονάχα από 1 χρήστη μας οδηγεί στο συμπέρασμα πως δεν έχει νόημα η συστηματική προσπάθεια να επιτύχουμε recall 100%,διότι το μοντέλο σε αυτή την περίπτωση πολύ πιθανόν να παρουσιάζει φαινόμενα overfitiing.Αν'αυτού, προσπαθήσαμε να καθορίσουμε κάποιες γενικές αρχές για το σύστημα συστάσεων που (θεωρητικά) θα μπορούσαν να ισχύουν για μια πληθώρα ανθρώπων.Δυστυχώς στα πλαίσια αυτής της εργασίας δεν είναι δυνατό να εξακριβώσουμε την ικανότητα γενίκευσης του μοντέλου μας."
      ]
    }
  ]
}